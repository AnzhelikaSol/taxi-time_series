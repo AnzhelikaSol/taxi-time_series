{
 "cells": [
  {
   "cell_type": "markdown",
   "metadata": {},
   "source": [
    "### *The goal*\n",
    "\n",
    "#### One of the taxi companies provided historical data on taxi orders at airports. To attract more drivers during peak periods, we need to predict the number of taxi orders for the next hour and build a model for this.\n",
    "\n",
    "#### *RMSE* metric value on the test sample should be no more than 48."
   ]
  },
  {
   "cell_type": "markdown",
   "metadata": {},
   "source": [
    "## Content ##\n",
    "\n",
    "[*Part 1. Data Preparation*](#part1)\n",
    "\n",
    "[*Part 2. EDA*](#part2)\n",
    "\n",
    "[*Part 3. Training*](#part3)\n",
    "\n",
    "[*Part 4. Testing*](#part4)"
   ]
  },
  {
   "cell_type": "markdown",
   "metadata": {},
   "source": [
    "## Part 1. Data Preparation <a id='part1'></a>"
   ]
  },
  {
   "cell_type": "code",
   "execution_count": 1,
   "metadata": {},
   "outputs": [],
   "source": [
    "import pandas as pd\n",
    "import numpy as np\n",
    "from statsmodels.tsa.seasonal import seasonal_decompose\n",
    "import matplotlib.pyplot as plt\n",
    "from sklearn.model_selection import train_test_split\n",
    "from sklearn.linear_model import LinearRegression\n",
    "from sklearn.ensemble import RandomForestRegressor\n",
    "from sklearn.model_selection import GridSearchCV\n",
    "from sklearn.metrics import mean_squared_error\n",
    "from catboost import CatBoostRegressor\n",
    "import lightgbm as lgb\n",
    "from sklearn.model_selection import TimeSeriesSplit\n",
    "import math"
   ]
  },
  {
   "cell_type": "code",
   "execution_count": 2,
   "metadata": {},
   "outputs": [],
   "source": [
    "data = pd.read_csv('taxi.csv')"
   ]
  },
  {
   "cell_type": "code",
   "execution_count": 3,
   "metadata": {},
   "outputs": [
    {
     "data": {
      "text/html": [
       "<div>\n",
       "<style scoped>\n",
       "    .dataframe tbody tr th:only-of-type {\n",
       "        vertical-align: middle;\n",
       "    }\n",
       "\n",
       "    .dataframe tbody tr th {\n",
       "        vertical-align: top;\n",
       "    }\n",
       "\n",
       "    .dataframe thead th {\n",
       "        text-align: right;\n",
       "    }\n",
       "</style>\n",
       "<table border=\"1\" class=\"dataframe\">\n",
       "  <thead>\n",
       "    <tr style=\"text-align: right;\">\n",
       "      <th></th>\n",
       "      <th>datetime</th>\n",
       "      <th>num_orders</th>\n",
       "    </tr>\n",
       "  </thead>\n",
       "  <tbody>\n",
       "    <tr>\n",
       "      <th>0</th>\n",
       "      <td>2018-03-01 00:00:00</td>\n",
       "      <td>9</td>\n",
       "    </tr>\n",
       "    <tr>\n",
       "      <th>1</th>\n",
       "      <td>2018-03-01 00:10:00</td>\n",
       "      <td>14</td>\n",
       "    </tr>\n",
       "    <tr>\n",
       "      <th>2</th>\n",
       "      <td>2018-03-01 00:20:00</td>\n",
       "      <td>28</td>\n",
       "    </tr>\n",
       "    <tr>\n",
       "      <th>3</th>\n",
       "      <td>2018-03-01 00:30:00</td>\n",
       "      <td>20</td>\n",
       "    </tr>\n",
       "    <tr>\n",
       "      <th>4</th>\n",
       "      <td>2018-03-01 00:40:00</td>\n",
       "      <td>32</td>\n",
       "    </tr>\n",
       "  </tbody>\n",
       "</table>\n",
       "</div>"
      ],
      "text/plain": [
       "              datetime  num_orders\n",
       "0  2018-03-01 00:00:00           9\n",
       "1  2018-03-01 00:10:00          14\n",
       "2  2018-03-01 00:20:00          28\n",
       "3  2018-03-01 00:30:00          20\n",
       "4  2018-03-01 00:40:00          32"
      ]
     },
     "execution_count": 3,
     "metadata": {},
     "output_type": "execute_result"
    }
   ],
   "source": [
    "data.head()"
   ]
  },
  {
   "cell_type": "code",
   "execution_count": 4,
   "metadata": {},
   "outputs": [
    {
     "name": "stdout",
     "output_type": "stream",
     "text": [
      "<class 'pandas.core.frame.DataFrame'>\n",
      "RangeIndex: 26496 entries, 0 to 26495\n",
      "Data columns (total 2 columns):\n",
      " #   Column      Non-Null Count  Dtype \n",
      "---  ------      --------------  ----- \n",
      " 0   datetime    26496 non-null  object\n",
      " 1   num_orders  26496 non-null  int64 \n",
      "dtypes: int64(1), object(1)\n",
      "memory usage: 414.1+ KB\n"
     ]
    }
   ],
   "source": [
    "data.info() "
   ]
  },
  {
   "cell_type": "markdown",
   "metadata": {},
   "source": [
    "The dataset contains data on the number of orders with an interval of 10 minutes. The first column is with dates, the second with the number of orders. There are 2 columns and 26496 rows in total. Dates are presented in text format, the number of orders is in integer format."
   ]
  },
  {
   "cell_type": "code",
   "execution_count": 5,
   "metadata": {},
   "outputs": [],
   "source": [
    "data['datetime'] = pd.to_datetime(data['datetime']) #let's convert dates to a special format with dates"
   ]
  },
  {
   "cell_type": "code",
   "execution_count": 6,
   "metadata": {},
   "outputs": [],
   "source": [
    "data = data.set_index('datetime') #Let's make the dates as indexes of the table"
   ]
  },
  {
   "cell_type": "code",
   "execution_count": 7,
   "metadata": {},
   "outputs": [],
   "source": [
    "data.sort_index(inplace=True) #index sorting"
   ]
  },
  {
   "cell_type": "code",
   "execution_count": 8,
   "metadata": {},
   "outputs": [],
   "source": [
    "data = data.resample('1H').sum() #let's resample, change the interval to hourly"
   ]
  },
  {
   "cell_type": "markdown",
   "metadata": {},
   "source": [
    "At the first stage, we loaded data, information about the number of taxi orders at airports, changed the date column in the original table, changed the format to a special format for dates, made the data in this column index, sorted it in chronological order, changed the interval to an hourly one."
   ]
  },
  {
   "cell_type": "markdown",
   "metadata": {},
   "source": [
    "## Part 2. EDA  <a id='part2'></a>"
   ]
  },
  {
   "cell_type": "code",
   "execution_count": 9,
   "metadata": {},
   "outputs": [
    {
     "name": "stdout",
     "output_type": "stream",
     "text": [
      "<class 'pandas.core.frame.DataFrame'>\n",
      "DatetimeIndex: 4416 entries, 2018-03-01 00:00:00 to 2018-08-31 23:00:00\n",
      "Freq: H\n",
      "Data columns (total 1 columns):\n",
      " #   Column      Non-Null Count  Dtype\n",
      "---  ------      --------------  -----\n",
      " 0   num_orders  4416 non-null   int64\n",
      "dtypes: int64(1)\n",
      "memory usage: 69.0 KB\n"
     ]
    }
   ],
   "source": [
    "data.info()"
   ]
  },
  {
   "cell_type": "code",
   "execution_count": 10,
   "metadata": {},
   "outputs": [
    {
     "data": {
      "text/html": [
       "<div>\n",
       "<style scoped>\n",
       "    .dataframe tbody tr th:only-of-type {\n",
       "        vertical-align: middle;\n",
       "    }\n",
       "\n",
       "    .dataframe tbody tr th {\n",
       "        vertical-align: top;\n",
       "    }\n",
       "\n",
       "    .dataframe thead th {\n",
       "        text-align: right;\n",
       "    }\n",
       "</style>\n",
       "<table border=\"1\" class=\"dataframe\">\n",
       "  <thead>\n",
       "    <tr style=\"text-align: right;\">\n",
       "      <th></th>\n",
       "      <th>num_orders</th>\n",
       "    </tr>\n",
       "    <tr>\n",
       "      <th>datetime</th>\n",
       "      <th></th>\n",
       "    </tr>\n",
       "  </thead>\n",
       "  <tbody>\n",
       "    <tr>\n",
       "      <th>2018-03-01 00:00:00</th>\n",
       "      <td>124</td>\n",
       "    </tr>\n",
       "    <tr>\n",
       "      <th>2018-03-01 01:00:00</th>\n",
       "      <td>85</td>\n",
       "    </tr>\n",
       "    <tr>\n",
       "      <th>2018-03-01 02:00:00</th>\n",
       "      <td>71</td>\n",
       "    </tr>\n",
       "    <tr>\n",
       "      <th>2018-03-01 03:00:00</th>\n",
       "      <td>66</td>\n",
       "    </tr>\n",
       "    <tr>\n",
       "      <th>2018-03-01 04:00:00</th>\n",
       "      <td>43</td>\n",
       "    </tr>\n",
       "  </tbody>\n",
       "</table>\n",
       "</div>"
      ],
      "text/plain": [
       "                     num_orders\n",
       "datetime                       \n",
       "2018-03-01 00:00:00         124\n",
       "2018-03-01 01:00:00          85\n",
       "2018-03-01 02:00:00          71\n",
       "2018-03-01 03:00:00          66\n",
       "2018-03-01 04:00:00          43"
      ]
     },
     "execution_count": 10,
     "metadata": {},
     "output_type": "execute_result"
    }
   ],
   "source": [
    "data.head()"
   ]
  },
  {
   "cell_type": "code",
   "execution_count": 11,
   "metadata": {},
   "outputs": [
    {
     "data": {
      "text/plain": [
       "num_orders    0\n",
       "dtype: int64"
      ]
     },
     "execution_count": 11,
     "metadata": {},
     "output_type": "execute_result"
    }
   ],
   "source": [
    "data.isnull().sum() #missing values checking"
   ]
  },
  {
   "cell_type": "code",
   "execution_count": 12,
   "metadata": {},
   "outputs": [
    {
     "data": {
      "text/html": [
       "<div>\n",
       "<style scoped>\n",
       "    .dataframe tbody tr th:only-of-type {\n",
       "        vertical-align: middle;\n",
       "    }\n",
       "\n",
       "    .dataframe tbody tr th {\n",
       "        vertical-align: top;\n",
       "    }\n",
       "\n",
       "    .dataframe thead th {\n",
       "        text-align: right;\n",
       "    }\n",
       "</style>\n",
       "<table border=\"1\" class=\"dataframe\">\n",
       "  <thead>\n",
       "    <tr style=\"text-align: right;\">\n",
       "      <th></th>\n",
       "      <th>num_orders</th>\n",
       "    </tr>\n",
       "  </thead>\n",
       "  <tbody>\n",
       "    <tr>\n",
       "      <th>count</th>\n",
       "      <td>4416.000000</td>\n",
       "    </tr>\n",
       "    <tr>\n",
       "      <th>mean</th>\n",
       "      <td>84.422781</td>\n",
       "    </tr>\n",
       "    <tr>\n",
       "      <th>std</th>\n",
       "      <td>45.023853</td>\n",
       "    </tr>\n",
       "    <tr>\n",
       "      <th>min</th>\n",
       "      <td>0.000000</td>\n",
       "    </tr>\n",
       "    <tr>\n",
       "      <th>25%</th>\n",
       "      <td>54.000000</td>\n",
       "    </tr>\n",
       "    <tr>\n",
       "      <th>50%</th>\n",
       "      <td>78.000000</td>\n",
       "    </tr>\n",
       "    <tr>\n",
       "      <th>75%</th>\n",
       "      <td>107.000000</td>\n",
       "    </tr>\n",
       "    <tr>\n",
       "      <th>max</th>\n",
       "      <td>462.000000</td>\n",
       "    </tr>\n",
       "  </tbody>\n",
       "</table>\n",
       "</div>"
      ],
      "text/plain": [
       "        num_orders\n",
       "count  4416.000000\n",
       "mean     84.422781\n",
       "std      45.023853\n",
       "min       0.000000\n",
       "25%      54.000000\n",
       "50%      78.000000\n",
       "75%     107.000000\n",
       "max     462.000000"
      ]
     },
     "execution_count": 12,
     "metadata": {},
     "output_type": "execute_result"
    }
   ],
   "source": [
    "data.describe()"
   ]
  },
  {
   "cell_type": "code",
   "execution_count": 13,
   "metadata": {},
   "outputs": [
    {
     "data": {
      "image/png": "[encoded data removed]",
      "text/plain": [
       "<Figure size 640x480 with 1 Axes>"
      ]
     },
     "metadata": {},
     "output_type": "display_data"
    }
   ],
   "source": [
    "data.hist(bins=30, range = (0, 500));"
   ]
  },
  {
   "cell_type": "code",
   "execution_count": 14,
   "metadata": {},
   "outputs": [
    {
     "data": {
      "image/png": "[encoded data removed]",
      "text/plain": [
       "<Figure size 1000x1000 with 1 Axes>"
      ]
     },
     "metadata": {},
     "output_type": "display_data"
    }
   ],
   "source": [
    "data.boxplot(figsize=(10,10));"
   ]
  },
  {
   "cell_type": "code",
   "execution_count": 15,
   "metadata": {},
   "outputs": [
    {
     "data": {
      "text/plain": [
       "(Timestamp('2018-03-01 00:00:00'), Timestamp('2018-08-31 23:00:00'))"
      ]
     },
     "execution_count": 15,
     "metadata": {},
     "output_type": "execute_result"
    }
   ],
   "source": [
    "data.index.min(), data.index.max() #index checking"
   ]
  },
  {
   "cell_type": "code",
   "execution_count": 16,
   "metadata": {},
   "outputs": [
    {
     "data": {
      "image/png": "[encoded data removed]",
      "text/plain": [
       "<Figure size 800x1000 with 3 Axes>"
      ]
     },
     "metadata": {},
     "output_type": "display_data"
    }
   ],
   "source": [
    "decomposed = seasonal_decompose(data) #decomposition\n",
    "\n",
    "plt.figure(figsize=(8, 10))\n",
    "\n",
    "plt.subplot(311)\n",
    "decomposed.trend.plot(ax=plt.gca())\n",
    "plt.title('Trend')\n",
    "\n",
    "plt.subplot(312)\n",
    "decomposed.seasonal.plot(ax=plt.gca())\n",
    "plt.title('Seasonality')\n",
    "\n",
    "plt.subplot(313)\n",
    "decomposed.resid.plot(ax=plt.gca())\n",
    "plt.title('Residuals')\n",
    "plt.tight_layout()"
   ]
  },
  {
   "cell_type": "code",
   "execution_count": 17,
   "metadata": {},
   "outputs": [
    {
     "data": {
      "image/png": "[encoded data removed]",
      "text/plain": [
       "<Figure size 640x480 with 1 Axes>"
      ]
     },
     "metadata": {},
     "output_type": "display_data"
    }
   ],
   "source": [
    "decomposed.seasonal['2018-08-01':'2018-08-3'].plot(); #Let's look separately at the seasonal component for several days in August"
   ]
  },
  {
   "cell_type": "code",
   "execution_count": 18,
   "metadata": {},
   "outputs": [
    {
     "data": {
      "image/png": "[encoded data removed]",
      "text/plain": [
       "<Figure size 640x480 with 1 Axes>"
      ]
     },
     "metadata": {},
     "output_type": "display_data"
    }
   ],
   "source": [
    "data['mean'] = data['num_orders'].rolling(15).mean() #adding a moving average to smooth the time series\n",
    "data['std'] = data['num_orders'].rolling(15).std()\n",
    "data.plot();"
   ]
  },
  {
   "cell_type": "code",
   "execution_count": 19,
   "metadata": {},
   "outputs": [],
   "source": [
    "data_copy = data.copy()"
   ]
  },
  {
   "cell_type": "code",
   "execution_count": 20,
   "metadata": {},
   "outputs": [],
   "source": [
    "data -= data.shift(fill_value=0) #let's calculate the differences in the time series so that we can make predictions"
   ]
  },
  {
   "cell_type": "code",
   "execution_count": 21,
   "metadata": {},
   "outputs": [
    {
     "data": {
      "image/png": "[encoded data removed]",
      "text/plain": [
       "<Figure size 640x480 with 1 Axes>"
      ]
     },
     "metadata": {},
     "output_type": "display_data"
    }
   ],
   "source": [
    "#Let's calculate the average and standard deviation on the new data\n",
    "\n",
    "data['mean'] = data['num_orders'].rolling(15).mean()\n",
    "data['std'] = data['num_orders'].rolling(15).std()\n",
    "data.plot();"
   ]
  },
  {
   "cell_type": "markdown",
   "metadata": {},
   "source": [
    "After resampling the data at 1 hour intervals, there were 4416 rows left in the dataframe. No omissions were found during the analysis. Data on taxi orders are normally distributed, the average number of orders is about 84 per interval, the median value is 78. Values above about 180 orders are quite rare. The dates are in chronological order, from 2018-03-01 to 2018-08-31. \n",
    "\n",
    "We divided the data into a trend and a seasonal component, there is a trend - the number of orders begins to increase around the summer period, which is quite understandable - the holiday season is in full swing, and there is also the “hot” season in September-October for travelling. The number of taxi orders at night is not so large; their number is greater during the day. The series cannot be called stationary, since its mean changes over time. After subtracting the differences of the time series using the shift method, the series became more stationary and can now be predicted."
   ]
  },
  {
   "cell_type": "markdown",
   "metadata": {},
   "source": [
    "## Part 3. Training <a id='part3'></a>"
   ]
  },
  {
   "cell_type": "code",
   "execution_count": 22,
   "metadata": {},
   "outputs": [
    {
     "name": "stdout",
     "output_type": "stream",
     "text": [
      "                     num_orders  mean  std  year  month  day  dayofweek  \\\n",
      "datetime                                                                  \n",
      "2018-03-01 00:00:00         124   NaN  NaN  2018      3    1          3   \n",
      "2018-03-01 01:00:00          85   NaN  NaN  2018      3    1          3   \n",
      "2018-03-01 02:00:00          71   NaN  NaN  2018      3    1          3   \n",
      "2018-03-01 03:00:00          66   NaN  NaN  2018      3    1          3   \n",
      "2018-03-01 04:00:00          43   NaN  NaN  2018      3    1          3   \n",
      "\n",
      "                     lag_1  lag_2  lag_3  lag_4  lag_5  lag_6  lag_7  lag_8  \\\n",
      "datetime                                                                      \n",
      "2018-03-01 00:00:00    NaN    NaN    NaN    NaN    NaN    NaN    NaN    NaN   \n",
      "2018-03-01 01:00:00  124.0    NaN    NaN    NaN    NaN    NaN    NaN    NaN   \n",
      "2018-03-01 02:00:00   85.0  124.0    NaN    NaN    NaN    NaN    NaN    NaN   \n",
      "2018-03-01 03:00:00   71.0   85.0  124.0    NaN    NaN    NaN    NaN    NaN   \n",
      "2018-03-01 04:00:00   66.0   71.0   85.0  124.0    NaN    NaN    NaN    NaN   \n",
      "\n",
      "                     lag_9  lag_10  rolling_mean  \n",
      "datetime                                          \n",
      "2018-03-01 00:00:00    NaN     NaN           NaN  \n",
      "2018-03-01 01:00:00    NaN     NaN           NaN  \n",
      "2018-03-01 02:00:00    NaN     NaN           NaN  \n",
      "2018-03-01 03:00:00    NaN     NaN           NaN  \n",
      "2018-03-01 04:00:00    NaN     NaN           NaN  \n"
     ]
    }
   ],
   "source": [
    "#the function that adds four new features to the table with the original data: year, month, day and day of the week, lagging values, moving average\n",
    "\n",
    "def make_features(data_copy, max_lag, rolling_mean_size):\n",
    "    data_copy['year'] = data_copy.index.year\n",
    "    data_copy['month'] = data_copy.index.month\n",
    "    data_copy['day'] = data_copy.index.day\n",
    "    data_copy['dayofweek'] = data_copy.index.dayofweek\n",
    "    \n",
    "    for lag in range(1, max_lag + 1):\n",
    "        data_copy['lag_{}'.format(lag)] = data_copy['num_orders'].shift(lag)\n",
    "\n",
    "    data_copy['rolling_mean'] = data_copy['num_orders'].shift().rolling(rolling_mean_size).mean()\n",
    "\n",
    "make_features(data_copy, 10, 15)\n",
    "print(data_copy.head())"
   ]
  },
  {
   "cell_type": "code",
   "execution_count": 23,
   "metadata": {},
   "outputs": [
    {
     "name": "stdout",
     "output_type": "stream",
     "text": [
      "2018-03-01 00:00:00 2018-08-13 13:00:00\n",
      "2018-08-13 14:00:00 2018-08-31 23:00:00\n"
     ]
    }
   ],
   "source": [
    "#let's split the data into training and test data without shuffle, test size is 10 %\n",
    "\n",
    "train, test = train_test_split(data_copy, shuffle=False, test_size=0.1)\n",
    "print(train.index.min(), train.index.max()) #let's check if values follow chronological order\n",
    "print(test.index.min(), test.index.max())"
   ]
  },
  {
   "cell_type": "code",
   "execution_count": 24,
   "metadata": {},
   "outputs": [],
   "source": [
    "train = train.dropna() #let's drop nan that we got after adding new features"
   ]
  },
  {
   "cell_type": "code",
   "execution_count": 25,
   "metadata": {},
   "outputs": [
    {
     "data": {
      "text/html": [
       "<div>\n",
       "<style scoped>\n",
       "    .dataframe tbody tr th:only-of-type {\n",
       "        vertical-align: middle;\n",
       "    }\n",
       "\n",
       "    .dataframe tbody tr th {\n",
       "        vertical-align: top;\n",
       "    }\n",
       "\n",
       "    .dataframe thead th {\n",
       "        text-align: right;\n",
       "    }\n",
       "</style>\n",
       "<table border=\"1\" class=\"dataframe\">\n",
       "  <thead>\n",
       "    <tr style=\"text-align: right;\">\n",
       "      <th></th>\n",
       "      <th>num_orders</th>\n",
       "      <th>mean</th>\n",
       "      <th>std</th>\n",
       "      <th>year</th>\n",
       "      <th>month</th>\n",
       "      <th>day</th>\n",
       "      <th>dayofweek</th>\n",
       "      <th>lag_1</th>\n",
       "      <th>lag_2</th>\n",
       "      <th>lag_3</th>\n",
       "      <th>lag_4</th>\n",
       "      <th>lag_5</th>\n",
       "      <th>lag_6</th>\n",
       "      <th>lag_7</th>\n",
       "      <th>lag_8</th>\n",
       "      <th>lag_9</th>\n",
       "      <th>lag_10</th>\n",
       "      <th>rolling_mean</th>\n",
       "    </tr>\n",
       "    <tr>\n",
       "      <th>datetime</th>\n",
       "      <th></th>\n",
       "      <th></th>\n",
       "      <th></th>\n",
       "      <th></th>\n",
       "      <th></th>\n",
       "      <th></th>\n",
       "      <th></th>\n",
       "      <th></th>\n",
       "      <th></th>\n",
       "      <th></th>\n",
       "      <th></th>\n",
       "      <th></th>\n",
       "      <th></th>\n",
       "      <th></th>\n",
       "      <th></th>\n",
       "      <th></th>\n",
       "      <th></th>\n",
       "      <th></th>\n",
       "    </tr>\n",
       "  </thead>\n",
       "  <tbody>\n",
       "    <tr>\n",
       "      <th>2018-03-01 15:00:00</th>\n",
       "      <td>66</td>\n",
       "      <td>49.133333</td>\n",
       "      <td>27.357074</td>\n",
       "      <td>2018</td>\n",
       "      <td>3</td>\n",
       "      <td>1</td>\n",
       "      <td>3</td>\n",
       "      <td>48.0</td>\n",
       "      <td>32.0</td>\n",
       "      <td>30.0</td>\n",
       "      <td>96.0</td>\n",
       "      <td>64.0</td>\n",
       "      <td>69.0</td>\n",
       "      <td>34.0</td>\n",
       "      <td>15.0</td>\n",
       "      <td>12.0</td>\n",
       "      <td>6.0</td>\n",
       "      <td>53.000000</td>\n",
       "    </tr>\n",
       "    <tr>\n",
       "      <th>2018-03-01 16:00:00</th>\n",
       "      <td>43</td>\n",
       "      <td>46.333333</td>\n",
       "      <td>25.510969</td>\n",
       "      <td>2018</td>\n",
       "      <td>3</td>\n",
       "      <td>1</td>\n",
       "      <td>3</td>\n",
       "      <td>66.0</td>\n",
       "      <td>48.0</td>\n",
       "      <td>32.0</td>\n",
       "      <td>30.0</td>\n",
       "      <td>96.0</td>\n",
       "      <td>64.0</td>\n",
       "      <td>69.0</td>\n",
       "      <td>34.0</td>\n",
       "      <td>15.0</td>\n",
       "      <td>12.0</td>\n",
       "      <td>49.133333</td>\n",
       "    </tr>\n",
       "    <tr>\n",
       "      <th>2018-03-01 17:00:00</th>\n",
       "      <td>44</td>\n",
       "      <td>44.533333</td>\n",
       "      <td>24.581836</td>\n",
       "      <td>2018</td>\n",
       "      <td>3</td>\n",
       "      <td>1</td>\n",
       "      <td>3</td>\n",
       "      <td>43.0</td>\n",
       "      <td>66.0</td>\n",
       "      <td>48.0</td>\n",
       "      <td>32.0</td>\n",
       "      <td>30.0</td>\n",
       "      <td>96.0</td>\n",
       "      <td>64.0</td>\n",
       "      <td>69.0</td>\n",
       "      <td>34.0</td>\n",
       "      <td>15.0</td>\n",
       "      <td>46.333333</td>\n",
       "    </tr>\n",
       "    <tr>\n",
       "      <th>2018-03-01 18:00:00</th>\n",
       "      <td>73</td>\n",
       "      <td>45.000000</td>\n",
       "      <td>25.079872</td>\n",
       "      <td>2018</td>\n",
       "      <td>3</td>\n",
       "      <td>1</td>\n",
       "      <td>3</td>\n",
       "      <td>44.0</td>\n",
       "      <td>43.0</td>\n",
       "      <td>66.0</td>\n",
       "      <td>48.0</td>\n",
       "      <td>32.0</td>\n",
       "      <td>30.0</td>\n",
       "      <td>96.0</td>\n",
       "      <td>64.0</td>\n",
       "      <td>69.0</td>\n",
       "      <td>34.0</td>\n",
       "      <td>44.533333</td>\n",
       "    </tr>\n",
       "    <tr>\n",
       "      <th>2018-03-01 19:00:00</th>\n",
       "      <td>45</td>\n",
       "      <td>45.133333</td>\n",
       "      <td>25.073796</td>\n",
       "      <td>2018</td>\n",
       "      <td>3</td>\n",
       "      <td>1</td>\n",
       "      <td>3</td>\n",
       "      <td>73.0</td>\n",
       "      <td>44.0</td>\n",
       "      <td>43.0</td>\n",
       "      <td>66.0</td>\n",
       "      <td>48.0</td>\n",
       "      <td>32.0</td>\n",
       "      <td>30.0</td>\n",
       "      <td>96.0</td>\n",
       "      <td>64.0</td>\n",
       "      <td>69.0</td>\n",
       "      <td>45.000000</td>\n",
       "    </tr>\n",
       "  </tbody>\n",
       "</table>\n",
       "</div>"
      ],
      "text/plain": [
       "                     num_orders       mean        std  year  month  day  \\\n",
       "datetime                                                                  \n",
       "2018-03-01 15:00:00          66  49.133333  27.357074  2018      3    1   \n",
       "2018-03-01 16:00:00          43  46.333333  25.510969  2018      3    1   \n",
       "2018-03-01 17:00:00          44  44.533333  24.581836  2018      3    1   \n",
       "2018-03-01 18:00:00          73  45.000000  25.079872  2018      3    1   \n",
       "2018-03-01 19:00:00          45  45.133333  25.073796  2018      3    1   \n",
       "\n",
       "                     dayofweek  lag_1  lag_2  lag_3  lag_4  lag_5  lag_6  \\\n",
       "datetime                                                                   \n",
       "2018-03-01 15:00:00          3   48.0   32.0   30.0   96.0   64.0   69.0   \n",
       "2018-03-01 16:00:00          3   66.0   48.0   32.0   30.0   96.0   64.0   \n",
       "2018-03-01 17:00:00          3   43.0   66.0   48.0   32.0   30.0   96.0   \n",
       "2018-03-01 18:00:00          3   44.0   43.0   66.0   48.0   32.0   30.0   \n",
       "2018-03-01 19:00:00          3   73.0   44.0   43.0   66.0   48.0   32.0   \n",
       "\n",
       "                     lag_7  lag_8  lag_9  lag_10  rolling_mean  \n",
       "datetime                                                        \n",
       "2018-03-01 15:00:00   34.0   15.0   12.0     6.0     53.000000  \n",
       "2018-03-01 16:00:00   69.0   34.0   15.0    12.0     49.133333  \n",
       "2018-03-01 17:00:00   64.0   69.0   34.0    15.0     46.333333  \n",
       "2018-03-01 18:00:00   96.0   64.0   69.0    34.0     44.533333  \n",
       "2018-03-01 19:00:00   30.0   96.0   64.0    69.0     45.000000  "
      ]
     },
     "execution_count": 25,
     "metadata": {},
     "output_type": "execute_result"
    }
   ],
   "source": [
    "train.head()"
   ]
  },
  {
   "cell_type": "code",
   "execution_count": 26,
   "metadata": {},
   "outputs": [
    {
     "data": {
      "text/html": [
       "<div>\n",
       "<style scoped>\n",
       "    .dataframe tbody tr th:only-of-type {\n",
       "        vertical-align: middle;\n",
       "    }\n",
       "\n",
       "    .dataframe tbody tr th {\n",
       "        vertical-align: top;\n",
       "    }\n",
       "\n",
       "    .dataframe thead th {\n",
       "        text-align: right;\n",
       "    }\n",
       "</style>\n",
       "<table border=\"1\" class=\"dataframe\">\n",
       "  <thead>\n",
       "    <tr style=\"text-align: right;\">\n",
       "      <th></th>\n",
       "      <th>num_orders</th>\n",
       "      <th>mean</th>\n",
       "      <th>std</th>\n",
       "      <th>year</th>\n",
       "      <th>month</th>\n",
       "      <th>day</th>\n",
       "      <th>dayofweek</th>\n",
       "      <th>lag_1</th>\n",
       "      <th>lag_2</th>\n",
       "      <th>lag_3</th>\n",
       "      <th>lag_4</th>\n",
       "      <th>lag_5</th>\n",
       "      <th>lag_6</th>\n",
       "      <th>lag_7</th>\n",
       "      <th>lag_8</th>\n",
       "      <th>lag_9</th>\n",
       "      <th>lag_10</th>\n",
       "      <th>rolling_mean</th>\n",
       "    </tr>\n",
       "    <tr>\n",
       "      <th>datetime</th>\n",
       "      <th></th>\n",
       "      <th></th>\n",
       "      <th></th>\n",
       "      <th></th>\n",
       "      <th></th>\n",
       "      <th></th>\n",
       "      <th></th>\n",
       "      <th></th>\n",
       "      <th></th>\n",
       "      <th></th>\n",
       "      <th></th>\n",
       "      <th></th>\n",
       "      <th></th>\n",
       "      <th></th>\n",
       "      <th></th>\n",
       "      <th></th>\n",
       "      <th></th>\n",
       "      <th></th>\n",
       "    </tr>\n",
       "  </thead>\n",
       "  <tbody>\n",
       "    <tr>\n",
       "      <th>2018-08-13 14:00:00</th>\n",
       "      <td>102</td>\n",
       "      <td>147.333333</td>\n",
       "      <td>97.130742</td>\n",
       "      <td>2018</td>\n",
       "      <td>8</td>\n",
       "      <td>13</td>\n",
       "      <td>0</td>\n",
       "      <td>119.0</td>\n",
       "      <td>92.0</td>\n",
       "      <td>144.0</td>\n",
       "      <td>156.0</td>\n",
       "      <td>137.0</td>\n",
       "      <td>91.0</td>\n",
       "      <td>39.0</td>\n",
       "      <td>66.0</td>\n",
       "      <td>83.0</td>\n",
       "      <td>143.0</td>\n",
       "      <td>152.866667</td>\n",
       "    </tr>\n",
       "    <tr>\n",
       "      <th>2018-08-13 15:00:00</th>\n",
       "      <td>175</td>\n",
       "      <td>148.333333</td>\n",
       "      <td>97.347439</td>\n",
       "      <td>2018</td>\n",
       "      <td>8</td>\n",
       "      <td>13</td>\n",
       "      <td>0</td>\n",
       "      <td>102.0</td>\n",
       "      <td>119.0</td>\n",
       "      <td>92.0</td>\n",
       "      <td>144.0</td>\n",
       "      <td>156.0</td>\n",
       "      <td>137.0</td>\n",
       "      <td>91.0</td>\n",
       "      <td>39.0</td>\n",
       "      <td>66.0</td>\n",
       "      <td>83.0</td>\n",
       "      <td>147.333333</td>\n",
       "    </tr>\n",
       "    <tr>\n",
       "      <th>2018-08-13 16:00:00</th>\n",
       "      <td>144</td>\n",
       "      <td>139.733333</td>\n",
       "      <td>91.041173</td>\n",
       "      <td>2018</td>\n",
       "      <td>8</td>\n",
       "      <td>13</td>\n",
       "      <td>0</td>\n",
       "      <td>175.0</td>\n",
       "      <td>102.0</td>\n",
       "      <td>119.0</td>\n",
       "      <td>92.0</td>\n",
       "      <td>144.0</td>\n",
       "      <td>156.0</td>\n",
       "      <td>137.0</td>\n",
       "      <td>91.0</td>\n",
       "      <td>39.0</td>\n",
       "      <td>66.0</td>\n",
       "      <td>148.333333</td>\n",
       "    </tr>\n",
       "    <tr>\n",
       "      <th>2018-08-13 17:00:00</th>\n",
       "      <td>152</td>\n",
       "      <td>120.733333</td>\n",
       "      <td>40.006190</td>\n",
       "      <td>2018</td>\n",
       "      <td>8</td>\n",
       "      <td>13</td>\n",
       "      <td>0</td>\n",
       "      <td>144.0</td>\n",
       "      <td>175.0</td>\n",
       "      <td>102.0</td>\n",
       "      <td>119.0</td>\n",
       "      <td>92.0</td>\n",
       "      <td>144.0</td>\n",
       "      <td>156.0</td>\n",
       "      <td>137.0</td>\n",
       "      <td>91.0</td>\n",
       "      <td>39.0</td>\n",
       "      <td>139.733333</td>\n",
       "    </tr>\n",
       "    <tr>\n",
       "      <th>2018-08-13 18:00:00</th>\n",
       "      <td>104</td>\n",
       "      <td>116.466667</td>\n",
       "      <td>37.965899</td>\n",
       "      <td>2018</td>\n",
       "      <td>8</td>\n",
       "      <td>13</td>\n",
       "      <td>0</td>\n",
       "      <td>152.0</td>\n",
       "      <td>144.0</td>\n",
       "      <td>175.0</td>\n",
       "      <td>102.0</td>\n",
       "      <td>119.0</td>\n",
       "      <td>92.0</td>\n",
       "      <td>144.0</td>\n",
       "      <td>156.0</td>\n",
       "      <td>137.0</td>\n",
       "      <td>91.0</td>\n",
       "      <td>120.733333</td>\n",
       "    </tr>\n",
       "  </tbody>\n",
       "</table>\n",
       "</div>"
      ],
      "text/plain": [
       "                     num_orders        mean        std  year  month  day  \\\n",
       "datetime                                                                   \n",
       "2018-08-13 14:00:00         102  147.333333  97.130742  2018      8   13   \n",
       "2018-08-13 15:00:00         175  148.333333  97.347439  2018      8   13   \n",
       "2018-08-13 16:00:00         144  139.733333  91.041173  2018      8   13   \n",
       "2018-08-13 17:00:00         152  120.733333  40.006190  2018      8   13   \n",
       "2018-08-13 18:00:00         104  116.466667  37.965899  2018      8   13   \n",
       "\n",
       "                     dayofweek  lag_1  lag_2  lag_3  lag_4  lag_5  lag_6  \\\n",
       "datetime                                                                   \n",
       "2018-08-13 14:00:00          0  119.0   92.0  144.0  156.0  137.0   91.0   \n",
       "2018-08-13 15:00:00          0  102.0  119.0   92.0  144.0  156.0  137.0   \n",
       "2018-08-13 16:00:00          0  175.0  102.0  119.0   92.0  144.0  156.0   \n",
       "2018-08-13 17:00:00          0  144.0  175.0  102.0  119.0   92.0  144.0   \n",
       "2018-08-13 18:00:00          0  152.0  144.0  175.0  102.0  119.0   92.0   \n",
       "\n",
       "                     lag_7  lag_8  lag_9  lag_10  rolling_mean  \n",
       "datetime                                                        \n",
       "2018-08-13 14:00:00   39.0   66.0   83.0   143.0    152.866667  \n",
       "2018-08-13 15:00:00   91.0   39.0   66.0    83.0    147.333333  \n",
       "2018-08-13 16:00:00  137.0   91.0   39.0    66.0    148.333333  \n",
       "2018-08-13 17:00:00  156.0  137.0   91.0    39.0    139.733333  \n",
       "2018-08-13 18:00:00  144.0  156.0  137.0    91.0    120.733333  "
      ]
     },
     "execution_count": 26,
     "metadata": {},
     "output_type": "execute_result"
    }
   ],
   "source": [
    "test.head()"
   ]
  },
  {
   "cell_type": "code",
   "execution_count": 27,
   "metadata": {},
   "outputs": [],
   "source": [
    "#let's split sets into target and features ones\n",
    "\n",
    "target_train = train['num_orders']\n",
    "features_train = train.drop('num_orders', axis=1)\n",
    "target_test = test['num_orders']\n",
    "features_test = test.drop('num_orders', axis=1)"
   ]
  },
  {
   "cell_type": "code",
   "execution_count": 28,
   "metadata": {},
   "outputs": [
    {
     "data": {
      "text/plain": [
       "((3959,), (3959, 17), (442,), (442, 17))"
      ]
     },
     "execution_count": 28,
     "metadata": {},
     "output_type": "execute_result"
    }
   ],
   "source": [
    "target_train.shape, features_train.shape, target_test.shape, features_test.shape"
   ]
  },
  {
   "cell_type": "code",
   "execution_count": 29,
   "metadata": {},
   "outputs": [
    {
     "name": "stdout",
     "output_type": "stream",
     "text": [
      "-400.5058337288641\n",
      "{'fit_intercept': False}\n",
      "LinearRegression(fit_intercept=False)\n"
     ]
    }
   ],
   "source": [
    "#now we can use gridsearch to find the best linear regression parameters, \n",
    "#as well as random forest and lgbm regressor parameters\n",
    "\n",
    "model_lin_reg = LinearRegression()\n",
    "param_grid = {'fit_intercept': [True, False]} \n",
    "\n",
    "gs = GridSearchCV(estimator=model_lin_reg, param_grid = param_grid, cv=TimeSeriesSplit(n_splits=5), scoring='neg_mean_squared_error')\n",
    "gs.fit(features_train, target_train)\n",
    "\n",
    "print(gs.best_score_)\n",
    "print(gs.best_params_)\n",
    "print(gs.best_estimator_)"
   ]
  },
  {
   "cell_type": "code",
   "execution_count": 30,
   "metadata": {},
   "outputs": [
    {
     "name": "stdout",
     "output_type": "stream",
     "text": [
      "RMSE of LinearRegression model: 20.01264184781373\n"
     ]
    }
   ],
   "source": [
    "model_lin_reg = gs.best_estimator_\n",
    "\n",
    "model_lin_reg.fit(features_train, target_train)\n",
    "print('RMSE of LinearRegression model:', math.sqrt(400.5058337288653))"
   ]
  },
  {
   "cell_type": "code",
   "execution_count": 31,
   "metadata": {},
   "outputs": [
    {
     "name": "stdout",
     "output_type": "stream",
     "text": [
      "building tree 1 of 50\n",
      "building tree 2 of 50\n",
      "building tree 3 of 50\n",
      "building tree 4 of 50\n",
      "building tree 5 of 50\n",
      "building tree 6 of 50\n",
      "building tree 7 of 50\n",
      "building tree 8 of 50\n",
      "building tree 9 of 50\n",
      "building tree 10 of 50\n",
      "building tree 11 of 50\n",
      "building tree 12 of 50\n",
      "building tree 13 of 50\n",
      "building tree 14 of 50\n"
     ]
    },
    {
     "name": "stderr",
     "output_type": "stream",
     "text": [
      "[Parallel(n_jobs=1)]: Done   1 tasks      | elapsed:    0.0s\n",
      "[Parallel(n_jobs=1)]: Done   2 tasks      | elapsed:    0.0s\n",
      "[Parallel(n_jobs=1)]: Done   3 tasks      | elapsed:    0.0s\n",
      "[Parallel(n_jobs=1)]: Done   4 tasks      | elapsed:    0.0s\n",
      "[Parallel(n_jobs=1)]: Done   5 tasks      | elapsed:    0.0s\n",
      "[Parallel(n_jobs=1)]: Done   6 tasks      | elapsed:    0.0s\n",
      "[Parallel(n_jobs=1)]: Done   7 tasks      | elapsed:    0.0s\n",
      "[Parallel(n_jobs=1)]: Done   8 tasks      | elapsed:    0.0s\n",
      "[Parallel(n_jobs=1)]: Done   9 tasks      | elapsed:    0.0s\n",
      "[Parallel(n_jobs=1)]: Done  10 tasks      | elapsed:    0.1s\n",
      "[Parallel(n_jobs=1)]: Done  11 tasks      | elapsed:    0.1s\n",
      "[Parallel(n_jobs=1)]: Done  12 tasks      | elapsed:    0.1s\n",
      "[Parallel(n_jobs=1)]: Done  13 tasks      | elapsed:    0.1s\n"
     ]
    },
    {
     "name": "stdout",
     "output_type": "stream",
     "text": [
      "building tree 15 of 50\n",
      "building tree 16 of 50\n",
      "building tree 17 of 50\n",
      "building tree 18 of 50\n",
      "building tree 19 of 50\n",
      "building tree 20 of 50\n",
      "building tree 21 of 50\n",
      "building tree 22 of 50\n",
      "building tree 23 of 50\n"
     ]
    },
    {
     "name": "stderr",
     "output_type": "stream",
     "text": [
      "[Parallel(n_jobs=1)]: Done  14 tasks      | elapsed:    0.1s\n",
      "[Parallel(n_jobs=1)]: Done  15 tasks      | elapsed:    0.1s\n",
      "[Parallel(n_jobs=1)]: Done  16 tasks      | elapsed:    0.2s\n",
      "[Parallel(n_jobs=1)]: Done  17 tasks      | elapsed:    0.2s\n",
      "[Parallel(n_jobs=1)]: Done  18 tasks      | elapsed:    0.2s\n",
      "[Parallel(n_jobs=1)]: Done  19 tasks      | elapsed:    0.2s\n",
      "[Parallel(n_jobs=1)]: Done  20 tasks      | elapsed:    0.2s\n",
      "[Parallel(n_jobs=1)]: Done  21 tasks      | elapsed:    0.2s\n",
      "[Parallel(n_jobs=1)]: Done  22 tasks      | elapsed:    0.3s\n",
      "[Parallel(n_jobs=1)]: Done  23 tasks      | elapsed:    0.3s\n",
      "[Parallel(n_jobs=1)]: Done  24 tasks      | elapsed:    0.3s\n",
      "[Parallel(n_jobs=1)]: Done  25 tasks      | elapsed:    0.3s\n",
      "[Parallel(n_jobs=1)]: Done  26 tasks      | elapsed:    0.3s\n"
     ]
    },
    {
     "name": "stdout",
     "output_type": "stream",
     "text": [
      "building tree 24 of 50\n",
      "building tree 25 of 50\n",
      "building tree 26 of 50\n",
      "building tree 27 of 50\n",
      "building tree 28 of 50\n",
      "building tree 29 of 50\n",
      "building tree 30 of 50\n",
      "building tree 31 of 50\n",
      "building tree 32 of 50\n",
      "building tree 33 of 50\n",
      "building tree 34 of 50\n",
      "building tree 35 of 50\n",
      "building tree 36 of 50\n"
     ]
    },
    {
     "name": "stderr",
     "output_type": "stream",
     "text": [
      "[Parallel(n_jobs=1)]: Done  27 tasks      | elapsed:    0.3s\n",
      "[Parallel(n_jobs=1)]: Done  28 tasks      | elapsed:    0.4s\n",
      "[Parallel(n_jobs=1)]: Done  29 tasks      | elapsed:    0.4s\n",
      "[Parallel(n_jobs=1)]: Done  30 tasks      | elapsed:    0.4s\n",
      "[Parallel(n_jobs=1)]: Done  31 tasks      | elapsed:    0.4s\n",
      "[Parallel(n_jobs=1)]: Done  32 tasks      | elapsed:    0.4s\n",
      "[Parallel(n_jobs=1)]: Done  33 tasks      | elapsed:    0.4s\n",
      "[Parallel(n_jobs=1)]: Done  34 tasks      | elapsed:    0.5s\n",
      "[Parallel(n_jobs=1)]: Done  35 tasks      | elapsed:    0.5s\n",
      "[Parallel(n_jobs=1)]: Done  36 tasks      | elapsed:    0.5s\n",
      "[Parallel(n_jobs=1)]: Done  37 tasks      | elapsed:    0.5s\n",
      "[Parallel(n_jobs=1)]: Done  38 tasks      | elapsed:    0.5s\n",
      "[Parallel(n_jobs=1)]: Done  39 tasks      | elapsed:    0.5s\n",
      "[Parallel(n_jobs=1)]: Done  40 tasks      | elapsed:    0.6s\n"
     ]
    },
    {
     "name": "stdout",
     "output_type": "stream",
     "text": [
      "building tree 37 of 50\n",
      "building tree 38 of 50\n",
      "building tree 39 of 50\n",
      "building tree 40 of 50\n",
      "building tree 41 of 50\n",
      "building tree 42 of 50\n",
      "building tree 43 of 50\n",
      "building tree 44 of 50\n",
      "building tree 45 of 50\n",
      "building tree 46 of 50\n",
      "building tree 47 of 50\n",
      "building tree 48 of 50\n",
      "building tree 49 of 50\n",
      "building tree 50 of 50\n"
     ]
    },
    {
     "name": "stderr",
     "output_type": "stream",
     "text": [
      "[Parallel(n_jobs=1)]: Done  41 tasks      | elapsed:    0.6s\n",
      "[Parallel(n_jobs=1)]: Done  42 tasks      | elapsed:    0.6s\n",
      "[Parallel(n_jobs=1)]: Done  43 tasks      | elapsed:    0.6s\n",
      "[Parallel(n_jobs=1)]: Done  44 tasks      | elapsed:    0.6s\n",
      "[Parallel(n_jobs=1)]: Done  45 tasks      | elapsed:    0.6s\n",
      "[Parallel(n_jobs=1)]: Done  46 tasks      | elapsed:    0.6s\n",
      "[Parallel(n_jobs=1)]: Done  47 tasks      | elapsed:    0.7s\n",
      "[Parallel(n_jobs=1)]: Done  48 tasks      | elapsed:    0.7s\n",
      "[Parallel(n_jobs=1)]: Done  49 tasks      | elapsed:    0.7s\n",
      "[Parallel(n_jobs=1)]: Done  50 tasks      | elapsed:    0.7s\n",
      "[Parallel(n_jobs=1)]: Done  50 tasks      | elapsed:    0.7s\n",
      "[Parallel(n_jobs=1)]: Done   1 tasks      | elapsed:    0.0s\n",
      "[Parallel(n_jobs=1)]: Done   2 tasks      | elapsed:    0.0s\n",
      "[Parallel(n_jobs=1)]: Done   3 tasks      | elapsed:    0.0s\n",
      "[Parallel(n_jobs=1)]: Done   4 tasks      | elapsed:    0.0s\n",
      "[Parallel(n_jobs=1)]: Done   5 tasks      | elapsed:    0.0s\n",
      "[Parallel(n_jobs=1)]: Done   6 tasks      | elapsed:    0.0s\n",
      "[Parallel(n_jobs=1)]: Done   7 tasks      | elapsed:    0.0s\n",
      "[Parallel(n_jobs=1)]: Done   8 tasks      | elapsed:    0.0s\n",
      "[Parallel(n_jobs=1)]: Done   9 tasks      | elapsed:    0.0s\n",
      "[Parallel(n_jobs=1)]: Done  10 tasks      | elapsed:    0.0s\n",
      "[Parallel(n_jobs=1)]: Done  11 tasks      | elapsed:    0.0s\n",
      "[Parallel(n_jobs=1)]: Done  12 tasks      | elapsed:    0.0s\n",
      "[Parallel(n_jobs=1)]: Done  13 tasks      | elapsed:    0.0s\n",
      "[Parallel(n_jobs=1)]: Done  14 tasks      | elapsed:    0.0s\n",
      "[Parallel(n_jobs=1)]: Done  15 tasks      | elapsed:    0.0s\n",
      "[Parallel(n_jobs=1)]: Done  16 tasks      | elapsed:    0.0s\n",
      "[Parallel(n_jobs=1)]: Done  17 tasks      | elapsed:    0.0s\n",
      "[Parallel(n_jobs=1)]: Done  18 tasks      | elapsed:    0.0s\n",
      "[Parallel(n_jobs=1)]: Done  19 tasks      | elapsed:    0.0s\n",
      "[Parallel(n_jobs=1)]: Done  20 tasks      | elapsed:    0.0s\n",
      "[Parallel(n_jobs=1)]: Done  21 tasks      | elapsed:    0.0s\n",
      "[Parallel(n_jobs=1)]: Done  22 tasks      | elapsed:    0.0s\n",
      "[Parallel(n_jobs=1)]: Done  23 tasks      | elapsed:    0.0s\n",
      "[Parallel(n_jobs=1)]: Done  24 tasks      | elapsed:    0.0s\n",
      "[Parallel(n_jobs=1)]: Done  25 tasks      | elapsed:    0.0s\n",
      "[Parallel(n_jobs=1)]: Done  26 tasks      | elapsed:    0.0s\n",
      "[Parallel(n_jobs=1)]: Done  27 tasks      | elapsed:    0.0s\n",
      "[Parallel(n_jobs=1)]: Done  28 tasks      | elapsed:    0.0s\n",
      "[Parallel(n_jobs=1)]: Done  29 tasks      | elapsed:    0.0s\n",
      "[Parallel(n_jobs=1)]: Done  30 tasks      | elapsed:    0.0s\n",
      "[Parallel(n_jobs=1)]: Done  31 tasks      | elapsed:    0.0s\n",
      "[Parallel(n_jobs=1)]: Done  32 tasks      | elapsed:    0.0s\n",
      "[Parallel(n_jobs=1)]: Done  33 tasks      | elapsed:    0.0s\n",
      "[Parallel(n_jobs=1)]: Done  34 tasks      | elapsed:    0.0s\n",
      "[Parallel(n_jobs=1)]: Done  35 tasks      | elapsed:    0.0s\n",
      "[Parallel(n_jobs=1)]: Done  36 tasks      | elapsed:    0.0s\n",
      "[Parallel(n_jobs=1)]: Done  37 tasks      | elapsed:    0.0s\n",
      "[Parallel(n_jobs=1)]: Done  38 tasks      | elapsed:    0.0s\n",
      "[Parallel(n_jobs=1)]: Done  39 tasks      | elapsed:    0.0s\n",
      "[Parallel(n_jobs=1)]: Done  40 tasks      | elapsed:    0.0s\n",
      "[Parallel(n_jobs=1)]: Done  41 tasks      | elapsed:    0.0s\n",
      "[Parallel(n_jobs=1)]: Done  42 tasks      | elapsed:    0.0s\n",
      "[Parallel(n_jobs=1)]: Done  43 tasks      | elapsed:    0.0s\n",
      "[Parallel(n_jobs=1)]: Done  44 tasks      | elapsed:    0.0s\n",
      "[Parallel(n_jobs=1)]: Done  45 tasks      | elapsed:    0.0s\n",
      "[Parallel(n_jobs=1)]: Done  46 tasks      | elapsed:    0.0s\n",
      "[Parallel(n_jobs=1)]: Done  47 tasks      | elapsed:    0.0s\n",
      "[Parallel(n_jobs=1)]: Done  48 tasks      | elapsed:    0.0s\n",
      "[Parallel(n_jobs=1)]: Done  49 tasks      | elapsed:    0.0s\n",
      "[Parallel(n_jobs=1)]: Done  50 tasks      | elapsed:    0.0s\n",
      "[Parallel(n_jobs=1)]: Done  50 tasks      | elapsed:    0.0s\n"
     ]
    },
    {
     "name": "stdout",
     "output_type": "stream",
     "text": [
      "building tree 1 of 50\n",
      "building tree 2 of 50\n",
      "building tree 3 of 50\n",
      "building tree 4 of 50\n",
      "building tree 5 of 50\n",
      "building tree 6 of 50\n",
      "building tree 7 of 50\n"
     ]
    },
    {
     "name": "stderr",
     "output_type": "stream",
     "text": [
      "[Parallel(n_jobs=1)]: Done   1 tasks      | elapsed:    0.0s\n",
      "[Parallel(n_jobs=1)]: Done   2 tasks      | elapsed:    0.0s\n",
      "[Parallel(n_jobs=1)]: Done   3 tasks      | elapsed:    0.0s\n",
      "[Parallel(n_jobs=1)]: Done   4 tasks      | elapsed:    0.0s\n",
      "[Parallel(n_jobs=1)]: Done   5 tasks      | elapsed:    0.1s\n",
      "[Parallel(n_jobs=1)]: Done   6 tasks      | elapsed:    0.1s\n",
      "[Parallel(n_jobs=1)]: Done   7 tasks      | elapsed:    0.1s\n",
      "[Parallel(n_jobs=1)]: Done   8 tasks      | elapsed:    0.2s\n",
      "[Parallel(n_jobs=1)]: Done   9 tasks      | elapsed:    0.2s\n",
      "[Parallel(n_jobs=1)]: Done  10 tasks      | elapsed:    0.2s\n",
      "[Parallel(n_jobs=1)]: Done  11 tasks      | elapsed:    0.3s\n",
      "[Parallel(n_jobs=1)]: Done  12 tasks      | elapsed:    0.3s\n"
     ]
    },
    {
     "name": "stdout",
     "output_type": "stream",
     "text": [
      "building tree 8 of 50\n",
      "building tree 9 of 50\n",
      "building tree 10 of 50\n",
      "building tree 11 of 50\n",
      "building tree 12 of 50\n",
      "building tree 13 of 50\n"
     ]
    },
    {
     "name": "stderr",
     "output_type": "stream",
     "text": [
      "[Parallel(n_jobs=1)]: Done  13 tasks      | elapsed:    0.3s\n",
      "[Parallel(n_jobs=1)]: Done  14 tasks      | elapsed:    0.4s\n",
      "[Parallel(n_jobs=1)]: Done  15 tasks      | elapsed:    0.4s\n",
      "[Parallel(n_jobs=1)]: Done  16 tasks      | elapsed:    0.5s\n",
      "[Parallel(n_jobs=1)]: Done  17 tasks      | elapsed:    0.5s\n"
     ]
    },
    {
     "name": "stdout",
     "output_type": "stream",
     "text": [
      "building tree 14 of 50\n",
      "building tree 15 of 50\n",
      "building tree 16 of 50\n",
      "building tree 17 of 50\n",
      "building tree 18 of 50\n"
     ]
    },
    {
     "name": "stderr",
     "output_type": "stream",
     "text": [
      "[Parallel(n_jobs=1)]: Done  18 tasks      | elapsed:    0.5s\n",
      "[Parallel(n_jobs=1)]: Done  19 tasks      | elapsed:    0.6s\n",
      "[Parallel(n_jobs=1)]: Done  20 tasks      | elapsed:    0.6s\n",
      "[Parallel(n_jobs=1)]: Done  21 tasks      | elapsed:    0.7s\n",
      "[Parallel(n_jobs=1)]: Done  22 tasks      | elapsed:    0.7s\n",
      "[Parallel(n_jobs=1)]: Done  23 tasks      | elapsed:    0.8s\n"
     ]
    },
    {
     "name": "stdout",
     "output_type": "stream",
     "text": [
      "building tree 19 of 50\n",
      "building tree 20 of 50\n",
      "building tree 21 of 50\n",
      "building tree 22 of 50\n",
      "building tree 23 of 50\n",
      "building tree 24 of 50\n"
     ]
    },
    {
     "name": "stderr",
     "output_type": "stream",
     "text": [
      "[Parallel(n_jobs=1)]: Done  24 tasks      | elapsed:    0.8s\n",
      "[Parallel(n_jobs=1)]: Done  25 tasks      | elapsed:    0.8s\n",
      "[Parallel(n_jobs=1)]: Done  26 tasks      | elapsed:    0.9s\n",
      "[Parallel(n_jobs=1)]: Done  27 tasks      | elapsed:    0.9s\n",
      "[Parallel(n_jobs=1)]: Done  28 tasks      | elapsed:    1.0s\n",
      "[Parallel(n_jobs=1)]: Done  29 tasks      | elapsed:    1.0s\n"
     ]
    },
    {
     "name": "stdout",
     "output_type": "stream",
     "text": [
      "building tree 25 of 50\n",
      "building tree 26 of 50\n",
      "building tree 27 of 50\n",
      "building tree 28 of 50\n",
      "building tree 29 of 50\n",
      "building tree 30 of 50\n"
     ]
    },
    {
     "name": "stderr",
     "output_type": "stream",
     "text": [
      "[Parallel(n_jobs=1)]: Done  30 tasks      | elapsed:    1.0s\n",
      "[Parallel(n_jobs=1)]: Done  31 tasks      | elapsed:    1.1s\n",
      "[Parallel(n_jobs=1)]: Done  32 tasks      | elapsed:    1.1s\n",
      "[Parallel(n_jobs=1)]: Done  33 tasks      | elapsed:    1.2s\n",
      "[Parallel(n_jobs=1)]: Done  34 tasks      | elapsed:    1.2s\n"
     ]
    },
    {
     "name": "stdout",
     "output_type": "stream",
     "text": [
      "building tree 31 of 50\n",
      "building tree 32 of 50\n",
      "building tree 33 of 50\n",
      "building tree 34 of 50\n",
      "building tree 35 of 50\n"
     ]
    },
    {
     "name": "stderr",
     "output_type": "stream",
     "text": [
      "[Parallel(n_jobs=1)]: Done  35 tasks      | elapsed:    1.2s\n",
      "[Parallel(n_jobs=1)]: Done  36 tasks      | elapsed:    1.3s\n",
      "[Parallel(n_jobs=1)]: Done  37 tasks      | elapsed:    1.3s\n",
      "[Parallel(n_jobs=1)]: Done  38 tasks      | elapsed:    1.4s\n",
      "[Parallel(n_jobs=1)]: Done  39 tasks      | elapsed:    1.4s\n",
      "[Parallel(n_jobs=1)]: Done  40 tasks      | elapsed:    1.4s\n"
     ]
    },
    {
     "name": "stdout",
     "output_type": "stream",
     "text": [
      "building tree 36 of 50\n",
      "building tree 37 of 50\n",
      "building tree 38 of 50\n",
      "building tree 39 of 50\n",
      "building tree 40 of 50\n",
      "building tree 41 of 50\n"
     ]
    },
    {
     "name": "stderr",
     "output_type": "stream",
     "text": [
      "[Parallel(n_jobs=1)]: Done  41 tasks      | elapsed:    1.5s\n",
      "[Parallel(n_jobs=1)]: Done  42 tasks      | elapsed:    1.5s\n",
      "[Parallel(n_jobs=1)]: Done  43 tasks      | elapsed:    1.6s\n",
      "[Parallel(n_jobs=1)]: Done  44 tasks      | elapsed:    1.6s\n",
      "[Parallel(n_jobs=1)]: Done  45 tasks      | elapsed:    1.6s\n",
      "[Parallel(n_jobs=1)]: Done  46 tasks      | elapsed:    1.7s\n"
     ]
    },
    {
     "name": "stdout",
     "output_type": "stream",
     "text": [
      "building tree 42 of 50\n",
      "building tree 43 of 50\n",
      "building tree 44 of 50\n",
      "building tree 45 of 50\n",
      "building tree 46 of 50\n",
      "building tree 47 of 50\n"
     ]
    },
    {
     "name": "stderr",
     "output_type": "stream",
     "text": [
      "[Parallel(n_jobs=1)]: Done  47 tasks      | elapsed:    1.7s\n",
      "[Parallel(n_jobs=1)]: Done  48 tasks      | elapsed:    1.8s\n",
      "[Parallel(n_jobs=1)]: Done  49 tasks      | elapsed:    1.8s\n",
      "[Parallel(n_jobs=1)]: Done  50 tasks      | elapsed:    1.8s\n",
      "[Parallel(n_jobs=1)]: Done  50 tasks      | elapsed:    1.8s\n",
      "[Parallel(n_jobs=1)]: Done   1 tasks      | elapsed:    0.0s\n",
      "[Parallel(n_jobs=1)]: Done   2 tasks      | elapsed:    0.0s\n",
      "[Parallel(n_jobs=1)]: Done   3 tasks      | elapsed:    0.0s\n",
      "[Parallel(n_jobs=1)]: Done   4 tasks      | elapsed:    0.0s\n",
      "[Parallel(n_jobs=1)]: Done   5 tasks      | elapsed:    0.0s\n",
      "[Parallel(n_jobs=1)]: Done   6 tasks      | elapsed:    0.0s\n",
      "[Parallel(n_jobs=1)]: Done   7 tasks      | elapsed:    0.0s\n",
      "[Parallel(n_jobs=1)]: Done   8 tasks      | elapsed:    0.0s\n",
      "[Parallel(n_jobs=1)]: Done   9 tasks      | elapsed:    0.0s\n",
      "[Parallel(n_jobs=1)]: Done  10 tasks      | elapsed:    0.0s\n",
      "[Parallel(n_jobs=1)]: Done  11 tasks      | elapsed:    0.0s\n",
      "[Parallel(n_jobs=1)]: Done  12 tasks      | elapsed:    0.0s\n",
      "[Parallel(n_jobs=1)]: Done  13 tasks      | elapsed:    0.0s\n",
      "[Parallel(n_jobs=1)]: Done  14 tasks      | elapsed:    0.0s\n",
      "[Parallel(n_jobs=1)]: Done  15 tasks      | elapsed:    0.0s\n",
      "[Parallel(n_jobs=1)]: Done  16 tasks      | elapsed:    0.0s\n",
      "[Parallel(n_jobs=1)]: Done  17 tasks      | elapsed:    0.0s\n",
      "[Parallel(n_jobs=1)]: Done  18 tasks      | elapsed:    0.0s\n",
      "[Parallel(n_jobs=1)]: Done  19 tasks      | elapsed:    0.0s\n",
      "[Parallel(n_jobs=1)]: Done  20 tasks      | elapsed:    0.0s\n",
      "[Parallel(n_jobs=1)]: Done  21 tasks      | elapsed:    0.0s\n",
      "[Parallel(n_jobs=1)]: Done  22 tasks      | elapsed:    0.0s\n",
      "[Parallel(n_jobs=1)]: Done  23 tasks      | elapsed:    0.0s\n",
      "[Parallel(n_jobs=1)]: Done  24 tasks      | elapsed:    0.0s\n",
      "[Parallel(n_jobs=1)]: Done  25 tasks      | elapsed:    0.0s\n",
      "[Parallel(n_jobs=1)]: Done  26 tasks      | elapsed:    0.0s\n",
      "[Parallel(n_jobs=1)]: Done  27 tasks      | elapsed:    0.0s\n",
      "[Parallel(n_jobs=1)]: Done  28 tasks      | elapsed:    0.0s\n",
      "[Parallel(n_jobs=1)]: Done  29 tasks      | elapsed:    0.0s\n",
      "[Parallel(n_jobs=1)]: Done  30 tasks      | elapsed:    0.0s\n",
      "[Parallel(n_jobs=1)]: Done  31 tasks      | elapsed:    0.0s\n",
      "[Parallel(n_jobs=1)]: Done  32 tasks      | elapsed:    0.0s\n",
      "[Parallel(n_jobs=1)]: Done  33 tasks      | elapsed:    0.0s\n",
      "[Parallel(n_jobs=1)]: Done  34 tasks      | elapsed:    0.0s\n",
      "[Parallel(n_jobs=1)]: Done  35 tasks      | elapsed:    0.0s\n",
      "[Parallel(n_jobs=1)]: Done  36 tasks      | elapsed:    0.0s\n",
      "[Parallel(n_jobs=1)]: Done  37 tasks      | elapsed:    0.0s\n",
      "[Parallel(n_jobs=1)]: Done  38 tasks      | elapsed:    0.0s\n",
      "[Parallel(n_jobs=1)]: Done  39 tasks      | elapsed:    0.0s\n",
      "[Parallel(n_jobs=1)]: Done  40 tasks      | elapsed:    0.0s\n",
      "[Parallel(n_jobs=1)]: Done  41 tasks      | elapsed:    0.0s\n",
      "[Parallel(n_jobs=1)]: Done  42 tasks      | elapsed:    0.0s\n",
      "[Parallel(n_jobs=1)]: Done  43 tasks      | elapsed:    0.0s\n",
      "[Parallel(n_jobs=1)]: Done  44 tasks      | elapsed:    0.0s\n",
      "[Parallel(n_jobs=1)]: Done  45 tasks      | elapsed:    0.0s\n",
      "[Parallel(n_jobs=1)]: Done  46 tasks      | elapsed:    0.0s\n",
      "[Parallel(n_jobs=1)]: Done  47 tasks      | elapsed:    0.0s\n",
      "[Parallel(n_jobs=1)]: Done  48 tasks      | elapsed:    0.0s\n",
      "[Parallel(n_jobs=1)]: Done  49 tasks      | elapsed:    0.0s\n",
      "[Parallel(n_jobs=1)]: Done  50 tasks      | elapsed:    0.0s\n",
      "[Parallel(n_jobs=1)]: Done  50 tasks      | elapsed:    0.0s\n",
      "[Parallel(n_jobs=1)]: Done   1 tasks      | elapsed:    0.0s\n"
     ]
    },
    {
     "name": "stdout",
     "output_type": "stream",
     "text": [
      "building tree 48 of 50\n",
      "building tree 49 of 50\n",
      "building tree 50 of 50\n",
      "building tree 1 of 50\n",
      "building tree 2 of 50\n"
     ]
    },
    {
     "name": "stderr",
     "output_type": "stream",
     "text": [
      "[Parallel(n_jobs=1)]: Done   2 tasks      | elapsed:    0.0s\n",
      "[Parallel(n_jobs=1)]: Done   3 tasks      | elapsed:    0.1s\n",
      "[Parallel(n_jobs=1)]: Done   4 tasks      | elapsed:    0.1s\n",
      "[Parallel(n_jobs=1)]: Done   5 tasks      | elapsed:    0.2s\n"
     ]
    },
    {
     "name": "stdout",
     "output_type": "stream",
     "text": [
      "building tree 3 of 50\n",
      "building tree 4 of 50\n",
      "building tree 5 of 50\n",
      "building tree 6 of 50\n"
     ]
    },
    {
     "name": "stderr",
     "output_type": "stream",
     "text": [
      "[Parallel(n_jobs=1)]: Done   6 tasks      | elapsed:    0.3s\n",
      "[Parallel(n_jobs=1)]: Done   7 tasks      | elapsed:    0.3s\n",
      "[Parallel(n_jobs=1)]: Done   8 tasks      | elapsed:    0.4s\n",
      "[Parallel(n_jobs=1)]: Done   9 tasks      | elapsed:    0.4s\n"
     ]
    },
    {
     "name": "stdout",
     "output_type": "stream",
     "text": [
      "building tree 7 of 50\n",
      "building tree 8 of 50\n",
      "building tree 9 of 50\n",
      "building tree 10 of 50\n"
     ]
    },
    {
     "name": "stderr",
     "output_type": "stream",
     "text": [
      "[Parallel(n_jobs=1)]: Done  10 tasks      | elapsed:    0.5s\n",
      "[Parallel(n_jobs=1)]: Done  11 tasks      | elapsed:    0.5s\n",
      "[Parallel(n_jobs=1)]: Done  12 tasks      | elapsed:    0.6s\n",
      "[Parallel(n_jobs=1)]: Done  13 tasks      | elapsed:    0.7s\n"
     ]
    },
    {
     "name": "stdout",
     "output_type": "stream",
     "text": [
      "building tree 11 of 50\n",
      "building tree 12 of 50\n",
      "building tree 13 of 50\n",
      "building tree 14 of 50\n"
     ]
    },
    {
     "name": "stderr",
     "output_type": "stream",
     "text": [
      "[Parallel(n_jobs=1)]: Done  14 tasks      | elapsed:    0.7s\n",
      "[Parallel(n_jobs=1)]: Done  15 tasks      | elapsed:    0.8s\n",
      "[Parallel(n_jobs=1)]: Done  16 tasks      | elapsed:    0.8s\n",
      "[Parallel(n_jobs=1)]: Done  17 tasks      | elapsed:    0.9s\n"
     ]
    },
    {
     "name": "stdout",
     "output_type": "stream",
     "text": [
      "building tree 15 of 50\n",
      "building tree 16 of 50\n",
      "building tree 17 of 50\n",
      "building tree 18 of 50\n"
     ]
    },
    {
     "name": "stderr",
     "output_type": "stream",
     "text": [
      "[Parallel(n_jobs=1)]: Done  18 tasks      | elapsed:    0.9s\n",
      "[Parallel(n_jobs=1)]: Done  19 tasks      | elapsed:    1.0s\n",
      "[Parallel(n_jobs=1)]: Done  20 tasks      | elapsed:    1.1s\n",
      "[Parallel(n_jobs=1)]: Done  21 tasks      | elapsed:    1.1s\n"
     ]
    },
    {
     "name": "stdout",
     "output_type": "stream",
     "text": [
      "building tree 19 of 50\n",
      "building tree 20 of 50\n",
      "building tree 21 of 50\n",
      "building tree 22 of 50\n"
     ]
    },
    {
     "name": "stderr",
     "output_type": "stream",
     "text": [
      "[Parallel(n_jobs=1)]: Done  22 tasks      | elapsed:    1.2s\n",
      "[Parallel(n_jobs=1)]: Done  23 tasks      | elapsed:    1.3s\n",
      "[Parallel(n_jobs=1)]: Done  24 tasks      | elapsed:    1.3s\n",
      "[Parallel(n_jobs=1)]: Done  25 tasks      | elapsed:    1.4s\n"
     ]
    },
    {
     "name": "stdout",
     "output_type": "stream",
     "text": [
      "building tree 23 of 50\n",
      "building tree 24 of 50\n",
      "building tree 25 of 50\n",
      "building tree 26 of 50\n"
     ]
    },
    {
     "name": "stderr",
     "output_type": "stream",
     "text": [
      "[Parallel(n_jobs=1)]: Done  26 tasks      | elapsed:    1.5s\n",
      "[Parallel(n_jobs=1)]: Done  27 tasks      | elapsed:    1.5s\n",
      "[Parallel(n_jobs=1)]: Done  28 tasks      | elapsed:    1.6s\n",
      "[Parallel(n_jobs=1)]: Done  29 tasks      | elapsed:    1.6s\n"
     ]
    },
    {
     "name": "stdout",
     "output_type": "stream",
     "text": [
      "building tree 27 of 50\n",
      "building tree 28 of 50\n",
      "building tree 29 of 50\n",
      "building tree 30 of 50\n"
     ]
    },
    {
     "name": "stderr",
     "output_type": "stream",
     "text": [
      "[Parallel(n_jobs=1)]: Done  30 tasks      | elapsed:    1.7s\n",
      "[Parallel(n_jobs=1)]: Done  31 tasks      | elapsed:    1.8s\n",
      "[Parallel(n_jobs=1)]: Done  32 tasks      | elapsed:    1.8s\n",
      "[Parallel(n_jobs=1)]: Done  33 tasks      | elapsed:    1.9s\n"
     ]
    },
    {
     "name": "stdout",
     "output_type": "stream",
     "text": [
      "building tree 31 of 50\n",
      "building tree 32 of 50\n",
      "building tree 33 of 50\n",
      "building tree 34 of 50\n"
     ]
    },
    {
     "name": "stderr",
     "output_type": "stream",
     "text": [
      "[Parallel(n_jobs=1)]: Done  34 tasks      | elapsed:    1.9s\n",
      "[Parallel(n_jobs=1)]: Done  35 tasks      | elapsed:    2.0s\n",
      "[Parallel(n_jobs=1)]: Done  36 tasks      | elapsed:    2.0s\n",
      "[Parallel(n_jobs=1)]: Done  37 tasks      | elapsed:    2.1s\n"
     ]
    },
    {
     "name": "stdout",
     "output_type": "stream",
     "text": [
      "building tree 35 of 50\n",
      "building tree 36 of 50\n",
      "building tree 37 of 50\n",
      "building tree 38 of 50\n"
     ]
    },
    {
     "name": "stderr",
     "output_type": "stream",
     "text": [
      "[Parallel(n_jobs=1)]: Done  38 tasks      | elapsed:    2.2s\n",
      "[Parallel(n_jobs=1)]: Done  39 tasks      | elapsed:    2.2s\n",
      "[Parallel(n_jobs=1)]: Done  40 tasks      | elapsed:    2.3s\n",
      "[Parallel(n_jobs=1)]: Done  41 tasks      | elapsed:    2.3s\n"
     ]
    },
    {
     "name": "stdout",
     "output_type": "stream",
     "text": [
      "building tree 39 of 50\n",
      "building tree 40 of 50\n",
      "building tree 41 of 50\n",
      "building tree 42 of 50\n"
     ]
    },
    {
     "name": "stderr",
     "output_type": "stream",
     "text": [
      "[Parallel(n_jobs=1)]: Done  42 tasks      | elapsed:    2.4s\n",
      "[Parallel(n_jobs=1)]: Done  43 tasks      | elapsed:    2.5s\n",
      "[Parallel(n_jobs=1)]: Done  44 tasks      | elapsed:    2.5s\n",
      "[Parallel(n_jobs=1)]: Done  45 tasks      | elapsed:    2.6s\n"
     ]
    },
    {
     "name": "stdout",
     "output_type": "stream",
     "text": [
      "building tree 43 of 50\n",
      "building tree 44 of 50\n",
      "building tree 45 of 50\n",
      "building tree 46 of 50\n"
     ]
    },
    {
     "name": "stderr",
     "output_type": "stream",
     "text": [
      "[Parallel(n_jobs=1)]: Done  46 tasks      | elapsed:    2.6s\n",
      "[Parallel(n_jobs=1)]: Done  47 tasks      | elapsed:    2.7s\n",
      "[Parallel(n_jobs=1)]: Done  48 tasks      | elapsed:    2.7s\n",
      "[Parallel(n_jobs=1)]: Done  49 tasks      | elapsed:    2.8s\n"
     ]
    },
    {
     "name": "stdout",
     "output_type": "stream",
     "text": [
      "building tree 47 of 50\n",
      "building tree 48 of 50\n",
      "building tree 49 of 50\n",
      "building tree 50 of 50\n"
     ]
    },
    {
     "name": "stderr",
     "output_type": "stream",
     "text": [
      "[Parallel(n_jobs=1)]: Done  50 tasks      | elapsed:    2.9s\n",
      "[Parallel(n_jobs=1)]: Done  50 tasks      | elapsed:    2.9s\n",
      "[Parallel(n_jobs=1)]: Done   1 tasks      | elapsed:    0.0s\n",
      "[Parallel(n_jobs=1)]: Done   2 tasks      | elapsed:    0.0s\n",
      "[Parallel(n_jobs=1)]: Done   3 tasks      | elapsed:    0.0s\n",
      "[Parallel(n_jobs=1)]: Done   4 tasks      | elapsed:    0.0s\n",
      "[Parallel(n_jobs=1)]: Done   5 tasks      | elapsed:    0.0s\n",
      "[Parallel(n_jobs=1)]: Done   6 tasks      | elapsed:    0.0s\n",
      "[Parallel(n_jobs=1)]: Done   7 tasks      | elapsed:    0.0s\n",
      "[Parallel(n_jobs=1)]: Done   8 tasks      | elapsed:    0.0s\n",
      "[Parallel(n_jobs=1)]: Done   9 tasks      | elapsed:    0.0s\n",
      "[Parallel(n_jobs=1)]: Done  10 tasks      | elapsed:    0.0s\n",
      "[Parallel(n_jobs=1)]: Done  11 tasks      | elapsed:    0.0s\n",
      "[Parallel(n_jobs=1)]: Done  12 tasks      | elapsed:    0.0s\n",
      "[Parallel(n_jobs=1)]: Done  13 tasks      | elapsed:    0.0s\n",
      "[Parallel(n_jobs=1)]: Done  14 tasks      | elapsed:    0.0s\n",
      "[Parallel(n_jobs=1)]: Done  15 tasks      | elapsed:    0.0s\n",
      "[Parallel(n_jobs=1)]: Done  16 tasks      | elapsed:    0.0s\n",
      "[Parallel(n_jobs=1)]: Done  17 tasks      | elapsed:    0.0s\n",
      "[Parallel(n_jobs=1)]: Done  18 tasks      | elapsed:    0.0s\n",
      "[Parallel(n_jobs=1)]: Done  19 tasks      | elapsed:    0.0s\n",
      "[Parallel(n_jobs=1)]: Done  20 tasks      | elapsed:    0.0s\n",
      "[Parallel(n_jobs=1)]: Done  21 tasks      | elapsed:    0.0s\n",
      "[Parallel(n_jobs=1)]: Done  22 tasks      | elapsed:    0.0s\n",
      "[Parallel(n_jobs=1)]: Done  23 tasks      | elapsed:    0.0s\n",
      "[Parallel(n_jobs=1)]: Done  24 tasks      | elapsed:    0.0s\n",
      "[Parallel(n_jobs=1)]: Done  25 tasks      | elapsed:    0.0s\n",
      "[Parallel(n_jobs=1)]: Done  26 tasks      | elapsed:    0.0s\n",
      "[Parallel(n_jobs=1)]: Done  27 tasks      | elapsed:    0.0s\n",
      "[Parallel(n_jobs=1)]: Done  28 tasks      | elapsed:    0.0s\n",
      "[Parallel(n_jobs=1)]: Done  29 tasks      | elapsed:    0.0s\n",
      "[Parallel(n_jobs=1)]: Done  30 tasks      | elapsed:    0.0s\n",
      "[Parallel(n_jobs=1)]: Done  31 tasks      | elapsed:    0.0s\n",
      "[Parallel(n_jobs=1)]: Done  32 tasks      | elapsed:    0.0s\n",
      "[Parallel(n_jobs=1)]: Done  33 tasks      | elapsed:    0.0s\n",
      "[Parallel(n_jobs=1)]: Done  34 tasks      | elapsed:    0.0s\n",
      "[Parallel(n_jobs=1)]: Done  35 tasks      | elapsed:    0.0s\n",
      "[Parallel(n_jobs=1)]: Done  36 tasks      | elapsed:    0.0s\n",
      "[Parallel(n_jobs=1)]: Done  37 tasks      | elapsed:    0.0s\n",
      "[Parallel(n_jobs=1)]: Done  38 tasks      | elapsed:    0.0s\n",
      "[Parallel(n_jobs=1)]: Done  39 tasks      | elapsed:    0.0s\n",
      "[Parallel(n_jobs=1)]: Done  40 tasks      | elapsed:    0.0s\n",
      "[Parallel(n_jobs=1)]: Done  41 tasks      | elapsed:    0.0s\n",
      "[Parallel(n_jobs=1)]: Done  42 tasks      | elapsed:    0.0s\n",
      "[Parallel(n_jobs=1)]: Done  43 tasks      | elapsed:    0.0s\n",
      "[Parallel(n_jobs=1)]: Done  44 tasks      | elapsed:    0.0s\n",
      "[Parallel(n_jobs=1)]: Done  45 tasks      | elapsed:    0.0s\n",
      "[Parallel(n_jobs=1)]: Done  46 tasks      | elapsed:    0.0s\n",
      "[Parallel(n_jobs=1)]: Done  47 tasks      | elapsed:    0.0s\n",
      "[Parallel(n_jobs=1)]: Done  48 tasks      | elapsed:    0.0s\n",
      "[Parallel(n_jobs=1)]: Done  49 tasks      | elapsed:    0.0s\n",
      "[Parallel(n_jobs=1)]: Done  50 tasks      | elapsed:    0.0s\n",
      "[Parallel(n_jobs=1)]: Done  50 tasks      | elapsed:    0.0s\n",
      "[Parallel(n_jobs=1)]: Done   1 tasks      | elapsed:    0.0s\n",
      "[Parallel(n_jobs=1)]: Done   2 tasks      | elapsed:    0.1s\n"
     ]
    },
    {
     "name": "stdout",
     "output_type": "stream",
     "text": [
      "building tree 1 of 50\n",
      "building tree 2 of 50\n",
      "building tree 3 of 50\n"
     ]
    },
    {
     "name": "stderr",
     "output_type": "stream",
     "text": [
      "[Parallel(n_jobs=1)]: Done   3 tasks      | elapsed:    0.1s\n",
      "[Parallel(n_jobs=1)]: Done   4 tasks      | elapsed:    0.2s\n",
      "[Parallel(n_jobs=1)]: Done   5 tasks      | elapsed:    0.3s\n"
     ]
    },
    {
     "name": "stdout",
     "output_type": "stream",
     "text": [
      "building tree 4 of 50\n",
      "building tree 5 of 50\n",
      "building tree 6 of 50\n"
     ]
    },
    {
     "name": "stderr",
     "output_type": "stream",
     "text": [
      "[Parallel(n_jobs=1)]: Done   6 tasks      | elapsed:    0.4s\n",
      "[Parallel(n_jobs=1)]: Done   7 tasks      | elapsed:    0.5s\n",
      "[Parallel(n_jobs=1)]: Done   8 tasks      | elapsed:    0.6s\n"
     ]
    },
    {
     "name": "stdout",
     "output_type": "stream",
     "text": [
      "building tree 7 of 50\n",
      "building tree 8 of 50\n",
      "building tree 9 of 50\n"
     ]
    },
    {
     "name": "stderr",
     "output_type": "stream",
     "text": [
      "[Parallel(n_jobs=1)]: Done   9 tasks      | elapsed:    0.6s\n",
      "[Parallel(n_jobs=1)]: Done  10 tasks      | elapsed:    0.7s\n",
      "[Parallel(n_jobs=1)]: Done  11 tasks      | elapsed:    0.8s\n"
     ]
    },
    {
     "name": "stdout",
     "output_type": "stream",
     "text": [
      "building tree 10 of 50\n",
      "building tree 11 of 50\n",
      "building tree 12 of 50\n"
     ]
    },
    {
     "name": "stderr",
     "output_type": "stream",
     "text": [
      "[Parallel(n_jobs=1)]: Done  12 tasks      | elapsed:    0.9s\n",
      "[Parallel(n_jobs=1)]: Done  13 tasks      | elapsed:    1.0s\n",
      "[Parallel(n_jobs=1)]: Done  14 tasks      | elapsed:    1.0s\n"
     ]
    },
    {
     "name": "stdout",
     "output_type": "stream",
     "text": [
      "building tree 13 of 50\n",
      "building tree 14 of 50\n",
      "building tree 15 of 50\n"
     ]
    },
    {
     "name": "stderr",
     "output_type": "stream",
     "text": [
      "[Parallel(n_jobs=1)]: Done  15 tasks      | elapsed:    1.1s\n",
      "[Parallel(n_jobs=1)]: Done  16 tasks      | elapsed:    1.2s\n",
      "[Parallel(n_jobs=1)]: Done  17 tasks      | elapsed:    1.3s\n"
     ]
    },
    {
     "name": "stdout",
     "output_type": "stream",
     "text": [
      "building tree 16 of 50\n",
      "building tree 17 of 50\n",
      "building tree 18 of 50\n"
     ]
    },
    {
     "name": "stderr",
     "output_type": "stream",
     "text": [
      "[Parallel(n_jobs=1)]: Done  18 tasks      | elapsed:    1.4s\n",
      "[Parallel(n_jobs=1)]: Done  19 tasks      | elapsed:    1.5s\n",
      "[Parallel(n_jobs=1)]: Done  20 tasks      | elapsed:    1.5s\n"
     ]
    },
    {
     "name": "stdout",
     "output_type": "stream",
     "text": [
      "building tree 19 of 50\n",
      "building tree 20 of 50\n",
      "building tree 21 of 50\n"
     ]
    },
    {
     "name": "stderr",
     "output_type": "stream",
     "text": [
      "[Parallel(n_jobs=1)]: Done  21 tasks      | elapsed:    1.6s\n",
      "[Parallel(n_jobs=1)]: Done  22 tasks      | elapsed:    1.7s\n",
      "[Parallel(n_jobs=1)]: Done  23 tasks      | elapsed:    1.8s\n"
     ]
    },
    {
     "name": "stdout",
     "output_type": "stream",
     "text": [
      "building tree 22 of 50\n",
      "building tree 23 of 50\n",
      "building tree 24 of 50\n"
     ]
    },
    {
     "name": "stderr",
     "output_type": "stream",
     "text": [
      "[Parallel(n_jobs=1)]: Done  24 tasks      | elapsed:    1.9s\n",
      "[Parallel(n_jobs=1)]: Done  25 tasks      | elapsed:    2.0s\n",
      "[Parallel(n_jobs=1)]: Done  26 tasks      | elapsed:    2.0s\n"
     ]
    },
    {
     "name": "stdout",
     "output_type": "stream",
     "text": [
      "building tree 25 of 50\n",
      "building tree 26 of 50\n",
      "building tree 27 of 50\n"
     ]
    },
    {
     "name": "stderr",
     "output_type": "stream",
     "text": [
      "[Parallel(n_jobs=1)]: Done  27 tasks      | elapsed:    2.1s\n",
      "[Parallel(n_jobs=1)]: Done  28 tasks      | elapsed:    2.2s\n",
      "[Parallel(n_jobs=1)]: Done  29 tasks      | elapsed:    2.3s\n"
     ]
    },
    {
     "name": "stdout",
     "output_type": "stream",
     "text": [
      "building tree 28 of 50\n",
      "building tree 29 of 50\n",
      "building tree 30 of 50\n"
     ]
    },
    {
     "name": "stderr",
     "output_type": "stream",
     "text": [
      "[Parallel(n_jobs=1)]: Done  30 tasks      | elapsed:    2.4s\n",
      "[Parallel(n_jobs=1)]: Done  31 tasks      | elapsed:    2.5s\n",
      "[Parallel(n_jobs=1)]: Done  32 tasks      | elapsed:    2.5s\n"
     ]
    },
    {
     "name": "stdout",
     "output_type": "stream",
     "text": [
      "building tree 31 of 50\n",
      "building tree 32 of 50\n",
      "building tree 33 of 50\n"
     ]
    },
    {
     "name": "stderr",
     "output_type": "stream",
     "text": [
      "[Parallel(n_jobs=1)]: Done  33 tasks      | elapsed:    2.6s\n",
      "[Parallel(n_jobs=1)]: Done  34 tasks      | elapsed:    2.7s\n",
      "[Parallel(n_jobs=1)]: Done  35 tasks      | elapsed:    2.8s\n"
     ]
    },
    {
     "name": "stdout",
     "output_type": "stream",
     "text": [
      "building tree 34 of 50\n",
      "building tree 35 of 50\n",
      "building tree 36 of 50\n"
     ]
    },
    {
     "name": "stderr",
     "output_type": "stream",
     "text": [
      "[Parallel(n_jobs=1)]: Done  36 tasks      | elapsed:    2.9s\n",
      "[Parallel(n_jobs=1)]: Done  37 tasks      | elapsed:    2.9s\n",
      "[Parallel(n_jobs=1)]: Done  38 tasks      | elapsed:    3.0s\n"
     ]
    },
    {
     "name": "stdout",
     "output_type": "stream",
     "text": [
      "building tree 37 of 50\n",
      "building tree 38 of 50\n",
      "building tree 39 of 50\n"
     ]
    },
    {
     "name": "stderr",
     "output_type": "stream",
     "text": [
      "[Parallel(n_jobs=1)]: Done  39 tasks      | elapsed:    3.1s\n",
      "[Parallel(n_jobs=1)]: Done  40 tasks      | elapsed:    3.2s\n",
      "[Parallel(n_jobs=1)]: Done  41 tasks      | elapsed:    3.3s\n"
     ]
    },
    {
     "name": "stdout",
     "output_type": "stream",
     "text": [
      "building tree 40 of 50\n",
      "building tree 41 of 50\n",
      "building tree 42 of 50\n"
     ]
    },
    {
     "name": "stderr",
     "output_type": "stream",
     "text": [
      "[Parallel(n_jobs=1)]: Done  42 tasks      | elapsed:    3.4s\n",
      "[Parallel(n_jobs=1)]: Done  43 tasks      | elapsed:    3.4s\n",
      "[Parallel(n_jobs=1)]: Done  44 tasks      | elapsed:    3.6s\n"
     ]
    },
    {
     "name": "stdout",
     "output_type": "stream",
     "text": [
      "building tree 43 of 50\n",
      "building tree 44 of 50\n",
      "building tree 45 of 50\n"
     ]
    },
    {
     "name": "stderr",
     "output_type": "stream",
     "text": [
      "[Parallel(n_jobs=1)]: Done  45 tasks      | elapsed:    3.7s\n",
      "[Parallel(n_jobs=1)]: Done  46 tasks      | elapsed:    3.7s\n",
      "[Parallel(n_jobs=1)]: Done  47 tasks      | elapsed:    3.8s\n"
     ]
    },
    {
     "name": "stdout",
     "output_type": "stream",
     "text": [
      "building tree 46 of 50\n",
      "building tree 47 of 50\n",
      "building tree 48 of 50\n"
     ]
    },
    {
     "name": "stderr",
     "output_type": "stream",
     "text": [
      "[Parallel(n_jobs=1)]: Done  48 tasks      | elapsed:    3.9s\n",
      "[Parallel(n_jobs=1)]: Done  49 tasks      | elapsed:    4.0s\n",
      "[Parallel(n_jobs=1)]: Done  50 tasks      | elapsed:    4.1s\n",
      "[Parallel(n_jobs=1)]: Done  50 tasks      | elapsed:    4.1s\n",
      "[Parallel(n_jobs=1)]: Done   1 tasks      | elapsed:    0.0s\n",
      "[Parallel(n_jobs=1)]: Done   2 tasks      | elapsed:    0.0s\n",
      "[Parallel(n_jobs=1)]: Done   3 tasks      | elapsed:    0.0s\n",
      "[Parallel(n_jobs=1)]: Done   4 tasks      | elapsed:    0.0s\n",
      "[Parallel(n_jobs=1)]: Done   5 tasks      | elapsed:    0.0s\n",
      "[Parallel(n_jobs=1)]: Done   6 tasks      | elapsed:    0.0s\n",
      "[Parallel(n_jobs=1)]: Done   7 tasks      | elapsed:    0.0s\n",
      "[Parallel(n_jobs=1)]: Done   8 tasks      | elapsed:    0.0s\n",
      "[Parallel(n_jobs=1)]: Done   9 tasks      | elapsed:    0.0s\n",
      "[Parallel(n_jobs=1)]: Done  10 tasks      | elapsed:    0.0s\n",
      "[Parallel(n_jobs=1)]: Done  11 tasks      | elapsed:    0.0s\n",
      "[Parallel(n_jobs=1)]: Done  12 tasks      | elapsed:    0.0s\n",
      "[Parallel(n_jobs=1)]: Done  13 tasks      | elapsed:    0.0s\n",
      "[Parallel(n_jobs=1)]: Done  14 tasks      | elapsed:    0.0s\n",
      "[Parallel(n_jobs=1)]: Done  15 tasks      | elapsed:    0.0s\n",
      "[Parallel(n_jobs=1)]: Done  16 tasks      | elapsed:    0.0s\n",
      "[Parallel(n_jobs=1)]: Done  17 tasks      | elapsed:    0.0s\n",
      "[Parallel(n_jobs=1)]: Done  18 tasks      | elapsed:    0.0s\n",
      "[Parallel(n_jobs=1)]: Done  19 tasks      | elapsed:    0.0s\n",
      "[Parallel(n_jobs=1)]: Done  20 tasks      | elapsed:    0.0s\n",
      "[Parallel(n_jobs=1)]: Done  21 tasks      | elapsed:    0.0s\n",
      "[Parallel(n_jobs=1)]: Done  22 tasks      | elapsed:    0.0s\n",
      "[Parallel(n_jobs=1)]: Done  23 tasks      | elapsed:    0.0s\n",
      "[Parallel(n_jobs=1)]: Done  24 tasks      | elapsed:    0.0s\n",
      "[Parallel(n_jobs=1)]: Done  25 tasks      | elapsed:    0.0s\n",
      "[Parallel(n_jobs=1)]: Done  26 tasks      | elapsed:    0.0s\n",
      "[Parallel(n_jobs=1)]: Done  27 tasks      | elapsed:    0.0s\n",
      "[Parallel(n_jobs=1)]: Done  28 tasks      | elapsed:    0.0s\n",
      "[Parallel(n_jobs=1)]: Done  29 tasks      | elapsed:    0.0s\n",
      "[Parallel(n_jobs=1)]: Done  30 tasks      | elapsed:    0.0s\n",
      "[Parallel(n_jobs=1)]: Done  31 tasks      | elapsed:    0.0s\n",
      "[Parallel(n_jobs=1)]: Done  32 tasks      | elapsed:    0.0s\n",
      "[Parallel(n_jobs=1)]: Done  33 tasks      | elapsed:    0.0s\n",
      "[Parallel(n_jobs=1)]: Done  34 tasks      | elapsed:    0.0s\n",
      "[Parallel(n_jobs=1)]: Done  35 tasks      | elapsed:    0.0s\n",
      "[Parallel(n_jobs=1)]: Done  36 tasks      | elapsed:    0.0s\n",
      "[Parallel(n_jobs=1)]: Done  37 tasks      | elapsed:    0.0s\n",
      "[Parallel(n_jobs=1)]: Done  38 tasks      | elapsed:    0.0s\n",
      "[Parallel(n_jobs=1)]: Done  39 tasks      | elapsed:    0.0s\n",
      "[Parallel(n_jobs=1)]: Done  40 tasks      | elapsed:    0.0s\n",
      "[Parallel(n_jobs=1)]: Done  41 tasks      | elapsed:    0.0s\n",
      "[Parallel(n_jobs=1)]: Done  42 tasks      | elapsed:    0.0s\n",
      "[Parallel(n_jobs=1)]: Done  43 tasks      | elapsed:    0.0s\n",
      "[Parallel(n_jobs=1)]: Done  44 tasks      | elapsed:    0.0s\n",
      "[Parallel(n_jobs=1)]: Done  45 tasks      | elapsed:    0.0s\n",
      "[Parallel(n_jobs=1)]: Done  46 tasks      | elapsed:    0.0s\n",
      "[Parallel(n_jobs=1)]: Done  47 tasks      | elapsed:    0.0s\n",
      "[Parallel(n_jobs=1)]: Done  48 tasks      | elapsed:    0.0s\n",
      "[Parallel(n_jobs=1)]: Done  49 tasks      | elapsed:    0.0s\n",
      "[Parallel(n_jobs=1)]: Done  50 tasks      | elapsed:    0.0s\n",
      "[Parallel(n_jobs=1)]: Done  50 tasks      | elapsed:    0.0s\n"
     ]
    },
    {
     "name": "stdout",
     "output_type": "stream",
     "text": [
      "building tree 49 of 50\n",
      "building tree 50 of 50\n",
      "building tree 1 of 50\n"
     ]
    },
    {
     "name": "stderr",
     "output_type": "stream",
     "text": [
      "[Parallel(n_jobs=1)]: Done   1 tasks      | elapsed:    0.0s\n",
      "[Parallel(n_jobs=1)]: Done   2 tasks      | elapsed:    0.1s\n"
     ]
    },
    {
     "name": "stdout",
     "output_type": "stream",
     "text": [
      "building tree 2 of 50\n",
      "building tree 3 of 50\n"
     ]
    },
    {
     "name": "stderr",
     "output_type": "stream",
     "text": [
      "[Parallel(n_jobs=1)]: Done   3 tasks      | elapsed:    0.2s\n",
      "[Parallel(n_jobs=1)]: Done   4 tasks      | elapsed:    0.3s\n"
     ]
    },
    {
     "name": "stdout",
     "output_type": "stream",
     "text": [
      "building tree 4 of 50\n",
      "building tree 5 of 50\n"
     ]
    },
    {
     "name": "stderr",
     "output_type": "stream",
     "text": [
      "[Parallel(n_jobs=1)]: Done   5 tasks      | elapsed:    0.4s\n",
      "[Parallel(n_jobs=1)]: Done   6 tasks      | elapsed:    0.5s\n",
      "[Parallel(n_jobs=1)]: Done   7 tasks      | elapsed:    0.6s\n"
     ]
    },
    {
     "name": "stdout",
     "output_type": "stream",
     "text": [
      "building tree 6 of 50\n",
      "building tree 7 of 50\n",
      "building tree 8 of 50\n"
     ]
    },
    {
     "name": "stderr",
     "output_type": "stream",
     "text": [
      "[Parallel(n_jobs=1)]: Done   8 tasks      | elapsed:    0.7s\n",
      "[Parallel(n_jobs=1)]: Done   9 tasks      | elapsed:    0.8s\n",
      "[Parallel(n_jobs=1)]: Done  10 tasks      | elapsed:    0.9s\n"
     ]
    },
    {
     "name": "stdout",
     "output_type": "stream",
     "text": [
      "building tree 9 of 50\n",
      "building tree 10 of 50\n",
      "building tree 11 of 50\n"
     ]
    },
    {
     "name": "stderr",
     "output_type": "stream",
     "text": [
      "[Parallel(n_jobs=1)]: Done  11 tasks      | elapsed:    1.1s\n",
      "[Parallel(n_jobs=1)]: Done  12 tasks      | elapsed:    1.2s\n",
      "[Parallel(n_jobs=1)]: Done  13 tasks      | elapsed:    1.3s\n"
     ]
    },
    {
     "name": "stdout",
     "output_type": "stream",
     "text": [
      "building tree 12 of 50\n",
      "building tree 13 of 50\n",
      "building tree 14 of 50\n"
     ]
    },
    {
     "name": "stderr",
     "output_type": "stream",
     "text": [
      "[Parallel(n_jobs=1)]: Done  14 tasks      | elapsed:    1.4s\n",
      "[Parallel(n_jobs=1)]: Done  15 tasks      | elapsed:    1.5s\n"
     ]
    },
    {
     "name": "stdout",
     "output_type": "stream",
     "text": [
      "building tree 15 of 50\n",
      "building tree 16 of 50\n"
     ]
    },
    {
     "name": "stderr",
     "output_type": "stream",
     "text": [
      "[Parallel(n_jobs=1)]: Done  16 tasks      | elapsed:    1.6s\n",
      "[Parallel(n_jobs=1)]: Done  17 tasks      | elapsed:    1.7s\n",
      "[Parallel(n_jobs=1)]: Done  18 tasks      | elapsed:    1.8s\n"
     ]
    },
    {
     "name": "stdout",
     "output_type": "stream",
     "text": [
      "building tree 17 of 50\n",
      "building tree 18 of 50\n",
      "building tree 19 of 50\n"
     ]
    },
    {
     "name": "stderr",
     "output_type": "stream",
     "text": [
      "[Parallel(n_jobs=1)]: Done  19 tasks      | elapsed:    1.9s\n",
      "[Parallel(n_jobs=1)]: Done  20 tasks      | elapsed:    2.0s\n"
     ]
    },
    {
     "name": "stdout",
     "output_type": "stream",
     "text": [
      "building tree 20 of 50\n",
      "building tree 21 of 50\n"
     ]
    },
    {
     "name": "stderr",
     "output_type": "stream",
     "text": [
      "[Parallel(n_jobs=1)]: Done  21 tasks      | elapsed:    2.1s\n",
      "[Parallel(n_jobs=1)]: Done  22 tasks      | elapsed:    2.2s\n",
      "[Parallel(n_jobs=1)]: Done  23 tasks      | elapsed:    2.3s\n"
     ]
    },
    {
     "name": "stdout",
     "output_type": "stream",
     "text": [
      "building tree 22 of 50\n",
      "building tree 23 of 50\n",
      "building tree 24 of 50\n"
     ]
    },
    {
     "name": "stderr",
     "output_type": "stream",
     "text": [
      "[Parallel(n_jobs=1)]: Done  24 tasks      | elapsed:    2.4s\n",
      "[Parallel(n_jobs=1)]: Done  25 tasks      | elapsed:    2.5s\n",
      "[Parallel(n_jobs=1)]: Done  26 tasks      | elapsed:    2.6s\n"
     ]
    },
    {
     "name": "stdout",
     "output_type": "stream",
     "text": [
      "building tree 25 of 50\n",
      "building tree 26 of 50\n",
      "building tree 27 of 50\n"
     ]
    },
    {
     "name": "stderr",
     "output_type": "stream",
     "text": [
      "[Parallel(n_jobs=1)]: Done  27 tasks      | elapsed:    2.7s\n",
      "[Parallel(n_jobs=1)]: Done  28 tasks      | elapsed:    2.8s\n"
     ]
    },
    {
     "name": "stdout",
     "output_type": "stream",
     "text": [
      "building tree 28 of 50\n",
      "building tree 29 of 50\n"
     ]
    },
    {
     "name": "stderr",
     "output_type": "stream",
     "text": [
      "[Parallel(n_jobs=1)]: Done  29 tasks      | elapsed:    2.9s\n",
      "[Parallel(n_jobs=1)]: Done  30 tasks      | elapsed:    3.0s\n"
     ]
    },
    {
     "name": "stdout",
     "output_type": "stream",
     "text": [
      "building tree 30 of 50\n",
      "building tree 31 of 50\n"
     ]
    },
    {
     "name": "stderr",
     "output_type": "stream",
     "text": [
      "[Parallel(n_jobs=1)]: Done  31 tasks      | elapsed:    3.1s\n",
      "[Parallel(n_jobs=1)]: Done  32 tasks      | elapsed:    3.2s\n",
      "[Parallel(n_jobs=1)]: Done  33 tasks      | elapsed:    3.3s\n"
     ]
    },
    {
     "name": "stdout",
     "output_type": "stream",
     "text": [
      "building tree 32 of 50\n",
      "building tree 33 of 50\n",
      "building tree 34 of 50\n"
     ]
    },
    {
     "name": "stderr",
     "output_type": "stream",
     "text": [
      "[Parallel(n_jobs=1)]: Done  34 tasks      | elapsed:    3.4s\n",
      "[Parallel(n_jobs=1)]: Done  35 tasks      | elapsed:    3.5s\n",
      "[Parallel(n_jobs=1)]: Done  36 tasks      | elapsed:    3.6s\n"
     ]
    },
    {
     "name": "stdout",
     "output_type": "stream",
     "text": [
      "building tree 35 of 50\n",
      "building tree 36 of 50\n",
      "building tree 37 of 50\n"
     ]
    },
    {
     "name": "stderr",
     "output_type": "stream",
     "text": [
      "[Parallel(n_jobs=1)]: Done  37 tasks      | elapsed:    3.7s\n",
      "[Parallel(n_jobs=1)]: Done  38 tasks      | elapsed:    3.8s\n",
      "[Parallel(n_jobs=1)]: Done  39 tasks      | elapsed:    3.9s\n"
     ]
    },
    {
     "name": "stdout",
     "output_type": "stream",
     "text": [
      "building tree 38 of 50\n",
      "building tree 39 of 50\n",
      "building tree 40 of 50\n"
     ]
    },
    {
     "name": "stderr",
     "output_type": "stream",
     "text": [
      "[Parallel(n_jobs=1)]: Done  40 tasks      | elapsed:    4.0s\n",
      "[Parallel(n_jobs=1)]: Done  41 tasks      | elapsed:    4.1s\n",
      "[Parallel(n_jobs=1)]: Done  42 tasks      | elapsed:    4.2s\n"
     ]
    },
    {
     "name": "stdout",
     "output_type": "stream",
     "text": [
      "building tree 41 of 50\n",
      "building tree 42 of 50\n",
      "building tree 43 of 50\n"
     ]
    },
    {
     "name": "stderr",
     "output_type": "stream",
     "text": [
      "[Parallel(n_jobs=1)]: Done  43 tasks      | elapsed:    4.3s\n",
      "[Parallel(n_jobs=1)]: Done  44 tasks      | elapsed:    4.4s\n"
     ]
    },
    {
     "name": "stdout",
     "output_type": "stream",
     "text": [
      "building tree 44 of 50\n",
      "building tree 45 of 50\n"
     ]
    },
    {
     "name": "stderr",
     "output_type": "stream",
     "text": [
      "[Parallel(n_jobs=1)]: Done  45 tasks      | elapsed:    4.6s\n",
      "[Parallel(n_jobs=1)]: Done  46 tasks      | elapsed:    4.7s\n"
     ]
    },
    {
     "name": "stdout",
     "output_type": "stream",
     "text": [
      "building tree 46 of 50\n",
      "building tree 47 of 50\n"
     ]
    },
    {
     "name": "stderr",
     "output_type": "stream",
     "text": [
      "[Parallel(n_jobs=1)]: Done  47 tasks      | elapsed:    4.8s\n",
      "[Parallel(n_jobs=1)]: Done  48 tasks      | elapsed:    4.9s\n",
      "[Parallel(n_jobs=1)]: Done  49 tasks      | elapsed:    5.0s\n"
     ]
    },
    {
     "name": "stdout",
     "output_type": "stream",
     "text": [
      "building tree 48 of 50\n",
      "building tree 49 of 50\n",
      "building tree 50 of 50\n"
     ]
    },
    {
     "name": "stderr",
     "output_type": "stream",
     "text": [
      "[Parallel(n_jobs=1)]: Done  50 tasks      | elapsed:    5.1s\n",
      "[Parallel(n_jobs=1)]: Done  50 tasks      | elapsed:    5.1s\n",
      "[Parallel(n_jobs=1)]: Done   1 tasks      | elapsed:    0.0s\n",
      "[Parallel(n_jobs=1)]: Done   2 tasks      | elapsed:    0.0s\n",
      "[Parallel(n_jobs=1)]: Done   3 tasks      | elapsed:    0.0s\n",
      "[Parallel(n_jobs=1)]: Done   4 tasks      | elapsed:    0.0s\n",
      "[Parallel(n_jobs=1)]: Done   5 tasks      | elapsed:    0.0s\n",
      "[Parallel(n_jobs=1)]: Done   6 tasks      | elapsed:    0.0s\n",
      "[Parallel(n_jobs=1)]: Done   7 tasks      | elapsed:    0.0s\n",
      "[Parallel(n_jobs=1)]: Done   8 tasks      | elapsed:    0.0s\n",
      "[Parallel(n_jobs=1)]: Done   9 tasks      | elapsed:    0.0s\n",
      "[Parallel(n_jobs=1)]: Done  10 tasks      | elapsed:    0.0s\n",
      "[Parallel(n_jobs=1)]: Done  11 tasks      | elapsed:    0.0s\n",
      "[Parallel(n_jobs=1)]: Done  12 tasks      | elapsed:    0.0s\n",
      "[Parallel(n_jobs=1)]: Done  13 tasks      | elapsed:    0.0s\n",
      "[Parallel(n_jobs=1)]: Done  14 tasks      | elapsed:    0.0s\n",
      "[Parallel(n_jobs=1)]: Done  15 tasks      | elapsed:    0.0s\n",
      "[Parallel(n_jobs=1)]: Done  16 tasks      | elapsed:    0.0s\n",
      "[Parallel(n_jobs=1)]: Done  17 tasks      | elapsed:    0.0s\n",
      "[Parallel(n_jobs=1)]: Done  18 tasks      | elapsed:    0.0s\n",
      "[Parallel(n_jobs=1)]: Done  19 tasks      | elapsed:    0.0s\n",
      "[Parallel(n_jobs=1)]: Done  20 tasks      | elapsed:    0.0s\n",
      "[Parallel(n_jobs=1)]: Done  21 tasks      | elapsed:    0.0s\n",
      "[Parallel(n_jobs=1)]: Done  22 tasks      | elapsed:    0.0s\n",
      "[Parallel(n_jobs=1)]: Done  23 tasks      | elapsed:    0.0s\n",
      "[Parallel(n_jobs=1)]: Done  24 tasks      | elapsed:    0.0s\n",
      "[Parallel(n_jobs=1)]: Done  25 tasks      | elapsed:    0.0s\n",
      "[Parallel(n_jobs=1)]: Done  26 tasks      | elapsed:    0.0s\n",
      "[Parallel(n_jobs=1)]: Done  27 tasks      | elapsed:    0.0s\n",
      "[Parallel(n_jobs=1)]: Done  28 tasks      | elapsed:    0.0s\n",
      "[Parallel(n_jobs=1)]: Done  29 tasks      | elapsed:    0.0s\n",
      "[Parallel(n_jobs=1)]: Done  30 tasks      | elapsed:    0.0s\n",
      "[Parallel(n_jobs=1)]: Done  31 tasks      | elapsed:    0.0s\n",
      "[Parallel(n_jobs=1)]: Done  32 tasks      | elapsed:    0.0s\n",
      "[Parallel(n_jobs=1)]: Done  33 tasks      | elapsed:    0.0s\n",
      "[Parallel(n_jobs=1)]: Done  34 tasks      | elapsed:    0.0s\n",
      "[Parallel(n_jobs=1)]: Done  35 tasks      | elapsed:    0.0s\n",
      "[Parallel(n_jobs=1)]: Done  36 tasks      | elapsed:    0.0s\n",
      "[Parallel(n_jobs=1)]: Done  37 tasks      | elapsed:    0.0s\n",
      "[Parallel(n_jobs=1)]: Done  38 tasks      | elapsed:    0.0s\n",
      "[Parallel(n_jobs=1)]: Done  39 tasks      | elapsed:    0.0s\n",
      "[Parallel(n_jobs=1)]: Done  40 tasks      | elapsed:    0.0s\n",
      "[Parallel(n_jobs=1)]: Done  41 tasks      | elapsed:    0.0s\n",
      "[Parallel(n_jobs=1)]: Done  42 tasks      | elapsed:    0.0s\n",
      "[Parallel(n_jobs=1)]: Done  43 tasks      | elapsed:    0.0s\n",
      "[Parallel(n_jobs=1)]: Done  44 tasks      | elapsed:    0.0s\n",
      "[Parallel(n_jobs=1)]: Done  45 tasks      | elapsed:    0.0s\n",
      "[Parallel(n_jobs=1)]: Done  46 tasks      | elapsed:    0.0s\n",
      "[Parallel(n_jobs=1)]: Done  47 tasks      | elapsed:    0.0s\n",
      "[Parallel(n_jobs=1)]: Done  48 tasks      | elapsed:    0.0s\n",
      "[Parallel(n_jobs=1)]: Done  49 tasks      | elapsed:    0.0s\n",
      "[Parallel(n_jobs=1)]: Done  50 tasks      | elapsed:    0.0s\n",
      "[Parallel(n_jobs=1)]: Done  50 tasks      | elapsed:    0.0s\n",
      "[Parallel(n_jobs=1)]: Done   1 tasks      | elapsed:    0.0s\n",
      "[Parallel(n_jobs=1)]: Done   2 tasks      | elapsed:    0.0s\n",
      "[Parallel(n_jobs=1)]: Done   3 tasks      | elapsed:    0.0s\n",
      "[Parallel(n_jobs=1)]: Done   4 tasks      | elapsed:    0.0s\n",
      "[Parallel(n_jobs=1)]: Done   5 tasks      | elapsed:    0.0s\n",
      "[Parallel(n_jobs=1)]: Done   6 tasks      | elapsed:    0.0s\n"
     ]
    },
    {
     "name": "stdout",
     "output_type": "stream",
     "text": [
      "building tree 1 of 75\n",
      "building tree 2 of 75\n",
      "building tree 3 of 75\n",
      "building tree 4 of 75\n",
      "building tree 5 of 75\n",
      "building tree 6 of 75\n",
      "building tree 7 of 75\n",
      "building tree 8 of 75\n",
      "building tree 9 of 75\n",
      "building tree 10 of 75\n",
      "building tree 11 of 75\n"
     ]
    },
    {
     "name": "stderr",
     "output_type": "stream",
     "text": [
      "[Parallel(n_jobs=1)]: Done   7 tasks      | elapsed:    0.1s\n",
      "[Parallel(n_jobs=1)]: Done   8 tasks      | elapsed:    0.1s\n",
      "[Parallel(n_jobs=1)]: Done   9 tasks      | elapsed:    0.1s\n",
      "[Parallel(n_jobs=1)]: Done  10 tasks      | elapsed:    0.1s\n",
      "[Parallel(n_jobs=1)]: Done  11 tasks      | elapsed:    0.1s\n",
      "[Parallel(n_jobs=1)]: Done  12 tasks      | elapsed:    0.1s\n",
      "[Parallel(n_jobs=1)]: Done  13 tasks      | elapsed:    0.2s\n",
      "[Parallel(n_jobs=1)]: Done  14 tasks      | elapsed:    0.2s\n",
      "[Parallel(n_jobs=1)]: Done  15 tasks      | elapsed:    0.2s\n",
      "[Parallel(n_jobs=1)]: Done  16 tasks      | elapsed:    0.2s\n",
      "[Parallel(n_jobs=1)]: Done  17 tasks      | elapsed:    0.2s\n",
      "[Parallel(n_jobs=1)]: Done  18 tasks      | elapsed:    0.3s\n"
     ]
    },
    {
     "name": "stdout",
     "output_type": "stream",
     "text": [
      "building tree 12 of 75\n",
      "building tree 13 of 75\n",
      "building tree 14 of 75\n",
      "building tree 15 of 75\n",
      "building tree 16 of 75\n",
      "building tree 17 of 75\n",
      "building tree 18 of 75\n",
      "building tree 19 of 75\n",
      "building tree 20 of 75\n",
      "building tree 21 of 75\n",
      "building tree 22 of 75\n"
     ]
    },
    {
     "name": "stderr",
     "output_type": "stream",
     "text": [
      "[Parallel(n_jobs=1)]: Done  19 tasks      | elapsed:    0.3s\n",
      "[Parallel(n_jobs=1)]: Done  20 tasks      | elapsed:    0.3s\n",
      "[Parallel(n_jobs=1)]: Done  21 tasks      | elapsed:    0.3s\n",
      "[Parallel(n_jobs=1)]: Done  22 tasks      | elapsed:    0.3s\n",
      "[Parallel(n_jobs=1)]: Done  23 tasks      | elapsed:    0.4s\n",
      "[Parallel(n_jobs=1)]: Done  24 tasks      | elapsed:    0.4s\n",
      "[Parallel(n_jobs=1)]: Done  25 tasks      | elapsed:    0.4s\n",
      "[Parallel(n_jobs=1)]: Done  26 tasks      | elapsed:    0.4s\n",
      "[Parallel(n_jobs=1)]: Done  27 tasks      | elapsed:    0.4s\n",
      "[Parallel(n_jobs=1)]: Done  28 tasks      | elapsed:    0.5s\n",
      "[Parallel(n_jobs=1)]: Done  29 tasks      | elapsed:    0.5s\n"
     ]
    },
    {
     "name": "stdout",
     "output_type": "stream",
     "text": [
      "building tree 23 of 75\n",
      "building tree 24 of 75\n",
      "building tree 25 of 75\n",
      "building tree 26 of 75\n",
      "building tree 27 of 75\n",
      "building tree 28 of 75\n",
      "building tree 29 of 75\n",
      "building tree 30 of 75\n",
      "building tree 31 of 75\n",
      "building tree 32 of 75\n",
      "building tree 33 of 75\n",
      "building tree 34 of 75\n"
     ]
    },
    {
     "name": "stderr",
     "output_type": "stream",
     "text": [
      "[Parallel(n_jobs=1)]: Done  30 tasks      | elapsed:    0.5s\n",
      "[Parallel(n_jobs=1)]: Done  31 tasks      | elapsed:    0.5s\n",
      "[Parallel(n_jobs=1)]: Done  32 tasks      | elapsed:    0.5s\n",
      "[Parallel(n_jobs=1)]: Done  33 tasks      | elapsed:    0.6s\n",
      "[Parallel(n_jobs=1)]: Done  34 tasks      | elapsed:    0.6s\n",
      "[Parallel(n_jobs=1)]: Done  35 tasks      | elapsed:    0.6s\n",
      "[Parallel(n_jobs=1)]: Done  36 tasks      | elapsed:    0.6s\n",
      "[Parallel(n_jobs=1)]: Done  37 tasks      | elapsed:    0.6s\n",
      "[Parallel(n_jobs=1)]: Done  38 tasks      | elapsed:    0.6s\n",
      "[Parallel(n_jobs=1)]: Done  39 tasks      | elapsed:    0.7s\n",
      "[Parallel(n_jobs=1)]: Done  40 tasks      | elapsed:    0.7s\n"
     ]
    },
    {
     "name": "stdout",
     "output_type": "stream",
     "text": [
      "building tree 35 of 75\n",
      "building tree 36 of 75\n",
      "building tree 37 of 75\n",
      "building tree 38 of 75\n",
      "building tree 39 of 75\n",
      "building tree 40 of 75\n",
      "building tree 41 of 75\n",
      "building tree 42 of 75\n",
      "building tree 43 of 75\n",
      "building tree 44 of 75\n",
      "building tree 45 of 75\n"
     ]
    },
    {
     "name": "stderr",
     "output_type": "stream",
     "text": [
      "[Parallel(n_jobs=1)]: Done  41 tasks      | elapsed:    0.7s\n",
      "[Parallel(n_jobs=1)]: Done  42 tasks      | elapsed:    0.7s\n",
      "[Parallel(n_jobs=1)]: Done  43 tasks      | elapsed:    0.8s\n",
      "[Parallel(n_jobs=1)]: Done  44 tasks      | elapsed:    0.8s\n",
      "[Parallel(n_jobs=1)]: Done  45 tasks      | elapsed:    0.8s\n",
      "[Parallel(n_jobs=1)]: Done  46 tasks      | elapsed:    0.8s\n",
      "[Parallel(n_jobs=1)]: Done  47 tasks      | elapsed:    0.8s\n",
      "[Parallel(n_jobs=1)]: Done  48 tasks      | elapsed:    0.9s\n",
      "[Parallel(n_jobs=1)]: Done  49 tasks      | elapsed:    0.9s\n",
      "[Parallel(n_jobs=1)]: Done  50 tasks      | elapsed:    0.9s\n",
      "[Parallel(n_jobs=1)]: Done  51 tasks      | elapsed:    0.9s\n"
     ]
    },
    {
     "name": "stdout",
     "output_type": "stream",
     "text": [
      "building tree 46 of 75\n",
      "building tree 47 of 75\n",
      "building tree 48 of 75\n",
      "building tree 49 of 75\n",
      "building tree 50 of 75\n",
      "building tree 51 of 75\n",
      "building tree 52 of 75\n",
      "building tree 53 of 75\n",
      "building tree 54 of 75\n",
      "building tree 55 of 75\n",
      "building tree 56 of 75\n"
     ]
    },
    {
     "name": "stderr",
     "output_type": "stream",
     "text": [
      "[Parallel(n_jobs=1)]: Done  52 tasks      | elapsed:    0.9s\n",
      "[Parallel(n_jobs=1)]: Done  53 tasks      | elapsed:    0.9s\n",
      "[Parallel(n_jobs=1)]: Done  54 tasks      | elapsed:    1.0s\n",
      "[Parallel(n_jobs=1)]: Done  55 tasks      | elapsed:    1.0s\n",
      "[Parallel(n_jobs=1)]: Done  56 tasks      | elapsed:    1.0s\n",
      "[Parallel(n_jobs=1)]: Done  57 tasks      | elapsed:    1.0s\n",
      "[Parallel(n_jobs=1)]: Done  58 tasks      | elapsed:    1.0s\n",
      "[Parallel(n_jobs=1)]: Done  59 tasks      | elapsed:    1.1s\n",
      "[Parallel(n_jobs=1)]: Done  60 tasks      | elapsed:    1.1s\n",
      "[Parallel(n_jobs=1)]: Done  61 tasks      | elapsed:    1.1s\n",
      "[Parallel(n_jobs=1)]: Done  62 tasks      | elapsed:    1.1s\n"
     ]
    },
    {
     "name": "stdout",
     "output_type": "stream",
     "text": [
      "building tree 57 of 75\n",
      "building tree 58 of 75\n",
      "building tree 59 of 75\n",
      "building tree 60 of 75\n",
      "building tree 61 of 75\n",
      "building tree 62 of 75\n",
      "building tree 63 of 75\n",
      "building tree 64 of 75\n",
      "building tree 65 of 75\n",
      "building tree 66 of 75\n",
      "building tree 67 of 75\n"
     ]
    },
    {
     "name": "stderr",
     "output_type": "stream",
     "text": [
      "[Parallel(n_jobs=1)]: Done  63 tasks      | elapsed:    1.1s\n",
      "[Parallel(n_jobs=1)]: Done  64 tasks      | elapsed:    1.2s\n",
      "[Parallel(n_jobs=1)]: Done  65 tasks      | elapsed:    1.2s\n",
      "[Parallel(n_jobs=1)]: Done  66 tasks      | elapsed:    1.2s\n",
      "[Parallel(n_jobs=1)]: Done  67 tasks      | elapsed:    1.2s\n",
      "[Parallel(n_jobs=1)]: Done  68 tasks      | elapsed:    1.2s\n",
      "[Parallel(n_jobs=1)]: Done  69 tasks      | elapsed:    1.3s\n",
      "[Parallel(n_jobs=1)]: Done  70 tasks      | elapsed:    1.3s\n",
      "[Parallel(n_jobs=1)]: Done  71 tasks      | elapsed:    1.3s\n",
      "[Parallel(n_jobs=1)]: Done  72 tasks      | elapsed:    1.3s\n"
     ]
    },
    {
     "name": "stdout",
     "output_type": "stream",
     "text": [
      "building tree 68 of 75\n",
      "building tree 69 of 75\n",
      "building tree 70 of 75\n",
      "building tree 71 of 75\n",
      "building tree 72 of 75\n",
      "building tree 73 of 75\n",
      "building tree 74 of 75\n",
      "building tree 75 of 75\n"
     ]
    },
    {
     "name": "stderr",
     "output_type": "stream",
     "text": [
      "[Parallel(n_jobs=1)]: Done  73 tasks      | elapsed:    1.4s\n",
      "[Parallel(n_jobs=1)]: Done  74 tasks      | elapsed:    1.4s\n",
      "[Parallel(n_jobs=1)]: Done  75 tasks      | elapsed:    1.4s\n",
      "[Parallel(n_jobs=1)]: Done  75 tasks      | elapsed:    1.4s\n",
      "[Parallel(n_jobs=1)]: Done   1 tasks      | elapsed:    0.0s\n",
      "[Parallel(n_jobs=1)]: Done   2 tasks      | elapsed:    0.0s\n",
      "[Parallel(n_jobs=1)]: Done   3 tasks      | elapsed:    0.0s\n",
      "[Parallel(n_jobs=1)]: Done   4 tasks      | elapsed:    0.0s\n",
      "[Parallel(n_jobs=1)]: Done   5 tasks      | elapsed:    0.0s\n",
      "[Parallel(n_jobs=1)]: Done   6 tasks      | elapsed:    0.0s\n",
      "[Parallel(n_jobs=1)]: Done   7 tasks      | elapsed:    0.0s\n",
      "[Parallel(n_jobs=1)]: Done   8 tasks      | elapsed:    0.0s\n",
      "[Parallel(n_jobs=1)]: Done   9 tasks      | elapsed:    0.0s\n",
      "[Parallel(n_jobs=1)]: Done  10 tasks      | elapsed:    0.0s\n",
      "[Parallel(n_jobs=1)]: Done  11 tasks      | elapsed:    0.0s\n",
      "[Parallel(n_jobs=1)]: Done  12 tasks      | elapsed:    0.0s\n",
      "[Parallel(n_jobs=1)]: Done  13 tasks      | elapsed:    0.0s\n",
      "[Parallel(n_jobs=1)]: Done  14 tasks      | elapsed:    0.0s\n",
      "[Parallel(n_jobs=1)]: Done  15 tasks      | elapsed:    0.0s\n",
      "[Parallel(n_jobs=1)]: Done  16 tasks      | elapsed:    0.0s\n",
      "[Parallel(n_jobs=1)]: Done  17 tasks      | elapsed:    0.0s\n",
      "[Parallel(n_jobs=1)]: Done  18 tasks      | elapsed:    0.0s\n",
      "[Parallel(n_jobs=1)]: Done  19 tasks      | elapsed:    0.0s\n",
      "[Parallel(n_jobs=1)]: Done  20 tasks      | elapsed:    0.0s\n",
      "[Parallel(n_jobs=1)]: Done  21 tasks      | elapsed:    0.0s\n",
      "[Parallel(n_jobs=1)]: Done  22 tasks      | elapsed:    0.0s\n",
      "[Parallel(n_jobs=1)]: Done  23 tasks      | elapsed:    0.0s\n",
      "[Parallel(n_jobs=1)]: Done  24 tasks      | elapsed:    0.0s\n",
      "[Parallel(n_jobs=1)]: Done  25 tasks      | elapsed:    0.0s\n",
      "[Parallel(n_jobs=1)]: Done  26 tasks      | elapsed:    0.0s\n",
      "[Parallel(n_jobs=1)]: Done  27 tasks      | elapsed:    0.0s\n",
      "[Parallel(n_jobs=1)]: Done  28 tasks      | elapsed:    0.0s\n",
      "[Parallel(n_jobs=1)]: Done  29 tasks      | elapsed:    0.0s\n",
      "[Parallel(n_jobs=1)]: Done  30 tasks      | elapsed:    0.0s\n",
      "[Parallel(n_jobs=1)]: Done  31 tasks      | elapsed:    0.0s\n",
      "[Parallel(n_jobs=1)]: Done  32 tasks      | elapsed:    0.0s\n",
      "[Parallel(n_jobs=1)]: Done  33 tasks      | elapsed:    0.0s\n",
      "[Parallel(n_jobs=1)]: Done  34 tasks      | elapsed:    0.0s\n",
      "[Parallel(n_jobs=1)]: Done  35 tasks      | elapsed:    0.0s\n",
      "[Parallel(n_jobs=1)]: Done  36 tasks      | elapsed:    0.0s\n",
      "[Parallel(n_jobs=1)]: Done  37 tasks      | elapsed:    0.0s\n",
      "[Parallel(n_jobs=1)]: Done  38 tasks      | elapsed:    0.0s\n",
      "[Parallel(n_jobs=1)]: Done  39 tasks      | elapsed:    0.0s\n",
      "[Parallel(n_jobs=1)]: Done  40 tasks      | elapsed:    0.0s\n",
      "[Parallel(n_jobs=1)]: Done  41 tasks      | elapsed:    0.0s\n",
      "[Parallel(n_jobs=1)]: Done  42 tasks      | elapsed:    0.0s\n",
      "[Parallel(n_jobs=1)]: Done  43 tasks      | elapsed:    0.0s\n",
      "[Parallel(n_jobs=1)]: Done  44 tasks      | elapsed:    0.0s\n",
      "[Parallel(n_jobs=1)]: Done  45 tasks      | elapsed:    0.0s\n",
      "[Parallel(n_jobs=1)]: Done  46 tasks      | elapsed:    0.0s\n",
      "[Parallel(n_jobs=1)]: Done  47 tasks      | elapsed:    0.0s\n",
      "[Parallel(n_jobs=1)]: Done  48 tasks      | elapsed:    0.0s\n",
      "[Parallel(n_jobs=1)]: Done  49 tasks      | elapsed:    0.0s\n",
      "[Parallel(n_jobs=1)]: Done  50 tasks      | elapsed:    0.0s\n",
      "[Parallel(n_jobs=1)]: Done  51 tasks      | elapsed:    0.0s\n",
      "[Parallel(n_jobs=1)]: Done  52 tasks      | elapsed:    0.0s\n",
      "[Parallel(n_jobs=1)]: Done  53 tasks      | elapsed:    0.0s\n",
      "[Parallel(n_jobs=1)]: Done  54 tasks      | elapsed:    0.0s\n",
      "[Parallel(n_jobs=1)]: Done  55 tasks      | elapsed:    0.0s\n",
      "[Parallel(n_jobs=1)]: Done  56 tasks      | elapsed:    0.0s\n",
      "[Parallel(n_jobs=1)]: Done  57 tasks      | elapsed:    0.0s\n",
      "[Parallel(n_jobs=1)]: Done  58 tasks      | elapsed:    0.0s\n",
      "[Parallel(n_jobs=1)]: Done  59 tasks      | elapsed:    0.0s\n",
      "[Parallel(n_jobs=1)]: Done  60 tasks      | elapsed:    0.0s\n",
      "[Parallel(n_jobs=1)]: Done  61 tasks      | elapsed:    0.0s\n",
      "[Parallel(n_jobs=1)]: Done  62 tasks      | elapsed:    0.0s\n",
      "[Parallel(n_jobs=1)]: Done  63 tasks      | elapsed:    0.0s\n",
      "[Parallel(n_jobs=1)]: Done  64 tasks      | elapsed:    0.0s\n",
      "[Parallel(n_jobs=1)]: Done  65 tasks      | elapsed:    0.0s\n",
      "[Parallel(n_jobs=1)]: Done  66 tasks      | elapsed:    0.0s\n",
      "[Parallel(n_jobs=1)]: Done  67 tasks      | elapsed:    0.0s\n",
      "[Parallel(n_jobs=1)]: Done  68 tasks      | elapsed:    0.0s\n",
      "[Parallel(n_jobs=1)]: Done  69 tasks      | elapsed:    0.0s\n",
      "[Parallel(n_jobs=1)]: Done  70 tasks      | elapsed:    0.0s\n",
      "[Parallel(n_jobs=1)]: Done  71 tasks      | elapsed:    0.0s\n",
      "[Parallel(n_jobs=1)]: Done  72 tasks      | elapsed:    0.0s\n",
      "[Parallel(n_jobs=1)]: Done  73 tasks      | elapsed:    0.0s\n",
      "[Parallel(n_jobs=1)]: Done  74 tasks      | elapsed:    0.0s\n",
      "[Parallel(n_jobs=1)]: Done  75 tasks      | elapsed:    0.0s\n",
      "[Parallel(n_jobs=1)]: Done  75 tasks      | elapsed:    0.0s\n",
      "[Parallel(n_jobs=1)]: Done   1 tasks      | elapsed:    0.0s\n"
     ]
    },
    {
     "name": "stdout",
     "output_type": "stream",
     "text": [
      "building tree 1 of 75\n",
      "building tree 2 of 75\n",
      "building tree 3 of 75\n",
      "building tree 4 of 75\n",
      "building tree 5 of 75\n"
     ]
    },
    {
     "name": "stderr",
     "output_type": "stream",
     "text": [
      "[Parallel(n_jobs=1)]: Done   2 tasks      | elapsed:    0.0s\n",
      "[Parallel(n_jobs=1)]: Done   3 tasks      | elapsed:    0.0s\n",
      "[Parallel(n_jobs=1)]: Done   4 tasks      | elapsed:    0.1s\n",
      "[Parallel(n_jobs=1)]: Done   5 tasks      | elapsed:    0.1s\n",
      "[Parallel(n_jobs=1)]: Done   6 tasks      | elapsed:    0.2s\n"
     ]
    },
    {
     "name": "stdout",
     "output_type": "stream",
     "text": [
      "building tree 6 of 75\n",
      "building tree 7 of 75\n",
      "building tree 8 of 75\n",
      "building tree 9 of 75\n",
      "building tree 10 of 75\n"
     ]
    },
    {
     "name": "stderr",
     "output_type": "stream",
     "text": [
      "[Parallel(n_jobs=1)]: Done   7 tasks      | elapsed:    0.2s\n",
      "[Parallel(n_jobs=1)]: Done   8 tasks      | elapsed:    0.3s\n",
      "[Parallel(n_jobs=1)]: Done   9 tasks      | elapsed:    0.3s\n",
      "[Parallel(n_jobs=1)]: Done  10 tasks      | elapsed:    0.4s\n",
      "[Parallel(n_jobs=1)]: Done  11 tasks      | elapsed:    0.4s\n"
     ]
    },
    {
     "name": "stdout",
     "output_type": "stream",
     "text": [
      "building tree 11 of 75\n",
      "building tree 12 of 75\n",
      "building tree 13 of 75\n",
      "building tree 14 of 75\n",
      "building tree 15 of 75\n"
     ]
    },
    {
     "name": "stderr",
     "output_type": "stream",
     "text": [
      "[Parallel(n_jobs=1)]: Done  12 tasks      | elapsed:    0.5s\n",
      "[Parallel(n_jobs=1)]: Done  13 tasks      | elapsed:    0.5s\n",
      "[Parallel(n_jobs=1)]: Done  14 tasks      | elapsed:    0.6s\n",
      "[Parallel(n_jobs=1)]: Done  15 tasks      | elapsed:    0.6s\n",
      "[Parallel(n_jobs=1)]: Done  16 tasks      | elapsed:    0.6s\n"
     ]
    },
    {
     "name": "stdout",
     "output_type": "stream",
     "text": [
      "building tree 16 of 75\n",
      "building tree 17 of 75\n",
      "building tree 18 of 75\n",
      "building tree 19 of 75\n",
      "building tree 20 of 75\n"
     ]
    },
    {
     "name": "stderr",
     "output_type": "stream",
     "text": [
      "[Parallel(n_jobs=1)]: Done  17 tasks      | elapsed:    0.7s\n",
      "[Parallel(n_jobs=1)]: Done  18 tasks      | elapsed:    0.7s\n",
      "[Parallel(n_jobs=1)]: Done  19 tasks      | elapsed:    0.8s\n",
      "[Parallel(n_jobs=1)]: Done  20 tasks      | elapsed:    0.8s\n",
      "[Parallel(n_jobs=1)]: Done  21 tasks      | elapsed:    0.9s\n"
     ]
    },
    {
     "name": "stdout",
     "output_type": "stream",
     "text": [
      "building tree 21 of 75\n",
      "building tree 22 of 75\n",
      "building tree 23 of 75\n",
      "building tree 24 of 75\n",
      "building tree 25 of 75\n"
     ]
    },
    {
     "name": "stderr",
     "output_type": "stream",
     "text": [
      "[Parallel(n_jobs=1)]: Done  22 tasks      | elapsed:    0.9s\n",
      "[Parallel(n_jobs=1)]: Done  23 tasks      | elapsed:    1.0s\n",
      "[Parallel(n_jobs=1)]: Done  24 tasks      | elapsed:    1.0s\n",
      "[Parallel(n_jobs=1)]: Done  25 tasks      | elapsed:    1.1s\n",
      "[Parallel(n_jobs=1)]: Done  26 tasks      | elapsed:    1.1s\n"
     ]
    },
    {
     "name": "stdout",
     "output_type": "stream",
     "text": [
      "building tree 26 of 75\n",
      "building tree 27 of 75\n",
      "building tree 28 of 75\n",
      "building tree 29 of 75\n",
      "building tree 30 of 75\n"
     ]
    },
    {
     "name": "stderr",
     "output_type": "stream",
     "text": [
      "[Parallel(n_jobs=1)]: Done  27 tasks      | elapsed:    1.2s\n",
      "[Parallel(n_jobs=1)]: Done  28 tasks      | elapsed:    1.2s\n",
      "[Parallel(n_jobs=1)]: Done  29 tasks      | elapsed:    1.3s\n",
      "[Parallel(n_jobs=1)]: Done  30 tasks      | elapsed:    1.3s\n",
      "[Parallel(n_jobs=1)]: Done  31 tasks      | elapsed:    1.4s\n"
     ]
    },
    {
     "name": "stdout",
     "output_type": "stream",
     "text": [
      "building tree 31 of 75\n",
      "building tree 32 of 75\n",
      "building tree 33 of 75\n",
      "building tree 34 of 75\n",
      "building tree 35 of 75\n"
     ]
    },
    {
     "name": "stderr",
     "output_type": "stream",
     "text": [
      "[Parallel(n_jobs=1)]: Done  32 tasks      | elapsed:    1.4s\n",
      "[Parallel(n_jobs=1)]: Done  33 tasks      | elapsed:    1.4s\n",
      "[Parallel(n_jobs=1)]: Done  34 tasks      | elapsed:    1.5s\n",
      "[Parallel(n_jobs=1)]: Done  35 tasks      | elapsed:    1.5s\n",
      "[Parallel(n_jobs=1)]: Done  36 tasks      | elapsed:    1.6s\n"
     ]
    },
    {
     "name": "stdout",
     "output_type": "stream",
     "text": [
      "building tree 36 of 75\n",
      "building tree 37 of 75\n",
      "building tree 38 of 75\n",
      "building tree 39 of 75\n",
      "building tree 40 of 75\n"
     ]
    },
    {
     "name": "stderr",
     "output_type": "stream",
     "text": [
      "[Parallel(n_jobs=1)]: Done  37 tasks      | elapsed:    1.6s\n",
      "[Parallel(n_jobs=1)]: Done  38 tasks      | elapsed:    1.7s\n",
      "[Parallel(n_jobs=1)]: Done  39 tasks      | elapsed:    1.7s\n",
      "[Parallel(n_jobs=1)]: Done  40 tasks      | elapsed:    1.8s\n",
      "[Parallel(n_jobs=1)]: Done  41 tasks      | elapsed:    1.8s\n"
     ]
    },
    {
     "name": "stdout",
     "output_type": "stream",
     "text": [
      "building tree 41 of 75\n",
      "building tree 42 of 75\n",
      "building tree 43 of 75\n",
      "building tree 44 of 75\n",
      "building tree 45 of 75\n"
     ]
    },
    {
     "name": "stderr",
     "output_type": "stream",
     "text": [
      "[Parallel(n_jobs=1)]: Done  42 tasks      | elapsed:    1.8s\n",
      "[Parallel(n_jobs=1)]: Done  43 tasks      | elapsed:    1.9s\n",
      "[Parallel(n_jobs=1)]: Done  44 tasks      | elapsed:    1.9s\n",
      "[Parallel(n_jobs=1)]: Done  45 tasks      | elapsed:    2.0s\n",
      "[Parallel(n_jobs=1)]: Done  46 tasks      | elapsed:    2.0s\n"
     ]
    },
    {
     "name": "stdout",
     "output_type": "stream",
     "text": [
      "building tree 46 of 75\n",
      "building tree 47 of 75\n",
      "building tree 48 of 75\n",
      "building tree 49 of 75\n",
      "building tree 50 of 75\n"
     ]
    },
    {
     "name": "stderr",
     "output_type": "stream",
     "text": [
      "[Parallel(n_jobs=1)]: Done  47 tasks      | elapsed:    2.1s\n",
      "[Parallel(n_jobs=1)]: Done  48 tasks      | elapsed:    2.1s\n",
      "[Parallel(n_jobs=1)]: Done  49 tasks      | elapsed:    2.2s\n",
      "[Parallel(n_jobs=1)]: Done  50 tasks      | elapsed:    2.2s\n"
     ]
    },
    {
     "name": "stdout",
     "output_type": "stream",
     "text": [
      "building tree 51 of 75\n",
      "building tree 52 of 75\n",
      "building tree 53 of 75\n",
      "building tree 54 of 75\n"
     ]
    },
    {
     "name": "stderr",
     "output_type": "stream",
     "text": [
      "[Parallel(n_jobs=1)]: Done  51 tasks      | elapsed:    2.3s\n",
      "[Parallel(n_jobs=1)]: Done  52 tasks      | elapsed:    2.3s\n",
      "[Parallel(n_jobs=1)]: Done  53 tasks      | elapsed:    2.4s\n",
      "[Parallel(n_jobs=1)]: Done  54 tasks      | elapsed:    2.4s\n",
      "[Parallel(n_jobs=1)]: Done  55 tasks      | elapsed:    2.5s\n"
     ]
    },
    {
     "name": "stdout",
     "output_type": "stream",
     "text": [
      "building tree 55 of 75\n",
      "building tree 56 of 75\n",
      "building tree 57 of 75\n",
      "building tree 58 of 75\n",
      "building tree 59 of 75\n"
     ]
    },
    {
     "name": "stderr",
     "output_type": "stream",
     "text": [
      "[Parallel(n_jobs=1)]: Done  56 tasks      | elapsed:    2.5s\n",
      "[Parallel(n_jobs=1)]: Done  57 tasks      | elapsed:    2.6s\n",
      "[Parallel(n_jobs=1)]: Done  58 tasks      | elapsed:    2.6s\n",
      "[Parallel(n_jobs=1)]: Done  59 tasks      | elapsed:    2.7s\n",
      "[Parallel(n_jobs=1)]: Done  60 tasks      | elapsed:    2.7s\n"
     ]
    },
    {
     "name": "stdout",
     "output_type": "stream",
     "text": [
      "building tree 60 of 75\n",
      "building tree 61 of 75\n",
      "building tree 62 of 75\n",
      "building tree 63 of 75\n",
      "building tree 64 of 75\n"
     ]
    },
    {
     "name": "stderr",
     "output_type": "stream",
     "text": [
      "[Parallel(n_jobs=1)]: Done  61 tasks      | elapsed:    2.8s\n",
      "[Parallel(n_jobs=1)]: Done  62 tasks      | elapsed:    2.8s\n",
      "[Parallel(n_jobs=1)]: Done  63 tasks      | elapsed:    2.9s\n",
      "[Parallel(n_jobs=1)]: Done  64 tasks      | elapsed:    2.9s\n",
      "[Parallel(n_jobs=1)]: Done  65 tasks      | elapsed:    3.0s\n"
     ]
    },
    {
     "name": "stdout",
     "output_type": "stream",
     "text": [
      "building tree 65 of 75\n",
      "building tree 66 of 75\n",
      "building tree 67 of 75\n",
      "building tree 68 of 75\n",
      "building tree 69 of 75\n"
     ]
    },
    {
     "name": "stderr",
     "output_type": "stream",
     "text": [
      "[Parallel(n_jobs=1)]: Done  66 tasks      | elapsed:    3.0s\n",
      "[Parallel(n_jobs=1)]: Done  67 tasks      | elapsed:    3.1s\n",
      "[Parallel(n_jobs=1)]: Done  68 tasks      | elapsed:    3.1s\n",
      "[Parallel(n_jobs=1)]: Done  69 tasks      | elapsed:    3.1s\n",
      "[Parallel(n_jobs=1)]: Done  70 tasks      | elapsed:    3.2s\n"
     ]
    },
    {
     "name": "stdout",
     "output_type": "stream",
     "text": [
      "building tree 70 of 75\n",
      "building tree 71 of 75\n",
      "building tree 72 of 75\n",
      "building tree 73 of 75\n",
      "building tree 74 of 75\n"
     ]
    },
    {
     "name": "stderr",
     "output_type": "stream",
     "text": [
      "[Parallel(n_jobs=1)]: Done  71 tasks      | elapsed:    3.2s\n",
      "[Parallel(n_jobs=1)]: Done  72 tasks      | elapsed:    3.3s\n",
      "[Parallel(n_jobs=1)]: Done  73 tasks      | elapsed:    3.3s\n",
      "[Parallel(n_jobs=1)]: Done  74 tasks      | elapsed:    3.4s\n",
      "[Parallel(n_jobs=1)]: Done  75 tasks      | elapsed:    3.4s\n",
      "[Parallel(n_jobs=1)]: Done  75 tasks      | elapsed:    3.4s\n",
      "[Parallel(n_jobs=1)]: Done   1 tasks      | elapsed:    0.0s\n",
      "[Parallel(n_jobs=1)]: Done   2 tasks      | elapsed:    0.0s\n",
      "[Parallel(n_jobs=1)]: Done   3 tasks      | elapsed:    0.0s\n",
      "[Parallel(n_jobs=1)]: Done   4 tasks      | elapsed:    0.0s\n",
      "[Parallel(n_jobs=1)]: Done   5 tasks      | elapsed:    0.0s\n",
      "[Parallel(n_jobs=1)]: Done   6 tasks      | elapsed:    0.0s\n",
      "[Parallel(n_jobs=1)]: Done   7 tasks      | elapsed:    0.0s\n",
      "[Parallel(n_jobs=1)]: Done   8 tasks      | elapsed:    0.0s\n",
      "[Parallel(n_jobs=1)]: Done   9 tasks      | elapsed:    0.0s\n",
      "[Parallel(n_jobs=1)]: Done  10 tasks      | elapsed:    0.0s\n",
      "[Parallel(n_jobs=1)]: Done  11 tasks      | elapsed:    0.0s\n",
      "[Parallel(n_jobs=1)]: Done  12 tasks      | elapsed:    0.0s\n",
      "[Parallel(n_jobs=1)]: Done  13 tasks      | elapsed:    0.0s\n",
      "[Parallel(n_jobs=1)]: Done  14 tasks      | elapsed:    0.0s\n",
      "[Parallel(n_jobs=1)]: Done  15 tasks      | elapsed:    0.0s\n",
      "[Parallel(n_jobs=1)]: Done  16 tasks      | elapsed:    0.0s\n",
      "[Parallel(n_jobs=1)]: Done  17 tasks      | elapsed:    0.0s\n",
      "[Parallel(n_jobs=1)]: Done  18 tasks      | elapsed:    0.0s\n",
      "[Parallel(n_jobs=1)]: Done  19 tasks      | elapsed:    0.0s\n",
      "[Parallel(n_jobs=1)]: Done  20 tasks      | elapsed:    0.0s\n",
      "[Parallel(n_jobs=1)]: Done  21 tasks      | elapsed:    0.0s\n",
      "[Parallel(n_jobs=1)]: Done  22 tasks      | elapsed:    0.0s\n",
      "[Parallel(n_jobs=1)]: Done  23 tasks      | elapsed:    0.0s\n",
      "[Parallel(n_jobs=1)]: Done  24 tasks      | elapsed:    0.0s\n",
      "[Parallel(n_jobs=1)]: Done  25 tasks      | elapsed:    0.0s\n",
      "[Parallel(n_jobs=1)]: Done  26 tasks      | elapsed:    0.0s\n",
      "[Parallel(n_jobs=1)]: Done  27 tasks      | elapsed:    0.0s\n",
      "[Parallel(n_jobs=1)]: Done  28 tasks      | elapsed:    0.0s\n",
      "[Parallel(n_jobs=1)]: Done  29 tasks      | elapsed:    0.0s\n",
      "[Parallel(n_jobs=1)]: Done  30 tasks      | elapsed:    0.0s\n",
      "[Parallel(n_jobs=1)]: Done  31 tasks      | elapsed:    0.0s\n",
      "[Parallel(n_jobs=1)]: Done  32 tasks      | elapsed:    0.0s\n",
      "[Parallel(n_jobs=1)]: Done  33 tasks      | elapsed:    0.0s\n",
      "[Parallel(n_jobs=1)]: Done  34 tasks      | elapsed:    0.0s\n",
      "[Parallel(n_jobs=1)]: Done  35 tasks      | elapsed:    0.0s\n",
      "[Parallel(n_jobs=1)]: Done  36 tasks      | elapsed:    0.0s\n",
      "[Parallel(n_jobs=1)]: Done  37 tasks      | elapsed:    0.0s\n",
      "[Parallel(n_jobs=1)]: Done  38 tasks      | elapsed:    0.0s\n",
      "[Parallel(n_jobs=1)]: Done  39 tasks      | elapsed:    0.0s\n",
      "[Parallel(n_jobs=1)]: Done  40 tasks      | elapsed:    0.0s\n",
      "[Parallel(n_jobs=1)]: Done  41 tasks      | elapsed:    0.0s\n",
      "[Parallel(n_jobs=1)]: Done  42 tasks      | elapsed:    0.0s\n",
      "[Parallel(n_jobs=1)]: Done  43 tasks      | elapsed:    0.0s\n",
      "[Parallel(n_jobs=1)]: Done  44 tasks      | elapsed:    0.0s\n",
      "[Parallel(n_jobs=1)]: Done  45 tasks      | elapsed:    0.0s\n",
      "[Parallel(n_jobs=1)]: Done  46 tasks      | elapsed:    0.0s\n",
      "[Parallel(n_jobs=1)]: Done  47 tasks      | elapsed:    0.0s\n",
      "[Parallel(n_jobs=1)]: Done  48 tasks      | elapsed:    0.0s\n",
      "[Parallel(n_jobs=1)]: Done  49 tasks      | elapsed:    0.0s\n",
      "[Parallel(n_jobs=1)]: Done  50 tasks      | elapsed:    0.0s\n",
      "[Parallel(n_jobs=1)]: Done  51 tasks      | elapsed:    0.0s\n",
      "[Parallel(n_jobs=1)]: Done  52 tasks      | elapsed:    0.0s\n",
      "[Parallel(n_jobs=1)]: Done  53 tasks      | elapsed:    0.0s\n",
      "[Parallel(n_jobs=1)]: Done  54 tasks      | elapsed:    0.0s\n",
      "[Parallel(n_jobs=1)]: Done  55 tasks      | elapsed:    0.0s\n",
      "[Parallel(n_jobs=1)]: Done  56 tasks      | elapsed:    0.0s\n",
      "[Parallel(n_jobs=1)]: Done  57 tasks      | elapsed:    0.0s\n",
      "[Parallel(n_jobs=1)]: Done  58 tasks      | elapsed:    0.0s\n",
      "[Parallel(n_jobs=1)]: Done  59 tasks      | elapsed:    0.0s\n",
      "[Parallel(n_jobs=1)]: Done  60 tasks      | elapsed:    0.0s\n",
      "[Parallel(n_jobs=1)]: Done  61 tasks      | elapsed:    0.0s\n",
      "[Parallel(n_jobs=1)]: Done  62 tasks      | elapsed:    0.0s\n",
      "[Parallel(n_jobs=1)]: Done  63 tasks      | elapsed:    0.0s\n",
      "[Parallel(n_jobs=1)]: Done  64 tasks      | elapsed:    0.0s\n",
      "[Parallel(n_jobs=1)]: Done  65 tasks      | elapsed:    0.0s\n",
      "[Parallel(n_jobs=1)]: Done  66 tasks      | elapsed:    0.0s\n",
      "[Parallel(n_jobs=1)]: Done  67 tasks      | elapsed:    0.0s\n",
      "[Parallel(n_jobs=1)]: Done  68 tasks      | elapsed:    0.0s\n",
      "[Parallel(n_jobs=1)]: Done  69 tasks      | elapsed:    0.0s\n",
      "[Parallel(n_jobs=1)]: Done  70 tasks      | elapsed:    0.0s\n",
      "[Parallel(n_jobs=1)]: Done  71 tasks      | elapsed:    0.0s\n",
      "[Parallel(n_jobs=1)]: Done  72 tasks      | elapsed:    0.0s\n",
      "[Parallel(n_jobs=1)]: Done  73 tasks      | elapsed:    0.0s\n",
      "[Parallel(n_jobs=1)]: Done  74 tasks      | elapsed:    0.0s\n",
      "[Parallel(n_jobs=1)]: Done  75 tasks      | elapsed:    0.0s\n",
      "[Parallel(n_jobs=1)]: Done  75 tasks      | elapsed:    0.0s\n"
     ]
    },
    {
     "name": "stdout",
     "output_type": "stream",
     "text": [
      "building tree 75 of 75\n",
      "building tree 1 of 75\n",
      "building tree 2 of 75\n"
     ]
    },
    {
     "name": "stderr",
     "output_type": "stream",
     "text": [
      "[Parallel(n_jobs=1)]: Done   1 tasks      | elapsed:    0.0s\n",
      "[Parallel(n_jobs=1)]: Done   2 tasks      | elapsed:    0.0s\n",
      "[Parallel(n_jobs=1)]: Done   3 tasks      | elapsed:    0.1s\n"
     ]
    },
    {
     "name": "stdout",
     "output_type": "stream",
     "text": [
      "building tree 3 of 75\n",
      "building tree 4 of 75\n",
      "building tree 5 of 75\n"
     ]
    },
    {
     "name": "stderr",
     "output_type": "stream",
     "text": [
      "[Parallel(n_jobs=1)]: Done   4 tasks      | elapsed:    0.2s\n",
      "[Parallel(n_jobs=1)]: Done   5 tasks      | elapsed:    0.3s\n",
      "[Parallel(n_jobs=1)]: Done   6 tasks      | elapsed:    0.3s\n"
     ]
    },
    {
     "name": "stdout",
     "output_type": "stream",
     "text": [
      "building tree 6 of 75\n",
      "building tree 7 of 75\n",
      "building tree 8 of 75\n",
      "building tree 9 of 75\n"
     ]
    },
    {
     "name": "stderr",
     "output_type": "stream",
     "text": [
      "[Parallel(n_jobs=1)]: Done   7 tasks      | elapsed:    0.4s\n",
      "[Parallel(n_jobs=1)]: Done   8 tasks      | elapsed:    0.5s\n",
      "[Parallel(n_jobs=1)]: Done   9 tasks      | elapsed:    0.5s\n"
     ]
    },
    {
     "name": "stdout",
     "output_type": "stream",
     "text": [
      "building tree 10 of 75\n",
      "building tree 11 of 75\n",
      "building tree 12 of 75\n",
      "building tree 13 of 75\n"
     ]
    },
    {
     "name": "stderr",
     "output_type": "stream",
     "text": [
      "[Parallel(n_jobs=1)]: Done  10 tasks      | elapsed:    0.6s\n",
      "[Parallel(n_jobs=1)]: Done  11 tasks      | elapsed:    0.7s\n",
      "[Parallel(n_jobs=1)]: Done  12 tasks      | elapsed:    0.7s\n",
      "[Parallel(n_jobs=1)]: Done  13 tasks      | elapsed:    0.8s\n",
      "[Parallel(n_jobs=1)]: Done  14 tasks      | elapsed:    0.9s\n",
      "[Parallel(n_jobs=1)]: Done  15 tasks      | elapsed:    0.9s\n",
      "[Parallel(n_jobs=1)]: Done  16 tasks      | elapsed:    1.0s\n"
     ]
    },
    {
     "name": "stdout",
     "output_type": "stream",
     "text": [
      "building tree 14 of 75\n",
      "building tree 15 of 75\n",
      "building tree 16 of 75\n",
      "building tree 17 of 75\n"
     ]
    },
    {
     "name": "stderr",
     "output_type": "stream",
     "text": [
      "[Parallel(n_jobs=1)]: Done  17 tasks      | elapsed:    1.0s\n",
      "[Parallel(n_jobs=1)]: Done  18 tasks      | elapsed:    1.1s\n",
      "[Parallel(n_jobs=1)]: Done  19 tasks      | elapsed:    1.2s\n",
      "[Parallel(n_jobs=1)]: Done  20 tasks      | elapsed:    1.2s\n"
     ]
    },
    {
     "name": "stdout",
     "output_type": "stream",
     "text": [
      "building tree 18 of 75\n",
      "building tree 19 of 75\n",
      "building tree 20 of 75\n",
      "building tree 21 of 75\n"
     ]
    },
    {
     "name": "stderr",
     "output_type": "stream",
     "text": [
      "[Parallel(n_jobs=1)]: Done  21 tasks      | elapsed:    1.3s\n",
      "[Parallel(n_jobs=1)]: Done  22 tasks      | elapsed:    1.4s\n",
      "[Parallel(n_jobs=1)]: Done  23 tasks      | elapsed:    1.4s\n",
      "[Parallel(n_jobs=1)]: Done  24 tasks      | elapsed:    1.5s\n"
     ]
    },
    {
     "name": "stdout",
     "output_type": "stream",
     "text": [
      "building tree 22 of 75\n",
      "building tree 23 of 75\n",
      "building tree 24 of 75\n",
      "building tree 25 of 75\n"
     ]
    },
    {
     "name": "stderr",
     "output_type": "stream",
     "text": [
      "[Parallel(n_jobs=1)]: Done  25 tasks      | elapsed:    1.5s\n",
      "[Parallel(n_jobs=1)]: Done  26 tasks      | elapsed:    1.6s\n",
      "[Parallel(n_jobs=1)]: Done  27 tasks      | elapsed:    1.7s\n",
      "[Parallel(n_jobs=1)]: Done  28 tasks      | elapsed:    1.7s\n"
     ]
    },
    {
     "name": "stdout",
     "output_type": "stream",
     "text": [
      "building tree 26 of 75\n",
      "building tree 27 of 75\n",
      "building tree 28 of 75\n",
      "building tree 29 of 75\n"
     ]
    },
    {
     "name": "stderr",
     "output_type": "stream",
     "text": [
      "[Parallel(n_jobs=1)]: Done  29 tasks      | elapsed:    1.8s\n",
      "[Parallel(n_jobs=1)]: Done  30 tasks      | elapsed:    1.9s\n",
      "[Parallel(n_jobs=1)]: Done  31 tasks      | elapsed:    1.9s\n",
      "[Parallel(n_jobs=1)]: Done  32 tasks      | elapsed:    2.0s\n"
     ]
    },
    {
     "name": "stdout",
     "output_type": "stream",
     "text": [
      "building tree 30 of 75\n",
      "building tree 31 of 75\n",
      "building tree 32 of 75\n",
      "building tree 33 of 75\n"
     ]
    },
    {
     "name": "stderr",
     "output_type": "stream",
     "text": [
      "[Parallel(n_jobs=1)]: Done  33 tasks      | elapsed:    2.0s\n",
      "[Parallel(n_jobs=1)]: Done  34 tasks      | elapsed:    2.1s\n",
      "[Parallel(n_jobs=1)]: Done  35 tasks      | elapsed:    2.2s\n",
      "[Parallel(n_jobs=1)]: Done  36 tasks      | elapsed:    2.2s\n"
     ]
    },
    {
     "name": "stdout",
     "output_type": "stream",
     "text": [
      "building tree 34 of 75\n",
      "building tree 35 of 75\n",
      "building tree 36 of 75\n",
      "building tree 37 of 75\n"
     ]
    },
    {
     "name": "stderr",
     "output_type": "stream",
     "text": [
      "[Parallel(n_jobs=1)]: Done  37 tasks      | elapsed:    2.3s\n",
      "[Parallel(n_jobs=1)]: Done  38 tasks      | elapsed:    2.4s\n",
      "[Parallel(n_jobs=1)]: Done  39 tasks      | elapsed:    2.4s\n",
      "[Parallel(n_jobs=1)]: Done  40 tasks      | elapsed:    2.5s\n"
     ]
    },
    {
     "name": "stdout",
     "output_type": "stream",
     "text": [
      "building tree 38 of 75\n",
      "building tree 39 of 75\n",
      "building tree 40 of 75\n",
      "building tree 41 of 75\n"
     ]
    },
    {
     "name": "stderr",
     "output_type": "stream",
     "text": [
      "[Parallel(n_jobs=1)]: Done  41 tasks      | elapsed:    2.5s\n",
      "[Parallel(n_jobs=1)]: Done  42 tasks      | elapsed:    2.6s\n",
      "[Parallel(n_jobs=1)]: Done  43 tasks      | elapsed:    2.7s\n",
      "[Parallel(n_jobs=1)]: Done  44 tasks      | elapsed:    2.7s\n"
     ]
    },
    {
     "name": "stdout",
     "output_type": "stream",
     "text": [
      "building tree 42 of 75\n",
      "building tree 43 of 75\n",
      "building tree 44 of 75\n",
      "building tree 45 of 75\n"
     ]
    },
    {
     "name": "stderr",
     "output_type": "stream",
     "text": [
      "[Parallel(n_jobs=1)]: Done  45 tasks      | elapsed:    2.8s\n",
      "[Parallel(n_jobs=1)]: Done  46 tasks      | elapsed:    2.9s\n",
      "[Parallel(n_jobs=1)]: Done  47 tasks      | elapsed:    2.9s\n",
      "[Parallel(n_jobs=1)]: Done  48 tasks      | elapsed:    3.0s\n"
     ]
    },
    {
     "name": "stdout",
     "output_type": "stream",
     "text": [
      "building tree 46 of 75\n",
      "building tree 47 of 75\n",
      "building tree 48 of 75\n",
      "building tree 49 of 75\n"
     ]
    },
    {
     "name": "stderr",
     "output_type": "stream",
     "text": [
      "[Parallel(n_jobs=1)]: Done  49 tasks      | elapsed:    3.1s\n",
      "[Parallel(n_jobs=1)]: Done  50 tasks      | elapsed:    3.2s\n",
      "[Parallel(n_jobs=1)]: Done  51 tasks      | elapsed:    3.2s\n",
      "[Parallel(n_jobs=1)]: Done  52 tasks      | elapsed:    3.3s\n"
     ]
    },
    {
     "name": "stdout",
     "output_type": "stream",
     "text": [
      "building tree 50 of 75\n",
      "building tree 51 of 75\n",
      "building tree 52 of 75\n",
      "building tree 53 of 75\n"
     ]
    },
    {
     "name": "stderr",
     "output_type": "stream",
     "text": [
      "[Parallel(n_jobs=1)]: Done  53 tasks      | elapsed:    3.3s\n",
      "[Parallel(n_jobs=1)]: Done  54 tasks      | elapsed:    3.4s\n",
      "[Parallel(n_jobs=1)]: Done  55 tasks      | elapsed:    3.5s\n",
      "[Parallel(n_jobs=1)]: Done  56 tasks      | elapsed:    3.5s\n"
     ]
    },
    {
     "name": "stdout",
     "output_type": "stream",
     "text": [
      "building tree 54 of 75\n",
      "building tree 55 of 75\n",
      "building tree 56 of 75\n",
      "building tree 57 of 75\n"
     ]
    },
    {
     "name": "stderr",
     "output_type": "stream",
     "text": [
      "[Parallel(n_jobs=1)]: Done  57 tasks      | elapsed:    3.6s\n",
      "[Parallel(n_jobs=1)]: Done  58 tasks      | elapsed:    3.6s\n",
      "[Parallel(n_jobs=1)]: Done  59 tasks      | elapsed:    3.7s\n",
      "[Parallel(n_jobs=1)]: Done  60 tasks      | elapsed:    3.8s\n"
     ]
    },
    {
     "name": "stdout",
     "output_type": "stream",
     "text": [
      "building tree 58 of 75\n",
      "building tree 59 of 75\n",
      "building tree 60 of 75\n",
      "building tree 61 of 75\n"
     ]
    },
    {
     "name": "stderr",
     "output_type": "stream",
     "text": [
      "[Parallel(n_jobs=1)]: Done  61 tasks      | elapsed:    3.8s\n",
      "[Parallel(n_jobs=1)]: Done  62 tasks      | elapsed:    3.9s\n",
      "[Parallel(n_jobs=1)]: Done  63 tasks      | elapsed:    3.9s\n",
      "[Parallel(n_jobs=1)]: Done  64 tasks      | elapsed:    4.0s\n"
     ]
    },
    {
     "name": "stdout",
     "output_type": "stream",
     "text": [
      "building tree 62 of 75\n",
      "building tree 63 of 75\n",
      "building tree 64 of 75\n",
      "building tree 65 of 75\n"
     ]
    },
    {
     "name": "stderr",
     "output_type": "stream",
     "text": [
      "[Parallel(n_jobs=1)]: Done  65 tasks      | elapsed:    4.1s\n",
      "[Parallel(n_jobs=1)]: Done  66 tasks      | elapsed:    4.1s\n",
      "[Parallel(n_jobs=1)]: Done  67 tasks      | elapsed:    4.2s\n",
      "[Parallel(n_jobs=1)]: Done  68 tasks      | elapsed:    4.2s\n"
     ]
    },
    {
     "name": "stdout",
     "output_type": "stream",
     "text": [
      "building tree 66 of 75\n",
      "building tree 67 of 75\n",
      "building tree 68 of 75\n",
      "building tree 69 of 75\n"
     ]
    },
    {
     "name": "stderr",
     "output_type": "stream",
     "text": [
      "[Parallel(n_jobs=1)]: Done  69 tasks      | elapsed:    4.3s\n",
      "[Parallel(n_jobs=1)]: Done  70 tasks      | elapsed:    4.4s\n",
      "[Parallel(n_jobs=1)]: Done  71 tasks      | elapsed:    4.4s\n",
      "[Parallel(n_jobs=1)]: Done  72 tasks      | elapsed:    4.5s\n"
     ]
    },
    {
     "name": "stdout",
     "output_type": "stream",
     "text": [
      "building tree 70 of 75\n",
      "building tree 71 of 75\n",
      "building tree 72 of 75\n",
      "building tree 73 of 75\n"
     ]
    },
    {
     "name": "stderr",
     "output_type": "stream",
     "text": [
      "[Parallel(n_jobs=1)]: Done  73 tasks      | elapsed:    4.5s\n",
      "[Parallel(n_jobs=1)]: Done  74 tasks      | elapsed:    4.6s\n",
      "[Parallel(n_jobs=1)]: Done  75 tasks      | elapsed:    4.7s\n",
      "[Parallel(n_jobs=1)]: Done  75 tasks      | elapsed:    4.7s\n",
      "[Parallel(n_jobs=1)]: Done   1 tasks      | elapsed:    0.0s\n",
      "[Parallel(n_jobs=1)]: Done   2 tasks      | elapsed:    0.0s\n",
      "[Parallel(n_jobs=1)]: Done   3 tasks      | elapsed:    0.0s\n",
      "[Parallel(n_jobs=1)]: Done   4 tasks      | elapsed:    0.0s\n",
      "[Parallel(n_jobs=1)]: Done   5 tasks      | elapsed:    0.0s\n",
      "[Parallel(n_jobs=1)]: Done   6 tasks      | elapsed:    0.0s\n",
      "[Parallel(n_jobs=1)]: Done   7 tasks      | elapsed:    0.0s\n",
      "[Parallel(n_jobs=1)]: Done   8 tasks      | elapsed:    0.0s\n",
      "[Parallel(n_jobs=1)]: Done   9 tasks      | elapsed:    0.0s\n",
      "[Parallel(n_jobs=1)]: Done  10 tasks      | elapsed:    0.0s\n",
      "[Parallel(n_jobs=1)]: Done  11 tasks      | elapsed:    0.0s\n",
      "[Parallel(n_jobs=1)]: Done  12 tasks      | elapsed:    0.0s\n",
      "[Parallel(n_jobs=1)]: Done  13 tasks      | elapsed:    0.0s\n",
      "[Parallel(n_jobs=1)]: Done  14 tasks      | elapsed:    0.0s\n",
      "[Parallel(n_jobs=1)]: Done  15 tasks      | elapsed:    0.0s\n",
      "[Parallel(n_jobs=1)]: Done  16 tasks      | elapsed:    0.0s\n",
      "[Parallel(n_jobs=1)]: Done  17 tasks      | elapsed:    0.0s\n",
      "[Parallel(n_jobs=1)]: Done  18 tasks      | elapsed:    0.0s\n",
      "[Parallel(n_jobs=1)]: Done  19 tasks      | elapsed:    0.0s\n",
      "[Parallel(n_jobs=1)]: Done  20 tasks      | elapsed:    0.0s\n",
      "[Parallel(n_jobs=1)]: Done  21 tasks      | elapsed:    0.0s\n",
      "[Parallel(n_jobs=1)]: Done  22 tasks      | elapsed:    0.0s\n",
      "[Parallel(n_jobs=1)]: Done  23 tasks      | elapsed:    0.0s\n",
      "[Parallel(n_jobs=1)]: Done  24 tasks      | elapsed:    0.0s\n",
      "[Parallel(n_jobs=1)]: Done  25 tasks      | elapsed:    0.0s\n",
      "[Parallel(n_jobs=1)]: Done  26 tasks      | elapsed:    0.0s\n",
      "[Parallel(n_jobs=1)]: Done  27 tasks      | elapsed:    0.0s\n",
      "[Parallel(n_jobs=1)]: Done  28 tasks      | elapsed:    0.0s\n",
      "[Parallel(n_jobs=1)]: Done  29 tasks      | elapsed:    0.0s\n",
      "[Parallel(n_jobs=1)]: Done  30 tasks      | elapsed:    0.0s\n",
      "[Parallel(n_jobs=1)]: Done  31 tasks      | elapsed:    0.0s\n",
      "[Parallel(n_jobs=1)]: Done  32 tasks      | elapsed:    0.0s\n",
      "[Parallel(n_jobs=1)]: Done  33 tasks      | elapsed:    0.0s\n",
      "[Parallel(n_jobs=1)]: Done  34 tasks      | elapsed:    0.0s\n",
      "[Parallel(n_jobs=1)]: Done  35 tasks      | elapsed:    0.0s\n",
      "[Parallel(n_jobs=1)]: Done  36 tasks      | elapsed:    0.0s\n",
      "[Parallel(n_jobs=1)]: Done  37 tasks      | elapsed:    0.0s\n",
      "[Parallel(n_jobs=1)]: Done  38 tasks      | elapsed:    0.0s\n",
      "[Parallel(n_jobs=1)]: Done  39 tasks      | elapsed:    0.0s\n",
      "[Parallel(n_jobs=1)]: Done  40 tasks      | elapsed:    0.0s\n",
      "[Parallel(n_jobs=1)]: Done  41 tasks      | elapsed:    0.0s\n",
      "[Parallel(n_jobs=1)]: Done  42 tasks      | elapsed:    0.0s\n",
      "[Parallel(n_jobs=1)]: Done  43 tasks      | elapsed:    0.0s\n",
      "[Parallel(n_jobs=1)]: Done  44 tasks      | elapsed:    0.0s\n",
      "[Parallel(n_jobs=1)]: Done  45 tasks      | elapsed:    0.0s\n",
      "[Parallel(n_jobs=1)]: Done  46 tasks      | elapsed:    0.0s\n",
      "[Parallel(n_jobs=1)]: Done  47 tasks      | elapsed:    0.0s\n",
      "[Parallel(n_jobs=1)]: Done  48 tasks      | elapsed:    0.0s\n",
      "[Parallel(n_jobs=1)]: Done  49 tasks      | elapsed:    0.0s\n",
      "[Parallel(n_jobs=1)]: Done  50 tasks      | elapsed:    0.0s\n",
      "[Parallel(n_jobs=1)]: Done  51 tasks      | elapsed:    0.0s\n",
      "[Parallel(n_jobs=1)]: Done  52 tasks      | elapsed:    0.0s\n",
      "[Parallel(n_jobs=1)]: Done  53 tasks      | elapsed:    0.0s\n",
      "[Parallel(n_jobs=1)]: Done  54 tasks      | elapsed:    0.0s\n",
      "[Parallel(n_jobs=1)]: Done  55 tasks      | elapsed:    0.0s\n",
      "[Parallel(n_jobs=1)]: Done  56 tasks      | elapsed:    0.0s\n",
      "[Parallel(n_jobs=1)]: Done  57 tasks      | elapsed:    0.0s\n",
      "[Parallel(n_jobs=1)]: Done  58 tasks      | elapsed:    0.0s\n",
      "[Parallel(n_jobs=1)]: Done  59 tasks      | elapsed:    0.0s\n",
      "[Parallel(n_jobs=1)]: Done  60 tasks      | elapsed:    0.0s\n",
      "[Parallel(n_jobs=1)]: Done  61 tasks      | elapsed:    0.0s\n",
      "[Parallel(n_jobs=1)]: Done  62 tasks      | elapsed:    0.0s\n",
      "[Parallel(n_jobs=1)]: Done  63 tasks      | elapsed:    0.0s\n",
      "[Parallel(n_jobs=1)]: Done  64 tasks      | elapsed:    0.0s\n",
      "[Parallel(n_jobs=1)]: Done  65 tasks      | elapsed:    0.0s\n",
      "[Parallel(n_jobs=1)]: Done  66 tasks      | elapsed:    0.0s\n",
      "[Parallel(n_jobs=1)]: Done  67 tasks      | elapsed:    0.0s\n",
      "[Parallel(n_jobs=1)]: Done  68 tasks      | elapsed:    0.0s\n",
      "[Parallel(n_jobs=1)]: Done  69 tasks      | elapsed:    0.0s\n",
      "[Parallel(n_jobs=1)]: Done  70 tasks      | elapsed:    0.0s\n",
      "[Parallel(n_jobs=1)]: Done  71 tasks      | elapsed:    0.0s\n",
      "[Parallel(n_jobs=1)]: Done  72 tasks      | elapsed:    0.0s\n",
      "[Parallel(n_jobs=1)]: Done  73 tasks      | elapsed:    0.0s\n",
      "[Parallel(n_jobs=1)]: Done  74 tasks      | elapsed:    0.0s\n",
      "[Parallel(n_jobs=1)]: Done  75 tasks      | elapsed:    0.0s\n",
      "[Parallel(n_jobs=1)]: Done  75 tasks      | elapsed:    0.0s\n"
     ]
    },
    {
     "name": "stdout",
     "output_type": "stream",
     "text": [
      "building tree 74 of 75\n",
      "building tree 75 of 75\n",
      "building tree 1 of 75\n"
     ]
    },
    {
     "name": "stderr",
     "output_type": "stream",
     "text": [
      "[Parallel(n_jobs=1)]: Done   1 tasks      | elapsed:    0.0s\n",
      "[Parallel(n_jobs=1)]: Done   2 tasks      | elapsed:    0.1s\n",
      "[Parallel(n_jobs=1)]: Done   3 tasks      | elapsed:    0.2s\n"
     ]
    },
    {
     "name": "stdout",
     "output_type": "stream",
     "text": [
      "building tree 2 of 75\n",
      "building tree 3 of 75\n",
      "building tree 4 of 75\n"
     ]
    },
    {
     "name": "stderr",
     "output_type": "stream",
     "text": [
      "[Parallel(n_jobs=1)]: Done   4 tasks      | elapsed:    0.2s\n",
      "[Parallel(n_jobs=1)]: Done   5 tasks      | elapsed:    0.3s\n",
      "[Parallel(n_jobs=1)]: Done   6 tasks      | elapsed:    0.4s\n"
     ]
    },
    {
     "name": "stdout",
     "output_type": "stream",
     "text": [
      "building tree 5 of 75\n",
      "building tree 6 of 75\n",
      "building tree 7 of 75\n"
     ]
    },
    {
     "name": "stderr",
     "output_type": "stream",
     "text": [
      "[Parallel(n_jobs=1)]: Done   7 tasks      | elapsed:    0.5s\n",
      "[Parallel(n_jobs=1)]: Done   8 tasks      | elapsed:    0.6s\n",
      "[Parallel(n_jobs=1)]: Done   9 tasks      | elapsed:    0.6s\n"
     ]
    },
    {
     "name": "stdout",
     "output_type": "stream",
     "text": [
      "building tree 8 of 75\n",
      "building tree 9 of 75\n",
      "building tree 10 of 75\n"
     ]
    },
    {
     "name": "stderr",
     "output_type": "stream",
     "text": [
      "[Parallel(n_jobs=1)]: Done  10 tasks      | elapsed:    0.7s\n",
      "[Parallel(n_jobs=1)]: Done  11 tasks      | elapsed:    0.8s\n",
      "[Parallel(n_jobs=1)]: Done  12 tasks      | elapsed:    0.9s\n"
     ]
    },
    {
     "name": "stdout",
     "output_type": "stream",
     "text": [
      "building tree 11 of 75\n",
      "building tree 12 of 75\n",
      "building tree 13 of 75\n"
     ]
    },
    {
     "name": "stderr",
     "output_type": "stream",
     "text": [
      "[Parallel(n_jobs=1)]: Done  13 tasks      | elapsed:    1.0s\n",
      "[Parallel(n_jobs=1)]: Done  14 tasks      | elapsed:    1.1s\n",
      "[Parallel(n_jobs=1)]: Done  15 tasks      | elapsed:    1.1s\n"
     ]
    },
    {
     "name": "stdout",
     "output_type": "stream",
     "text": [
      "building tree 14 of 75\n",
      "building tree 15 of 75\n",
      "building tree 16 of 75\n"
     ]
    },
    {
     "name": "stderr",
     "output_type": "stream",
     "text": [
      "[Parallel(n_jobs=1)]: Done  16 tasks      | elapsed:    1.2s\n",
      "[Parallel(n_jobs=1)]: Done  17 tasks      | elapsed:    1.3s\n",
      "[Parallel(n_jobs=1)]: Done  18 tasks      | elapsed:    1.4s\n"
     ]
    },
    {
     "name": "stdout",
     "output_type": "stream",
     "text": [
      "building tree 17 of 75\n",
      "building tree 18 of 75\n",
      "building tree 19 of 75\n"
     ]
    },
    {
     "name": "stderr",
     "output_type": "stream",
     "text": [
      "[Parallel(n_jobs=1)]: Done  19 tasks      | elapsed:    1.5s\n",
      "[Parallel(n_jobs=1)]: Done  20 tasks      | elapsed:    1.5s\n",
      "[Parallel(n_jobs=1)]: Done  21 tasks      | elapsed:    1.6s\n"
     ]
    },
    {
     "name": "stdout",
     "output_type": "stream",
     "text": [
      "building tree 20 of 75\n",
      "building tree 21 of 75\n",
      "building tree 22 of 75\n"
     ]
    },
    {
     "name": "stderr",
     "output_type": "stream",
     "text": [
      "[Parallel(n_jobs=1)]: Done  22 tasks      | elapsed:    1.7s\n",
      "[Parallel(n_jobs=1)]: Done  23 tasks      | elapsed:    1.8s\n",
      "[Parallel(n_jobs=1)]: Done  24 tasks      | elapsed:    1.9s\n"
     ]
    },
    {
     "name": "stdout",
     "output_type": "stream",
     "text": [
      "building tree 23 of 75\n",
      "building tree 24 of 75\n",
      "building tree 25 of 75\n"
     ]
    },
    {
     "name": "stderr",
     "output_type": "stream",
     "text": [
      "[Parallel(n_jobs=1)]: Done  25 tasks      | elapsed:    1.9s\n",
      "[Parallel(n_jobs=1)]: Done  26 tasks      | elapsed:    2.0s\n",
      "[Parallel(n_jobs=1)]: Done  27 tasks      | elapsed:    2.1s\n"
     ]
    },
    {
     "name": "stdout",
     "output_type": "stream",
     "text": [
      "building tree 26 of 75\n",
      "building tree 27 of 75\n",
      "building tree 28 of 75\n"
     ]
    },
    {
     "name": "stderr",
     "output_type": "stream",
     "text": [
      "[Parallel(n_jobs=1)]: Done  28 tasks      | elapsed:    2.2s\n",
      "[Parallel(n_jobs=1)]: Done  29 tasks      | elapsed:    2.3s\n",
      "[Parallel(n_jobs=1)]: Done  30 tasks      | elapsed:    2.4s\n"
     ]
    },
    {
     "name": "stdout",
     "output_type": "stream",
     "text": [
      "building tree 29 of 75\n",
      "building tree 30 of 75\n",
      "building tree 31 of 75\n"
     ]
    },
    {
     "name": "stderr",
     "output_type": "stream",
     "text": [
      "[Parallel(n_jobs=1)]: Done  31 tasks      | elapsed:    2.4s\n",
      "[Parallel(n_jobs=1)]: Done  32 tasks      | elapsed:    2.5s\n",
      "[Parallel(n_jobs=1)]: Done  33 tasks      | elapsed:    2.6s\n"
     ]
    },
    {
     "name": "stdout",
     "output_type": "stream",
     "text": [
      "building tree 32 of 75\n",
      "building tree 33 of 75\n",
      "building tree 34 of 75\n"
     ]
    },
    {
     "name": "stderr",
     "output_type": "stream",
     "text": [
      "[Parallel(n_jobs=1)]: Done  34 tasks      | elapsed:    2.7s\n",
      "[Parallel(n_jobs=1)]: Done  35 tasks      | elapsed:    2.8s\n",
      "[Parallel(n_jobs=1)]: Done  36 tasks      | elapsed:    2.9s\n"
     ]
    },
    {
     "name": "stdout",
     "output_type": "stream",
     "text": [
      "building tree 35 of 75\n",
      "building tree 36 of 75\n",
      "building tree 37 of 75\n"
     ]
    },
    {
     "name": "stderr",
     "output_type": "stream",
     "text": [
      "[Parallel(n_jobs=1)]: Done  37 tasks      | elapsed:    2.9s\n",
      "[Parallel(n_jobs=1)]: Done  38 tasks      | elapsed:    3.0s\n",
      "[Parallel(n_jobs=1)]: Done  39 tasks      | elapsed:    3.1s\n"
     ]
    },
    {
     "name": "stdout",
     "output_type": "stream",
     "text": [
      "building tree 38 of 75\n",
      "building tree 39 of 75\n",
      "building tree 40 of 75\n"
     ]
    },
    {
     "name": "stderr",
     "output_type": "stream",
     "text": [
      "[Parallel(n_jobs=1)]: Done  40 tasks      | elapsed:    3.2s\n",
      "[Parallel(n_jobs=1)]: Done  41 tasks      | elapsed:    3.3s\n",
      "[Parallel(n_jobs=1)]: Done  42 tasks      | elapsed:    3.3s\n"
     ]
    },
    {
     "name": "stdout",
     "output_type": "stream",
     "text": [
      "building tree 41 of 75\n",
      "building tree 42 of 75\n",
      "building tree 43 of 75\n"
     ]
    },
    {
     "name": "stderr",
     "output_type": "stream",
     "text": [
      "[Parallel(n_jobs=1)]: Done  43 tasks      | elapsed:    3.4s\n",
      "[Parallel(n_jobs=1)]: Done  44 tasks      | elapsed:    3.5s\n",
      "[Parallel(n_jobs=1)]: Done  45 tasks      | elapsed:    3.6s\n"
     ]
    },
    {
     "name": "stdout",
     "output_type": "stream",
     "text": [
      "building tree 44 of 75\n",
      "building tree 45 of 75\n",
      "building tree 46 of 75\n"
     ]
    },
    {
     "name": "stderr",
     "output_type": "stream",
     "text": [
      "[Parallel(n_jobs=1)]: Done  46 tasks      | elapsed:    3.7s\n",
      "[Parallel(n_jobs=1)]: Done  47 tasks      | elapsed:    3.8s\n",
      "[Parallel(n_jobs=1)]: Done  48 tasks      | elapsed:    3.8s\n"
     ]
    },
    {
     "name": "stdout",
     "output_type": "stream",
     "text": [
      "building tree 47 of 75\n",
      "building tree 48 of 75\n",
      "building tree 49 of 75\n"
     ]
    },
    {
     "name": "stderr",
     "output_type": "stream",
     "text": [
      "[Parallel(n_jobs=1)]: Done  49 tasks      | elapsed:    3.9s\n",
      "[Parallel(n_jobs=1)]: Done  50 tasks      | elapsed:    4.0s\n",
      "[Parallel(n_jobs=1)]: Done  51 tasks      | elapsed:    4.1s\n"
     ]
    },
    {
     "name": "stdout",
     "output_type": "stream",
     "text": [
      "building tree 50 of 75\n",
      "building tree 51 of 75\n",
      "building tree 52 of 75\n"
     ]
    },
    {
     "name": "stderr",
     "output_type": "stream",
     "text": [
      "[Parallel(n_jobs=1)]: Done  52 tasks      | elapsed:    4.2s\n",
      "[Parallel(n_jobs=1)]: Done  53 tasks      | elapsed:    4.3s\n",
      "[Parallel(n_jobs=1)]: Done  54 tasks      | elapsed:    4.4s\n"
     ]
    },
    {
     "name": "stdout",
     "output_type": "stream",
     "text": [
      "building tree 53 of 75\n",
      "building tree 54 of 75\n",
      "building tree 55 of 75\n"
     ]
    },
    {
     "name": "stderr",
     "output_type": "stream",
     "text": [
      "[Parallel(n_jobs=1)]: Done  55 tasks      | elapsed:    4.5s\n",
      "[Parallel(n_jobs=1)]: Done  56 tasks      | elapsed:    4.5s\n",
      "[Parallel(n_jobs=1)]: Done  57 tasks      | elapsed:    4.6s\n"
     ]
    },
    {
     "name": "stdout",
     "output_type": "stream",
     "text": [
      "building tree 56 of 75\n",
      "building tree 57 of 75\n",
      "building tree 58 of 75\n"
     ]
    },
    {
     "name": "stderr",
     "output_type": "stream",
     "text": [
      "[Parallel(n_jobs=1)]: Done  58 tasks      | elapsed:    4.7s\n",
      "[Parallel(n_jobs=1)]: Done  59 tasks      | elapsed:    4.8s\n",
      "[Parallel(n_jobs=1)]: Done  60 tasks      | elapsed:    4.9s\n"
     ]
    },
    {
     "name": "stdout",
     "output_type": "stream",
     "text": [
      "building tree 59 of 75\n",
      "building tree 60 of 75\n",
      "building tree 61 of 75\n"
     ]
    },
    {
     "name": "stderr",
     "output_type": "stream",
     "text": [
      "[Parallel(n_jobs=1)]: Done  61 tasks      | elapsed:    4.9s\n",
      "[Parallel(n_jobs=1)]: Done  62 tasks      | elapsed:    5.0s\n",
      "[Parallel(n_jobs=1)]: Done  63 tasks      | elapsed:    5.1s\n"
     ]
    },
    {
     "name": "stdout",
     "output_type": "stream",
     "text": [
      "building tree 62 of 75\n",
      "building tree 63 of 75\n",
      "building tree 64 of 75\n"
     ]
    },
    {
     "name": "stderr",
     "output_type": "stream",
     "text": [
      "[Parallel(n_jobs=1)]: Done  64 tasks      | elapsed:    5.2s\n",
      "[Parallel(n_jobs=1)]: Done  65 tasks      | elapsed:    5.2s\n",
      "[Parallel(n_jobs=1)]: Done  66 tasks      | elapsed:    5.3s\n"
     ]
    },
    {
     "name": "stdout",
     "output_type": "stream",
     "text": [
      "building tree 65 of 75\n",
      "building tree 66 of 75\n",
      "building tree 67 of 75\n"
     ]
    },
    {
     "name": "stderr",
     "output_type": "stream",
     "text": [
      "[Parallel(n_jobs=1)]: Done  67 tasks      | elapsed:    5.4s\n",
      "[Parallel(n_jobs=1)]: Done  68 tasks      | elapsed:    5.5s\n",
      "[Parallel(n_jobs=1)]: Done  69 tasks      | elapsed:    5.6s\n"
     ]
    },
    {
     "name": "stdout",
     "output_type": "stream",
     "text": [
      "building tree 68 of 75\n",
      "building tree 69 of 75\n",
      "building tree 70 of 75\n"
     ]
    },
    {
     "name": "stderr",
     "output_type": "stream",
     "text": [
      "[Parallel(n_jobs=1)]: Done  70 tasks      | elapsed:    5.6s\n",
      "[Parallel(n_jobs=1)]: Done  71 tasks      | elapsed:    5.7s\n",
      "[Parallel(n_jobs=1)]: Done  72 tasks      | elapsed:    5.8s\n"
     ]
    },
    {
     "name": "stdout",
     "output_type": "stream",
     "text": [
      "building tree 71 of 75\n",
      "building tree 72 of 75\n",
      "building tree 73 of 75\n"
     ]
    },
    {
     "name": "stderr",
     "output_type": "stream",
     "text": [
      "[Parallel(n_jobs=1)]: Done  73 tasks      | elapsed:    5.9s\n",
      "[Parallel(n_jobs=1)]: Done  74 tasks      | elapsed:    6.0s\n",
      "[Parallel(n_jobs=1)]: Done  75 tasks      | elapsed:    6.1s\n",
      "[Parallel(n_jobs=1)]: Done  75 tasks      | elapsed:    6.1s\n",
      "[Parallel(n_jobs=1)]: Done   1 tasks      | elapsed:    0.0s\n",
      "[Parallel(n_jobs=1)]: Done   2 tasks      | elapsed:    0.0s\n",
      "[Parallel(n_jobs=1)]: Done   3 tasks      | elapsed:    0.0s\n",
      "[Parallel(n_jobs=1)]: Done   4 tasks      | elapsed:    0.0s\n",
      "[Parallel(n_jobs=1)]: Done   5 tasks      | elapsed:    0.0s\n",
      "[Parallel(n_jobs=1)]: Done   6 tasks      | elapsed:    0.0s\n",
      "[Parallel(n_jobs=1)]: Done   7 tasks      | elapsed:    0.0s\n",
      "[Parallel(n_jobs=1)]: Done   8 tasks      | elapsed:    0.0s\n",
      "[Parallel(n_jobs=1)]: Done   9 tasks      | elapsed:    0.0s\n",
      "[Parallel(n_jobs=1)]: Done  10 tasks      | elapsed:    0.0s\n",
      "[Parallel(n_jobs=1)]: Done  11 tasks      | elapsed:    0.0s\n",
      "[Parallel(n_jobs=1)]: Done  12 tasks      | elapsed:    0.0s\n",
      "[Parallel(n_jobs=1)]: Done  13 tasks      | elapsed:    0.0s\n",
      "[Parallel(n_jobs=1)]: Done  14 tasks      | elapsed:    0.0s\n",
      "[Parallel(n_jobs=1)]: Done  15 tasks      | elapsed:    0.0s\n",
      "[Parallel(n_jobs=1)]: Done  16 tasks      | elapsed:    0.0s\n",
      "[Parallel(n_jobs=1)]: Done  17 tasks      | elapsed:    0.0s\n",
      "[Parallel(n_jobs=1)]: Done  18 tasks      | elapsed:    0.0s\n",
      "[Parallel(n_jobs=1)]: Done  19 tasks      | elapsed:    0.0s\n",
      "[Parallel(n_jobs=1)]: Done  20 tasks      | elapsed:    0.0s\n",
      "[Parallel(n_jobs=1)]: Done  21 tasks      | elapsed:    0.0s\n",
      "[Parallel(n_jobs=1)]: Done  22 tasks      | elapsed:    0.0s\n",
      "[Parallel(n_jobs=1)]: Done  23 tasks      | elapsed:    0.0s\n",
      "[Parallel(n_jobs=1)]: Done  24 tasks      | elapsed:    0.0s\n",
      "[Parallel(n_jobs=1)]: Done  25 tasks      | elapsed:    0.0s\n",
      "[Parallel(n_jobs=1)]: Done  26 tasks      | elapsed:    0.0s\n",
      "[Parallel(n_jobs=1)]: Done  27 tasks      | elapsed:    0.0s\n",
      "[Parallel(n_jobs=1)]: Done  28 tasks      | elapsed:    0.0s\n",
      "[Parallel(n_jobs=1)]: Done  29 tasks      | elapsed:    0.0s\n",
      "[Parallel(n_jobs=1)]: Done  30 tasks      | elapsed:    0.0s\n",
      "[Parallel(n_jobs=1)]: Done  31 tasks      | elapsed:    0.0s\n",
      "[Parallel(n_jobs=1)]: Done  32 tasks      | elapsed:    0.0s\n",
      "[Parallel(n_jobs=1)]: Done  33 tasks      | elapsed:    0.0s\n",
      "[Parallel(n_jobs=1)]: Done  34 tasks      | elapsed:    0.0s\n",
      "[Parallel(n_jobs=1)]: Done  35 tasks      | elapsed:    0.0s\n",
      "[Parallel(n_jobs=1)]: Done  36 tasks      | elapsed:    0.0s\n",
      "[Parallel(n_jobs=1)]: Done  37 tasks      | elapsed:    0.0s\n",
      "[Parallel(n_jobs=1)]: Done  38 tasks      | elapsed:    0.0s\n",
      "[Parallel(n_jobs=1)]: Done  39 tasks      | elapsed:    0.0s\n",
      "[Parallel(n_jobs=1)]: Done  40 tasks      | elapsed:    0.0s\n",
      "[Parallel(n_jobs=1)]: Done  41 tasks      | elapsed:    0.0s\n",
      "[Parallel(n_jobs=1)]: Done  42 tasks      | elapsed:    0.0s\n",
      "[Parallel(n_jobs=1)]: Done  43 tasks      | elapsed:    0.0s\n",
      "[Parallel(n_jobs=1)]: Done  44 tasks      | elapsed:    0.0s\n",
      "[Parallel(n_jobs=1)]: Done  45 tasks      | elapsed:    0.0s\n",
      "[Parallel(n_jobs=1)]: Done  46 tasks      | elapsed:    0.0s\n",
      "[Parallel(n_jobs=1)]: Done  47 tasks      | elapsed:    0.0s\n",
      "[Parallel(n_jobs=1)]: Done  48 tasks      | elapsed:    0.0s\n",
      "[Parallel(n_jobs=1)]: Done  49 tasks      | elapsed:    0.0s\n",
      "[Parallel(n_jobs=1)]: Done  50 tasks      | elapsed:    0.0s\n",
      "[Parallel(n_jobs=1)]: Done  51 tasks      | elapsed:    0.0s\n",
      "[Parallel(n_jobs=1)]: Done  52 tasks      | elapsed:    0.0s\n",
      "[Parallel(n_jobs=1)]: Done  53 tasks      | elapsed:    0.0s\n",
      "[Parallel(n_jobs=1)]: Done  54 tasks      | elapsed:    0.0s\n",
      "[Parallel(n_jobs=1)]: Done  55 tasks      | elapsed:    0.0s\n",
      "[Parallel(n_jobs=1)]: Done  56 tasks      | elapsed:    0.0s\n",
      "[Parallel(n_jobs=1)]: Done  57 tasks      | elapsed:    0.0s\n",
      "[Parallel(n_jobs=1)]: Done  58 tasks      | elapsed:    0.0s\n",
      "[Parallel(n_jobs=1)]: Done  59 tasks      | elapsed:    0.0s\n",
      "[Parallel(n_jobs=1)]: Done  60 tasks      | elapsed:    0.0s\n",
      "[Parallel(n_jobs=1)]: Done  61 tasks      | elapsed:    0.0s\n",
      "[Parallel(n_jobs=1)]: Done  62 tasks      | elapsed:    0.0s\n",
      "[Parallel(n_jobs=1)]: Done  63 tasks      | elapsed:    0.0s\n",
      "[Parallel(n_jobs=1)]: Done  64 tasks      | elapsed:    0.0s\n",
      "[Parallel(n_jobs=1)]: Done  65 tasks      | elapsed:    0.0s\n",
      "[Parallel(n_jobs=1)]: Done  66 tasks      | elapsed:    0.0s\n",
      "[Parallel(n_jobs=1)]: Done  67 tasks      | elapsed:    0.0s\n",
      "[Parallel(n_jobs=1)]: Done  68 tasks      | elapsed:    0.0s\n",
      "[Parallel(n_jobs=1)]: Done  69 tasks      | elapsed:    0.0s\n",
      "[Parallel(n_jobs=1)]: Done  70 tasks      | elapsed:    0.0s\n",
      "[Parallel(n_jobs=1)]: Done  71 tasks      | elapsed:    0.0s\n",
      "[Parallel(n_jobs=1)]: Done  72 tasks      | elapsed:    0.0s\n",
      "[Parallel(n_jobs=1)]: Done  73 tasks      | elapsed:    0.0s\n",
      "[Parallel(n_jobs=1)]: Done  74 tasks      | elapsed:    0.0s\n",
      "[Parallel(n_jobs=1)]: Done  75 tasks      | elapsed:    0.0s\n",
      "[Parallel(n_jobs=1)]: Done  75 tasks      | elapsed:    0.0s\n"
     ]
    },
    {
     "name": "stdout",
     "output_type": "stream",
     "text": [
      "building tree 74 of 75\n",
      "building tree 75 of 75\n",
      "building tree 1 of 75\n"
     ]
    },
    {
     "name": "stderr",
     "output_type": "stream",
     "text": [
      "[Parallel(n_jobs=1)]: Done   1 tasks      | elapsed:    0.0s\n",
      "[Parallel(n_jobs=1)]: Done   2 tasks      | elapsed:    0.2s\n"
     ]
    },
    {
     "name": "stdout",
     "output_type": "stream",
     "text": [
      "building tree 2 of 75\n",
      "building tree 3 of 75\n"
     ]
    },
    {
     "name": "stderr",
     "output_type": "stream",
     "text": [
      "[Parallel(n_jobs=1)]: Done   3 tasks      | elapsed:    0.3s\n",
      "[Parallel(n_jobs=1)]: Done   4 tasks      | elapsed:    0.4s\n"
     ]
    },
    {
     "name": "stdout",
     "output_type": "stream",
     "text": [
      "building tree 4 of 75\n",
      "building tree 5 of 75\n"
     ]
    },
    {
     "name": "stderr",
     "output_type": "stream",
     "text": [
      "[Parallel(n_jobs=1)]: Done   5 tasks      | elapsed:    0.5s\n",
      "[Parallel(n_jobs=1)]: Done   6 tasks      | elapsed:    0.6s\n"
     ]
    },
    {
     "name": "stdout",
     "output_type": "stream",
     "text": [
      "building tree 6 of 75\n",
      "building tree 7 of 75\n"
     ]
    },
    {
     "name": "stderr",
     "output_type": "stream",
     "text": [
      "[Parallel(n_jobs=1)]: Done   7 tasks      | elapsed:    0.7s\n",
      "[Parallel(n_jobs=1)]: Done   8 tasks      | elapsed:    0.8s\n"
     ]
    },
    {
     "name": "stdout",
     "output_type": "stream",
     "text": [
      "building tree 8 of 75\n",
      "building tree 9 of 75\n"
     ]
    },
    {
     "name": "stderr",
     "output_type": "stream",
     "text": [
      "[Parallel(n_jobs=1)]: Done   9 tasks      | elapsed:    0.9s\n",
      "[Parallel(n_jobs=1)]: Done  10 tasks      | elapsed:    1.0s\n",
      "[Parallel(n_jobs=1)]: Done  11 tasks      | elapsed:    1.1s\n"
     ]
    },
    {
     "name": "stdout",
     "output_type": "stream",
     "text": [
      "building tree 10 of 75\n",
      "building tree 11 of 75\n",
      "building tree 12 of 75\n"
     ]
    },
    {
     "name": "stderr",
     "output_type": "stream",
     "text": [
      "[Parallel(n_jobs=1)]: Done  12 tasks      | elapsed:    1.2s\n",
      "[Parallel(n_jobs=1)]: Done  13 tasks      | elapsed:    1.3s\n",
      "[Parallel(n_jobs=1)]: Done  14 tasks      | elapsed:    1.4s\n"
     ]
    },
    {
     "name": "stdout",
     "output_type": "stream",
     "text": [
      "building tree 13 of 75\n",
      "building tree 14 of 75\n",
      "building tree 15 of 75\n"
     ]
    },
    {
     "name": "stderr",
     "output_type": "stream",
     "text": [
      "[Parallel(n_jobs=1)]: Done  15 tasks      | elapsed:    1.5s\n",
      "[Parallel(n_jobs=1)]: Done  16 tasks      | elapsed:    1.6s\n"
     ]
    },
    {
     "name": "stdout",
     "output_type": "stream",
     "text": [
      "building tree 16 of 75\n",
      "building tree 17 of 75\n"
     ]
    },
    {
     "name": "stderr",
     "output_type": "stream",
     "text": [
      "[Parallel(n_jobs=1)]: Done  17 tasks      | elapsed:    1.7s\n",
      "[Parallel(n_jobs=1)]: Done  18 tasks      | elapsed:    1.8s\n"
     ]
    },
    {
     "name": "stdout",
     "output_type": "stream",
     "text": [
      "building tree 18 of 75\n",
      "building tree 19 of 75\n"
     ]
    },
    {
     "name": "stderr",
     "output_type": "stream",
     "text": [
      "[Parallel(n_jobs=1)]: Done  19 tasks      | elapsed:    1.9s\n",
      "[Parallel(n_jobs=1)]: Done  20 tasks      | elapsed:    2.1s\n"
     ]
    },
    {
     "name": "stdout",
     "output_type": "stream",
     "text": [
      "building tree 20 of 75\n",
      "building tree 21 of 75\n"
     ]
    },
    {
     "name": "stderr",
     "output_type": "stream",
     "text": [
      "[Parallel(n_jobs=1)]: Done  21 tasks      | elapsed:    2.2s\n",
      "[Parallel(n_jobs=1)]: Done  22 tasks      | elapsed:    2.3s\n"
     ]
    },
    {
     "name": "stdout",
     "output_type": "stream",
     "text": [
      "building tree 22 of 75\n",
      "building tree 23 of 75\n"
     ]
    },
    {
     "name": "stderr",
     "output_type": "stream",
     "text": [
      "[Parallel(n_jobs=1)]: Done  23 tasks      | elapsed:    2.4s\n",
      "[Parallel(n_jobs=1)]: Done  24 tasks      | elapsed:    2.5s\n",
      "[Parallel(n_jobs=1)]: Done  25 tasks      | elapsed:    2.6s\n"
     ]
    },
    {
     "name": "stdout",
     "output_type": "stream",
     "text": [
      "building tree 24 of 75\n",
      "building tree 25 of 75\n",
      "building tree 26 of 75\n"
     ]
    },
    {
     "name": "stderr",
     "output_type": "stream",
     "text": [
      "[Parallel(n_jobs=1)]: Done  26 tasks      | elapsed:    2.7s\n",
      "[Parallel(n_jobs=1)]: Done  27 tasks      | elapsed:    2.8s\n"
     ]
    },
    {
     "name": "stdout",
     "output_type": "stream",
     "text": [
      "building tree 27 of 75\n",
      "building tree 28 of 75\n"
     ]
    },
    {
     "name": "stderr",
     "output_type": "stream",
     "text": [
      "[Parallel(n_jobs=1)]: Done  28 tasks      | elapsed:    2.9s\n",
      "[Parallel(n_jobs=1)]: Done  29 tasks      | elapsed:    3.0s\n",
      "[Parallel(n_jobs=1)]: Done  30 tasks      | elapsed:    3.1s\n"
     ]
    },
    {
     "name": "stdout",
     "output_type": "stream",
     "text": [
      "building tree 29 of 75\n",
      "building tree 30 of 75\n",
      "building tree 31 of 75\n"
     ]
    },
    {
     "name": "stderr",
     "output_type": "stream",
     "text": [
      "[Parallel(n_jobs=1)]: Done  31 tasks      | elapsed:    3.2s\n",
      "[Parallel(n_jobs=1)]: Done  32 tasks      | elapsed:    3.3s\n",
      "[Parallel(n_jobs=1)]: Done  33 tasks      | elapsed:    3.4s\n"
     ]
    },
    {
     "name": "stdout",
     "output_type": "stream",
     "text": [
      "building tree 32 of 75\n",
      "building tree 33 of 75\n",
      "building tree 34 of 75\n"
     ]
    },
    {
     "name": "stderr",
     "output_type": "stream",
     "text": [
      "[Parallel(n_jobs=1)]: Done  34 tasks      | elapsed:    3.5s\n",
      "[Parallel(n_jobs=1)]: Done  35 tasks      | elapsed:    3.6s\n",
      "[Parallel(n_jobs=1)]: Done  36 tasks      | elapsed:    3.7s\n"
     ]
    },
    {
     "name": "stdout",
     "output_type": "stream",
     "text": [
      "building tree 35 of 75\n",
      "building tree 36 of 75\n",
      "building tree 37 of 75\n"
     ]
    },
    {
     "name": "stderr",
     "output_type": "stream",
     "text": [
      "[Parallel(n_jobs=1)]: Done  37 tasks      | elapsed:    3.8s\n",
      "[Parallel(n_jobs=1)]: Done  38 tasks      | elapsed:    3.9s\n",
      "[Parallel(n_jobs=1)]: Done  39 tasks      | elapsed:    4.0s\n"
     ]
    },
    {
     "name": "stdout",
     "output_type": "stream",
     "text": [
      "building tree 38 of 75\n",
      "building tree 39 of 75\n",
      "building tree 40 of 75\n"
     ]
    },
    {
     "name": "stderr",
     "output_type": "stream",
     "text": [
      "[Parallel(n_jobs=1)]: Done  40 tasks      | elapsed:    4.2s\n",
      "[Parallel(n_jobs=1)]: Done  41 tasks      | elapsed:    4.3s\n"
     ]
    },
    {
     "name": "stdout",
     "output_type": "stream",
     "text": [
      "building tree 41 of 75\n",
      "building tree 42 of 75\n"
     ]
    },
    {
     "name": "stderr",
     "output_type": "stream",
     "text": [
      "[Parallel(n_jobs=1)]: Done  42 tasks      | elapsed:    4.4s\n",
      "[Parallel(n_jobs=1)]: Done  43 tasks      | elapsed:    4.5s\n",
      "[Parallel(n_jobs=1)]: Done  44 tasks      | elapsed:    4.6s\n"
     ]
    },
    {
     "name": "stdout",
     "output_type": "stream",
     "text": [
      "building tree 43 of 75\n",
      "building tree 44 of 75\n",
      "building tree 45 of 75\n"
     ]
    },
    {
     "name": "stderr",
     "output_type": "stream",
     "text": [
      "[Parallel(n_jobs=1)]: Done  45 tasks      | elapsed:    4.7s\n",
      "[Parallel(n_jobs=1)]: Done  46 tasks      | elapsed:    4.8s\n"
     ]
    },
    {
     "name": "stdout",
     "output_type": "stream",
     "text": [
      "building tree 46 of 75\n",
      "building tree 47 of 75\n"
     ]
    },
    {
     "name": "stderr",
     "output_type": "stream",
     "text": [
      "[Parallel(n_jobs=1)]: Done  47 tasks      | elapsed:    4.9s\n",
      "[Parallel(n_jobs=1)]: Done  48 tasks      | elapsed:    5.0s\n"
     ]
    },
    {
     "name": "stdout",
     "output_type": "stream",
     "text": [
      "building tree 48 of 75\n",
      "building tree 49 of 75\n"
     ]
    },
    {
     "name": "stderr",
     "output_type": "stream",
     "text": [
      "[Parallel(n_jobs=1)]: Done  49 tasks      | elapsed:    5.1s\n",
      "[Parallel(n_jobs=1)]: Done  50 tasks      | elapsed:    5.3s\n"
     ]
    },
    {
     "name": "stdout",
     "output_type": "stream",
     "text": [
      "building tree 50 of 75\n",
      "building tree 51 of 75\n"
     ]
    },
    {
     "name": "stderr",
     "output_type": "stream",
     "text": [
      "[Parallel(n_jobs=1)]: Done  51 tasks      | elapsed:    5.4s\n",
      "[Parallel(n_jobs=1)]: Done  52 tasks      | elapsed:    5.5s\n",
      "[Parallel(n_jobs=1)]: Done  53 tasks      | elapsed:    5.6s\n"
     ]
    },
    {
     "name": "stdout",
     "output_type": "stream",
     "text": [
      "building tree 52 of 75\n",
      "building tree 53 of 75\n",
      "building tree 54 of 75\n"
     ]
    },
    {
     "name": "stderr",
     "output_type": "stream",
     "text": [
      "[Parallel(n_jobs=1)]: Done  54 tasks      | elapsed:    5.7s\n",
      "[Parallel(n_jobs=1)]: Done  55 tasks      | elapsed:    5.8s\n",
      "[Parallel(n_jobs=1)]: Done  56 tasks      | elapsed:    5.9s\n"
     ]
    },
    {
     "name": "stdout",
     "output_type": "stream",
     "text": [
      "building tree 55 of 75\n",
      "building tree 56 of 75\n",
      "building tree 57 of 75\n"
     ]
    },
    {
     "name": "stderr",
     "output_type": "stream",
     "text": [
      "[Parallel(n_jobs=1)]: Done  57 tasks      | elapsed:    6.0s\n",
      "[Parallel(n_jobs=1)]: Done  58 tasks      | elapsed:    6.1s\n",
      "[Parallel(n_jobs=1)]: Done  59 tasks      | elapsed:    6.2s\n"
     ]
    },
    {
     "name": "stdout",
     "output_type": "stream",
     "text": [
      "building tree 58 of 75\n",
      "building tree 59 of 75\n",
      "building tree 60 of 75\n"
     ]
    },
    {
     "name": "stderr",
     "output_type": "stream",
     "text": [
      "[Parallel(n_jobs=1)]: Done  60 tasks      | elapsed:    6.3s\n",
      "[Parallel(n_jobs=1)]: Done  61 tasks      | elapsed:    6.4s\n",
      "[Parallel(n_jobs=1)]: Done  62 tasks      | elapsed:    6.5s\n"
     ]
    },
    {
     "name": "stdout",
     "output_type": "stream",
     "text": [
      "building tree 61 of 75\n",
      "building tree 62 of 75\n",
      "building tree 63 of 75\n"
     ]
    },
    {
     "name": "stderr",
     "output_type": "stream",
     "text": [
      "[Parallel(n_jobs=1)]: Done  63 tasks      | elapsed:    6.6s\n",
      "[Parallel(n_jobs=1)]: Done  64 tasks      | elapsed:    6.7s\n",
      "[Parallel(n_jobs=1)]: Done  65 tasks      | elapsed:    6.8s\n"
     ]
    },
    {
     "name": "stdout",
     "output_type": "stream",
     "text": [
      "building tree 64 of 75\n",
      "building tree 65 of 75\n",
      "building tree 66 of 75\n"
     ]
    },
    {
     "name": "stderr",
     "output_type": "stream",
     "text": [
      "[Parallel(n_jobs=1)]: Done  66 tasks      | elapsed:    6.9s\n",
      "[Parallel(n_jobs=1)]: Done  67 tasks      | elapsed:    7.0s\n"
     ]
    },
    {
     "name": "stdout",
     "output_type": "stream",
     "text": [
      "building tree 67 of 75\n",
      "building tree 68 of 75\n"
     ]
    },
    {
     "name": "stderr",
     "output_type": "stream",
     "text": [
      "[Parallel(n_jobs=1)]: Done  68 tasks      | elapsed:    7.1s\n",
      "[Parallel(n_jobs=1)]: Done  69 tasks      | elapsed:    7.3s\n",
      "[Parallel(n_jobs=1)]: Done  70 tasks      | elapsed:    7.4s\n"
     ]
    },
    {
     "name": "stdout",
     "output_type": "stream",
     "text": [
      "building tree 69 of 75\n",
      "building tree 70 of 75\n",
      "building tree 71 of 75\n"
     ]
    },
    {
     "name": "stderr",
     "output_type": "stream",
     "text": [
      "[Parallel(n_jobs=1)]: Done  71 tasks      | elapsed:    7.5s\n",
      "[Parallel(n_jobs=1)]: Done  72 tasks      | elapsed:    7.6s\n",
      "[Parallel(n_jobs=1)]: Done  73 tasks      | elapsed:    7.7s\n"
     ]
    },
    {
     "name": "stdout",
     "output_type": "stream",
     "text": [
      "building tree 72 of 75\n",
      "building tree 73 of 75\n",
      "building tree 74 of 75\n"
     ]
    },
    {
     "name": "stderr",
     "output_type": "stream",
     "text": [
      "[Parallel(n_jobs=1)]: Done  74 tasks      | elapsed:    7.8s\n",
      "[Parallel(n_jobs=1)]: Done  75 tasks      | elapsed:    7.9s\n",
      "[Parallel(n_jobs=1)]: Done  75 tasks      | elapsed:    7.9s\n",
      "[Parallel(n_jobs=1)]: Done   1 tasks      | elapsed:    0.0s\n",
      "[Parallel(n_jobs=1)]: Done   2 tasks      | elapsed:    0.0s\n",
      "[Parallel(n_jobs=1)]: Done   3 tasks      | elapsed:    0.0s\n",
      "[Parallel(n_jobs=1)]: Done   4 tasks      | elapsed:    0.0s\n",
      "[Parallel(n_jobs=1)]: Done   5 tasks      | elapsed:    0.0s\n",
      "[Parallel(n_jobs=1)]: Done   6 tasks      | elapsed:    0.0s\n",
      "[Parallel(n_jobs=1)]: Done   7 tasks      | elapsed:    0.0s\n",
      "[Parallel(n_jobs=1)]: Done   8 tasks      | elapsed:    0.0s\n",
      "[Parallel(n_jobs=1)]: Done   9 tasks      | elapsed:    0.0s\n",
      "[Parallel(n_jobs=1)]: Done  10 tasks      | elapsed:    0.0s\n",
      "[Parallel(n_jobs=1)]: Done  11 tasks      | elapsed:    0.0s\n",
      "[Parallel(n_jobs=1)]: Done  12 tasks      | elapsed:    0.0s\n",
      "[Parallel(n_jobs=1)]: Done  13 tasks      | elapsed:    0.0s\n",
      "[Parallel(n_jobs=1)]: Done  14 tasks      | elapsed:    0.0s\n",
      "[Parallel(n_jobs=1)]: Done  15 tasks      | elapsed:    0.0s\n",
      "[Parallel(n_jobs=1)]: Done  16 tasks      | elapsed:    0.0s\n",
      "[Parallel(n_jobs=1)]: Done  17 tasks      | elapsed:    0.0s\n",
      "[Parallel(n_jobs=1)]: Done  18 tasks      | elapsed:    0.0s\n",
      "[Parallel(n_jobs=1)]: Done  19 tasks      | elapsed:    0.0s\n",
      "[Parallel(n_jobs=1)]: Done  20 tasks      | elapsed:    0.0s\n",
      "[Parallel(n_jobs=1)]: Done  21 tasks      | elapsed:    0.0s\n",
      "[Parallel(n_jobs=1)]: Done  22 tasks      | elapsed:    0.0s\n",
      "[Parallel(n_jobs=1)]: Done  23 tasks      | elapsed:    0.0s\n",
      "[Parallel(n_jobs=1)]: Done  24 tasks      | elapsed:    0.0s\n",
      "[Parallel(n_jobs=1)]: Done  25 tasks      | elapsed:    0.0s\n",
      "[Parallel(n_jobs=1)]: Done  26 tasks      | elapsed:    0.0s\n",
      "[Parallel(n_jobs=1)]: Done  27 tasks      | elapsed:    0.0s\n",
      "[Parallel(n_jobs=1)]: Done  28 tasks      | elapsed:    0.0s\n",
      "[Parallel(n_jobs=1)]: Done  29 tasks      | elapsed:    0.0s\n",
      "[Parallel(n_jobs=1)]: Done  30 tasks      | elapsed:    0.0s\n",
      "[Parallel(n_jobs=1)]: Done  31 tasks      | elapsed:    0.0s\n",
      "[Parallel(n_jobs=1)]: Done  32 tasks      | elapsed:    0.0s\n",
      "[Parallel(n_jobs=1)]: Done  33 tasks      | elapsed:    0.0s\n",
      "[Parallel(n_jobs=1)]: Done  34 tasks      | elapsed:    0.0s\n",
      "[Parallel(n_jobs=1)]: Done  35 tasks      | elapsed:    0.0s\n",
      "[Parallel(n_jobs=1)]: Done  36 tasks      | elapsed:    0.0s\n",
      "[Parallel(n_jobs=1)]: Done  37 tasks      | elapsed:    0.0s\n",
      "[Parallel(n_jobs=1)]: Done  38 tasks      | elapsed:    0.0s\n",
      "[Parallel(n_jobs=1)]: Done  39 tasks      | elapsed:    0.0s\n",
      "[Parallel(n_jobs=1)]: Done  40 tasks      | elapsed:    0.0s\n",
      "[Parallel(n_jobs=1)]: Done  41 tasks      | elapsed:    0.0s\n",
      "[Parallel(n_jobs=1)]: Done  42 tasks      | elapsed:    0.0s\n",
      "[Parallel(n_jobs=1)]: Done  43 tasks      | elapsed:    0.0s\n",
      "[Parallel(n_jobs=1)]: Done  44 tasks      | elapsed:    0.0s\n",
      "[Parallel(n_jobs=1)]: Done  45 tasks      | elapsed:    0.0s\n",
      "[Parallel(n_jobs=1)]: Done  46 tasks      | elapsed:    0.0s\n",
      "[Parallel(n_jobs=1)]: Done  47 tasks      | elapsed:    0.0s\n",
      "[Parallel(n_jobs=1)]: Done  48 tasks      | elapsed:    0.0s\n",
      "[Parallel(n_jobs=1)]: Done  49 tasks      | elapsed:    0.0s\n",
      "[Parallel(n_jobs=1)]: Done  50 tasks      | elapsed:    0.0s\n",
      "[Parallel(n_jobs=1)]: Done  51 tasks      | elapsed:    0.0s\n",
      "[Parallel(n_jobs=1)]: Done  52 tasks      | elapsed:    0.0s\n",
      "[Parallel(n_jobs=1)]: Done  53 tasks      | elapsed:    0.0s\n",
      "[Parallel(n_jobs=1)]: Done  54 tasks      | elapsed:    0.0s\n",
      "[Parallel(n_jobs=1)]: Done  55 tasks      | elapsed:    0.0s\n",
      "[Parallel(n_jobs=1)]: Done  56 tasks      | elapsed:    0.0s\n",
      "[Parallel(n_jobs=1)]: Done  57 tasks      | elapsed:    0.0s\n",
      "[Parallel(n_jobs=1)]: Done  58 tasks      | elapsed:    0.0s\n",
      "[Parallel(n_jobs=1)]: Done  59 tasks      | elapsed:    0.0s\n",
      "[Parallel(n_jobs=1)]: Done  60 tasks      | elapsed:    0.0s\n",
      "[Parallel(n_jobs=1)]: Done  61 tasks      | elapsed:    0.0s\n",
      "[Parallel(n_jobs=1)]: Done  62 tasks      | elapsed:    0.0s\n",
      "[Parallel(n_jobs=1)]: Done  63 tasks      | elapsed:    0.0s\n",
      "[Parallel(n_jobs=1)]: Done  64 tasks      | elapsed:    0.0s\n",
      "[Parallel(n_jobs=1)]: Done  65 tasks      | elapsed:    0.0s\n",
      "[Parallel(n_jobs=1)]: Done  66 tasks      | elapsed:    0.0s\n",
      "[Parallel(n_jobs=1)]: Done  67 tasks      | elapsed:    0.0s\n",
      "[Parallel(n_jobs=1)]: Done  68 tasks      | elapsed:    0.0s\n",
      "[Parallel(n_jobs=1)]: Done  69 tasks      | elapsed:    0.0s\n",
      "[Parallel(n_jobs=1)]: Done  70 tasks      | elapsed:    0.0s\n",
      "[Parallel(n_jobs=1)]: Done  71 tasks      | elapsed:    0.0s\n",
      "[Parallel(n_jobs=1)]: Done  72 tasks      | elapsed:    0.0s\n",
      "[Parallel(n_jobs=1)]: Done  73 tasks      | elapsed:    0.0s\n",
      "[Parallel(n_jobs=1)]: Done  74 tasks      | elapsed:    0.0s\n",
      "[Parallel(n_jobs=1)]: Done  75 tasks      | elapsed:    0.0s\n",
      "[Parallel(n_jobs=1)]: Done  75 tasks      | elapsed:    0.0s\n",
      "[Parallel(n_jobs=1)]: Done   1 tasks      | elapsed:    0.0s\n",
      "[Parallel(n_jobs=1)]: Done   2 tasks      | elapsed:    0.0s\n",
      "[Parallel(n_jobs=1)]: Done   3 tasks      | elapsed:    0.0s\n"
     ]
    },
    {
     "name": "stdout",
     "output_type": "stream",
     "text": [
      "building tree 75 of 75\n",
      "building tree 1 of 95\n",
      "building tree 2 of 95\n",
      "building tree 3 of 95\n",
      "building tree 4 of 95\n"
     ]
    },
    {
     "name": "stderr",
     "output_type": "stream",
     "text": [
      "[Parallel(n_jobs=1)]: Done   4 tasks      | elapsed:    0.0s\n",
      "[Parallel(n_jobs=1)]: Done   5 tasks      | elapsed:    0.0s\n",
      "[Parallel(n_jobs=1)]: Done   6 tasks      | elapsed:    0.0s\n",
      "[Parallel(n_jobs=1)]: Done   7 tasks      | elapsed:    0.0s\n",
      "[Parallel(n_jobs=1)]: Done   8 tasks      | elapsed:    0.1s\n",
      "[Parallel(n_jobs=1)]: Done   9 tasks      | elapsed:    0.1s\n",
      "[Parallel(n_jobs=1)]: Done  10 tasks      | elapsed:    0.1s\n",
      "[Parallel(n_jobs=1)]: Done  11 tasks      | elapsed:    0.1s\n",
      "[Parallel(n_jobs=1)]: Done  12 tasks      | elapsed:    0.1s\n",
      "[Parallel(n_jobs=1)]: Done  13 tasks      | elapsed:    0.2s\n",
      "[Parallel(n_jobs=1)]: Done  14 tasks      | elapsed:    0.2s\n"
     ]
    },
    {
     "name": "stdout",
     "output_type": "stream",
     "text": [
      "building tree 5 of 95\n",
      "building tree 6 of 95\n",
      "building tree 7 of 95\n",
      "building tree 8 of 95\n",
      "building tree 9 of 95\n",
      "building tree 10 of 95\n",
      "building tree 11 of 95\n",
      "building tree 12 of 95\n",
      "building tree 13 of 95\n",
      "building tree 14 of 95\n",
      "building tree 15 of 95\n"
     ]
    },
    {
     "name": "stderr",
     "output_type": "stream",
     "text": [
      "[Parallel(n_jobs=1)]: Done  15 tasks      | elapsed:    0.2s\n",
      "[Parallel(n_jobs=1)]: Done  16 tasks      | elapsed:    0.2s\n",
      "[Parallel(n_jobs=1)]: Done  17 tasks      | elapsed:    0.2s\n",
      "[Parallel(n_jobs=1)]: Done  18 tasks      | elapsed:    0.3s\n",
      "[Parallel(n_jobs=1)]: Done  19 tasks      | elapsed:    0.3s\n",
      "[Parallel(n_jobs=1)]: Done  20 tasks      | elapsed:    0.3s\n",
      "[Parallel(n_jobs=1)]: Done  21 tasks      | elapsed:    0.3s\n",
      "[Parallel(n_jobs=1)]: Done  22 tasks      | elapsed:    0.4s\n",
      "[Parallel(n_jobs=1)]: Done  23 tasks      | elapsed:    0.4s\n"
     ]
    },
    {
     "name": "stdout",
     "output_type": "stream",
     "text": [
      "building tree 16 of 95\n",
      "building tree 17 of 95\n",
      "building tree 18 of 95\n",
      "building tree 19 of 95\n",
      "building tree 20 of 95\n",
      "building tree 21 of 95\n",
      "building tree 22 of 95\n",
      "building tree 23 of 95\n",
      "building tree 24 of 95\n"
     ]
    },
    {
     "name": "stderr",
     "output_type": "stream",
     "text": [
      "[Parallel(n_jobs=1)]: Done  24 tasks      | elapsed:    0.4s\n",
      "[Parallel(n_jobs=1)]: Done  25 tasks      | elapsed:    0.4s\n",
      "[Parallel(n_jobs=1)]: Done  26 tasks      | elapsed:    0.5s\n",
      "[Parallel(n_jobs=1)]: Done  27 tasks      | elapsed:    0.5s\n",
      "[Parallel(n_jobs=1)]: Done  28 tasks      | elapsed:    0.5s\n",
      "[Parallel(n_jobs=1)]: Done  29 tasks      | elapsed:    0.5s\n",
      "[Parallel(n_jobs=1)]: Done  30 tasks      | elapsed:    0.5s\n",
      "[Parallel(n_jobs=1)]: Done  31 tasks      | elapsed:    0.6s\n",
      "[Parallel(n_jobs=1)]: Done  32 tasks      | elapsed:    0.6s\n",
      "[Parallel(n_jobs=1)]: Done  33 tasks      | elapsed:    0.6s\n",
      "[Parallel(n_jobs=1)]: Done  34 tasks      | elapsed:    0.6s\n",
      "[Parallel(n_jobs=1)]: Done  35 tasks      | elapsed:    0.6s\n"
     ]
    },
    {
     "name": "stdout",
     "output_type": "stream",
     "text": [
      "building tree 25 of 95\n",
      "building tree 26 of 95\n",
      "building tree 27 of 95\n",
      "building tree 28 of 95\n",
      "building tree 29 of 95\n",
      "building tree 30 of 95\n",
      "building tree 31 of 95\n",
      "building tree 32 of 95\n",
      "building tree 33 of 95\n",
      "building tree 34 of 95\n",
      "building tree 35 of 95\n",
      "building tree 36 of 95\n"
     ]
    },
    {
     "name": "stderr",
     "output_type": "stream",
     "text": [
      "[Parallel(n_jobs=1)]: Done  36 tasks      | elapsed:    0.6s\n",
      "[Parallel(n_jobs=1)]: Done  37 tasks      | elapsed:    0.7s\n",
      "[Parallel(n_jobs=1)]: Done  38 tasks      | elapsed:    0.7s\n",
      "[Parallel(n_jobs=1)]: Done  39 tasks      | elapsed:    0.7s\n",
      "[Parallel(n_jobs=1)]: Done  40 tasks      | elapsed:    0.7s\n",
      "[Parallel(n_jobs=1)]: Done  41 tasks      | elapsed:    0.8s\n",
      "[Parallel(n_jobs=1)]: Done  42 tasks      | elapsed:    0.8s\n",
      "[Parallel(n_jobs=1)]: Done  43 tasks      | elapsed:    0.8s\n",
      "[Parallel(n_jobs=1)]: Done  44 tasks      | elapsed:    0.8s\n",
      "[Parallel(n_jobs=1)]: Done  45 tasks      | elapsed:    0.8s\n"
     ]
    },
    {
     "name": "stdout",
     "output_type": "stream",
     "text": [
      "building tree 37 of 95\n",
      "building tree 38 of 95\n",
      "building tree 39 of 95\n",
      "building tree 40 of 95\n",
      "building tree 41 of 95\n",
      "building tree 42 of 95\n",
      "building tree 43 of 95\n",
      "building tree 44 of 95\n",
      "building tree 45 of 95\n",
      "building tree 46 of 95\n"
     ]
    },
    {
     "name": "stderr",
     "output_type": "stream",
     "text": [
      "[Parallel(n_jobs=1)]: Done  46 tasks      | elapsed:    0.9s\n",
      "[Parallel(n_jobs=1)]: Done  47 tasks      | elapsed:    0.9s\n",
      "[Parallel(n_jobs=1)]: Done  48 tasks      | elapsed:    0.9s\n",
      "[Parallel(n_jobs=1)]: Done  49 tasks      | elapsed:    0.9s\n",
      "[Parallel(n_jobs=1)]: Done  50 tasks      | elapsed:    0.9s\n",
      "[Parallel(n_jobs=1)]: Done  51 tasks      | elapsed:    0.9s\n",
      "[Parallel(n_jobs=1)]: Done  52 tasks      | elapsed:    1.0s\n",
      "[Parallel(n_jobs=1)]: Done  53 tasks      | elapsed:    1.0s\n",
      "[Parallel(n_jobs=1)]: Done  54 tasks      | elapsed:    1.0s\n",
      "[Parallel(n_jobs=1)]: Done  55 tasks      | elapsed:    1.0s\n",
      "[Parallel(n_jobs=1)]: Done  56 tasks      | elapsed:    1.0s\n",
      "[Parallel(n_jobs=1)]: Done  57 tasks      | elapsed:    1.1s\n"
     ]
    },
    {
     "name": "stdout",
     "output_type": "stream",
     "text": [
      "building tree 47 of 95\n",
      "building tree 48 of 95\n",
      "building tree 49 of 95\n",
      "building tree 50 of 95\n",
      "building tree 51 of 95\n",
      "building tree 52 of 95\n",
      "building tree 53 of 95\n",
      "building tree 54 of 95\n",
      "building tree 55 of 95\n",
      "building tree 56 of 95\n",
      "building tree 57 of 95\n",
      "building tree 58 of 95\n"
     ]
    },
    {
     "name": "stderr",
     "output_type": "stream",
     "text": [
      "[Parallel(n_jobs=1)]: Done  58 tasks      | elapsed:    1.1s\n",
      "[Parallel(n_jobs=1)]: Done  59 tasks      | elapsed:    1.1s\n",
      "[Parallel(n_jobs=1)]: Done  60 tasks      | elapsed:    1.1s\n",
      "[Parallel(n_jobs=1)]: Done  61 tasks      | elapsed:    1.1s\n",
      "[Parallel(n_jobs=1)]: Done  62 tasks      | elapsed:    1.2s\n",
      "[Parallel(n_jobs=1)]: Done  63 tasks      | elapsed:    1.2s\n",
      "[Parallel(n_jobs=1)]: Done  64 tasks      | elapsed:    1.2s\n",
      "[Parallel(n_jobs=1)]: Done  65 tasks      | elapsed:    1.2s\n",
      "[Parallel(n_jobs=1)]: Done  66 tasks      | elapsed:    1.2s\n",
      "[Parallel(n_jobs=1)]: Done  67 tasks      | elapsed:    1.3s\n",
      "[Parallel(n_jobs=1)]: Done  68 tasks      | elapsed:    1.3s\n"
     ]
    },
    {
     "name": "stdout",
     "output_type": "stream",
     "text": [
      "building tree 59 of 95\n",
      "building tree 60 of 95\n",
      "building tree 61 of 95\n",
      "building tree 62 of 95\n",
      "building tree 63 of 95\n",
      "building tree 64 of 95\n",
      "building tree 65 of 95\n",
      "building tree 66 of 95\n",
      "building tree 67 of 95\n",
      "building tree 68 of 95\n",
      "building tree 69 of 95\n"
     ]
    },
    {
     "name": "stderr",
     "output_type": "stream",
     "text": [
      "[Parallel(n_jobs=1)]: Done  69 tasks      | elapsed:    1.3s\n",
      "[Parallel(n_jobs=1)]: Done  70 tasks      | elapsed:    1.3s\n",
      "[Parallel(n_jobs=1)]: Done  71 tasks      | elapsed:    1.3s\n",
      "[Parallel(n_jobs=1)]: Done  72 tasks      | elapsed:    1.4s\n",
      "[Parallel(n_jobs=1)]: Done  73 tasks      | elapsed:    1.4s\n",
      "[Parallel(n_jobs=1)]: Done  74 tasks      | elapsed:    1.4s\n",
      "[Parallel(n_jobs=1)]: Done  75 tasks      | elapsed:    1.4s\n",
      "[Parallel(n_jobs=1)]: Done  76 tasks      | elapsed:    1.4s\n",
      "[Parallel(n_jobs=1)]: Done  77 tasks      | elapsed:    1.4s\n",
      "[Parallel(n_jobs=1)]: Done  78 tasks      | elapsed:    1.5s\n",
      "[Parallel(n_jobs=1)]: Done  79 tasks      | elapsed:    1.5s\n",
      "[Parallel(n_jobs=1)]: Done  80 tasks      | elapsed:    1.5s\n"
     ]
    },
    {
     "name": "stdout",
     "output_type": "stream",
     "text": [
      "building tree 70 of 95\n",
      "building tree 71 of 95\n",
      "building tree 72 of 95\n",
      "building tree 73 of 95\n",
      "building tree 74 of 95\n",
      "building tree 75 of 95\n",
      "building tree 76 of 95\n",
      "building tree 77 of 95\n",
      "building tree 78 of 95\n",
      "building tree 79 of 95\n",
      "building tree 80 of 95\n",
      "building tree 81 of 95\n"
     ]
    },
    {
     "name": "stderr",
     "output_type": "stream",
     "text": [
      "[Parallel(n_jobs=1)]: Done  81 tasks      | elapsed:    1.5s\n",
      "[Parallel(n_jobs=1)]: Done  82 tasks      | elapsed:    1.5s\n",
      "[Parallel(n_jobs=1)]: Done  83 tasks      | elapsed:    1.6s\n",
      "[Parallel(n_jobs=1)]: Done  84 tasks      | elapsed:    1.6s\n",
      "[Parallel(n_jobs=1)]: Done  85 tasks      | elapsed:    1.6s\n",
      "[Parallel(n_jobs=1)]: Done  86 tasks      | elapsed:    1.6s\n",
      "[Parallel(n_jobs=1)]: Done  87 tasks      | elapsed:    1.6s\n",
      "[Parallel(n_jobs=1)]: Done  88 tasks      | elapsed:    1.7s\n",
      "[Parallel(n_jobs=1)]: Done  89 tasks      | elapsed:    1.7s\n",
      "[Parallel(n_jobs=1)]: Done  90 tasks      | elapsed:    1.7s\n",
      "[Parallel(n_jobs=1)]: Done  91 tasks      | elapsed:    1.7s\n"
     ]
    },
    {
     "name": "stdout",
     "output_type": "stream",
     "text": [
      "building tree 82 of 95\n",
      "building tree 83 of 95\n",
      "building tree 84 of 95\n",
      "building tree 85 of 95\n",
      "building tree 86 of 95\n",
      "building tree 87 of 95\n",
      "building tree 88 of 95\n",
      "building tree 89 of 95\n",
      "building tree 90 of 95\n",
      "building tree 91 of 95\n",
      "building tree 92 of 95\n"
     ]
    },
    {
     "name": "stderr",
     "output_type": "stream",
     "text": [
      "[Parallel(n_jobs=1)]: Done  92 tasks      | elapsed:    1.7s\n",
      "[Parallel(n_jobs=1)]: Done  93 tasks      | elapsed:    1.7s\n",
      "[Parallel(n_jobs=1)]: Done  94 tasks      | elapsed:    1.8s\n",
      "[Parallel(n_jobs=1)]: Done  95 tasks      | elapsed:    1.8s\n",
      "[Parallel(n_jobs=1)]: Done  95 tasks      | elapsed:    1.8s\n",
      "[Parallel(n_jobs=1)]: Done   1 tasks      | elapsed:    0.0s\n",
      "[Parallel(n_jobs=1)]: Done   2 tasks      | elapsed:    0.0s\n",
      "[Parallel(n_jobs=1)]: Done   3 tasks      | elapsed:    0.0s\n",
      "[Parallel(n_jobs=1)]: Done   4 tasks      | elapsed:    0.0s\n",
      "[Parallel(n_jobs=1)]: Done   5 tasks      | elapsed:    0.0s\n",
      "[Parallel(n_jobs=1)]: Done   6 tasks      | elapsed:    0.0s\n",
      "[Parallel(n_jobs=1)]: Done   7 tasks      | elapsed:    0.0s\n",
      "[Parallel(n_jobs=1)]: Done   8 tasks      | elapsed:    0.0s\n",
      "[Parallel(n_jobs=1)]: Done   9 tasks      | elapsed:    0.0s\n",
      "[Parallel(n_jobs=1)]: Done  10 tasks      | elapsed:    0.0s\n",
      "[Parallel(n_jobs=1)]: Done  11 tasks      | elapsed:    0.0s\n",
      "[Parallel(n_jobs=1)]: Done  12 tasks      | elapsed:    0.0s\n",
      "[Parallel(n_jobs=1)]: Done  13 tasks      | elapsed:    0.0s\n",
      "[Parallel(n_jobs=1)]: Done  14 tasks      | elapsed:    0.0s\n",
      "[Parallel(n_jobs=1)]: Done  15 tasks      | elapsed:    0.0s\n",
      "[Parallel(n_jobs=1)]: Done  16 tasks      | elapsed:    0.0s\n",
      "[Parallel(n_jobs=1)]: Done  17 tasks      | elapsed:    0.0s\n",
      "[Parallel(n_jobs=1)]: Done  18 tasks      | elapsed:    0.0s\n",
      "[Parallel(n_jobs=1)]: Done  19 tasks      | elapsed:    0.0s\n",
      "[Parallel(n_jobs=1)]: Done  20 tasks      | elapsed:    0.0s\n",
      "[Parallel(n_jobs=1)]: Done  21 tasks      | elapsed:    0.0s\n",
      "[Parallel(n_jobs=1)]: Done  22 tasks      | elapsed:    0.0s\n",
      "[Parallel(n_jobs=1)]: Done  23 tasks      | elapsed:    0.0s\n",
      "[Parallel(n_jobs=1)]: Done  24 tasks      | elapsed:    0.0s\n",
      "[Parallel(n_jobs=1)]: Done  25 tasks      | elapsed:    0.0s\n",
      "[Parallel(n_jobs=1)]: Done  26 tasks      | elapsed:    0.0s\n",
      "[Parallel(n_jobs=1)]: Done  27 tasks      | elapsed:    0.0s\n",
      "[Parallel(n_jobs=1)]: Done  28 tasks      | elapsed:    0.0s\n",
      "[Parallel(n_jobs=1)]: Done  29 tasks      | elapsed:    0.0s\n",
      "[Parallel(n_jobs=1)]: Done  30 tasks      | elapsed:    0.0s\n",
      "[Parallel(n_jobs=1)]: Done  31 tasks      | elapsed:    0.0s\n",
      "[Parallel(n_jobs=1)]: Done  32 tasks      | elapsed:    0.0s\n",
      "[Parallel(n_jobs=1)]: Done  33 tasks      | elapsed:    0.0s\n",
      "[Parallel(n_jobs=1)]: Done  34 tasks      | elapsed:    0.0s\n",
      "[Parallel(n_jobs=1)]: Done  35 tasks      | elapsed:    0.0s\n",
      "[Parallel(n_jobs=1)]: Done  36 tasks      | elapsed:    0.0s\n",
      "[Parallel(n_jobs=1)]: Done  37 tasks      | elapsed:    0.0s\n",
      "[Parallel(n_jobs=1)]: Done  38 tasks      | elapsed:    0.0s\n",
      "[Parallel(n_jobs=1)]: Done  39 tasks      | elapsed:    0.0s\n",
      "[Parallel(n_jobs=1)]: Done  40 tasks      | elapsed:    0.0s\n",
      "[Parallel(n_jobs=1)]: Done  41 tasks      | elapsed:    0.0s\n",
      "[Parallel(n_jobs=1)]: Done  42 tasks      | elapsed:    0.0s\n",
      "[Parallel(n_jobs=1)]: Done  43 tasks      | elapsed:    0.0s\n",
      "[Parallel(n_jobs=1)]: Done  44 tasks      | elapsed:    0.0s\n",
      "[Parallel(n_jobs=1)]: Done  45 tasks      | elapsed:    0.0s\n",
      "[Parallel(n_jobs=1)]: Done  46 tasks      | elapsed:    0.0s\n",
      "[Parallel(n_jobs=1)]: Done  47 tasks      | elapsed:    0.0s\n",
      "[Parallel(n_jobs=1)]: Done  48 tasks      | elapsed:    0.0s\n",
      "[Parallel(n_jobs=1)]: Done  49 tasks      | elapsed:    0.0s\n",
      "[Parallel(n_jobs=1)]: Done  50 tasks      | elapsed:    0.0s\n",
      "[Parallel(n_jobs=1)]: Done  51 tasks      | elapsed:    0.0s\n",
      "[Parallel(n_jobs=1)]: Done  52 tasks      | elapsed:    0.0s\n",
      "[Parallel(n_jobs=1)]: Done  53 tasks      | elapsed:    0.0s\n",
      "[Parallel(n_jobs=1)]: Done  54 tasks      | elapsed:    0.0s\n",
      "[Parallel(n_jobs=1)]: Done  55 tasks      | elapsed:    0.0s\n",
      "[Parallel(n_jobs=1)]: Done  56 tasks      | elapsed:    0.0s\n",
      "[Parallel(n_jobs=1)]: Done  57 tasks      | elapsed:    0.0s\n",
      "[Parallel(n_jobs=1)]: Done  58 tasks      | elapsed:    0.0s\n",
      "[Parallel(n_jobs=1)]: Done  59 tasks      | elapsed:    0.0s\n",
      "[Parallel(n_jobs=1)]: Done  60 tasks      | elapsed:    0.0s\n",
      "[Parallel(n_jobs=1)]: Done  61 tasks      | elapsed:    0.0s\n",
      "[Parallel(n_jobs=1)]: Done  62 tasks      | elapsed:    0.0s\n",
      "[Parallel(n_jobs=1)]: Done  63 tasks      | elapsed:    0.0s\n",
      "[Parallel(n_jobs=1)]: Done  64 tasks      | elapsed:    0.0s\n",
      "[Parallel(n_jobs=1)]: Done  65 tasks      | elapsed:    0.0s\n",
      "[Parallel(n_jobs=1)]: Done  66 tasks      | elapsed:    0.0s\n",
      "[Parallel(n_jobs=1)]: Done  67 tasks      | elapsed:    0.0s\n",
      "[Parallel(n_jobs=1)]: Done  68 tasks      | elapsed:    0.0s\n",
      "[Parallel(n_jobs=1)]: Done  69 tasks      | elapsed:    0.0s\n",
      "[Parallel(n_jobs=1)]: Done  70 tasks      | elapsed:    0.0s\n",
      "[Parallel(n_jobs=1)]: Done  71 tasks      | elapsed:    0.0s\n",
      "[Parallel(n_jobs=1)]: Done  72 tasks      | elapsed:    0.0s\n",
      "[Parallel(n_jobs=1)]: Done  73 tasks      | elapsed:    0.0s\n",
      "[Parallel(n_jobs=1)]: Done  74 tasks      | elapsed:    0.0s\n",
      "[Parallel(n_jobs=1)]: Done  75 tasks      | elapsed:    0.0s\n",
      "[Parallel(n_jobs=1)]: Done  76 tasks      | elapsed:    0.0s\n",
      "[Parallel(n_jobs=1)]: Done  77 tasks      | elapsed:    0.0s\n",
      "[Parallel(n_jobs=1)]: Done  78 tasks      | elapsed:    0.0s\n",
      "[Parallel(n_jobs=1)]: Done  79 tasks      | elapsed:    0.0s\n",
      "[Parallel(n_jobs=1)]: Done  80 tasks      | elapsed:    0.0s\n",
      "[Parallel(n_jobs=1)]: Done  81 tasks      | elapsed:    0.0s\n",
      "[Parallel(n_jobs=1)]: Done  82 tasks      | elapsed:    0.0s\n",
      "[Parallel(n_jobs=1)]: Done  83 tasks      | elapsed:    0.0s\n",
      "[Parallel(n_jobs=1)]: Done  84 tasks      | elapsed:    0.0s\n",
      "[Parallel(n_jobs=1)]: Done  85 tasks      | elapsed:    0.0s\n",
      "[Parallel(n_jobs=1)]: Done  86 tasks      | elapsed:    0.0s\n",
      "[Parallel(n_jobs=1)]: Done  87 tasks      | elapsed:    0.0s\n",
      "[Parallel(n_jobs=1)]: Done  88 tasks      | elapsed:    0.0s\n",
      "[Parallel(n_jobs=1)]: Done  89 tasks      | elapsed:    0.0s\n",
      "[Parallel(n_jobs=1)]: Done  90 tasks      | elapsed:    0.0s\n",
      "[Parallel(n_jobs=1)]: Done  91 tasks      | elapsed:    0.0s\n",
      "[Parallel(n_jobs=1)]: Done  92 tasks      | elapsed:    0.0s\n",
      "[Parallel(n_jobs=1)]: Done  93 tasks      | elapsed:    0.0s\n",
      "[Parallel(n_jobs=1)]: Done  94 tasks      | elapsed:    0.0s\n",
      "[Parallel(n_jobs=1)]: Done  95 tasks      | elapsed:    0.0s\n",
      "[Parallel(n_jobs=1)]: Done  95 tasks      | elapsed:    0.0s\n",
      "[Parallel(n_jobs=1)]: Done   1 tasks      | elapsed:    0.0s\n",
      "[Parallel(n_jobs=1)]: Done   2 tasks      | elapsed:    0.0s\n"
     ]
    },
    {
     "name": "stdout",
     "output_type": "stream",
     "text": [
      "building tree 93 of 95\n",
      "building tree 94 of 95\n",
      "building tree 95 of 95\n",
      "building tree 1 of 95\n",
      "building tree 2 of 95\n",
      "building tree 3 of 95\n"
     ]
    },
    {
     "name": "stderr",
     "output_type": "stream",
     "text": [
      "[Parallel(n_jobs=1)]: Done   3 tasks      | elapsed:    0.0s\n",
      "[Parallel(n_jobs=1)]: Done   4 tasks      | elapsed:    0.1s\n",
      "[Parallel(n_jobs=1)]: Done   5 tasks      | elapsed:    0.1s\n",
      "[Parallel(n_jobs=1)]: Done   6 tasks      | elapsed:    0.1s\n",
      "[Parallel(n_jobs=1)]: Done   7 tasks      | elapsed:    0.2s\n",
      "[Parallel(n_jobs=1)]: Done   8 tasks      | elapsed:    0.2s\n"
     ]
    },
    {
     "name": "stdout",
     "output_type": "stream",
     "text": [
      "building tree 4 of 95\n",
      "building tree 5 of 95\n",
      "building tree 6 of 95\n",
      "building tree 7 of 95\n",
      "building tree 8 of 95\n",
      "building tree 9 of 95\n"
     ]
    },
    {
     "name": "stderr",
     "output_type": "stream",
     "text": [
      "[Parallel(n_jobs=1)]: Done   9 tasks      | elapsed:    0.2s\n",
      "[Parallel(n_jobs=1)]: Done  10 tasks      | elapsed:    0.3s\n",
      "[Parallel(n_jobs=1)]: Done  11 tasks      | elapsed:    0.3s\n",
      "[Parallel(n_jobs=1)]: Done  12 tasks      | elapsed:    0.4s\n",
      "[Parallel(n_jobs=1)]: Done  13 tasks      | elapsed:    0.4s\n",
      "[Parallel(n_jobs=1)]: Done  14 tasks      | elapsed:    0.5s\n"
     ]
    },
    {
     "name": "stdout",
     "output_type": "stream",
     "text": [
      "building tree 10 of 95\n",
      "building tree 11 of 95\n",
      "building tree 12 of 95\n",
      "building tree 13 of 95\n",
      "building tree 14 of 95\n",
      "building tree 15 of 95\n"
     ]
    },
    {
     "name": "stderr",
     "output_type": "stream",
     "text": [
      "[Parallel(n_jobs=1)]: Done  15 tasks      | elapsed:    0.5s\n",
      "[Parallel(n_jobs=1)]: Done  16 tasks      | elapsed:    0.5s\n",
      "[Parallel(n_jobs=1)]: Done  17 tasks      | elapsed:    0.6s\n",
      "[Parallel(n_jobs=1)]: Done  18 tasks      | elapsed:    0.6s\n",
      "[Parallel(n_jobs=1)]: Done  19 tasks      | elapsed:    0.7s\n",
      "[Parallel(n_jobs=1)]: Done  20 tasks      | elapsed:    0.7s\n"
     ]
    },
    {
     "name": "stdout",
     "output_type": "stream",
     "text": [
      "building tree 16 of 95\n",
      "building tree 17 of 95\n",
      "building tree 18 of 95\n",
      "building tree 19 of 95\n",
      "building tree 20 of 95\n",
      "building tree 21 of 95\n"
     ]
    },
    {
     "name": "stderr",
     "output_type": "stream",
     "text": [
      "[Parallel(n_jobs=1)]: Done  21 tasks      | elapsed:    0.7s\n",
      "[Parallel(n_jobs=1)]: Done  22 tasks      | elapsed:    0.8s\n",
      "[Parallel(n_jobs=1)]: Done  23 tasks      | elapsed:    0.8s\n",
      "[Parallel(n_jobs=1)]: Done  24 tasks      | elapsed:    0.9s\n",
      "[Parallel(n_jobs=1)]: Done  25 tasks      | elapsed:    0.9s\n",
      "[Parallel(n_jobs=1)]: Done  26 tasks      | elapsed:    0.9s\n"
     ]
    },
    {
     "name": "stdout",
     "output_type": "stream",
     "text": [
      "building tree 22 of 95\n",
      "building tree 23 of 95\n",
      "building tree 24 of 95\n",
      "building tree 25 of 95\n",
      "building tree 26 of 95\n",
      "building tree 27 of 95\n"
     ]
    },
    {
     "name": "stderr",
     "output_type": "stream",
     "text": [
      "[Parallel(n_jobs=1)]: Done  27 tasks      | elapsed:    1.0s\n",
      "[Parallel(n_jobs=1)]: Done  28 tasks      | elapsed:    1.0s\n",
      "[Parallel(n_jobs=1)]: Done  29 tasks      | elapsed:    1.1s\n",
      "[Parallel(n_jobs=1)]: Done  30 tasks      | elapsed:    1.1s\n",
      "[Parallel(n_jobs=1)]: Done  31 tasks      | elapsed:    1.1s\n",
      "[Parallel(n_jobs=1)]: Done  32 tasks      | elapsed:    1.2s\n"
     ]
    },
    {
     "name": "stdout",
     "output_type": "stream",
     "text": [
      "building tree 28 of 95\n",
      "building tree 29 of 95\n",
      "building tree 30 of 95\n",
      "building tree 31 of 95\n",
      "building tree 32 of 95\n",
      "building tree 33 of 95\n"
     ]
    },
    {
     "name": "stderr",
     "output_type": "stream",
     "text": [
      "[Parallel(n_jobs=1)]: Done  33 tasks      | elapsed:    1.2s\n",
      "[Parallel(n_jobs=1)]: Done  34 tasks      | elapsed:    1.3s\n",
      "[Parallel(n_jobs=1)]: Done  35 tasks      | elapsed:    1.3s\n",
      "[Parallel(n_jobs=1)]: Done  36 tasks      | elapsed:    1.3s\n",
      "[Parallel(n_jobs=1)]: Done  37 tasks      | elapsed:    1.4s\n",
      "[Parallel(n_jobs=1)]: Done  38 tasks      | elapsed:    1.4s\n"
     ]
    },
    {
     "name": "stdout",
     "output_type": "stream",
     "text": [
      "building tree 34 of 95\n",
      "building tree 35 of 95\n",
      "building tree 36 of 95\n",
      "building tree 37 of 95\n",
      "building tree 38 of 95\n",
      "building tree 39 of 95\n"
     ]
    },
    {
     "name": "stderr",
     "output_type": "stream",
     "text": [
      "[Parallel(n_jobs=1)]: Done  39 tasks      | elapsed:    1.4s\n",
      "[Parallel(n_jobs=1)]: Done  40 tasks      | elapsed:    1.5s\n",
      "[Parallel(n_jobs=1)]: Done  41 tasks      | elapsed:    1.5s\n",
      "[Parallel(n_jobs=1)]: Done  42 tasks      | elapsed:    1.6s\n",
      "[Parallel(n_jobs=1)]: Done  43 tasks      | elapsed:    1.6s\n",
      "[Parallel(n_jobs=1)]: Done  44 tasks      | elapsed:    1.6s\n"
     ]
    },
    {
     "name": "stdout",
     "output_type": "stream",
     "text": [
      "building tree 40 of 95\n",
      "building tree 41 of 95\n",
      "building tree 42 of 95\n",
      "building tree 43 of 95\n",
      "building tree 44 of 95\n",
      "building tree 45 of 95\n"
     ]
    },
    {
     "name": "stderr",
     "output_type": "stream",
     "text": [
      "[Parallel(n_jobs=1)]: Done  45 tasks      | elapsed:    1.7s\n",
      "[Parallel(n_jobs=1)]: Done  46 tasks      | elapsed:    1.7s\n",
      "[Parallel(n_jobs=1)]: Done  47 tasks      | elapsed:    1.8s\n",
      "[Parallel(n_jobs=1)]: Done  48 tasks      | elapsed:    1.8s\n",
      "[Parallel(n_jobs=1)]: Done  49 tasks      | elapsed:    1.8s\n",
      "[Parallel(n_jobs=1)]: Done  50 tasks      | elapsed:    1.9s\n"
     ]
    },
    {
     "name": "stdout",
     "output_type": "stream",
     "text": [
      "building tree 46 of 95\n",
      "building tree 47 of 95\n",
      "building tree 48 of 95\n",
      "building tree 49 of 95\n",
      "building tree 50 of 95\n",
      "building tree 51 of 95\n"
     ]
    },
    {
     "name": "stderr",
     "output_type": "stream",
     "text": [
      "[Parallel(n_jobs=1)]: Done  51 tasks      | elapsed:    1.9s\n",
      "[Parallel(n_jobs=1)]: Done  52 tasks      | elapsed:    2.0s\n",
      "[Parallel(n_jobs=1)]: Done  53 tasks      | elapsed:    2.0s\n",
      "[Parallel(n_jobs=1)]: Done  54 tasks      | elapsed:    2.0s\n",
      "[Parallel(n_jobs=1)]: Done  55 tasks      | elapsed:    2.1s\n",
      "[Parallel(n_jobs=1)]: Done  56 tasks      | elapsed:    2.1s\n"
     ]
    },
    {
     "name": "stdout",
     "output_type": "stream",
     "text": [
      "building tree 52 of 95\n",
      "building tree 53 of 95\n",
      "building tree 54 of 95\n",
      "building tree 55 of 95\n",
      "building tree 56 of 95\n",
      "building tree 57 of 95\n"
     ]
    },
    {
     "name": "stderr",
     "output_type": "stream",
     "text": [
      "[Parallel(n_jobs=1)]: Done  57 tasks      | elapsed:    2.1s\n",
      "[Parallel(n_jobs=1)]: Done  58 tasks      | elapsed:    2.2s\n",
      "[Parallel(n_jobs=1)]: Done  59 tasks      | elapsed:    2.2s\n",
      "[Parallel(n_jobs=1)]: Done  60 tasks      | elapsed:    2.3s\n",
      "[Parallel(n_jobs=1)]: Done  61 tasks      | elapsed:    2.3s\n",
      "[Parallel(n_jobs=1)]: Done  62 tasks      | elapsed:    2.3s\n"
     ]
    },
    {
     "name": "stdout",
     "output_type": "stream",
     "text": [
      "building tree 58 of 95\n",
      "building tree 59 of 95\n",
      "building tree 60 of 95\n",
      "building tree 61 of 95\n",
      "building tree 62 of 95\n",
      "building tree 63 of 95\n"
     ]
    },
    {
     "name": "stderr",
     "output_type": "stream",
     "text": [
      "[Parallel(n_jobs=1)]: Done  63 tasks      | elapsed:    2.4s\n",
      "[Parallel(n_jobs=1)]: Done  64 tasks      | elapsed:    2.4s\n",
      "[Parallel(n_jobs=1)]: Done  65 tasks      | elapsed:    2.5s\n",
      "[Parallel(n_jobs=1)]: Done  66 tasks      | elapsed:    2.5s\n",
      "[Parallel(n_jobs=1)]: Done  67 tasks      | elapsed:    2.6s\n"
     ]
    },
    {
     "name": "stdout",
     "output_type": "stream",
     "text": [
      "building tree 64 of 95\n",
      "building tree 65 of 95\n",
      "building tree 66 of 95\n",
      "building tree 67 of 95\n",
      "building tree 68 of 95\n"
     ]
    },
    {
     "name": "stderr",
     "output_type": "stream",
     "text": [
      "[Parallel(n_jobs=1)]: Done  68 tasks      | elapsed:    2.6s\n",
      "[Parallel(n_jobs=1)]: Done  69 tasks      | elapsed:    2.6s\n",
      "[Parallel(n_jobs=1)]: Done  70 tasks      | elapsed:    2.7s\n",
      "[Parallel(n_jobs=1)]: Done  71 tasks      | elapsed:    2.7s\n",
      "[Parallel(n_jobs=1)]: Done  72 tasks      | elapsed:    2.7s\n",
      "[Parallel(n_jobs=1)]: Done  73 tasks      | elapsed:    2.8s\n",
      "[Parallel(n_jobs=1)]: Done  74 tasks      | elapsed:    2.8s\n"
     ]
    },
    {
     "name": "stdout",
     "output_type": "stream",
     "text": [
      "building tree 69 of 95\n",
      "building tree 70 of 95\n",
      "building tree 71 of 95\n",
      "building tree 72 of 95\n",
      "building tree 73 of 95\n",
      "building tree 74 of 95\n",
      "building tree 75 of 95\n"
     ]
    },
    {
     "name": "stderr",
     "output_type": "stream",
     "text": [
      "[Parallel(n_jobs=1)]: Done  75 tasks      | elapsed:    2.8s\n",
      "[Parallel(n_jobs=1)]: Done  76 tasks      | elapsed:    2.9s\n",
      "[Parallel(n_jobs=1)]: Done  77 tasks      | elapsed:    2.9s\n",
      "[Parallel(n_jobs=1)]: Done  78 tasks      | elapsed:    3.0s\n",
      "[Parallel(n_jobs=1)]: Done  79 tasks      | elapsed:    3.0s\n",
      "[Parallel(n_jobs=1)]: Done  80 tasks      | elapsed:    3.0s\n"
     ]
    },
    {
     "name": "stdout",
     "output_type": "stream",
     "text": [
      "building tree 76 of 95\n",
      "building tree 77 of 95\n",
      "building tree 78 of 95\n",
      "building tree 79 of 95\n",
      "building tree 80 of 95\n",
      "building tree 81 of 95\n"
     ]
    },
    {
     "name": "stderr",
     "output_type": "stream",
     "text": [
      "[Parallel(n_jobs=1)]: Done  81 tasks      | elapsed:    3.1s\n",
      "[Parallel(n_jobs=1)]: Done  82 tasks      | elapsed:    3.1s\n",
      "[Parallel(n_jobs=1)]: Done  83 tasks      | elapsed:    3.2s\n",
      "[Parallel(n_jobs=1)]: Done  84 tasks      | elapsed:    3.2s\n",
      "[Parallel(n_jobs=1)]: Done  85 tasks      | elapsed:    3.2s\n",
      "[Parallel(n_jobs=1)]: Done  86 tasks      | elapsed:    3.3s\n"
     ]
    },
    {
     "name": "stdout",
     "output_type": "stream",
     "text": [
      "building tree 82 of 95\n",
      "building tree 83 of 95\n",
      "building tree 84 of 95\n",
      "building tree 85 of 95\n",
      "building tree 86 of 95\n",
      "building tree 87 of 95\n"
     ]
    },
    {
     "name": "stderr",
     "output_type": "stream",
     "text": [
      "[Parallel(n_jobs=1)]: Done  87 tasks      | elapsed:    3.3s\n",
      "[Parallel(n_jobs=1)]: Done  88 tasks      | elapsed:    3.4s\n",
      "[Parallel(n_jobs=1)]: Done  89 tasks      | elapsed:    3.4s\n",
      "[Parallel(n_jobs=1)]: Done  90 tasks      | elapsed:    3.4s\n",
      "[Parallel(n_jobs=1)]: Done  91 tasks      | elapsed:    3.5s\n",
      "[Parallel(n_jobs=1)]: Done  92 tasks      | elapsed:    3.5s\n"
     ]
    },
    {
     "name": "stdout",
     "output_type": "stream",
     "text": [
      "building tree 88 of 95\n",
      "building tree 89 of 95\n",
      "building tree 90 of 95\n",
      "building tree 91 of 95\n",
      "building tree 92 of 95\n",
      "building tree 93 of 95\n"
     ]
    },
    {
     "name": "stderr",
     "output_type": "stream",
     "text": [
      "[Parallel(n_jobs=1)]: Done  93 tasks      | elapsed:    3.5s\n",
      "[Parallel(n_jobs=1)]: Done  94 tasks      | elapsed:    3.6s\n",
      "[Parallel(n_jobs=1)]: Done  95 tasks      | elapsed:    3.6s\n",
      "[Parallel(n_jobs=1)]: Done  95 tasks      | elapsed:    3.6s\n",
      "[Parallel(n_jobs=1)]: Done   1 tasks      | elapsed:    0.0s\n",
      "[Parallel(n_jobs=1)]: Done   2 tasks      | elapsed:    0.0s\n",
      "[Parallel(n_jobs=1)]: Done   3 tasks      | elapsed:    0.0s\n",
      "[Parallel(n_jobs=1)]: Done   4 tasks      | elapsed:    0.0s\n",
      "[Parallel(n_jobs=1)]: Done   5 tasks      | elapsed:    0.0s\n",
      "[Parallel(n_jobs=1)]: Done   6 tasks      | elapsed:    0.0s\n",
      "[Parallel(n_jobs=1)]: Done   7 tasks      | elapsed:    0.0s\n",
      "[Parallel(n_jobs=1)]: Done   8 tasks      | elapsed:    0.0s\n",
      "[Parallel(n_jobs=1)]: Done   9 tasks      | elapsed:    0.0s\n",
      "[Parallel(n_jobs=1)]: Done  10 tasks      | elapsed:    0.0s\n",
      "[Parallel(n_jobs=1)]: Done  11 tasks      | elapsed:    0.0s\n",
      "[Parallel(n_jobs=1)]: Done  12 tasks      | elapsed:    0.0s\n",
      "[Parallel(n_jobs=1)]: Done  13 tasks      | elapsed:    0.0s\n",
      "[Parallel(n_jobs=1)]: Done  14 tasks      | elapsed:    0.0s\n",
      "[Parallel(n_jobs=1)]: Done  15 tasks      | elapsed:    0.0s\n",
      "[Parallel(n_jobs=1)]: Done  16 tasks      | elapsed:    0.0s\n",
      "[Parallel(n_jobs=1)]: Done  17 tasks      | elapsed:    0.0s\n",
      "[Parallel(n_jobs=1)]: Done  18 tasks      | elapsed:    0.0s\n",
      "[Parallel(n_jobs=1)]: Done  19 tasks      | elapsed:    0.0s\n",
      "[Parallel(n_jobs=1)]: Done  20 tasks      | elapsed:    0.0s\n",
      "[Parallel(n_jobs=1)]: Done  21 tasks      | elapsed:    0.0s\n",
      "[Parallel(n_jobs=1)]: Done  22 tasks      | elapsed:    0.0s\n",
      "[Parallel(n_jobs=1)]: Done  23 tasks      | elapsed:    0.0s\n",
      "[Parallel(n_jobs=1)]: Done  24 tasks      | elapsed:    0.0s\n",
      "[Parallel(n_jobs=1)]: Done  25 tasks      | elapsed:    0.0s\n",
      "[Parallel(n_jobs=1)]: Done  26 tasks      | elapsed:    0.0s\n",
      "[Parallel(n_jobs=1)]: Done  27 tasks      | elapsed:    0.0s\n",
      "[Parallel(n_jobs=1)]: Done  28 tasks      | elapsed:    0.0s\n",
      "[Parallel(n_jobs=1)]: Done  29 tasks      | elapsed:    0.0s\n",
      "[Parallel(n_jobs=1)]: Done  30 tasks      | elapsed:    0.0s\n",
      "[Parallel(n_jobs=1)]: Done  31 tasks      | elapsed:    0.0s\n",
      "[Parallel(n_jobs=1)]: Done  32 tasks      | elapsed:    0.0s\n",
      "[Parallel(n_jobs=1)]: Done  33 tasks      | elapsed:    0.0s\n",
      "[Parallel(n_jobs=1)]: Done  34 tasks      | elapsed:    0.0s\n",
      "[Parallel(n_jobs=1)]: Done  35 tasks      | elapsed:    0.0s\n",
      "[Parallel(n_jobs=1)]: Done  36 tasks      | elapsed:    0.0s\n",
      "[Parallel(n_jobs=1)]: Done  37 tasks      | elapsed:    0.0s\n",
      "[Parallel(n_jobs=1)]: Done  38 tasks      | elapsed:    0.0s\n",
      "[Parallel(n_jobs=1)]: Done  39 tasks      | elapsed:    0.0s\n",
      "[Parallel(n_jobs=1)]: Done  40 tasks      | elapsed:    0.0s\n",
      "[Parallel(n_jobs=1)]: Done  41 tasks      | elapsed:    0.0s\n",
      "[Parallel(n_jobs=1)]: Done  42 tasks      | elapsed:    0.0s\n",
      "[Parallel(n_jobs=1)]: Done  43 tasks      | elapsed:    0.0s\n",
      "[Parallel(n_jobs=1)]: Done  44 tasks      | elapsed:    0.0s\n",
      "[Parallel(n_jobs=1)]: Done  45 tasks      | elapsed:    0.0s\n",
      "[Parallel(n_jobs=1)]: Done  46 tasks      | elapsed:    0.0s\n",
      "[Parallel(n_jobs=1)]: Done  47 tasks      | elapsed:    0.0s\n",
      "[Parallel(n_jobs=1)]: Done  48 tasks      | elapsed:    0.0s\n",
      "[Parallel(n_jobs=1)]: Done  49 tasks      | elapsed:    0.0s\n",
      "[Parallel(n_jobs=1)]: Done  50 tasks      | elapsed:    0.0s\n",
      "[Parallel(n_jobs=1)]: Done  51 tasks      | elapsed:    0.0s\n",
      "[Parallel(n_jobs=1)]: Done  52 tasks      | elapsed:    0.0s\n",
      "[Parallel(n_jobs=1)]: Done  53 tasks      | elapsed:    0.0s\n",
      "[Parallel(n_jobs=1)]: Done  54 tasks      | elapsed:    0.0s\n",
      "[Parallel(n_jobs=1)]: Done  55 tasks      | elapsed:    0.0s\n",
      "[Parallel(n_jobs=1)]: Done  56 tasks      | elapsed:    0.0s\n",
      "[Parallel(n_jobs=1)]: Done  57 tasks      | elapsed:    0.0s\n",
      "[Parallel(n_jobs=1)]: Done  58 tasks      | elapsed:    0.0s\n",
      "[Parallel(n_jobs=1)]: Done  59 tasks      | elapsed:    0.0s\n",
      "[Parallel(n_jobs=1)]: Done  60 tasks      | elapsed:    0.0s\n",
      "[Parallel(n_jobs=1)]: Done  61 tasks      | elapsed:    0.0s\n",
      "[Parallel(n_jobs=1)]: Done  62 tasks      | elapsed:    0.0s\n",
      "[Parallel(n_jobs=1)]: Done  63 tasks      | elapsed:    0.0s\n",
      "[Parallel(n_jobs=1)]: Done  64 tasks      | elapsed:    0.0s\n",
      "[Parallel(n_jobs=1)]: Done  65 tasks      | elapsed:    0.0s\n",
      "[Parallel(n_jobs=1)]: Done  66 tasks      | elapsed:    0.0s\n",
      "[Parallel(n_jobs=1)]: Done  67 tasks      | elapsed:    0.0s\n",
      "[Parallel(n_jobs=1)]: Done  68 tasks      | elapsed:    0.0s\n",
      "[Parallel(n_jobs=1)]: Done  69 tasks      | elapsed:    0.0s\n",
      "[Parallel(n_jobs=1)]: Done  70 tasks      | elapsed:    0.0s\n",
      "[Parallel(n_jobs=1)]: Done  71 tasks      | elapsed:    0.0s\n",
      "[Parallel(n_jobs=1)]: Done  72 tasks      | elapsed:    0.0s\n",
      "[Parallel(n_jobs=1)]: Done  73 tasks      | elapsed:    0.0s\n",
      "[Parallel(n_jobs=1)]: Done  74 tasks      | elapsed:    0.0s\n",
      "[Parallel(n_jobs=1)]: Done  75 tasks      | elapsed:    0.0s\n",
      "[Parallel(n_jobs=1)]: Done  76 tasks      | elapsed:    0.0s\n",
      "[Parallel(n_jobs=1)]: Done  77 tasks      | elapsed:    0.0s\n",
      "[Parallel(n_jobs=1)]: Done  78 tasks      | elapsed:    0.0s\n",
      "[Parallel(n_jobs=1)]: Done  79 tasks      | elapsed:    0.0s\n",
      "[Parallel(n_jobs=1)]: Done  80 tasks      | elapsed:    0.0s\n",
      "[Parallel(n_jobs=1)]: Done  81 tasks      | elapsed:    0.0s\n",
      "[Parallel(n_jobs=1)]: Done  82 tasks      | elapsed:    0.0s\n",
      "[Parallel(n_jobs=1)]: Done  83 tasks      | elapsed:    0.0s\n",
      "[Parallel(n_jobs=1)]: Done  84 tasks      | elapsed:    0.0s\n",
      "[Parallel(n_jobs=1)]: Done  85 tasks      | elapsed:    0.0s\n",
      "[Parallel(n_jobs=1)]: Done  86 tasks      | elapsed:    0.0s\n",
      "[Parallel(n_jobs=1)]: Done  87 tasks      | elapsed:    0.0s\n",
      "[Parallel(n_jobs=1)]: Done  88 tasks      | elapsed:    0.0s\n",
      "[Parallel(n_jobs=1)]: Done  89 tasks      | elapsed:    0.0s\n",
      "[Parallel(n_jobs=1)]: Done  90 tasks      | elapsed:    0.0s\n",
      "[Parallel(n_jobs=1)]: Done  91 tasks      | elapsed:    0.0s\n",
      "[Parallel(n_jobs=1)]: Done  92 tasks      | elapsed:    0.0s\n",
      "[Parallel(n_jobs=1)]: Done  93 tasks      | elapsed:    0.0s\n",
      "[Parallel(n_jobs=1)]: Done  94 tasks      | elapsed:    0.0s\n",
      "[Parallel(n_jobs=1)]: Done  95 tasks      | elapsed:    0.0s\n",
      "[Parallel(n_jobs=1)]: Done  95 tasks      | elapsed:    0.0s\n",
      "[Parallel(n_jobs=1)]: Done   1 tasks      | elapsed:    0.0s\n"
     ]
    },
    {
     "name": "stdout",
     "output_type": "stream",
     "text": [
      "building tree 94 of 95\n",
      "building tree 95 of 95\n",
      "building tree 1 of 95\n",
      "building tree 2 of 95\n"
     ]
    },
    {
     "name": "stderr",
     "output_type": "stream",
     "text": [
      "[Parallel(n_jobs=1)]: Done   2 tasks      | elapsed:    0.0s\n",
      "[Parallel(n_jobs=1)]: Done   3 tasks      | elapsed:    0.1s\n",
      "[Parallel(n_jobs=1)]: Done   4 tasks      | elapsed:    0.1s\n",
      "[Parallel(n_jobs=1)]: Done   5 tasks      | elapsed:    0.2s\n"
     ]
    },
    {
     "name": "stdout",
     "output_type": "stream",
     "text": [
      "building tree 3 of 95\n",
      "building tree 4 of 95\n",
      "building tree 5 of 95\n",
      "building tree 6 of 95\n"
     ]
    },
    {
     "name": "stderr",
     "output_type": "stream",
     "text": [
      "[Parallel(n_jobs=1)]: Done   6 tasks      | elapsed:    0.3s\n",
      "[Parallel(n_jobs=1)]: Done   7 tasks      | elapsed:    0.3s\n",
      "[Parallel(n_jobs=1)]: Done   8 tasks      | elapsed:    0.4s\n",
      "[Parallel(n_jobs=1)]: Done   9 tasks      | elapsed:    0.4s\n"
     ]
    },
    {
     "name": "stdout",
     "output_type": "stream",
     "text": [
      "building tree 7 of 95\n",
      "building tree 8 of 95\n",
      "building tree 9 of 95\n",
      "building tree 10 of 95\n"
     ]
    },
    {
     "name": "stderr",
     "output_type": "stream",
     "text": [
      "[Parallel(n_jobs=1)]: Done  10 tasks      | elapsed:    0.5s\n",
      "[Parallel(n_jobs=1)]: Done  11 tasks      | elapsed:    0.5s\n",
      "[Parallel(n_jobs=1)]: Done  12 tasks      | elapsed:    0.6s\n",
      "[Parallel(n_jobs=1)]: Done  13 tasks      | elapsed:    0.7s\n"
     ]
    },
    {
     "name": "stdout",
     "output_type": "stream",
     "text": [
      "building tree 11 of 95\n",
      "building tree 12 of 95\n",
      "building tree 13 of 95\n",
      "building tree 14 of 95\n"
     ]
    },
    {
     "name": "stderr",
     "output_type": "stream",
     "text": [
      "[Parallel(n_jobs=1)]: Done  14 tasks      | elapsed:    0.7s\n",
      "[Parallel(n_jobs=1)]: Done  15 tasks      | elapsed:    0.8s\n",
      "[Parallel(n_jobs=1)]: Done  16 tasks      | elapsed:    0.9s\n",
      "[Parallel(n_jobs=1)]: Done  17 tasks      | elapsed:    0.9s\n"
     ]
    },
    {
     "name": "stdout",
     "output_type": "stream",
     "text": [
      "building tree 15 of 95\n",
      "building tree 16 of 95\n",
      "building tree 17 of 95\n",
      "building tree 18 of 95\n"
     ]
    },
    {
     "name": "stderr",
     "output_type": "stream",
     "text": [
      "[Parallel(n_jobs=1)]: Done  18 tasks      | elapsed:    1.0s\n",
      "[Parallel(n_jobs=1)]: Done  19 tasks      | elapsed:    1.1s\n",
      "[Parallel(n_jobs=1)]: Done  20 tasks      | elapsed:    1.1s\n",
      "[Parallel(n_jobs=1)]: Done  21 tasks      | elapsed:    1.2s\n"
     ]
    },
    {
     "name": "stdout",
     "output_type": "stream",
     "text": [
      "building tree 19 of 95\n",
      "building tree 20 of 95\n",
      "building tree 21 of 95\n",
      "building tree 22 of 95\n"
     ]
    },
    {
     "name": "stderr",
     "output_type": "stream",
     "text": [
      "[Parallel(n_jobs=1)]: Done  22 tasks      | elapsed:    1.2s\n",
      "[Parallel(n_jobs=1)]: Done  23 tasks      | elapsed:    1.3s\n",
      "[Parallel(n_jobs=1)]: Done  24 tasks      | elapsed:    1.3s\n",
      "[Parallel(n_jobs=1)]: Done  25 tasks      | elapsed:    1.4s\n"
     ]
    },
    {
     "name": "stdout",
     "output_type": "stream",
     "text": [
      "building tree 23 of 95\n",
      "building tree 24 of 95\n",
      "building tree 25 of 95\n",
      "building tree 26 of 95\n"
     ]
    },
    {
     "name": "stderr",
     "output_type": "stream",
     "text": [
      "[Parallel(n_jobs=1)]: Done  26 tasks      | elapsed:    1.5s\n",
      "[Parallel(n_jobs=1)]: Done  27 tasks      | elapsed:    1.5s\n",
      "[Parallel(n_jobs=1)]: Done  28 tasks      | elapsed:    1.6s\n",
      "[Parallel(n_jobs=1)]: Done  29 tasks      | elapsed:    1.6s\n"
     ]
    },
    {
     "name": "stdout",
     "output_type": "stream",
     "text": [
      "building tree 27 of 95\n",
      "building tree 28 of 95\n",
      "building tree 29 of 95\n",
      "building tree 30 of 95\n"
     ]
    },
    {
     "name": "stderr",
     "output_type": "stream",
     "text": [
      "[Parallel(n_jobs=1)]: Done  30 tasks      | elapsed:    1.7s\n",
      "[Parallel(n_jobs=1)]: Done  31 tasks      | elapsed:    1.8s\n",
      "[Parallel(n_jobs=1)]: Done  32 tasks      | elapsed:    1.8s\n",
      "[Parallel(n_jobs=1)]: Done  33 tasks      | elapsed:    1.9s\n"
     ]
    },
    {
     "name": "stdout",
     "output_type": "stream",
     "text": [
      "building tree 31 of 95\n",
      "building tree 32 of 95\n",
      "building tree 33 of 95\n",
      "building tree 34 of 95\n"
     ]
    },
    {
     "name": "stderr",
     "output_type": "stream",
     "text": [
      "[Parallel(n_jobs=1)]: Done  34 tasks      | elapsed:    1.9s\n",
      "[Parallel(n_jobs=1)]: Done  35 tasks      | elapsed:    2.0s\n",
      "[Parallel(n_jobs=1)]: Done  36 tasks      | elapsed:    2.1s\n",
      "[Parallel(n_jobs=1)]: Done  37 tasks      | elapsed:    2.1s\n"
     ]
    },
    {
     "name": "stdout",
     "output_type": "stream",
     "text": [
      "building tree 35 of 95\n",
      "building tree 36 of 95\n",
      "building tree 37 of 95\n",
      "building tree 38 of 95\n"
     ]
    },
    {
     "name": "stderr",
     "output_type": "stream",
     "text": [
      "[Parallel(n_jobs=1)]: Done  38 tasks      | elapsed:    2.2s\n",
      "[Parallel(n_jobs=1)]: Done  39 tasks      | elapsed:    2.2s\n",
      "[Parallel(n_jobs=1)]: Done  40 tasks      | elapsed:    2.3s\n",
      "[Parallel(n_jobs=1)]: Done  41 tasks      | elapsed:    2.4s\n"
     ]
    },
    {
     "name": "stdout",
     "output_type": "stream",
     "text": [
      "building tree 39 of 95\n",
      "building tree 40 of 95\n",
      "building tree 41 of 95\n",
      "building tree 42 of 95\n"
     ]
    },
    {
     "name": "stderr",
     "output_type": "stream",
     "text": [
      "[Parallel(n_jobs=1)]: Done  42 tasks      | elapsed:    2.4s\n",
      "[Parallel(n_jobs=1)]: Done  43 tasks      | elapsed:    2.5s\n",
      "[Parallel(n_jobs=1)]: Done  44 tasks      | elapsed:    2.5s\n",
      "[Parallel(n_jobs=1)]: Done  45 tasks      | elapsed:    2.6s\n"
     ]
    },
    {
     "name": "stdout",
     "output_type": "stream",
     "text": [
      "building tree 43 of 95\n",
      "building tree 44 of 95\n",
      "building tree 45 of 95\n",
      "building tree 46 of 95\n"
     ]
    },
    {
     "name": "stderr",
     "output_type": "stream",
     "text": [
      "[Parallel(n_jobs=1)]: Done  46 tasks      | elapsed:    2.7s\n",
      "[Parallel(n_jobs=1)]: Done  47 tasks      | elapsed:    2.7s\n",
      "[Parallel(n_jobs=1)]: Done  48 tasks      | elapsed:    2.8s\n",
      "[Parallel(n_jobs=1)]: Done  49 tasks      | elapsed:    2.8s\n"
     ]
    },
    {
     "name": "stdout",
     "output_type": "stream",
     "text": [
      "building tree 47 of 95\n",
      "building tree 48 of 95\n",
      "building tree 49 of 95\n",
      "building tree 50 of 95\n"
     ]
    },
    {
     "name": "stderr",
     "output_type": "stream",
     "text": [
      "[Parallel(n_jobs=1)]: Done  50 tasks      | elapsed:    2.9s\n",
      "[Parallel(n_jobs=1)]: Done  51 tasks      | elapsed:    3.0s\n",
      "[Parallel(n_jobs=1)]: Done  52 tasks      | elapsed:    3.1s\n"
     ]
    },
    {
     "name": "stdout",
     "output_type": "stream",
     "text": [
      "building tree 51 of 95\n",
      "building tree 52 of 95\n",
      "building tree 53 of 95\n"
     ]
    },
    {
     "name": "stderr",
     "output_type": "stream",
     "text": [
      "[Parallel(n_jobs=1)]: Done  53 tasks      | elapsed:    3.1s\n",
      "[Parallel(n_jobs=1)]: Done  54 tasks      | elapsed:    3.2s\n",
      "[Parallel(n_jobs=1)]: Done  55 tasks      | elapsed:    3.3s\n"
     ]
    },
    {
     "name": "stdout",
     "output_type": "stream",
     "text": [
      "building tree 54 of 95\n",
      "building tree 55 of 95\n",
      "building tree 56 of 95\n"
     ]
    },
    {
     "name": "stderr",
     "output_type": "stream",
     "text": [
      "[Parallel(n_jobs=1)]: Done  56 tasks      | elapsed:    3.3s\n",
      "[Parallel(n_jobs=1)]: Done  57 tasks      | elapsed:    3.4s\n",
      "[Parallel(n_jobs=1)]: Done  58 tasks      | elapsed:    3.5s\n",
      "[Parallel(n_jobs=1)]: Done  59 tasks      | elapsed:    3.5s\n"
     ]
    },
    {
     "name": "stdout",
     "output_type": "stream",
     "text": [
      "building tree 57 of 95\n",
      "building tree 58 of 95\n",
      "building tree 59 of 95\n",
      "building tree 60 of 95\n"
     ]
    },
    {
     "name": "stderr",
     "output_type": "stream",
     "text": [
      "[Parallel(n_jobs=1)]: Done  60 tasks      | elapsed:    3.6s\n",
      "[Parallel(n_jobs=1)]: Done  61 tasks      | elapsed:    3.7s\n",
      "[Parallel(n_jobs=1)]: Done  62 tasks      | elapsed:    3.7s\n",
      "[Parallel(n_jobs=1)]: Done  63 tasks      | elapsed:    3.8s\n"
     ]
    },
    {
     "name": "stdout",
     "output_type": "stream",
     "text": [
      "building tree 61 of 95\n",
      "building tree 62 of 95\n",
      "building tree 63 of 95\n",
      "building tree 64 of 95\n"
     ]
    },
    {
     "name": "stderr",
     "output_type": "stream",
     "text": [
      "[Parallel(n_jobs=1)]: Done  64 tasks      | elapsed:    3.8s\n",
      "[Parallel(n_jobs=1)]: Done  65 tasks      | elapsed:    3.9s\n",
      "[Parallel(n_jobs=1)]: Done  66 tasks      | elapsed:    4.0s\n",
      "[Parallel(n_jobs=1)]: Done  67 tasks      | elapsed:    4.0s\n"
     ]
    },
    {
     "name": "stdout",
     "output_type": "stream",
     "text": [
      "building tree 65 of 95\n",
      "building tree 66 of 95\n",
      "building tree 67 of 95\n",
      "building tree 68 of 95\n"
     ]
    },
    {
     "name": "stderr",
     "output_type": "stream",
     "text": [
      "[Parallel(n_jobs=1)]: Done  68 tasks      | elapsed:    4.1s\n",
      "[Parallel(n_jobs=1)]: Done  69 tasks      | elapsed:    4.1s\n",
      "[Parallel(n_jobs=1)]: Done  70 tasks      | elapsed:    4.2s\n",
      "[Parallel(n_jobs=1)]: Done  71 tasks      | elapsed:    4.3s\n"
     ]
    },
    {
     "name": "stdout",
     "output_type": "stream",
     "text": [
      "building tree 69 of 95\n",
      "building tree 70 of 95\n",
      "building tree 71 of 95\n",
      "building tree 72 of 95\n"
     ]
    },
    {
     "name": "stderr",
     "output_type": "stream",
     "text": [
      "[Parallel(n_jobs=1)]: Done  72 tasks      | elapsed:    4.3s\n",
      "[Parallel(n_jobs=1)]: Done  73 tasks      | elapsed:    4.4s\n",
      "[Parallel(n_jobs=1)]: Done  74 tasks      | elapsed:    4.4s\n",
      "[Parallel(n_jobs=1)]: Done  75 tasks      | elapsed:    4.5s\n"
     ]
    },
    {
     "name": "stdout",
     "output_type": "stream",
     "text": [
      "building tree 73 of 95\n",
      "building tree 74 of 95\n",
      "building tree 75 of 95\n",
      "building tree 76 of 95\n"
     ]
    },
    {
     "name": "stderr",
     "output_type": "stream",
     "text": [
      "[Parallel(n_jobs=1)]: Done  76 tasks      | elapsed:    4.5s\n",
      "[Parallel(n_jobs=1)]: Done  77 tasks      | elapsed:    4.6s\n",
      "[Parallel(n_jobs=1)]: Done  78 tasks      | elapsed:    4.7s\n",
      "[Parallel(n_jobs=1)]: Done  79 tasks      | elapsed:    4.7s\n"
     ]
    },
    {
     "name": "stdout",
     "output_type": "stream",
     "text": [
      "building tree 77 of 95\n",
      "building tree 78 of 95\n",
      "building tree 79 of 95\n",
      "building tree 80 of 95\n"
     ]
    },
    {
     "name": "stderr",
     "output_type": "stream",
     "text": [
      "[Parallel(n_jobs=1)]: Done  80 tasks      | elapsed:    4.8s\n",
      "[Parallel(n_jobs=1)]: Done  81 tasks      | elapsed:    4.8s\n",
      "[Parallel(n_jobs=1)]: Done  82 tasks      | elapsed:    4.9s\n",
      "[Parallel(n_jobs=1)]: Done  83 tasks      | elapsed:    5.0s\n"
     ]
    },
    {
     "name": "stdout",
     "output_type": "stream",
     "text": [
      "building tree 81 of 95\n",
      "building tree 82 of 95\n",
      "building tree 83 of 95\n",
      "building tree 84 of 95\n"
     ]
    },
    {
     "name": "stderr",
     "output_type": "stream",
     "text": [
      "[Parallel(n_jobs=1)]: Done  84 tasks      | elapsed:    5.0s\n",
      "[Parallel(n_jobs=1)]: Done  85 tasks      | elapsed:    5.1s\n",
      "[Parallel(n_jobs=1)]: Done  86 tasks      | elapsed:    5.1s\n",
      "[Parallel(n_jobs=1)]: Done  87 tasks      | elapsed:    5.2s\n"
     ]
    },
    {
     "name": "stdout",
     "output_type": "stream",
     "text": [
      "building tree 85 of 95\n",
      "building tree 86 of 95\n",
      "building tree 87 of 95\n",
      "building tree 88 of 95\n"
     ]
    },
    {
     "name": "stderr",
     "output_type": "stream",
     "text": [
      "[Parallel(n_jobs=1)]: Done  88 tasks      | elapsed:    5.3s\n",
      "[Parallel(n_jobs=1)]: Done  89 tasks      | elapsed:    5.3s\n",
      "[Parallel(n_jobs=1)]: Done  90 tasks      | elapsed:    5.4s\n",
      "[Parallel(n_jobs=1)]: Done  91 tasks      | elapsed:    5.4s\n"
     ]
    },
    {
     "name": "stdout",
     "output_type": "stream",
     "text": [
      "building tree 89 of 95\n",
      "building tree 90 of 95\n",
      "building tree 91 of 95\n",
      "building tree 92 of 95\n"
     ]
    },
    {
     "name": "stderr",
     "output_type": "stream",
     "text": [
      "[Parallel(n_jobs=1)]: Done  92 tasks      | elapsed:    5.5s\n",
      "[Parallel(n_jobs=1)]: Done  93 tasks      | elapsed:    5.6s\n",
      "[Parallel(n_jobs=1)]: Done  94 tasks      | elapsed:    5.6s\n",
      "[Parallel(n_jobs=1)]: Done  95 tasks      | elapsed:    5.7s\n",
      "[Parallel(n_jobs=1)]: Done  95 tasks      | elapsed:    5.7s\n",
      "[Parallel(n_jobs=1)]: Done   1 tasks      | elapsed:    0.0s\n",
      "[Parallel(n_jobs=1)]: Done   2 tasks      | elapsed:    0.0s\n",
      "[Parallel(n_jobs=1)]: Done   3 tasks      | elapsed:    0.0s\n",
      "[Parallel(n_jobs=1)]: Done   4 tasks      | elapsed:    0.0s\n",
      "[Parallel(n_jobs=1)]: Done   5 tasks      | elapsed:    0.0s\n",
      "[Parallel(n_jobs=1)]: Done   6 tasks      | elapsed:    0.0s\n",
      "[Parallel(n_jobs=1)]: Done   7 tasks      | elapsed:    0.0s\n",
      "[Parallel(n_jobs=1)]: Done   8 tasks      | elapsed:    0.0s\n",
      "[Parallel(n_jobs=1)]: Done   9 tasks      | elapsed:    0.0s\n",
      "[Parallel(n_jobs=1)]: Done  10 tasks      | elapsed:    0.0s\n",
      "[Parallel(n_jobs=1)]: Done  11 tasks      | elapsed:    0.0s\n",
      "[Parallel(n_jobs=1)]: Done  12 tasks      | elapsed:    0.0s\n",
      "[Parallel(n_jobs=1)]: Done  13 tasks      | elapsed:    0.0s\n",
      "[Parallel(n_jobs=1)]: Done  14 tasks      | elapsed:    0.0s\n",
      "[Parallel(n_jobs=1)]: Done  15 tasks      | elapsed:    0.0s\n",
      "[Parallel(n_jobs=1)]: Done  16 tasks      | elapsed:    0.0s\n",
      "[Parallel(n_jobs=1)]: Done  17 tasks      | elapsed:    0.0s\n",
      "[Parallel(n_jobs=1)]: Done  18 tasks      | elapsed:    0.0s\n",
      "[Parallel(n_jobs=1)]: Done  19 tasks      | elapsed:    0.0s\n",
      "[Parallel(n_jobs=1)]: Done  20 tasks      | elapsed:    0.0s\n",
      "[Parallel(n_jobs=1)]: Done  21 tasks      | elapsed:    0.0s\n",
      "[Parallel(n_jobs=1)]: Done  22 tasks      | elapsed:    0.0s\n",
      "[Parallel(n_jobs=1)]: Done  23 tasks      | elapsed:    0.0s\n",
      "[Parallel(n_jobs=1)]: Done  24 tasks      | elapsed:    0.0s\n",
      "[Parallel(n_jobs=1)]: Done  25 tasks      | elapsed:    0.0s\n",
      "[Parallel(n_jobs=1)]: Done  26 tasks      | elapsed:    0.0s\n",
      "[Parallel(n_jobs=1)]: Done  27 tasks      | elapsed:    0.0s\n",
      "[Parallel(n_jobs=1)]: Done  28 tasks      | elapsed:    0.0s\n",
      "[Parallel(n_jobs=1)]: Done  29 tasks      | elapsed:    0.0s\n",
      "[Parallel(n_jobs=1)]: Done  30 tasks      | elapsed:    0.0s\n",
      "[Parallel(n_jobs=1)]: Done  31 tasks      | elapsed:    0.0s\n",
      "[Parallel(n_jobs=1)]: Done  32 tasks      | elapsed:    0.0s\n",
      "[Parallel(n_jobs=1)]: Done  33 tasks      | elapsed:    0.0s\n",
      "[Parallel(n_jobs=1)]: Done  34 tasks      | elapsed:    0.0s\n",
      "[Parallel(n_jobs=1)]: Done  35 tasks      | elapsed:    0.0s\n",
      "[Parallel(n_jobs=1)]: Done  36 tasks      | elapsed:    0.0s\n",
      "[Parallel(n_jobs=1)]: Done  37 tasks      | elapsed:    0.0s\n",
      "[Parallel(n_jobs=1)]: Done  38 tasks      | elapsed:    0.0s\n",
      "[Parallel(n_jobs=1)]: Done  39 tasks      | elapsed:    0.0s\n",
      "[Parallel(n_jobs=1)]: Done  40 tasks      | elapsed:    0.0s\n",
      "[Parallel(n_jobs=1)]: Done  41 tasks      | elapsed:    0.0s\n",
      "[Parallel(n_jobs=1)]: Done  42 tasks      | elapsed:    0.0s\n",
      "[Parallel(n_jobs=1)]: Done  43 tasks      | elapsed:    0.0s\n",
      "[Parallel(n_jobs=1)]: Done  44 tasks      | elapsed:    0.0s\n",
      "[Parallel(n_jobs=1)]: Done  45 tasks      | elapsed:    0.0s\n",
      "[Parallel(n_jobs=1)]: Done  46 tasks      | elapsed:    0.0s\n",
      "[Parallel(n_jobs=1)]: Done  47 tasks      | elapsed:    0.0s\n",
      "[Parallel(n_jobs=1)]: Done  48 tasks      | elapsed:    0.0s\n",
      "[Parallel(n_jobs=1)]: Done  49 tasks      | elapsed:    0.0s\n",
      "[Parallel(n_jobs=1)]: Done  50 tasks      | elapsed:    0.0s\n",
      "[Parallel(n_jobs=1)]: Done  51 tasks      | elapsed:    0.0s\n",
      "[Parallel(n_jobs=1)]: Done  52 tasks      | elapsed:    0.0s\n",
      "[Parallel(n_jobs=1)]: Done  53 tasks      | elapsed:    0.0s\n",
      "[Parallel(n_jobs=1)]: Done  54 tasks      | elapsed:    0.0s\n",
      "[Parallel(n_jobs=1)]: Done  55 tasks      | elapsed:    0.0s\n",
      "[Parallel(n_jobs=1)]: Done  56 tasks      | elapsed:    0.0s\n",
      "[Parallel(n_jobs=1)]: Done  57 tasks      | elapsed:    0.0s\n",
      "[Parallel(n_jobs=1)]: Done  58 tasks      | elapsed:    0.0s\n",
      "[Parallel(n_jobs=1)]: Done  59 tasks      | elapsed:    0.0s\n",
      "[Parallel(n_jobs=1)]: Done  60 tasks      | elapsed:    0.0s\n",
      "[Parallel(n_jobs=1)]: Done  61 tasks      | elapsed:    0.0s\n",
      "[Parallel(n_jobs=1)]: Done  62 tasks      | elapsed:    0.0s\n",
      "[Parallel(n_jobs=1)]: Done  63 tasks      | elapsed:    0.0s\n",
      "[Parallel(n_jobs=1)]: Done  64 tasks      | elapsed:    0.0s\n",
      "[Parallel(n_jobs=1)]: Done  65 tasks      | elapsed:    0.0s\n",
      "[Parallel(n_jobs=1)]: Done  66 tasks      | elapsed:    0.0s\n",
      "[Parallel(n_jobs=1)]: Done  67 tasks      | elapsed:    0.0s\n",
      "[Parallel(n_jobs=1)]: Done  68 tasks      | elapsed:    0.0s\n",
      "[Parallel(n_jobs=1)]: Done  69 tasks      | elapsed:    0.0s\n",
      "[Parallel(n_jobs=1)]: Done  70 tasks      | elapsed:    0.0s\n",
      "[Parallel(n_jobs=1)]: Done  71 tasks      | elapsed:    0.0s\n",
      "[Parallel(n_jobs=1)]: Done  72 tasks      | elapsed:    0.0s\n",
      "[Parallel(n_jobs=1)]: Done  73 tasks      | elapsed:    0.0s\n",
      "[Parallel(n_jobs=1)]: Done  74 tasks      | elapsed:    0.0s\n",
      "[Parallel(n_jobs=1)]: Done  75 tasks      | elapsed:    0.0s\n",
      "[Parallel(n_jobs=1)]: Done  76 tasks      | elapsed:    0.0s\n",
      "[Parallel(n_jobs=1)]: Done  77 tasks      | elapsed:    0.0s\n",
      "[Parallel(n_jobs=1)]: Done  78 tasks      | elapsed:    0.0s\n",
      "[Parallel(n_jobs=1)]: Done  79 tasks      | elapsed:    0.0s\n",
      "[Parallel(n_jobs=1)]: Done  80 tasks      | elapsed:    0.0s\n",
      "[Parallel(n_jobs=1)]: Done  81 tasks      | elapsed:    0.0s\n",
      "[Parallel(n_jobs=1)]: Done  82 tasks      | elapsed:    0.0s\n",
      "[Parallel(n_jobs=1)]: Done  83 tasks      | elapsed:    0.0s\n",
      "[Parallel(n_jobs=1)]: Done  84 tasks      | elapsed:    0.0s\n",
      "[Parallel(n_jobs=1)]: Done  85 tasks      | elapsed:    0.0s\n",
      "[Parallel(n_jobs=1)]: Done  86 tasks      | elapsed:    0.0s\n",
      "[Parallel(n_jobs=1)]: Done  87 tasks      | elapsed:    0.0s\n",
      "[Parallel(n_jobs=1)]: Done  88 tasks      | elapsed:    0.0s\n",
      "[Parallel(n_jobs=1)]: Done  89 tasks      | elapsed:    0.0s\n",
      "[Parallel(n_jobs=1)]: Done  90 tasks      | elapsed:    0.0s\n",
      "[Parallel(n_jobs=1)]: Done  91 tasks      | elapsed:    0.0s\n",
      "[Parallel(n_jobs=1)]: Done  92 tasks      | elapsed:    0.0s\n",
      "[Parallel(n_jobs=1)]: Done  93 tasks      | elapsed:    0.0s\n",
      "[Parallel(n_jobs=1)]: Done  94 tasks      | elapsed:    0.0s\n",
      "[Parallel(n_jobs=1)]: Done  95 tasks      | elapsed:    0.0s\n",
      "[Parallel(n_jobs=1)]: Done  95 tasks      | elapsed:    0.0s\n"
     ]
    },
    {
     "name": "stdout",
     "output_type": "stream",
     "text": [
      "building tree 93 of 95\n",
      "building tree 94 of 95\n",
      "building tree 95 of 95\n",
      "building tree 1 of 95\n"
     ]
    },
    {
     "name": "stderr",
     "output_type": "stream",
     "text": [
      "[Parallel(n_jobs=1)]: Done   1 tasks      | elapsed:    0.0s\n",
      "[Parallel(n_jobs=1)]: Done   2 tasks      | elapsed:    0.1s\n",
      "[Parallel(n_jobs=1)]: Done   3 tasks      | elapsed:    0.1s\n"
     ]
    },
    {
     "name": "stdout",
     "output_type": "stream",
     "text": [
      "building tree 2 of 95\n",
      "building tree 3 of 95\n",
      "building tree 4 of 95\n"
     ]
    },
    {
     "name": "stderr",
     "output_type": "stream",
     "text": [
      "[Parallel(n_jobs=1)]: Done   4 tasks      | elapsed:    0.2s\n",
      "[Parallel(n_jobs=1)]: Done   5 tasks      | elapsed:    0.3s\n",
      "[Parallel(n_jobs=1)]: Done   6 tasks      | elapsed:    0.4s\n"
     ]
    },
    {
     "name": "stdout",
     "output_type": "stream",
     "text": [
      "building tree 5 of 95\n",
      "building tree 6 of 95\n",
      "building tree 7 of 95\n"
     ]
    },
    {
     "name": "stderr",
     "output_type": "stream",
     "text": [
      "[Parallel(n_jobs=1)]: Done   7 tasks      | elapsed:    0.5s\n",
      "[Parallel(n_jobs=1)]: Done   8 tasks      | elapsed:    0.6s\n",
      "[Parallel(n_jobs=1)]: Done   9 tasks      | elapsed:    0.6s\n"
     ]
    },
    {
     "name": "stdout",
     "output_type": "stream",
     "text": [
      "building tree 8 of 95\n",
      "building tree 9 of 95\n",
      "building tree 10 of 95\n"
     ]
    },
    {
     "name": "stderr",
     "output_type": "stream",
     "text": [
      "[Parallel(n_jobs=1)]: Done  10 tasks      | elapsed:    0.7s\n",
      "[Parallel(n_jobs=1)]: Done  11 tasks      | elapsed:    0.8s\n",
      "[Parallel(n_jobs=1)]: Done  12 tasks      | elapsed:    0.9s\n"
     ]
    },
    {
     "name": "stdout",
     "output_type": "stream",
     "text": [
      "building tree 11 of 95\n",
      "building tree 12 of 95\n",
      "building tree 13 of 95\n"
     ]
    },
    {
     "name": "stderr",
     "output_type": "stream",
     "text": [
      "[Parallel(n_jobs=1)]: Done  13 tasks      | elapsed:    1.0s\n",
      "[Parallel(n_jobs=1)]: Done  14 tasks      | elapsed:    1.0s\n",
      "[Parallel(n_jobs=1)]: Done  15 tasks      | elapsed:    1.1s\n"
     ]
    },
    {
     "name": "stdout",
     "output_type": "stream",
     "text": [
      "building tree 14 of 95\n",
      "building tree 15 of 95\n",
      "building tree 16 of 95\n"
     ]
    },
    {
     "name": "stderr",
     "output_type": "stream",
     "text": [
      "[Parallel(n_jobs=1)]: Done  16 tasks      | elapsed:    1.2s\n",
      "[Parallel(n_jobs=1)]: Done  17 tasks      | elapsed:    1.3s\n",
      "[Parallel(n_jobs=1)]: Done  18 tasks      | elapsed:    1.4s\n"
     ]
    },
    {
     "name": "stdout",
     "output_type": "stream",
     "text": [
      "building tree 17 of 95\n",
      "building tree 18 of 95\n",
      "building tree 19 of 95\n"
     ]
    },
    {
     "name": "stderr",
     "output_type": "stream",
     "text": [
      "[Parallel(n_jobs=1)]: Done  19 tasks      | elapsed:    1.5s\n",
      "[Parallel(n_jobs=1)]: Done  20 tasks      | elapsed:    1.6s\n",
      "[Parallel(n_jobs=1)]: Done  21 tasks      | elapsed:    1.6s\n"
     ]
    },
    {
     "name": "stdout",
     "output_type": "stream",
     "text": [
      "building tree 20 of 95\n",
      "building tree 21 of 95\n",
      "building tree 22 of 95\n"
     ]
    },
    {
     "name": "stderr",
     "output_type": "stream",
     "text": [
      "[Parallel(n_jobs=1)]: Done  22 tasks      | elapsed:    1.7s\n",
      "[Parallel(n_jobs=1)]: Done  23 tasks      | elapsed:    1.8s\n",
      "[Parallel(n_jobs=1)]: Done  24 tasks      | elapsed:    1.9s\n"
     ]
    },
    {
     "name": "stdout",
     "output_type": "stream",
     "text": [
      "building tree 23 of 95\n",
      "building tree 24 of 95\n",
      "building tree 25 of 95\n"
     ]
    },
    {
     "name": "stderr",
     "output_type": "stream",
     "text": [
      "[Parallel(n_jobs=1)]: Done  25 tasks      | elapsed:    2.0s\n",
      "[Parallel(n_jobs=1)]: Done  26 tasks      | elapsed:    2.1s\n",
      "[Parallel(n_jobs=1)]: Done  27 tasks      | elapsed:    2.1s\n"
     ]
    },
    {
     "name": "stdout",
     "output_type": "stream",
     "text": [
      "building tree 26 of 95\n",
      "building tree 27 of 95\n",
      "building tree 28 of 95\n"
     ]
    },
    {
     "name": "stderr",
     "output_type": "stream",
     "text": [
      "[Parallel(n_jobs=1)]: Done  28 tasks      | elapsed:    2.2s\n",
      "[Parallel(n_jobs=1)]: Done  29 tasks      | elapsed:    2.3s\n",
      "[Parallel(n_jobs=1)]: Done  30 tasks      | elapsed:    2.4s\n"
     ]
    },
    {
     "name": "stdout",
     "output_type": "stream",
     "text": [
      "building tree 29 of 95\n",
      "building tree 30 of 95\n",
      "building tree 31 of 95\n"
     ]
    },
    {
     "name": "stderr",
     "output_type": "stream",
     "text": [
      "[Parallel(n_jobs=1)]: Done  31 tasks      | elapsed:    2.5s\n",
      "[Parallel(n_jobs=1)]: Done  32 tasks      | elapsed:    2.6s\n",
      "[Parallel(n_jobs=1)]: Done  33 tasks      | elapsed:    2.6s\n"
     ]
    },
    {
     "name": "stdout",
     "output_type": "stream",
     "text": [
      "building tree 32 of 95\n",
      "building tree 33 of 95\n",
      "building tree 34 of 95\n"
     ]
    },
    {
     "name": "stderr",
     "output_type": "stream",
     "text": [
      "[Parallel(n_jobs=1)]: Done  34 tasks      | elapsed:    2.7s\n",
      "[Parallel(n_jobs=1)]: Done  35 tasks      | elapsed:    2.8s\n",
      "[Parallel(n_jobs=1)]: Done  36 tasks      | elapsed:    2.9s\n"
     ]
    },
    {
     "name": "stdout",
     "output_type": "stream",
     "text": [
      "building tree 35 of 95\n",
      "building tree 36 of 95\n",
      "building tree 37 of 95\n"
     ]
    },
    {
     "name": "stderr",
     "output_type": "stream",
     "text": [
      "[Parallel(n_jobs=1)]: Done  37 tasks      | elapsed:    3.0s\n",
      "[Parallel(n_jobs=1)]: Done  38 tasks      | elapsed:    3.0s\n",
      "[Parallel(n_jobs=1)]: Done  39 tasks      | elapsed:    3.1s\n"
     ]
    },
    {
     "name": "stdout",
     "output_type": "stream",
     "text": [
      "building tree 38 of 95\n",
      "building tree 39 of 95\n",
      "building tree 40 of 95\n"
     ]
    },
    {
     "name": "stderr",
     "output_type": "stream",
     "text": [
      "[Parallel(n_jobs=1)]: Done  40 tasks      | elapsed:    3.2s\n",
      "[Parallel(n_jobs=1)]: Done  41 tasks      | elapsed:    3.3s\n",
      "[Parallel(n_jobs=1)]: Done  42 tasks      | elapsed:    3.4s\n"
     ]
    },
    {
     "name": "stdout",
     "output_type": "stream",
     "text": [
      "building tree 41 of 95\n",
      "building tree 42 of 95\n",
      "building tree 43 of 95\n"
     ]
    },
    {
     "name": "stderr",
     "output_type": "stream",
     "text": [
      "[Parallel(n_jobs=1)]: Done  43 tasks      | elapsed:    3.4s\n",
      "[Parallel(n_jobs=1)]: Done  44 tasks      | elapsed:    3.5s\n",
      "[Parallel(n_jobs=1)]: Done  45 tasks      | elapsed:    3.6s\n"
     ]
    },
    {
     "name": "stdout",
     "output_type": "stream",
     "text": [
      "building tree 44 of 95\n",
      "building tree 45 of 95\n",
      "building tree 46 of 95\n"
     ]
    },
    {
     "name": "stderr",
     "output_type": "stream",
     "text": [
      "[Parallel(n_jobs=1)]: Done  46 tasks      | elapsed:    3.7s\n",
      "[Parallel(n_jobs=1)]: Done  47 tasks      | elapsed:    3.8s\n",
      "[Parallel(n_jobs=1)]: Done  48 tasks      | elapsed:    3.9s\n"
     ]
    },
    {
     "name": "stdout",
     "output_type": "stream",
     "text": [
      "building tree 47 of 95\n",
      "building tree 48 of 95\n",
      "building tree 49 of 95\n"
     ]
    },
    {
     "name": "stderr",
     "output_type": "stream",
     "text": [
      "[Parallel(n_jobs=1)]: Done  49 tasks      | elapsed:    4.0s\n",
      "[Parallel(n_jobs=1)]: Done  50 tasks      | elapsed:    4.0s\n",
      "[Parallel(n_jobs=1)]: Done  51 tasks      | elapsed:    4.1s\n"
     ]
    },
    {
     "name": "stdout",
     "output_type": "stream",
     "text": [
      "building tree 50 of 95\n",
      "building tree 51 of 95\n",
      "building tree 52 of 95\n"
     ]
    },
    {
     "name": "stderr",
     "output_type": "stream",
     "text": [
      "[Parallel(n_jobs=1)]: Done  52 tasks      | elapsed:    4.2s\n",
      "[Parallel(n_jobs=1)]: Done  53 tasks      | elapsed:    4.3s\n",
      "[Parallel(n_jobs=1)]: Done  54 tasks      | elapsed:    4.4s\n"
     ]
    },
    {
     "name": "stdout",
     "output_type": "stream",
     "text": [
      "building tree 53 of 95\n",
      "building tree 54 of 95\n",
      "building tree 55 of 95\n"
     ]
    },
    {
     "name": "stderr",
     "output_type": "stream",
     "text": [
      "[Parallel(n_jobs=1)]: Done  55 tasks      | elapsed:    4.5s\n",
      "[Parallel(n_jobs=1)]: Done  56 tasks      | elapsed:    4.5s\n",
      "[Parallel(n_jobs=1)]: Done  57 tasks      | elapsed:    4.6s\n"
     ]
    },
    {
     "name": "stdout",
     "output_type": "stream",
     "text": [
      "building tree 56 of 95\n",
      "building tree 57 of 95\n",
      "building tree 58 of 95\n"
     ]
    },
    {
     "name": "stderr",
     "output_type": "stream",
     "text": [
      "[Parallel(n_jobs=1)]: Done  58 tasks      | elapsed:    4.7s\n",
      "[Parallel(n_jobs=1)]: Done  59 tasks      | elapsed:    4.8s\n",
      "[Parallel(n_jobs=1)]: Done  60 tasks      | elapsed:    4.9s\n"
     ]
    },
    {
     "name": "stdout",
     "output_type": "stream",
     "text": [
      "building tree 59 of 95\n",
      "building tree 60 of 95\n",
      "building tree 61 of 95\n"
     ]
    },
    {
     "name": "stderr",
     "output_type": "stream",
     "text": [
      "[Parallel(n_jobs=1)]: Done  61 tasks      | elapsed:    4.9s\n",
      "[Parallel(n_jobs=1)]: Done  62 tasks      | elapsed:    5.0s\n",
      "[Parallel(n_jobs=1)]: Done  63 tasks      | elapsed:    5.1s\n"
     ]
    },
    {
     "name": "stdout",
     "output_type": "stream",
     "text": [
      "building tree 62 of 95\n",
      "building tree 63 of 95\n",
      "building tree 64 of 95\n"
     ]
    },
    {
     "name": "stderr",
     "output_type": "stream",
     "text": [
      "[Parallel(n_jobs=1)]: Done  64 tasks      | elapsed:    5.2s\n",
      "[Parallel(n_jobs=1)]: Done  65 tasks      | elapsed:    5.3s\n",
      "[Parallel(n_jobs=1)]: Done  66 tasks      | elapsed:    5.3s\n"
     ]
    },
    {
     "name": "stdout",
     "output_type": "stream",
     "text": [
      "building tree 65 of 95\n",
      "building tree 66 of 95\n",
      "building tree 67 of 95\n"
     ]
    },
    {
     "name": "stderr",
     "output_type": "stream",
     "text": [
      "[Parallel(n_jobs=1)]: Done  67 tasks      | elapsed:    5.4s\n",
      "[Parallel(n_jobs=1)]: Done  68 tasks      | elapsed:    5.5s\n",
      "[Parallel(n_jobs=1)]: Done  69 tasks      | elapsed:    5.6s\n"
     ]
    },
    {
     "name": "stdout",
     "output_type": "stream",
     "text": [
      "building tree 68 of 95\n",
      "building tree 69 of 95\n",
      "building tree 70 of 95\n"
     ]
    },
    {
     "name": "stderr",
     "output_type": "stream",
     "text": [
      "[Parallel(n_jobs=1)]: Done  70 tasks      | elapsed:    5.7s\n",
      "[Parallel(n_jobs=1)]: Done  71 tasks      | elapsed:    5.8s\n",
      "[Parallel(n_jobs=1)]: Done  72 tasks      | elapsed:    5.9s\n"
     ]
    },
    {
     "name": "stdout",
     "output_type": "stream",
     "text": [
      "building tree 71 of 95\n",
      "building tree 72 of 95\n",
      "building tree 73 of 95\n"
     ]
    },
    {
     "name": "stderr",
     "output_type": "stream",
     "text": [
      "[Parallel(n_jobs=1)]: Done  73 tasks      | elapsed:    5.9s\n",
      "[Parallel(n_jobs=1)]: Done  74 tasks      | elapsed:    6.0s\n",
      "[Parallel(n_jobs=1)]: Done  75 tasks      | elapsed:    6.1s\n"
     ]
    },
    {
     "name": "stdout",
     "output_type": "stream",
     "text": [
      "building tree 74 of 95\n",
      "building tree 75 of 95\n",
      "building tree 76 of 95\n"
     ]
    },
    {
     "name": "stderr",
     "output_type": "stream",
     "text": [
      "[Parallel(n_jobs=1)]: Done  76 tasks      | elapsed:    6.2s\n",
      "[Parallel(n_jobs=1)]: Done  77 tasks      | elapsed:    6.3s\n",
      "[Parallel(n_jobs=1)]: Done  78 tasks      | elapsed:    6.4s\n"
     ]
    },
    {
     "name": "stdout",
     "output_type": "stream",
     "text": [
      "building tree 77 of 95\n",
      "building tree 78 of 95\n",
      "building tree 79 of 95\n"
     ]
    },
    {
     "name": "stderr",
     "output_type": "stream",
     "text": [
      "[Parallel(n_jobs=1)]: Done  79 tasks      | elapsed:    6.4s\n",
      "[Parallel(n_jobs=1)]: Done  80 tasks      | elapsed:    6.5s\n",
      "[Parallel(n_jobs=1)]: Done  81 tasks      | elapsed:    6.6s\n"
     ]
    },
    {
     "name": "stdout",
     "output_type": "stream",
     "text": [
      "building tree 80 of 95\n",
      "building tree 81 of 95\n",
      "building tree 82 of 95\n"
     ]
    },
    {
     "name": "stderr",
     "output_type": "stream",
     "text": [
      "[Parallel(n_jobs=1)]: Done  82 tasks      | elapsed:    6.7s\n",
      "[Parallel(n_jobs=1)]: Done  83 tasks      | elapsed:    6.8s\n",
      "[Parallel(n_jobs=1)]: Done  84 tasks      | elapsed:    6.9s\n"
     ]
    },
    {
     "name": "stdout",
     "output_type": "stream",
     "text": [
      "building tree 83 of 95\n",
      "building tree 84 of 95\n",
      "building tree 85 of 95\n"
     ]
    },
    {
     "name": "stderr",
     "output_type": "stream",
     "text": [
      "[Parallel(n_jobs=1)]: Done  85 tasks      | elapsed:    6.9s\n",
      "[Parallel(n_jobs=1)]: Done  86 tasks      | elapsed:    7.0s\n",
      "[Parallel(n_jobs=1)]: Done  87 tasks      | elapsed:    7.1s\n"
     ]
    },
    {
     "name": "stdout",
     "output_type": "stream",
     "text": [
      "building tree 86 of 95\n",
      "building tree 87 of 95\n",
      "building tree 88 of 95\n"
     ]
    },
    {
     "name": "stderr",
     "output_type": "stream",
     "text": [
      "[Parallel(n_jobs=1)]: Done  88 tasks      | elapsed:    7.2s\n",
      "[Parallel(n_jobs=1)]: Done  89 tasks      | elapsed:    7.3s\n",
      "[Parallel(n_jobs=1)]: Done  90 tasks      | elapsed:    7.3s\n"
     ]
    },
    {
     "name": "stdout",
     "output_type": "stream",
     "text": [
      "building tree 89 of 95\n",
      "building tree 90 of 95\n",
      "building tree 91 of 95\n"
     ]
    },
    {
     "name": "stderr",
     "output_type": "stream",
     "text": [
      "[Parallel(n_jobs=1)]: Done  91 tasks      | elapsed:    7.4s\n",
      "[Parallel(n_jobs=1)]: Done  92 tasks      | elapsed:    7.5s\n",
      "[Parallel(n_jobs=1)]: Done  93 tasks      | elapsed:    7.6s\n"
     ]
    },
    {
     "name": "stdout",
     "output_type": "stream",
     "text": [
      "building tree 92 of 95\n",
      "building tree 93 of 95\n",
      "building tree 94 of 95\n"
     ]
    },
    {
     "name": "stderr",
     "output_type": "stream",
     "text": [
      "[Parallel(n_jobs=1)]: Done  94 tasks      | elapsed:    7.7s\n",
      "[Parallel(n_jobs=1)]: Done  95 tasks      | elapsed:    7.8s\n",
      "[Parallel(n_jobs=1)]: Done  95 tasks      | elapsed:    7.8s\n",
      "[Parallel(n_jobs=1)]: Done   1 tasks      | elapsed:    0.0s\n",
      "[Parallel(n_jobs=1)]: Done   2 tasks      | elapsed:    0.0s\n",
      "[Parallel(n_jobs=1)]: Done   3 tasks      | elapsed:    0.0s\n",
      "[Parallel(n_jobs=1)]: Done   4 tasks      | elapsed:    0.0s\n",
      "[Parallel(n_jobs=1)]: Done   5 tasks      | elapsed:    0.0s\n",
      "[Parallel(n_jobs=1)]: Done   6 tasks      | elapsed:    0.0s\n",
      "[Parallel(n_jobs=1)]: Done   7 tasks      | elapsed:    0.0s\n",
      "[Parallel(n_jobs=1)]: Done   8 tasks      | elapsed:    0.0s\n",
      "[Parallel(n_jobs=1)]: Done   9 tasks      | elapsed:    0.0s\n",
      "[Parallel(n_jobs=1)]: Done  10 tasks      | elapsed:    0.0s\n",
      "[Parallel(n_jobs=1)]: Done  11 tasks      | elapsed:    0.0s\n",
      "[Parallel(n_jobs=1)]: Done  12 tasks      | elapsed:    0.0s\n",
      "[Parallel(n_jobs=1)]: Done  13 tasks      | elapsed:    0.0s\n",
      "[Parallel(n_jobs=1)]: Done  14 tasks      | elapsed:    0.0s\n",
      "[Parallel(n_jobs=1)]: Done  15 tasks      | elapsed:    0.0s\n",
      "[Parallel(n_jobs=1)]: Done  16 tasks      | elapsed:    0.0s\n",
      "[Parallel(n_jobs=1)]: Done  17 tasks      | elapsed:    0.0s\n",
      "[Parallel(n_jobs=1)]: Done  18 tasks      | elapsed:    0.0s\n",
      "[Parallel(n_jobs=1)]: Done  19 tasks      | elapsed:    0.0s\n",
      "[Parallel(n_jobs=1)]: Done  20 tasks      | elapsed:    0.0s\n",
      "[Parallel(n_jobs=1)]: Done  21 tasks      | elapsed:    0.0s\n",
      "[Parallel(n_jobs=1)]: Done  22 tasks      | elapsed:    0.0s\n",
      "[Parallel(n_jobs=1)]: Done  23 tasks      | elapsed:    0.0s\n",
      "[Parallel(n_jobs=1)]: Done  24 tasks      | elapsed:    0.0s\n",
      "[Parallel(n_jobs=1)]: Done  25 tasks      | elapsed:    0.0s\n",
      "[Parallel(n_jobs=1)]: Done  26 tasks      | elapsed:    0.0s\n",
      "[Parallel(n_jobs=1)]: Done  27 tasks      | elapsed:    0.0s\n",
      "[Parallel(n_jobs=1)]: Done  28 tasks      | elapsed:    0.0s\n",
      "[Parallel(n_jobs=1)]: Done  29 tasks      | elapsed:    0.0s\n",
      "[Parallel(n_jobs=1)]: Done  30 tasks      | elapsed:    0.0s\n",
      "[Parallel(n_jobs=1)]: Done  31 tasks      | elapsed:    0.0s\n",
      "[Parallel(n_jobs=1)]: Done  32 tasks      | elapsed:    0.0s\n",
      "[Parallel(n_jobs=1)]: Done  33 tasks      | elapsed:    0.0s\n",
      "[Parallel(n_jobs=1)]: Done  34 tasks      | elapsed:    0.0s\n",
      "[Parallel(n_jobs=1)]: Done  35 tasks      | elapsed:    0.0s\n",
      "[Parallel(n_jobs=1)]: Done  36 tasks      | elapsed:    0.0s\n",
      "[Parallel(n_jobs=1)]: Done  37 tasks      | elapsed:    0.0s\n",
      "[Parallel(n_jobs=1)]: Done  38 tasks      | elapsed:    0.0s\n",
      "[Parallel(n_jobs=1)]: Done  39 tasks      | elapsed:    0.0s\n",
      "[Parallel(n_jobs=1)]: Done  40 tasks      | elapsed:    0.0s\n",
      "[Parallel(n_jobs=1)]: Done  41 tasks      | elapsed:    0.0s\n",
      "[Parallel(n_jobs=1)]: Done  42 tasks      | elapsed:    0.0s\n",
      "[Parallel(n_jobs=1)]: Done  43 tasks      | elapsed:    0.0s\n",
      "[Parallel(n_jobs=1)]: Done  44 tasks      | elapsed:    0.0s\n",
      "[Parallel(n_jobs=1)]: Done  45 tasks      | elapsed:    0.0s\n",
      "[Parallel(n_jobs=1)]: Done  46 tasks      | elapsed:    0.0s\n",
      "[Parallel(n_jobs=1)]: Done  47 tasks      | elapsed:    0.0s\n",
      "[Parallel(n_jobs=1)]: Done  48 tasks      | elapsed:    0.0s\n",
      "[Parallel(n_jobs=1)]: Done  49 tasks      | elapsed:    0.0s\n",
      "[Parallel(n_jobs=1)]: Done  50 tasks      | elapsed:    0.0s\n",
      "[Parallel(n_jobs=1)]: Done  51 tasks      | elapsed:    0.0s\n",
      "[Parallel(n_jobs=1)]: Done  52 tasks      | elapsed:    0.0s\n",
      "[Parallel(n_jobs=1)]: Done  53 tasks      | elapsed:    0.0s\n",
      "[Parallel(n_jobs=1)]: Done  54 tasks      | elapsed:    0.0s\n",
      "[Parallel(n_jobs=1)]: Done  55 tasks      | elapsed:    0.0s\n",
      "[Parallel(n_jobs=1)]: Done  56 tasks      | elapsed:    0.0s\n",
      "[Parallel(n_jobs=1)]: Done  57 tasks      | elapsed:    0.0s\n",
      "[Parallel(n_jobs=1)]: Done  58 tasks      | elapsed:    0.0s\n",
      "[Parallel(n_jobs=1)]: Done  59 tasks      | elapsed:    0.0s\n",
      "[Parallel(n_jobs=1)]: Done  60 tasks      | elapsed:    0.0s\n",
      "[Parallel(n_jobs=1)]: Done  61 tasks      | elapsed:    0.0s\n",
      "[Parallel(n_jobs=1)]: Done  62 tasks      | elapsed:    0.0s\n",
      "[Parallel(n_jobs=1)]: Done  63 tasks      | elapsed:    0.0s\n",
      "[Parallel(n_jobs=1)]: Done  64 tasks      | elapsed:    0.0s\n",
      "[Parallel(n_jobs=1)]: Done  65 tasks      | elapsed:    0.0s\n",
      "[Parallel(n_jobs=1)]: Done  66 tasks      | elapsed:    0.0s\n",
      "[Parallel(n_jobs=1)]: Done  67 tasks      | elapsed:    0.0s\n",
      "[Parallel(n_jobs=1)]: Done  68 tasks      | elapsed:    0.0s\n",
      "[Parallel(n_jobs=1)]: Done  69 tasks      | elapsed:    0.0s\n",
      "[Parallel(n_jobs=1)]: Done  70 tasks      | elapsed:    0.0s\n",
      "[Parallel(n_jobs=1)]: Done  71 tasks      | elapsed:    0.0s\n",
      "[Parallel(n_jobs=1)]: Done  72 tasks      | elapsed:    0.0s\n",
      "[Parallel(n_jobs=1)]: Done  73 tasks      | elapsed:    0.0s\n",
      "[Parallel(n_jobs=1)]: Done  74 tasks      | elapsed:    0.0s\n",
      "[Parallel(n_jobs=1)]: Done  75 tasks      | elapsed:    0.0s\n",
      "[Parallel(n_jobs=1)]: Done  76 tasks      | elapsed:    0.0s\n",
      "[Parallel(n_jobs=1)]: Done  77 tasks      | elapsed:    0.0s\n",
      "[Parallel(n_jobs=1)]: Done  78 tasks      | elapsed:    0.0s\n",
      "[Parallel(n_jobs=1)]: Done  79 tasks      | elapsed:    0.0s\n",
      "[Parallel(n_jobs=1)]: Done  80 tasks      | elapsed:    0.0s\n",
      "[Parallel(n_jobs=1)]: Done  81 tasks      | elapsed:    0.0s\n",
      "[Parallel(n_jobs=1)]: Done  82 tasks      | elapsed:    0.0s\n",
      "[Parallel(n_jobs=1)]: Done  83 tasks      | elapsed:    0.0s\n",
      "[Parallel(n_jobs=1)]: Done  84 tasks      | elapsed:    0.0s\n",
      "[Parallel(n_jobs=1)]: Done  85 tasks      | elapsed:    0.0s\n",
      "[Parallel(n_jobs=1)]: Done  86 tasks      | elapsed:    0.0s\n",
      "[Parallel(n_jobs=1)]: Done  87 tasks      | elapsed:    0.0s\n",
      "[Parallel(n_jobs=1)]: Done  88 tasks      | elapsed:    0.0s\n",
      "[Parallel(n_jobs=1)]: Done  89 tasks      | elapsed:    0.0s\n",
      "[Parallel(n_jobs=1)]: Done  90 tasks      | elapsed:    0.0s\n",
      "[Parallel(n_jobs=1)]: Done  91 tasks      | elapsed:    0.0s\n",
      "[Parallel(n_jobs=1)]: Done  92 tasks      | elapsed:    0.0s\n",
      "[Parallel(n_jobs=1)]: Done  93 tasks      | elapsed:    0.0s\n",
      "[Parallel(n_jobs=1)]: Done  94 tasks      | elapsed:    0.0s\n",
      "[Parallel(n_jobs=1)]: Done  95 tasks      | elapsed:    0.0s\n",
      "[Parallel(n_jobs=1)]: Done  95 tasks      | elapsed:    0.0s\n"
     ]
    },
    {
     "name": "stdout",
     "output_type": "stream",
     "text": [
      "building tree 95 of 95\n",
      "building tree 1 of 95\n"
     ]
    },
    {
     "name": "stderr",
     "output_type": "stream",
     "text": [
      "[Parallel(n_jobs=1)]: Done   1 tasks      | elapsed:    0.0s\n",
      "[Parallel(n_jobs=1)]: Done   2 tasks      | elapsed:    0.1s\n",
      "[Parallel(n_jobs=1)]: Done   3 tasks      | elapsed:    0.2s\n"
     ]
    },
    {
     "name": "stdout",
     "output_type": "stream",
     "text": [
      "building tree 2 of 95\n",
      "building tree 3 of 95\n",
      "building tree 4 of 95\n"
     ]
    },
    {
     "name": "stderr",
     "output_type": "stream",
     "text": [
      "[Parallel(n_jobs=1)]: Done   4 tasks      | elapsed:    0.3s\n",
      "[Parallel(n_jobs=1)]: Done   5 tasks      | elapsed:    0.4s\n"
     ]
    },
    {
     "name": "stdout",
     "output_type": "stream",
     "text": [
      "building tree 5 of 95\n",
      "building tree 6 of 95\n"
     ]
    },
    {
     "name": "stderr",
     "output_type": "stream",
     "text": [
      "[Parallel(n_jobs=1)]: Done   6 tasks      | elapsed:    0.5s\n",
      "[Parallel(n_jobs=1)]: Done   7 tasks      | elapsed:    0.6s\n"
     ]
    },
    {
     "name": "stdout",
     "output_type": "stream",
     "text": [
      "building tree 7 of 95\n",
      "building tree 8 of 95\n"
     ]
    },
    {
     "name": "stderr",
     "output_type": "stream",
     "text": [
      "[Parallel(n_jobs=1)]: Done   8 tasks      | elapsed:    0.7s\n",
      "[Parallel(n_jobs=1)]: Done   9 tasks      | elapsed:    0.9s\n"
     ]
    },
    {
     "name": "stdout",
     "output_type": "stream",
     "text": [
      "building tree 9 of 95\n",
      "building tree 10 of 95\n"
     ]
    },
    {
     "name": "stderr",
     "output_type": "stream",
     "text": [
      "[Parallel(n_jobs=1)]: Done  10 tasks      | elapsed:    1.0s\n",
      "[Parallel(n_jobs=1)]: Done  11 tasks      | elapsed:    1.1s\n"
     ]
    },
    {
     "name": "stdout",
     "output_type": "stream",
     "text": [
      "building tree 11 of 95\n",
      "building tree 12 of 95\n"
     ]
    },
    {
     "name": "stderr",
     "output_type": "stream",
     "text": [
      "[Parallel(n_jobs=1)]: Done  12 tasks      | elapsed:    1.2s\n",
      "[Parallel(n_jobs=1)]: Done  13 tasks      | elapsed:    1.3s\n",
      "[Parallel(n_jobs=1)]: Done  14 tasks      | elapsed:    1.4s\n"
     ]
    },
    {
     "name": "stdout",
     "output_type": "stream",
     "text": [
      "building tree 13 of 95\n",
      "building tree 14 of 95\n",
      "building tree 15 of 95\n"
     ]
    },
    {
     "name": "stderr",
     "output_type": "stream",
     "text": [
      "[Parallel(n_jobs=1)]: Done  15 tasks      | elapsed:    1.5s\n",
      "[Parallel(n_jobs=1)]: Done  16 tasks      | elapsed:    1.6s\n"
     ]
    },
    {
     "name": "stdout",
     "output_type": "stream",
     "text": [
      "building tree 16 of 95\n",
      "building tree 17 of 95\n"
     ]
    },
    {
     "name": "stderr",
     "output_type": "stream",
     "text": [
      "[Parallel(n_jobs=1)]: Done  17 tasks      | elapsed:    1.7s\n",
      "[Parallel(n_jobs=1)]: Done  18 tasks      | elapsed:    1.8s\n"
     ]
    },
    {
     "name": "stdout",
     "output_type": "stream",
     "text": [
      "building tree 18 of 95\n",
      "building tree 19 of 95\n"
     ]
    },
    {
     "name": "stderr",
     "output_type": "stream",
     "text": [
      "[Parallel(n_jobs=1)]: Done  19 tasks      | elapsed:    1.9s\n",
      "[Parallel(n_jobs=1)]: Done  20 tasks      | elapsed:    2.0s\n"
     ]
    },
    {
     "name": "stdout",
     "output_type": "stream",
     "text": [
      "building tree 20 of 95\n",
      "building tree 21 of 95\n"
     ]
    },
    {
     "name": "stderr",
     "output_type": "stream",
     "text": [
      "[Parallel(n_jobs=1)]: Done  21 tasks      | elapsed:    2.1s\n",
      "[Parallel(n_jobs=1)]: Done  22 tasks      | elapsed:    2.2s\n",
      "[Parallel(n_jobs=1)]: Done  23 tasks      | elapsed:    2.3s\n"
     ]
    },
    {
     "name": "stdout",
     "output_type": "stream",
     "text": [
      "building tree 22 of 95\n",
      "building tree 23 of 95\n",
      "building tree 24 of 95\n"
     ]
    },
    {
     "name": "stderr",
     "output_type": "stream",
     "text": [
      "[Parallel(n_jobs=1)]: Done  24 tasks      | elapsed:    2.5s\n",
      "[Parallel(n_jobs=1)]: Done  25 tasks      | elapsed:    2.6s\n",
      "[Parallel(n_jobs=1)]: Done  26 tasks      | elapsed:    2.7s\n"
     ]
    },
    {
     "name": "stdout",
     "output_type": "stream",
     "text": [
      "building tree 25 of 95\n",
      "building tree 26 of 95\n",
      "building tree 27 of 95\n"
     ]
    },
    {
     "name": "stderr",
     "output_type": "stream",
     "text": [
      "[Parallel(n_jobs=1)]: Done  27 tasks      | elapsed:    2.8s\n",
      "[Parallel(n_jobs=1)]: Done  28 tasks      | elapsed:    2.9s\n"
     ]
    },
    {
     "name": "stdout",
     "output_type": "stream",
     "text": [
      "building tree 28 of 95\n",
      "building tree 29 of 95\n"
     ]
    },
    {
     "name": "stderr",
     "output_type": "stream",
     "text": [
      "[Parallel(n_jobs=1)]: Done  29 tasks      | elapsed:    3.0s\n",
      "[Parallel(n_jobs=1)]: Done  30 tasks      | elapsed:    3.1s\n"
     ]
    },
    {
     "name": "stdout",
     "output_type": "stream",
     "text": [
      "building tree 30 of 95\n",
      "building tree 31 of 95\n"
     ]
    },
    {
     "name": "stderr",
     "output_type": "stream",
     "text": [
      "[Parallel(n_jobs=1)]: Done  31 tasks      | elapsed:    3.2s\n",
      "[Parallel(n_jobs=1)]: Done  32 tasks      | elapsed:    3.3s\n",
      "[Parallel(n_jobs=1)]: Done  33 tasks      | elapsed:    3.4s\n"
     ]
    },
    {
     "name": "stdout",
     "output_type": "stream",
     "text": [
      "building tree 32 of 95\n",
      "building tree 33 of 95\n",
      "building tree 34 of 95\n"
     ]
    },
    {
     "name": "stderr",
     "output_type": "stream",
     "text": [
      "[Parallel(n_jobs=1)]: Done  34 tasks      | elapsed:    3.6s\n",
      "[Parallel(n_jobs=1)]: Done  35 tasks      | elapsed:    3.7s\n"
     ]
    },
    {
     "name": "stdout",
     "output_type": "stream",
     "text": [
      "building tree 35 of 95\n",
      "building tree 36 of 95\n"
     ]
    },
    {
     "name": "stderr",
     "output_type": "stream",
     "text": [
      "[Parallel(n_jobs=1)]: Done  36 tasks      | elapsed:    3.8s\n",
      "[Parallel(n_jobs=1)]: Done  37 tasks      | elapsed:    3.9s\n"
     ]
    },
    {
     "name": "stdout",
     "output_type": "stream",
     "text": [
      "building tree 37 of 95\n",
      "building tree 38 of 95\n"
     ]
    },
    {
     "name": "stderr",
     "output_type": "stream",
     "text": [
      "[Parallel(n_jobs=1)]: Done  38 tasks      | elapsed:    4.0s\n",
      "[Parallel(n_jobs=1)]: Done  39 tasks      | elapsed:    4.1s\n"
     ]
    },
    {
     "name": "stdout",
     "output_type": "stream",
     "text": [
      "building tree 39 of 95\n",
      "building tree 40 of 95\n"
     ]
    },
    {
     "name": "stderr",
     "output_type": "stream",
     "text": [
      "[Parallel(n_jobs=1)]: Done  40 tasks      | elapsed:    4.2s\n",
      "[Parallel(n_jobs=1)]: Done  41 tasks      | elapsed:    4.3s\n"
     ]
    },
    {
     "name": "stdout",
     "output_type": "stream",
     "text": [
      "building tree 41 of 95\n",
      "building tree 42 of 95\n"
     ]
    },
    {
     "name": "stderr",
     "output_type": "stream",
     "text": [
      "[Parallel(n_jobs=1)]: Done  42 tasks      | elapsed:    4.4s\n",
      "[Parallel(n_jobs=1)]: Done  43 tasks      | elapsed:    4.5s\n",
      "[Parallel(n_jobs=1)]: Done  44 tasks      | elapsed:    4.7s\n"
     ]
    },
    {
     "name": "stdout",
     "output_type": "stream",
     "text": [
      "building tree 43 of 95\n",
      "building tree 44 of 95\n",
      "building tree 45 of 95\n"
     ]
    },
    {
     "name": "stderr",
     "output_type": "stream",
     "text": [
      "[Parallel(n_jobs=1)]: Done  45 tasks      | elapsed:    4.8s\n",
      "[Parallel(n_jobs=1)]: Done  46 tasks      | elapsed:    4.9s\n",
      "[Parallel(n_jobs=1)]: Done  47 tasks      | elapsed:    5.0s\n"
     ]
    },
    {
     "name": "stdout",
     "output_type": "stream",
     "text": [
      "building tree 46 of 95\n",
      "building tree 47 of 95\n",
      "building tree 48 of 95\n"
     ]
    },
    {
     "name": "stderr",
     "output_type": "stream",
     "text": [
      "[Parallel(n_jobs=1)]: Done  48 tasks      | elapsed:    5.1s\n",
      "[Parallel(n_jobs=1)]: Done  49 tasks      | elapsed:    5.2s\n",
      "[Parallel(n_jobs=1)]: Done  50 tasks      | elapsed:    5.3s\n"
     ]
    },
    {
     "name": "stdout",
     "output_type": "stream",
     "text": [
      "building tree 49 of 95\n",
      "building tree 50 of 95\n",
      "building tree 51 of 95\n"
     ]
    },
    {
     "name": "stderr",
     "output_type": "stream",
     "text": [
      "[Parallel(n_jobs=1)]: Done  51 tasks      | elapsed:    5.4s\n",
      "[Parallel(n_jobs=1)]: Done  52 tasks      | elapsed:    5.5s\n",
      "[Parallel(n_jobs=1)]: Done  53 tasks      | elapsed:    5.6s\n"
     ]
    },
    {
     "name": "stdout",
     "output_type": "stream",
     "text": [
      "building tree 52 of 95\n",
      "building tree 53 of 95\n",
      "building tree 54 of 95\n"
     ]
    },
    {
     "name": "stderr",
     "output_type": "stream",
     "text": [
      "[Parallel(n_jobs=1)]: Done  54 tasks      | elapsed:    5.7s\n",
      "[Parallel(n_jobs=1)]: Done  55 tasks      | elapsed:    5.8s\n",
      "[Parallel(n_jobs=1)]: Done  56 tasks      | elapsed:    5.9s\n"
     ]
    },
    {
     "name": "stdout",
     "output_type": "stream",
     "text": [
      "building tree 55 of 95\n",
      "building tree 56 of 95\n",
      "building tree 57 of 95\n"
     ]
    },
    {
     "name": "stderr",
     "output_type": "stream",
     "text": [
      "[Parallel(n_jobs=1)]: Done  57 tasks      | elapsed:    6.0s\n",
      "[Parallel(n_jobs=1)]: Done  58 tasks      | elapsed:    6.1s\n"
     ]
    },
    {
     "name": "stdout",
     "output_type": "stream",
     "text": [
      "building tree 58 of 95\n",
      "building tree 59 of 95\n"
     ]
    },
    {
     "name": "stderr",
     "output_type": "stream",
     "text": [
      "[Parallel(n_jobs=1)]: Done  59 tasks      | elapsed:    6.2s\n",
      "[Parallel(n_jobs=1)]: Done  60 tasks      | elapsed:    6.3s\n"
     ]
    },
    {
     "name": "stdout",
     "output_type": "stream",
     "text": [
      "building tree 60 of 95\n",
      "building tree 61 of 95\n"
     ]
    },
    {
     "name": "stderr",
     "output_type": "stream",
     "text": [
      "[Parallel(n_jobs=1)]: Done  61 tasks      | elapsed:    6.5s\n",
      "[Parallel(n_jobs=1)]: Done  62 tasks      | elapsed:    6.6s\n",
      "[Parallel(n_jobs=1)]: Done  63 tasks      | elapsed:    6.7s\n"
     ]
    },
    {
     "name": "stdout",
     "output_type": "stream",
     "text": [
      "building tree 62 of 95\n",
      "building tree 63 of 95\n",
      "building tree 64 of 95\n"
     ]
    },
    {
     "name": "stderr",
     "output_type": "stream",
     "text": [
      "[Parallel(n_jobs=1)]: Done  64 tasks      | elapsed:    6.8s\n",
      "[Parallel(n_jobs=1)]: Done  65 tasks      | elapsed:    6.9s\n"
     ]
    },
    {
     "name": "stdout",
     "output_type": "stream",
     "text": [
      "building tree 65 of 95\n",
      "building tree 66 of 95\n"
     ]
    },
    {
     "name": "stderr",
     "output_type": "stream",
     "text": [
      "[Parallel(n_jobs=1)]: Done  66 tasks      | elapsed:    7.0s\n",
      "[Parallel(n_jobs=1)]: Done  67 tasks      | elapsed:    7.1s\n",
      "[Parallel(n_jobs=1)]: Done  68 tasks      | elapsed:    7.2s\n"
     ]
    },
    {
     "name": "stdout",
     "output_type": "stream",
     "text": [
      "building tree 67 of 95\n",
      "building tree 68 of 95\n",
      "building tree 69 of 95\n"
     ]
    },
    {
     "name": "stderr",
     "output_type": "stream",
     "text": [
      "[Parallel(n_jobs=1)]: Done  69 tasks      | elapsed:    7.3s\n",
      "[Parallel(n_jobs=1)]: Done  70 tasks      | elapsed:    7.4s\n",
      "[Parallel(n_jobs=1)]: Done  71 tasks      | elapsed:    7.5s\n"
     ]
    },
    {
     "name": "stdout",
     "output_type": "stream",
     "text": [
      "building tree 70 of 95\n",
      "building tree 71 of 95\n",
      "building tree 72 of 95\n"
     ]
    },
    {
     "name": "stderr",
     "output_type": "stream",
     "text": [
      "[Parallel(n_jobs=1)]: Done  72 tasks      | elapsed:    7.6s\n",
      "[Parallel(n_jobs=1)]: Done  73 tasks      | elapsed:    7.7s\n",
      "[Parallel(n_jobs=1)]: Done  74 tasks      | elapsed:    7.8s\n"
     ]
    },
    {
     "name": "stdout",
     "output_type": "stream",
     "text": [
      "building tree 73 of 95\n",
      "building tree 74 of 95\n",
      "building tree 75 of 95\n"
     ]
    },
    {
     "name": "stderr",
     "output_type": "stream",
     "text": [
      "[Parallel(n_jobs=1)]: Done  75 tasks      | elapsed:    7.9s\n",
      "[Parallel(n_jobs=1)]: Done  76 tasks      | elapsed:    8.0s\n",
      "[Parallel(n_jobs=1)]: Done  77 tasks      | elapsed:    8.1s\n"
     ]
    },
    {
     "name": "stdout",
     "output_type": "stream",
     "text": [
      "building tree 76 of 95\n",
      "building tree 77 of 95\n",
      "building tree 78 of 95\n"
     ]
    },
    {
     "name": "stderr",
     "output_type": "stream",
     "text": [
      "[Parallel(n_jobs=1)]: Done  78 tasks      | elapsed:    8.2s\n",
      "[Parallel(n_jobs=1)]: Done  79 tasks      | elapsed:    8.3s\n"
     ]
    },
    {
     "name": "stdout",
     "output_type": "stream",
     "text": [
      "building tree 79 of 95\n",
      "building tree 80 of 95\n"
     ]
    },
    {
     "name": "stderr",
     "output_type": "stream",
     "text": [
      "[Parallel(n_jobs=1)]: Done  80 tasks      | elapsed:    8.5s\n",
      "[Parallel(n_jobs=1)]: Done  81 tasks      | elapsed:    8.6s\n"
     ]
    },
    {
     "name": "stdout",
     "output_type": "stream",
     "text": [
      "building tree 81 of 95\n",
      "building tree 82 of 95\n"
     ]
    },
    {
     "name": "stderr",
     "output_type": "stream",
     "text": [
      "[Parallel(n_jobs=1)]: Done  82 tasks      | elapsed:    8.7s\n",
      "[Parallel(n_jobs=1)]: Done  83 tasks      | elapsed:    8.8s\n"
     ]
    },
    {
     "name": "stdout",
     "output_type": "stream",
     "text": [
      "building tree 83 of 95\n",
      "building tree 84 of 95\n"
     ]
    },
    {
     "name": "stderr",
     "output_type": "stream",
     "text": [
      "[Parallel(n_jobs=1)]: Done  84 tasks      | elapsed:    8.9s\n",
      "[Parallel(n_jobs=1)]: Done  85 tasks      | elapsed:    9.0s\n"
     ]
    },
    {
     "name": "stdout",
     "output_type": "stream",
     "text": [
      "building tree 85 of 95\n",
      "building tree 86 of 95\n"
     ]
    },
    {
     "name": "stderr",
     "output_type": "stream",
     "text": [
      "[Parallel(n_jobs=1)]: Done  86 tasks      | elapsed:    9.1s\n",
      "[Parallel(n_jobs=1)]: Done  87 tasks      | elapsed:    9.2s\n"
     ]
    },
    {
     "name": "stdout",
     "output_type": "stream",
     "text": [
      "building tree 87 of 95\n",
      "building tree 88 of 95\n"
     ]
    },
    {
     "name": "stderr",
     "output_type": "stream",
     "text": [
      "[Parallel(n_jobs=1)]: Done  88 tasks      | elapsed:    9.3s\n",
      "[Parallel(n_jobs=1)]: Done  89 tasks      | elapsed:    9.4s\n"
     ]
    },
    {
     "name": "stdout",
     "output_type": "stream",
     "text": [
      "building tree 89 of 95\n",
      "building tree 90 of 95\n"
     ]
    },
    {
     "name": "stderr",
     "output_type": "stream",
     "text": [
      "[Parallel(n_jobs=1)]: Done  90 tasks      | elapsed:    9.5s\n",
      "[Parallel(n_jobs=1)]: Done  91 tasks      | elapsed:    9.6s\n"
     ]
    },
    {
     "name": "stdout",
     "output_type": "stream",
     "text": [
      "building tree 91 of 95\n",
      "building tree 92 of 95\n"
     ]
    },
    {
     "name": "stderr",
     "output_type": "stream",
     "text": [
      "[Parallel(n_jobs=1)]: Done  92 tasks      | elapsed:    9.7s\n",
      "[Parallel(n_jobs=1)]: Done  93 tasks      | elapsed:    9.8s\n",
      "[Parallel(n_jobs=1)]: Done  94 tasks      | elapsed:    9.9s\n"
     ]
    },
    {
     "name": "stdout",
     "output_type": "stream",
     "text": [
      "building tree 93 of 95\n",
      "building tree 94 of 95\n",
      "building tree 95 of 95\n"
     ]
    },
    {
     "name": "stderr",
     "output_type": "stream",
     "text": [
      "[Parallel(n_jobs=1)]: Done  95 tasks      | elapsed:   10.0s\n",
      "[Parallel(n_jobs=1)]: Done  95 tasks      | elapsed:   10.0s\n",
      "[Parallel(n_jobs=1)]: Done   1 tasks      | elapsed:    0.0s\n",
      "[Parallel(n_jobs=1)]: Done   2 tasks      | elapsed:    0.0s\n",
      "[Parallel(n_jobs=1)]: Done   3 tasks      | elapsed:    0.0s\n",
      "[Parallel(n_jobs=1)]: Done   4 tasks      | elapsed:    0.0s\n",
      "[Parallel(n_jobs=1)]: Done   5 tasks      | elapsed:    0.0s\n",
      "[Parallel(n_jobs=1)]: Done   6 tasks      | elapsed:    0.0s\n",
      "[Parallel(n_jobs=1)]: Done   7 tasks      | elapsed:    0.0s\n",
      "[Parallel(n_jobs=1)]: Done   8 tasks      | elapsed:    0.0s\n",
      "[Parallel(n_jobs=1)]: Done   9 tasks      | elapsed:    0.0s\n",
      "[Parallel(n_jobs=1)]: Done  10 tasks      | elapsed:    0.0s\n",
      "[Parallel(n_jobs=1)]: Done  11 tasks      | elapsed:    0.0s\n",
      "[Parallel(n_jobs=1)]: Done  12 tasks      | elapsed:    0.0s\n",
      "[Parallel(n_jobs=1)]: Done  13 tasks      | elapsed:    0.0s\n",
      "[Parallel(n_jobs=1)]: Done  14 tasks      | elapsed:    0.0s\n",
      "[Parallel(n_jobs=1)]: Done  15 tasks      | elapsed:    0.0s\n",
      "[Parallel(n_jobs=1)]: Done  16 tasks      | elapsed:    0.0s\n",
      "[Parallel(n_jobs=1)]: Done  17 tasks      | elapsed:    0.0s\n",
      "[Parallel(n_jobs=1)]: Done  18 tasks      | elapsed:    0.0s\n",
      "[Parallel(n_jobs=1)]: Done  19 tasks      | elapsed:    0.0s\n",
      "[Parallel(n_jobs=1)]: Done  20 tasks      | elapsed:    0.0s\n",
      "[Parallel(n_jobs=1)]: Done  21 tasks      | elapsed:    0.0s\n",
      "[Parallel(n_jobs=1)]: Done  22 tasks      | elapsed:    0.0s\n",
      "[Parallel(n_jobs=1)]: Done  23 tasks      | elapsed:    0.0s\n",
      "[Parallel(n_jobs=1)]: Done  24 tasks      | elapsed:    0.0s\n",
      "[Parallel(n_jobs=1)]: Done  25 tasks      | elapsed:    0.0s\n",
      "[Parallel(n_jobs=1)]: Done  26 tasks      | elapsed:    0.0s\n",
      "[Parallel(n_jobs=1)]: Done  27 tasks      | elapsed:    0.0s\n",
      "[Parallel(n_jobs=1)]: Done  28 tasks      | elapsed:    0.0s\n",
      "[Parallel(n_jobs=1)]: Done  29 tasks      | elapsed:    0.0s\n",
      "[Parallel(n_jobs=1)]: Done  30 tasks      | elapsed:    0.0s\n",
      "[Parallel(n_jobs=1)]: Done  31 tasks      | elapsed:    0.0s\n",
      "[Parallel(n_jobs=1)]: Done  32 tasks      | elapsed:    0.0s\n",
      "[Parallel(n_jobs=1)]: Done  33 tasks      | elapsed:    0.0s\n",
      "[Parallel(n_jobs=1)]: Done  34 tasks      | elapsed:    0.0s\n",
      "[Parallel(n_jobs=1)]: Done  35 tasks      | elapsed:    0.0s\n",
      "[Parallel(n_jobs=1)]: Done  36 tasks      | elapsed:    0.0s\n",
      "[Parallel(n_jobs=1)]: Done  37 tasks      | elapsed:    0.0s\n",
      "[Parallel(n_jobs=1)]: Done  38 tasks      | elapsed:    0.0s\n",
      "[Parallel(n_jobs=1)]: Done  39 tasks      | elapsed:    0.0s\n",
      "[Parallel(n_jobs=1)]: Done  40 tasks      | elapsed:    0.0s\n",
      "[Parallel(n_jobs=1)]: Done  41 tasks      | elapsed:    0.0s\n",
      "[Parallel(n_jobs=1)]: Done  42 tasks      | elapsed:    0.0s\n",
      "[Parallel(n_jobs=1)]: Done  43 tasks      | elapsed:    0.0s\n",
      "[Parallel(n_jobs=1)]: Done  44 tasks      | elapsed:    0.0s\n",
      "[Parallel(n_jobs=1)]: Done  45 tasks      | elapsed:    0.0s\n",
      "[Parallel(n_jobs=1)]: Done  46 tasks      | elapsed:    0.0s\n",
      "[Parallel(n_jobs=1)]: Done  47 tasks      | elapsed:    0.0s\n",
      "[Parallel(n_jobs=1)]: Done  48 tasks      | elapsed:    0.0s\n",
      "[Parallel(n_jobs=1)]: Done  49 tasks      | elapsed:    0.0s\n",
      "[Parallel(n_jobs=1)]: Done  50 tasks      | elapsed:    0.0s\n",
      "[Parallel(n_jobs=1)]: Done  51 tasks      | elapsed:    0.0s\n",
      "[Parallel(n_jobs=1)]: Done  52 tasks      | elapsed:    0.0s\n",
      "[Parallel(n_jobs=1)]: Done  53 tasks      | elapsed:    0.0s\n",
      "[Parallel(n_jobs=1)]: Done  54 tasks      | elapsed:    0.0s\n",
      "[Parallel(n_jobs=1)]: Done  55 tasks      | elapsed:    0.0s\n",
      "[Parallel(n_jobs=1)]: Done  56 tasks      | elapsed:    0.0s\n",
      "[Parallel(n_jobs=1)]: Done  57 tasks      | elapsed:    0.0s\n",
      "[Parallel(n_jobs=1)]: Done  58 tasks      | elapsed:    0.0s\n",
      "[Parallel(n_jobs=1)]: Done  59 tasks      | elapsed:    0.0s\n",
      "[Parallel(n_jobs=1)]: Done  60 tasks      | elapsed:    0.0s\n",
      "[Parallel(n_jobs=1)]: Done  61 tasks      | elapsed:    0.0s\n",
      "[Parallel(n_jobs=1)]: Done  62 tasks      | elapsed:    0.0s\n",
      "[Parallel(n_jobs=1)]: Done  63 tasks      | elapsed:    0.0s\n",
      "[Parallel(n_jobs=1)]: Done  64 tasks      | elapsed:    0.0s\n",
      "[Parallel(n_jobs=1)]: Done  65 tasks      | elapsed:    0.0s\n",
      "[Parallel(n_jobs=1)]: Done  66 tasks      | elapsed:    0.0s\n",
      "[Parallel(n_jobs=1)]: Done  67 tasks      | elapsed:    0.0s\n",
      "[Parallel(n_jobs=1)]: Done  68 tasks      | elapsed:    0.0s\n",
      "[Parallel(n_jobs=1)]: Done  69 tasks      | elapsed:    0.0s\n",
      "[Parallel(n_jobs=1)]: Done  70 tasks      | elapsed:    0.0s\n",
      "[Parallel(n_jobs=1)]: Done  71 tasks      | elapsed:    0.0s\n",
      "[Parallel(n_jobs=1)]: Done  72 tasks      | elapsed:    0.0s\n",
      "[Parallel(n_jobs=1)]: Done  73 tasks      | elapsed:    0.0s\n",
      "[Parallel(n_jobs=1)]: Done  74 tasks      | elapsed:    0.0s\n",
      "[Parallel(n_jobs=1)]: Done  75 tasks      | elapsed:    0.0s\n",
      "[Parallel(n_jobs=1)]: Done  76 tasks      | elapsed:    0.0s\n",
      "[Parallel(n_jobs=1)]: Done  77 tasks      | elapsed:    0.0s\n",
      "[Parallel(n_jobs=1)]: Done  78 tasks      | elapsed:    0.0s\n",
      "[Parallel(n_jobs=1)]: Done  79 tasks      | elapsed:    0.0s\n",
      "[Parallel(n_jobs=1)]: Done  80 tasks      | elapsed:    0.0s\n",
      "[Parallel(n_jobs=1)]: Done  81 tasks      | elapsed:    0.0s\n",
      "[Parallel(n_jobs=1)]: Done  82 tasks      | elapsed:    0.0s\n",
      "[Parallel(n_jobs=1)]: Done  83 tasks      | elapsed:    0.0s\n",
      "[Parallel(n_jobs=1)]: Done  84 tasks      | elapsed:    0.0s\n",
      "[Parallel(n_jobs=1)]: Done  85 tasks      | elapsed:    0.0s\n",
      "[Parallel(n_jobs=1)]: Done  86 tasks      | elapsed:    0.0s\n",
      "[Parallel(n_jobs=1)]: Done  87 tasks      | elapsed:    0.0s\n",
      "[Parallel(n_jobs=1)]: Done  88 tasks      | elapsed:    0.0s\n",
      "[Parallel(n_jobs=1)]: Done  89 tasks      | elapsed:    0.0s\n",
      "[Parallel(n_jobs=1)]: Done  90 tasks      | elapsed:    0.0s\n",
      "[Parallel(n_jobs=1)]: Done  91 tasks      | elapsed:    0.0s\n",
      "[Parallel(n_jobs=1)]: Done  92 tasks      | elapsed:    0.0s\n",
      "[Parallel(n_jobs=1)]: Done  93 tasks      | elapsed:    0.0s\n",
      "[Parallel(n_jobs=1)]: Done  94 tasks      | elapsed:    0.0s\n",
      "[Parallel(n_jobs=1)]: Done  95 tasks      | elapsed:    0.0s\n",
      "[Parallel(n_jobs=1)]: Done  95 tasks      | elapsed:    0.0s\n",
      "[Parallel(n_jobs=1)]: Done   1 tasks      | elapsed:    0.1s\n"
     ]
    },
    {
     "name": "stdout",
     "output_type": "stream",
     "text": [
      "building tree 1 of 95\n",
      "building tree 2 of 95\n"
     ]
    },
    {
     "name": "stderr",
     "output_type": "stream",
     "text": [
      "[Parallel(n_jobs=1)]: Done   2 tasks      | elapsed:    0.2s\n",
      "[Parallel(n_jobs=1)]: Done   3 tasks      | elapsed:    0.3s\n"
     ]
    },
    {
     "name": "stdout",
     "output_type": "stream",
     "text": [
      "building tree 3 of 95\n",
      "building tree 4 of 95\n"
     ]
    },
    {
     "name": "stderr",
     "output_type": "stream",
     "text": [
      "[Parallel(n_jobs=1)]: Done   4 tasks      | elapsed:    0.5s\n",
      "[Parallel(n_jobs=1)]: Done   5 tasks      | elapsed:    0.6s\n"
     ]
    },
    {
     "name": "stdout",
     "output_type": "stream",
     "text": [
      "building tree 5 of 95\n",
      "building tree 6 of 95\n"
     ]
    },
    {
     "name": "stderr",
     "output_type": "stream",
     "text": [
      "[Parallel(n_jobs=1)]: Done   6 tasks      | elapsed:    0.7s\n",
      "[Parallel(n_jobs=1)]: Done   7 tasks      | elapsed:    0.8s\n"
     ]
    },
    {
     "name": "stdout",
     "output_type": "stream",
     "text": [
      "building tree 7 of 95\n",
      "building tree 8 of 95\n"
     ]
    },
    {
     "name": "stderr",
     "output_type": "stream",
     "text": [
      "[Parallel(n_jobs=1)]: Done   8 tasks      | elapsed:    0.9s\n",
      "[Parallel(n_jobs=1)]: Done   9 tasks      | elapsed:    1.1s\n"
     ]
    },
    {
     "name": "stdout",
     "output_type": "stream",
     "text": [
      "building tree 9 of 95\n",
      "building tree 10 of 95\n"
     ]
    },
    {
     "name": "stderr",
     "output_type": "stream",
     "text": [
      "[Parallel(n_jobs=1)]: Done  10 tasks      | elapsed:    1.2s\n",
      "[Parallel(n_jobs=1)]: Done  11 tasks      | elapsed:    1.3s\n"
     ]
    },
    {
     "name": "stdout",
     "output_type": "stream",
     "text": [
      "building tree 11 of 95\n",
      "building tree 12 of 95\n"
     ]
    },
    {
     "name": "stderr",
     "output_type": "stream",
     "text": [
      "[Parallel(n_jobs=1)]: Done  12 tasks      | elapsed:    1.5s\n",
      "[Parallel(n_jobs=1)]: Done  13 tasks      | elapsed:    1.6s\n"
     ]
    },
    {
     "name": "stdout",
     "output_type": "stream",
     "text": [
      "building tree 13 of 95\n",
      "building tree 14 of 95\n"
     ]
    },
    {
     "name": "stderr",
     "output_type": "stream",
     "text": [
      "[Parallel(n_jobs=1)]: Done  14 tasks      | elapsed:    1.7s\n",
      "[Parallel(n_jobs=1)]: Done  15 tasks      | elapsed:    1.8s\n"
     ]
    },
    {
     "name": "stdout",
     "output_type": "stream",
     "text": [
      "building tree 15 of 95\n",
      "building tree 16 of 95\n"
     ]
    },
    {
     "name": "stderr",
     "output_type": "stream",
     "text": [
      "[Parallel(n_jobs=1)]: Done  16 tasks      | elapsed:    2.0s\n",
      "[Parallel(n_jobs=1)]: Done  17 tasks      | elapsed:    2.1s\n"
     ]
    },
    {
     "name": "stdout",
     "output_type": "stream",
     "text": [
      "building tree 17 of 95\n",
      "building tree 18 of 95\n"
     ]
    },
    {
     "name": "stderr",
     "output_type": "stream",
     "text": [
      "[Parallel(n_jobs=1)]: Done  18 tasks      | elapsed:    2.2s\n",
      "[Parallel(n_jobs=1)]: Done  19 tasks      | elapsed:    2.4s\n"
     ]
    },
    {
     "name": "stdout",
     "output_type": "stream",
     "text": [
      "building tree 19 of 95\n",
      "building tree 20 of 95\n"
     ]
    },
    {
     "name": "stderr",
     "output_type": "stream",
     "text": [
      "[Parallel(n_jobs=1)]: Done  20 tasks      | elapsed:    2.5s\n",
      "[Parallel(n_jobs=1)]: Done  21 tasks      | elapsed:    2.6s\n"
     ]
    },
    {
     "name": "stdout",
     "output_type": "stream",
     "text": [
      "building tree 21 of 95\n",
      "building tree 22 of 95\n"
     ]
    },
    {
     "name": "stderr",
     "output_type": "stream",
     "text": [
      "[Parallel(n_jobs=1)]: Done  22 tasks      | elapsed:    2.8s\n",
      "[Parallel(n_jobs=1)]: Done  23 tasks      | elapsed:    2.9s\n"
     ]
    },
    {
     "name": "stdout",
     "output_type": "stream",
     "text": [
      "building tree 23 of 95\n",
      "building tree 24 of 95\n"
     ]
    },
    {
     "name": "stderr",
     "output_type": "stream",
     "text": [
      "[Parallel(n_jobs=1)]: Done  24 tasks      | elapsed:    3.0s\n",
      "[Parallel(n_jobs=1)]: Done  25 tasks      | elapsed:    3.1s\n"
     ]
    },
    {
     "name": "stdout",
     "output_type": "stream",
     "text": [
      "building tree 25 of 95\n",
      "building tree 26 of 95\n"
     ]
    },
    {
     "name": "stderr",
     "output_type": "stream",
     "text": [
      "[Parallel(n_jobs=1)]: Done  26 tasks      | elapsed:    3.3s\n",
      "[Parallel(n_jobs=1)]: Done  27 tasks      | elapsed:    3.4s\n"
     ]
    },
    {
     "name": "stdout",
     "output_type": "stream",
     "text": [
      "building tree 27 of 95\n",
      "building tree 28 of 95\n"
     ]
    },
    {
     "name": "stderr",
     "output_type": "stream",
     "text": [
      "[Parallel(n_jobs=1)]: Done  28 tasks      | elapsed:    3.6s\n",
      "[Parallel(n_jobs=1)]: Done  29 tasks      | elapsed:    3.7s\n"
     ]
    },
    {
     "name": "stdout",
     "output_type": "stream",
     "text": [
      "building tree 29 of 95\n",
      "building tree 30 of 95\n"
     ]
    },
    {
     "name": "stderr",
     "output_type": "stream",
     "text": [
      "[Parallel(n_jobs=1)]: Done  30 tasks      | elapsed:    3.8s\n",
      "[Parallel(n_jobs=1)]: Done  31 tasks      | elapsed:    3.9s\n"
     ]
    },
    {
     "name": "stdout",
     "output_type": "stream",
     "text": [
      "building tree 31 of 95\n",
      "building tree 32 of 95\n"
     ]
    },
    {
     "name": "stderr",
     "output_type": "stream",
     "text": [
      "[Parallel(n_jobs=1)]: Done  32 tasks      | elapsed:    4.0s\n",
      "[Parallel(n_jobs=1)]: Done  33 tasks      | elapsed:    4.2s\n"
     ]
    },
    {
     "name": "stdout",
     "output_type": "stream",
     "text": [
      "building tree 33 of 95\n",
      "building tree 34 of 95\n"
     ]
    },
    {
     "name": "stderr",
     "output_type": "stream",
     "text": [
      "[Parallel(n_jobs=1)]: Done  34 tasks      | elapsed:    4.3s\n",
      "[Parallel(n_jobs=1)]: Done  35 tasks      | elapsed:    4.4s\n"
     ]
    },
    {
     "name": "stdout",
     "output_type": "stream",
     "text": [
      "building tree 35 of 95\n",
      "building tree 36 of 95\n"
     ]
    },
    {
     "name": "stderr",
     "output_type": "stream",
     "text": [
      "[Parallel(n_jobs=1)]: Done  36 tasks      | elapsed:    4.6s\n",
      "[Parallel(n_jobs=1)]: Done  37 tasks      | elapsed:    4.7s\n"
     ]
    },
    {
     "name": "stdout",
     "output_type": "stream",
     "text": [
      "building tree 37 of 95\n",
      "building tree 38 of 95\n"
     ]
    },
    {
     "name": "stderr",
     "output_type": "stream",
     "text": [
      "[Parallel(n_jobs=1)]: Done  38 tasks      | elapsed:    4.8s\n",
      "[Parallel(n_jobs=1)]: Done  39 tasks      | elapsed:    5.0s\n"
     ]
    },
    {
     "name": "stdout",
     "output_type": "stream",
     "text": [
      "building tree 39 of 95\n",
      "building tree 40 of 95\n"
     ]
    },
    {
     "name": "stderr",
     "output_type": "stream",
     "text": [
      "[Parallel(n_jobs=1)]: Done  40 tasks      | elapsed:    5.1s\n",
      "[Parallel(n_jobs=1)]: Done  41 tasks      | elapsed:    5.2s\n"
     ]
    },
    {
     "name": "stdout",
     "output_type": "stream",
     "text": [
      "building tree 41 of 95\n",
      "building tree 42 of 95\n"
     ]
    },
    {
     "name": "stderr",
     "output_type": "stream",
     "text": [
      "[Parallel(n_jobs=1)]: Done  42 tasks      | elapsed:    5.3s\n",
      "[Parallel(n_jobs=1)]: Done  43 tasks      | elapsed:    5.4s\n"
     ]
    },
    {
     "name": "stdout",
     "output_type": "stream",
     "text": [
      "building tree 43 of 95\n",
      "building tree 44 of 95\n"
     ]
    },
    {
     "name": "stderr",
     "output_type": "stream",
     "text": [
      "[Parallel(n_jobs=1)]: Done  44 tasks      | elapsed:    5.6s\n",
      "[Parallel(n_jobs=1)]: Done  45 tasks      | elapsed:    5.7s\n"
     ]
    },
    {
     "name": "stdout",
     "output_type": "stream",
     "text": [
      "building tree 45 of 95\n",
      "building tree 46 of 95\n"
     ]
    },
    {
     "name": "stderr",
     "output_type": "stream",
     "text": [
      "[Parallel(n_jobs=1)]: Done  46 tasks      | elapsed:    5.8s\n",
      "[Parallel(n_jobs=1)]: Done  47 tasks      | elapsed:    6.0s\n"
     ]
    },
    {
     "name": "stdout",
     "output_type": "stream",
     "text": [
      "building tree 47 of 95\n",
      "building tree 48 of 95\n"
     ]
    },
    {
     "name": "stderr",
     "output_type": "stream",
     "text": [
      "[Parallel(n_jobs=1)]: Done  48 tasks      | elapsed:    6.1s\n",
      "[Parallel(n_jobs=1)]: Done  49 tasks      | elapsed:    6.2s\n"
     ]
    },
    {
     "name": "stdout",
     "output_type": "stream",
     "text": [
      "building tree 49 of 95\n",
      "building tree 50 of 95\n"
     ]
    },
    {
     "name": "stderr",
     "output_type": "stream",
     "text": [
      "[Parallel(n_jobs=1)]: Done  50 tasks      | elapsed:    6.4s\n",
      "[Parallel(n_jobs=1)]: Done  51 tasks      | elapsed:    6.5s\n"
     ]
    },
    {
     "name": "stdout",
     "output_type": "stream",
     "text": [
      "building tree 51 of 95\n",
      "building tree 52 of 95\n"
     ]
    },
    {
     "name": "stderr",
     "output_type": "stream",
     "text": [
      "[Parallel(n_jobs=1)]: Done  52 tasks      | elapsed:    6.6s\n",
      "[Parallel(n_jobs=1)]: Done  53 tasks      | elapsed:    6.8s\n"
     ]
    },
    {
     "name": "stdout",
     "output_type": "stream",
     "text": [
      "building tree 53 of 95\n",
      "building tree 54 of 95\n"
     ]
    },
    {
     "name": "stderr",
     "output_type": "stream",
     "text": [
      "[Parallel(n_jobs=1)]: Done  54 tasks      | elapsed:    6.9s\n",
      "[Parallel(n_jobs=1)]: Done  55 tasks      | elapsed:    7.0s\n"
     ]
    },
    {
     "name": "stdout",
     "output_type": "stream",
     "text": [
      "building tree 55 of 95\n",
      "building tree 56 of 95\n"
     ]
    },
    {
     "name": "stderr",
     "output_type": "stream",
     "text": [
      "[Parallel(n_jobs=1)]: Done  56 tasks      | elapsed:    7.1s\n",
      "[Parallel(n_jobs=1)]: Done  57 tasks      | elapsed:    7.3s\n"
     ]
    },
    {
     "name": "stdout",
     "output_type": "stream",
     "text": [
      "building tree 57 of 95\n",
      "building tree 58 of 95\n"
     ]
    },
    {
     "name": "stderr",
     "output_type": "stream",
     "text": [
      "[Parallel(n_jobs=1)]: Done  58 tasks      | elapsed:    7.4s\n",
      "[Parallel(n_jobs=1)]: Done  59 tasks      | elapsed:    7.5s\n"
     ]
    },
    {
     "name": "stdout",
     "output_type": "stream",
     "text": [
      "building tree 59 of 95\n",
      "building tree 60 of 95\n"
     ]
    },
    {
     "name": "stderr",
     "output_type": "stream",
     "text": [
      "[Parallel(n_jobs=1)]: Done  60 tasks      | elapsed:    7.6s\n",
      "[Parallel(n_jobs=1)]: Done  61 tasks      | elapsed:    7.8s\n"
     ]
    },
    {
     "name": "stdout",
     "output_type": "stream",
     "text": [
      "building tree 61 of 95\n",
      "building tree 62 of 95\n"
     ]
    },
    {
     "name": "stderr",
     "output_type": "stream",
     "text": [
      "[Parallel(n_jobs=1)]: Done  62 tasks      | elapsed:    7.9s\n",
      "[Parallel(n_jobs=1)]: Done  63 tasks      | elapsed:    8.0s\n"
     ]
    },
    {
     "name": "stdout",
     "output_type": "stream",
     "text": [
      "building tree 63 of 95\n",
      "building tree 64 of 95\n"
     ]
    },
    {
     "name": "stderr",
     "output_type": "stream",
     "text": [
      "[Parallel(n_jobs=1)]: Done  64 tasks      | elapsed:    8.1s\n",
      "[Parallel(n_jobs=1)]: Done  65 tasks      | elapsed:    8.3s\n"
     ]
    },
    {
     "name": "stdout",
     "output_type": "stream",
     "text": [
      "building tree 65 of 95\n",
      "building tree 66 of 95\n"
     ]
    },
    {
     "name": "stderr",
     "output_type": "stream",
     "text": [
      "[Parallel(n_jobs=1)]: Done  66 tasks      | elapsed:    8.4s\n",
      "[Parallel(n_jobs=1)]: Done  67 tasks      | elapsed:    8.5s\n"
     ]
    },
    {
     "name": "stdout",
     "output_type": "stream",
     "text": [
      "building tree 67 of 95\n",
      "building tree 68 of 95\n"
     ]
    },
    {
     "name": "stderr",
     "output_type": "stream",
     "text": [
      "[Parallel(n_jobs=1)]: Done  68 tasks      | elapsed:    8.7s\n",
      "[Parallel(n_jobs=1)]: Done  69 tasks      | elapsed:    8.8s\n"
     ]
    },
    {
     "name": "stdout",
     "output_type": "stream",
     "text": [
      "building tree 69 of 95\n",
      "building tree 70 of 95\n"
     ]
    },
    {
     "name": "stderr",
     "output_type": "stream",
     "text": [
      "[Parallel(n_jobs=1)]: Done  70 tasks      | elapsed:    8.9s\n",
      "[Parallel(n_jobs=1)]: Done  71 tasks      | elapsed:    9.0s\n"
     ]
    },
    {
     "name": "stdout",
     "output_type": "stream",
     "text": [
      "building tree 71 of 95\n",
      "building tree 72 of 95\n"
     ]
    },
    {
     "name": "stderr",
     "output_type": "stream",
     "text": [
      "[Parallel(n_jobs=1)]: Done  72 tasks      | elapsed:    9.2s\n",
      "[Parallel(n_jobs=1)]: Done  73 tasks      | elapsed:    9.3s\n"
     ]
    },
    {
     "name": "stdout",
     "output_type": "stream",
     "text": [
      "building tree 73 of 95\n",
      "building tree 74 of 95\n"
     ]
    },
    {
     "name": "stderr",
     "output_type": "stream",
     "text": [
      "[Parallel(n_jobs=1)]: Done  74 tasks      | elapsed:    9.4s\n",
      "[Parallel(n_jobs=1)]: Done  75 tasks      | elapsed:    9.5s\n"
     ]
    },
    {
     "name": "stdout",
     "output_type": "stream",
     "text": [
      "building tree 75 of 95\n",
      "building tree 76 of 95\n"
     ]
    },
    {
     "name": "stderr",
     "output_type": "stream",
     "text": [
      "[Parallel(n_jobs=1)]: Done  76 tasks      | elapsed:    9.7s\n",
      "[Parallel(n_jobs=1)]: Done  77 tasks      | elapsed:    9.8s\n"
     ]
    },
    {
     "name": "stdout",
     "output_type": "stream",
     "text": [
      "building tree 77 of 95\n",
      "building tree 78 of 95\n"
     ]
    },
    {
     "name": "stderr",
     "output_type": "stream",
     "text": [
      "[Parallel(n_jobs=1)]: Done  78 tasks      | elapsed:    9.9s\n",
      "[Parallel(n_jobs=1)]: Done  79 tasks      | elapsed:   10.0s\n"
     ]
    },
    {
     "name": "stdout",
     "output_type": "stream",
     "text": [
      "building tree 79 of 95\n",
      "building tree 80 of 95\n"
     ]
    },
    {
     "name": "stderr",
     "output_type": "stream",
     "text": [
      "[Parallel(n_jobs=1)]: Done  80 tasks      | elapsed:   10.2s\n",
      "[Parallel(n_jobs=1)]: Done  81 tasks      | elapsed:   10.3s\n"
     ]
    },
    {
     "name": "stdout",
     "output_type": "stream",
     "text": [
      "building tree 81 of 95\n",
      "building tree 82 of 95\n"
     ]
    },
    {
     "name": "stderr",
     "output_type": "stream",
     "text": [
      "[Parallel(n_jobs=1)]: Done  82 tasks      | elapsed:   10.4s\n",
      "[Parallel(n_jobs=1)]: Done  83 tasks      | elapsed:   10.5s\n"
     ]
    },
    {
     "name": "stdout",
     "output_type": "stream",
     "text": [
      "building tree 83 of 95\n",
      "building tree 84 of 95\n"
     ]
    },
    {
     "name": "stderr",
     "output_type": "stream",
     "text": [
      "[Parallel(n_jobs=1)]: Done  84 tasks      | elapsed:   10.7s\n",
      "[Parallel(n_jobs=1)]: Done  85 tasks      | elapsed:   10.8s\n"
     ]
    },
    {
     "name": "stdout",
     "output_type": "stream",
     "text": [
      "building tree 85 of 95\n",
      "building tree 86 of 95\n"
     ]
    },
    {
     "name": "stderr",
     "output_type": "stream",
     "text": [
      "[Parallel(n_jobs=1)]: Done  86 tasks      | elapsed:   10.9s\n",
      "[Parallel(n_jobs=1)]: Done  87 tasks      | elapsed:   11.1s\n"
     ]
    },
    {
     "name": "stdout",
     "output_type": "stream",
     "text": [
      "building tree 87 of 95\n",
      "building tree 88 of 95\n"
     ]
    },
    {
     "name": "stderr",
     "output_type": "stream",
     "text": [
      "[Parallel(n_jobs=1)]: Done  88 tasks      | elapsed:   11.2s\n",
      "[Parallel(n_jobs=1)]: Done  89 tasks      | elapsed:   11.3s\n"
     ]
    },
    {
     "name": "stdout",
     "output_type": "stream",
     "text": [
      "building tree 89 of 95\n",
      "building tree 90 of 95\n"
     ]
    },
    {
     "name": "stderr",
     "output_type": "stream",
     "text": [
      "[Parallel(n_jobs=1)]: Done  90 tasks      | elapsed:   11.4s\n",
      "[Parallel(n_jobs=1)]: Done  91 tasks      | elapsed:   11.5s\n"
     ]
    },
    {
     "name": "stdout",
     "output_type": "stream",
     "text": [
      "building tree 91 of 95\n",
      "building tree 92 of 95\n"
     ]
    },
    {
     "name": "stderr",
     "output_type": "stream",
     "text": [
      "[Parallel(n_jobs=1)]: Done  92 tasks      | elapsed:   11.7s\n",
      "[Parallel(n_jobs=1)]: Done  93 tasks      | elapsed:   11.8s\n"
     ]
    },
    {
     "name": "stdout",
     "output_type": "stream",
     "text": [
      "building tree 93 of 95\n",
      "building tree 94 of 95\n",
      "building tree 95 of 95\n",
      "-736.378535496156\n",
      "{'n_estimators': 95}\n",
      "RandomForestRegressor(n_estimators=95, random_state=12345, verbose=15)\n"
     ]
    },
    {
     "name": "stderr",
     "output_type": "stream",
     "text": [
      "[Parallel(n_jobs=1)]: Done  94 tasks      | elapsed:   11.9s\n",
      "[Parallel(n_jobs=1)]: Done  95 tasks      | elapsed:   12.1s\n",
      "[Parallel(n_jobs=1)]: Done  95 tasks      | elapsed:   12.1s\n"
     ]
    }
   ],
   "source": [
    "#random forest\n",
    "\n",
    "model_rand_forest = RandomForestRegressor(random_state = 12345, verbose = 15)\n",
    "param_grid = {'n_estimators': [50, 75, 95]} \n",
    "\n",
    "gs = GridSearchCV(estimator=model_rand_forest, param_grid = param_grid, cv=TimeSeriesSplit(n_splits=5), scoring='neg_mean_squared_error')\n",
    "gs.fit(features_train, target_train)\n",
    "\n",
    "print(gs.best_score_)\n",
    "print(gs.best_params_)\n",
    "print(gs.best_estimator_)"
   ]
  },
  {
   "cell_type": "code",
   "execution_count": 32,
   "metadata": {},
   "outputs": [
    {
     "name": "stdout",
     "output_type": "stream",
     "text": [
      "building tree 1 of 95\n",
      "building tree 2 of 95\n"
     ]
    },
    {
     "name": "stderr",
     "output_type": "stream",
     "text": [
      "[Parallel(n_jobs=1)]: Done   1 tasks      | elapsed:    0.0s\n",
      "[Parallel(n_jobs=1)]: Done   2 tasks      | elapsed:    0.2s\n"
     ]
    },
    {
     "name": "stdout",
     "output_type": "stream",
     "text": [
      "building tree 3 of 95\n",
      "building tree 4 of 95\n"
     ]
    },
    {
     "name": "stderr",
     "output_type": "stream",
     "text": [
      "[Parallel(n_jobs=1)]: Done   3 tasks      | elapsed:    0.3s\n",
      "[Parallel(n_jobs=1)]: Done   4 tasks      | elapsed:    0.5s\n"
     ]
    },
    {
     "name": "stdout",
     "output_type": "stream",
     "text": [
      "building tree 5 of 95\n",
      "building tree 6 of 95\n"
     ]
    },
    {
     "name": "stderr",
     "output_type": "stream",
     "text": [
      "[Parallel(n_jobs=1)]: Done   5 tasks      | elapsed:    0.6s\n",
      "[Parallel(n_jobs=1)]: Done   6 tasks      | elapsed:    0.7s\n"
     ]
    },
    {
     "name": "stdout",
     "output_type": "stream",
     "text": [
      "building tree 7 of 95\n",
      "building tree 8 of 95\n"
     ]
    },
    {
     "name": "stderr",
     "output_type": "stream",
     "text": [
      "[Parallel(n_jobs=1)]: Done   7 tasks      | elapsed:    0.9s\n",
      "[Parallel(n_jobs=1)]: Done   8 tasks      | elapsed:    1.0s\n"
     ]
    },
    {
     "name": "stdout",
     "output_type": "stream",
     "text": [
      "building tree 9 of 95\n",
      "building tree 10 of 95\n"
     ]
    },
    {
     "name": "stderr",
     "output_type": "stream",
     "text": [
      "[Parallel(n_jobs=1)]: Done   9 tasks      | elapsed:    1.1s\n",
      "[Parallel(n_jobs=1)]: Done  10 tasks      | elapsed:    1.3s\n"
     ]
    },
    {
     "name": "stdout",
     "output_type": "stream",
     "text": [
      "building tree 11 of 95\n",
      "building tree 12 of 95\n"
     ]
    },
    {
     "name": "stderr",
     "output_type": "stream",
     "text": [
      "[Parallel(n_jobs=1)]: Done  11 tasks      | elapsed:    1.4s\n",
      "[Parallel(n_jobs=1)]: Done  12 tasks      | elapsed:    1.5s\n"
     ]
    },
    {
     "name": "stdout",
     "output_type": "stream",
     "text": [
      "building tree 13 of 95\n",
      "building tree 14 of 95\n"
     ]
    },
    {
     "name": "stderr",
     "output_type": "stream",
     "text": [
      "[Parallel(n_jobs=1)]: Done  13 tasks      | elapsed:    1.7s\n",
      "[Parallel(n_jobs=1)]: Done  14 tasks      | elapsed:    1.8s\n"
     ]
    },
    {
     "name": "stdout",
     "output_type": "stream",
     "text": [
      "building tree 15 of 95\n",
      "building tree 16 of 95\n"
     ]
    },
    {
     "name": "stderr",
     "output_type": "stream",
     "text": [
      "[Parallel(n_jobs=1)]: Done  15 tasks      | elapsed:    2.0s\n",
      "[Parallel(n_jobs=1)]: Done  16 tasks      | elapsed:    2.1s\n"
     ]
    },
    {
     "name": "stdout",
     "output_type": "stream",
     "text": [
      "building tree 17 of 95\n",
      "building tree 18 of 95\n"
     ]
    },
    {
     "name": "stderr",
     "output_type": "stream",
     "text": [
      "[Parallel(n_jobs=1)]: Done  17 tasks      | elapsed:    2.2s\n",
      "[Parallel(n_jobs=1)]: Done  18 tasks      | elapsed:    2.4s\n"
     ]
    },
    {
     "name": "stdout",
     "output_type": "stream",
     "text": [
      "building tree 19 of 95\n",
      "building tree 20 of 95\n"
     ]
    },
    {
     "name": "stderr",
     "output_type": "stream",
     "text": [
      "[Parallel(n_jobs=1)]: Done  19 tasks      | elapsed:    2.5s\n",
      "[Parallel(n_jobs=1)]: Done  20 tasks      | elapsed:    2.7s\n"
     ]
    },
    {
     "name": "stdout",
     "output_type": "stream",
     "text": [
      "building tree 21 of 95\n",
      "building tree 22 of 95\n"
     ]
    },
    {
     "name": "stderr",
     "output_type": "stream",
     "text": [
      "[Parallel(n_jobs=1)]: Done  21 tasks      | elapsed:    2.8s\n",
      "[Parallel(n_jobs=1)]: Done  22 tasks      | elapsed:    3.0s\n"
     ]
    },
    {
     "name": "stdout",
     "output_type": "stream",
     "text": [
      "building tree 23 of 95\n",
      "building tree 24 of 95\n"
     ]
    },
    {
     "name": "stderr",
     "output_type": "stream",
     "text": [
      "[Parallel(n_jobs=1)]: Done  23 tasks      | elapsed:    3.1s\n",
      "[Parallel(n_jobs=1)]: Done  24 tasks      | elapsed:    3.2s\n"
     ]
    },
    {
     "name": "stdout",
     "output_type": "stream",
     "text": [
      "building tree 25 of 95\n",
      "building tree 26 of 95\n"
     ]
    },
    {
     "name": "stderr",
     "output_type": "stream",
     "text": [
      "[Parallel(n_jobs=1)]: Done  25 tasks      | elapsed:    3.4s\n",
      "[Parallel(n_jobs=1)]: Done  26 tasks      | elapsed:    3.5s\n"
     ]
    },
    {
     "name": "stdout",
     "output_type": "stream",
     "text": [
      "building tree 27 of 95\n",
      "building tree 28 of 95\n"
     ]
    },
    {
     "name": "stderr",
     "output_type": "stream",
     "text": [
      "[Parallel(n_jobs=1)]: Done  27 tasks      | elapsed:    3.7s\n",
      "[Parallel(n_jobs=1)]: Done  28 tasks      | elapsed:    3.8s\n"
     ]
    },
    {
     "name": "stdout",
     "output_type": "stream",
     "text": [
      "building tree 29 of 95\n",
      "building tree 30 of 95\n"
     ]
    },
    {
     "name": "stderr",
     "output_type": "stream",
     "text": [
      "[Parallel(n_jobs=1)]: Done  29 tasks      | elapsed:    3.9s\n",
      "[Parallel(n_jobs=1)]: Done  30 tasks      | elapsed:    4.1s\n"
     ]
    },
    {
     "name": "stdout",
     "output_type": "stream",
     "text": [
      "building tree 31 of 95\n",
      "building tree 32 of 95\n"
     ]
    },
    {
     "name": "stderr",
     "output_type": "stream",
     "text": [
      "[Parallel(n_jobs=1)]: Done  31 tasks      | elapsed:    4.2s\n",
      "[Parallel(n_jobs=1)]: Done  32 tasks      | elapsed:    4.4s\n"
     ]
    },
    {
     "name": "stdout",
     "output_type": "stream",
     "text": [
      "building tree 33 of 95\n",
      "building tree 34 of 95\n"
     ]
    },
    {
     "name": "stderr",
     "output_type": "stream",
     "text": [
      "[Parallel(n_jobs=1)]: Done  33 tasks      | elapsed:    4.6s\n",
      "[Parallel(n_jobs=1)]: Done  34 tasks      | elapsed:    4.7s\n"
     ]
    },
    {
     "name": "stdout",
     "output_type": "stream",
     "text": [
      "building tree 35 of 95\n",
      "building tree 36 of 95\n"
     ]
    },
    {
     "name": "stderr",
     "output_type": "stream",
     "text": [
      "[Parallel(n_jobs=1)]: Done  35 tasks      | elapsed:    4.8s\n",
      "[Parallel(n_jobs=1)]: Done  36 tasks      | elapsed:    5.0s\n"
     ]
    },
    {
     "name": "stdout",
     "output_type": "stream",
     "text": [
      "building tree 37 of 95\n",
      "building tree 38 of 95\n"
     ]
    },
    {
     "name": "stderr",
     "output_type": "stream",
     "text": [
      "[Parallel(n_jobs=1)]: Done  37 tasks      | elapsed:    5.1s\n",
      "[Parallel(n_jobs=1)]: Done  38 tasks      | elapsed:    5.3s\n"
     ]
    },
    {
     "name": "stdout",
     "output_type": "stream",
     "text": [
      "building tree 39 of 95\n",
      "building tree 40 of 95\n"
     ]
    },
    {
     "name": "stderr",
     "output_type": "stream",
     "text": [
      "[Parallel(n_jobs=1)]: Done  39 tasks      | elapsed:    5.4s\n",
      "[Parallel(n_jobs=1)]: Done  40 tasks      | elapsed:    5.6s\n"
     ]
    },
    {
     "name": "stdout",
     "output_type": "stream",
     "text": [
      "building tree 41 of 95\n",
      "building tree 42 of 95\n"
     ]
    },
    {
     "name": "stderr",
     "output_type": "stream",
     "text": [
      "[Parallel(n_jobs=1)]: Done  41 tasks      | elapsed:    5.7s\n",
      "[Parallel(n_jobs=1)]: Done  42 tasks      | elapsed:    5.8s\n"
     ]
    },
    {
     "name": "stdout",
     "output_type": "stream",
     "text": [
      "building tree 43 of 95\n",
      "building tree 44 of 95\n"
     ]
    },
    {
     "name": "stderr",
     "output_type": "stream",
     "text": [
      "[Parallel(n_jobs=1)]: Done  43 tasks      | elapsed:    6.0s\n",
      "[Parallel(n_jobs=1)]: Done  44 tasks      | elapsed:    6.1s\n"
     ]
    },
    {
     "name": "stdout",
     "output_type": "stream",
     "text": [
      "building tree 45 of 95\n",
      "building tree 46 of 95\n"
     ]
    },
    {
     "name": "stderr",
     "output_type": "stream",
     "text": [
      "[Parallel(n_jobs=1)]: Done  45 tasks      | elapsed:    6.2s\n",
      "[Parallel(n_jobs=1)]: Done  46 tasks      | elapsed:    6.4s\n"
     ]
    },
    {
     "name": "stdout",
     "output_type": "stream",
     "text": [
      "building tree 47 of 95\n",
      "building tree 48 of 95\n"
     ]
    },
    {
     "name": "stderr",
     "output_type": "stream",
     "text": [
      "[Parallel(n_jobs=1)]: Done  47 tasks      | elapsed:    6.5s\n",
      "[Parallel(n_jobs=1)]: Done  48 tasks      | elapsed:    6.6s\n"
     ]
    },
    {
     "name": "stdout",
     "output_type": "stream",
     "text": [
      "building tree 49 of 95\n",
      "building tree 50 of 95\n"
     ]
    },
    {
     "name": "stderr",
     "output_type": "stream",
     "text": [
      "[Parallel(n_jobs=1)]: Done  49 tasks      | elapsed:    6.8s\n",
      "[Parallel(n_jobs=1)]: Done  50 tasks      | elapsed:    6.9s\n"
     ]
    },
    {
     "name": "stdout",
     "output_type": "stream",
     "text": [
      "building tree 51 of 95\n",
      "building tree 52 of 95\n"
     ]
    },
    {
     "name": "stderr",
     "output_type": "stream",
     "text": [
      "[Parallel(n_jobs=1)]: Done  51 tasks      | elapsed:    7.0s\n",
      "[Parallel(n_jobs=1)]: Done  52 tasks      | elapsed:    7.2s\n"
     ]
    },
    {
     "name": "stdout",
     "output_type": "stream",
     "text": [
      "building tree 53 of 95\n",
      "building tree 54 of 95\n"
     ]
    },
    {
     "name": "stderr",
     "output_type": "stream",
     "text": [
      "[Parallel(n_jobs=1)]: Done  53 tasks      | elapsed:    7.3s\n",
      "[Parallel(n_jobs=1)]: Done  54 tasks      | elapsed:    7.4s\n"
     ]
    },
    {
     "name": "stdout",
     "output_type": "stream",
     "text": [
      "building tree 55 of 95\n",
      "building tree 56 of 95\n"
     ]
    },
    {
     "name": "stderr",
     "output_type": "stream",
     "text": [
      "[Parallel(n_jobs=1)]: Done  55 tasks      | elapsed:    7.6s\n",
      "[Parallel(n_jobs=1)]: Done  56 tasks      | elapsed:    7.7s\n"
     ]
    },
    {
     "name": "stdout",
     "output_type": "stream",
     "text": [
      "building tree 57 of 95\n",
      "building tree 58 of 95\n"
     ]
    },
    {
     "name": "stderr",
     "output_type": "stream",
     "text": [
      "[Parallel(n_jobs=1)]: Done  57 tasks      | elapsed:    7.8s\n",
      "[Parallel(n_jobs=1)]: Done  58 tasks      | elapsed:    8.0s\n"
     ]
    },
    {
     "name": "stdout",
     "output_type": "stream",
     "text": [
      "building tree 59 of 95\n",
      "building tree 60 of 95\n"
     ]
    },
    {
     "name": "stderr",
     "output_type": "stream",
     "text": [
      "[Parallel(n_jobs=1)]: Done  59 tasks      | elapsed:    8.1s\n",
      "[Parallel(n_jobs=1)]: Done  60 tasks      | elapsed:    8.2s\n"
     ]
    },
    {
     "name": "stdout",
     "output_type": "stream",
     "text": [
      "building tree 61 of 95\n",
      "building tree 62 of 95\n"
     ]
    },
    {
     "name": "stderr",
     "output_type": "stream",
     "text": [
      "[Parallel(n_jobs=1)]: Done  61 tasks      | elapsed:    8.3s\n",
      "[Parallel(n_jobs=1)]: Done  62 tasks      | elapsed:    8.5s\n"
     ]
    },
    {
     "name": "stdout",
     "output_type": "stream",
     "text": [
      "building tree 63 of 95\n",
      "building tree 64 of 95\n"
     ]
    },
    {
     "name": "stderr",
     "output_type": "stream",
     "text": [
      "[Parallel(n_jobs=1)]: Done  63 tasks      | elapsed:    8.6s\n",
      "[Parallel(n_jobs=1)]: Done  64 tasks      | elapsed:    8.7s\n"
     ]
    },
    {
     "name": "stdout",
     "output_type": "stream",
     "text": [
      "building tree 65 of 95\n",
      "building tree 66 of 95\n"
     ]
    },
    {
     "name": "stderr",
     "output_type": "stream",
     "text": [
      "[Parallel(n_jobs=1)]: Done  65 tasks      | elapsed:    8.9s\n",
      "[Parallel(n_jobs=1)]: Done  66 tasks      | elapsed:    9.0s\n"
     ]
    },
    {
     "name": "stdout",
     "output_type": "stream",
     "text": [
      "building tree 67 of 95\n",
      "building tree 68 of 95\n"
     ]
    },
    {
     "name": "stderr",
     "output_type": "stream",
     "text": [
      "[Parallel(n_jobs=1)]: Done  67 tasks      | elapsed:    9.1s\n",
      "[Parallel(n_jobs=1)]: Done  68 tasks      | elapsed:    9.2s\n"
     ]
    },
    {
     "name": "stdout",
     "output_type": "stream",
     "text": [
      "building tree 69 of 95\n",
      "building tree 70 of 95\n"
     ]
    },
    {
     "name": "stderr",
     "output_type": "stream",
     "text": [
      "[Parallel(n_jobs=1)]: Done  69 tasks      | elapsed:    9.4s\n",
      "[Parallel(n_jobs=1)]: Done  70 tasks      | elapsed:    9.5s\n"
     ]
    },
    {
     "name": "stdout",
     "output_type": "stream",
     "text": [
      "building tree 71 of 95\n",
      "building tree 72 of 95\n"
     ]
    },
    {
     "name": "stderr",
     "output_type": "stream",
     "text": [
      "[Parallel(n_jobs=1)]: Done  71 tasks      | elapsed:    9.6s\n",
      "[Parallel(n_jobs=1)]: Done  72 tasks      | elapsed:    9.7s\n"
     ]
    },
    {
     "name": "stdout",
     "output_type": "stream",
     "text": [
      "building tree 73 of 95\n",
      "building tree 74 of 95\n"
     ]
    },
    {
     "name": "stderr",
     "output_type": "stream",
     "text": [
      "[Parallel(n_jobs=1)]: Done  73 tasks      | elapsed:    9.9s\n",
      "[Parallel(n_jobs=1)]: Done  74 tasks      | elapsed:   10.0s\n"
     ]
    },
    {
     "name": "stdout",
     "output_type": "stream",
     "text": [
      "building tree 75 of 95\n",
      "building tree 76 of 95\n"
     ]
    },
    {
     "name": "stderr",
     "output_type": "stream",
     "text": [
      "[Parallel(n_jobs=1)]: Done  75 tasks      | elapsed:   10.1s\n",
      "[Parallel(n_jobs=1)]: Done  76 tasks      | elapsed:   10.2s\n"
     ]
    },
    {
     "name": "stdout",
     "output_type": "stream",
     "text": [
      "building tree 77 of 95\n",
      "building tree 78 of 95\n"
     ]
    },
    {
     "name": "stderr",
     "output_type": "stream",
     "text": [
      "[Parallel(n_jobs=1)]: Done  77 tasks      | elapsed:   10.4s\n",
      "[Parallel(n_jobs=1)]: Done  78 tasks      | elapsed:   10.5s\n"
     ]
    },
    {
     "name": "stdout",
     "output_type": "stream",
     "text": [
      "building tree 79 of 95\n",
      "building tree 80 of 95\n"
     ]
    },
    {
     "name": "stderr",
     "output_type": "stream",
     "text": [
      "[Parallel(n_jobs=1)]: Done  79 tasks      | elapsed:   10.6s\n",
      "[Parallel(n_jobs=1)]: Done  80 tasks      | elapsed:   10.8s\n"
     ]
    },
    {
     "name": "stdout",
     "output_type": "stream",
     "text": [
      "building tree 81 of 95\n",
      "building tree 82 of 95\n"
     ]
    },
    {
     "name": "stderr",
     "output_type": "stream",
     "text": [
      "[Parallel(n_jobs=1)]: Done  81 tasks      | elapsed:   10.9s\n",
      "[Parallel(n_jobs=1)]: Done  82 tasks      | elapsed:   11.0s\n"
     ]
    },
    {
     "name": "stdout",
     "output_type": "stream",
     "text": [
      "building tree 83 of 95\n",
      "building tree 84 of 95\n"
     ]
    },
    {
     "name": "stderr",
     "output_type": "stream",
     "text": [
      "[Parallel(n_jobs=1)]: Done  83 tasks      | elapsed:   11.2s\n",
      "[Parallel(n_jobs=1)]: Done  84 tasks      | elapsed:   11.3s\n"
     ]
    },
    {
     "name": "stdout",
     "output_type": "stream",
     "text": [
      "building tree 85 of 95\n",
      "building tree 86 of 95\n"
     ]
    },
    {
     "name": "stderr",
     "output_type": "stream",
     "text": [
      "[Parallel(n_jobs=1)]: Done  85 tasks      | elapsed:   11.4s\n",
      "[Parallel(n_jobs=1)]: Done  86 tasks      | elapsed:   11.5s\n"
     ]
    },
    {
     "name": "stdout",
     "output_type": "stream",
     "text": [
      "building tree 87 of 95\n",
      "building tree 88 of 95\n"
     ]
    },
    {
     "name": "stderr",
     "output_type": "stream",
     "text": [
      "[Parallel(n_jobs=1)]: Done  87 tasks      | elapsed:   11.7s\n",
      "[Parallel(n_jobs=1)]: Done  88 tasks      | elapsed:   11.8s\n"
     ]
    },
    {
     "name": "stdout",
     "output_type": "stream",
     "text": [
      "building tree 89 of 95\n",
      "building tree 90 of 95\n"
     ]
    },
    {
     "name": "stderr",
     "output_type": "stream",
     "text": [
      "[Parallel(n_jobs=1)]: Done  89 tasks      | elapsed:   11.9s\n",
      "[Parallel(n_jobs=1)]: Done  90 tasks      | elapsed:   12.0s\n"
     ]
    },
    {
     "name": "stdout",
     "output_type": "stream",
     "text": [
      "building tree 91 of 95\n",
      "building tree 92 of 95\n"
     ]
    },
    {
     "name": "stderr",
     "output_type": "stream",
     "text": [
      "[Parallel(n_jobs=1)]: Done  91 tasks      | elapsed:   12.1s\n",
      "[Parallel(n_jobs=1)]: Done  92 tasks      | elapsed:   12.3s\n"
     ]
    },
    {
     "name": "stdout",
     "output_type": "stream",
     "text": [
      "building tree 93 of 95\n",
      "building tree 94 of 95\n"
     ]
    },
    {
     "name": "stderr",
     "output_type": "stream",
     "text": [
      "[Parallel(n_jobs=1)]: Done  93 tasks      | elapsed:   12.4s\n",
      "[Parallel(n_jobs=1)]: Done  94 tasks      | elapsed:   12.5s\n"
     ]
    },
    {
     "name": "stdout",
     "output_type": "stream",
     "text": [
      "building tree 95 of 95\n",
      "RMSE of RandomForestRegressor model: 27.13629553745603\n"
     ]
    },
    {
     "name": "stderr",
     "output_type": "stream",
     "text": [
      "[Parallel(n_jobs=1)]: Done  95 tasks      | elapsed:   12.6s\n",
      "[Parallel(n_jobs=1)]: Done  95 tasks      | elapsed:   12.6s\n"
     ]
    }
   ],
   "source": [
    "model_rand_forest = gs.best_estimator_\n",
    "model_rand_forest.fit(features_train, target_train)\n",
    "print('RMSE of RandomForestRegressor model:', math.sqrt(736.378535496156))"
   ]
  },
  {
   "cell_type": "code",
   "execution_count": 33,
   "metadata": {},
   "outputs": [
    {
     "name": "stdout",
     "output_type": "stream",
     "text": [
      "Fitting 5 folds for each of 8 candidates, totalling 40 fits\n",
      "[CV 1/5; 1/8] START learning_rate=0.1, max_depth=10, num_leaves=2...............\n",
      "[LightGBM] [Info] Auto-choosing col-wise multi-threading, the overhead of testing was 0.000334 seconds.\n",
      "You can set `force_col_wise=true` to remove the overhead.\n",
      "[LightGBM] [Info] Total Bins 1720\n",
      "[LightGBM] [Info] Number of data points in the train set: 664, number of used features: 15\n",
      "[LightGBM] [Info] Start training from score 57.182229\n",
      "[CV 1/5; 1/8] END learning_rate=0.1, max_depth=10, num_leaves=2;, score=-668.879 total time=   0.0s\n",
      "[CV 2/5; 1/8] START learning_rate=0.1, max_depth=10, num_leaves=2...............\n",
      "[LightGBM] [Info] Auto-choosing col-wise multi-threading, the overhead of testing was 0.000232 seconds.\n",
      "You can set `force_col_wise=true` to remove the overhead.\n",
      "[LightGBM] [Info] Total Bins 2077\n",
      "[LightGBM] [Info] Number of data points in the train set: 1323, number of used features: 16\n",
      "[LightGBM] [Info] Start training from score 59.333333\n",
      "[CV 2/5; 1/8] END learning_rate=0.1, max_depth=10, num_leaves=2;, score=-828.128 total time=   0.0s\n",
      "[CV 3/5; 1/8] START learning_rate=0.1, max_depth=10, num_leaves=2...............\n",
      "[LightGBM] [Info] Auto-choosing col-wise multi-threading, the overhead of testing was 0.000334 seconds.\n",
      "You can set `force_col_wise=true` to remove the overhead.\n",
      "[LightGBM] [Info] Total Bins 2238\n",
      "[LightGBM] [Info] Number of data points in the train set: 1982, number of used features: 16\n",
      "[LightGBM] [Info] Start training from score 63.449546\n",
      "[CV 3/5; 1/8] END learning_rate=0.1, max_depth=10, num_leaves=2;, score=-875.578 total time=   0.0s\n",
      "[CV 4/5; 1/8] START learning_rate=0.1, max_depth=10, num_leaves=2...............\n"
     ]
    },
    {
     "name": "stderr",
     "output_type": "stream",
     "text": [
      "C:\\Users\\Anzhelika Soldatova\\anaconda3\\envs\\new_environment\\Lib\\site-packages\\joblib\\externals\\loky\\backend\\context.py:136: UserWarning: Could not find the number of physical cores for the following reason:\n",
      "[WinError 2] The system cannot find the file specified\n",
      "Returning the number of logical cores instead. You can silence this warning by setting LOKY_MAX_CPU_COUNT to the number of cores you want to use.\n",
      "  warnings.warn(\n",
      "  File \"C:\\Users\\Anzhelika Soldatova\\anaconda3\\envs\\new_environment\\Lib\\site-packages\\joblib\\externals\\loky\\backend\\context.py\", line 257, in _count_physical_cores\n",
      "    cpu_info = subprocess.run(\n",
      "               ^^^^^^^^^^^^^^^\n",
      "  File \"C:\\Users\\Anzhelika Soldatova\\anaconda3\\envs\\new_environment\\Lib\\subprocess.py\", line 548, in run\n",
      "    with Popen(*popenargs, **kwargs) as process:\n",
      "         ^^^^^^^^^^^^^^^^^^^^^^^^^^^\n",
      "  File \"C:\\Users\\Anzhelika Soldatova\\anaconda3\\envs\\new_environment\\Lib\\subprocess.py\", line 1024, in __init__\n",
      "    self._execute_child(args, executable, preexec_fn, close_fds,\n",
      "  File \"C:\\Users\\Anzhelika Soldatova\\anaconda3\\envs\\new_environment\\Lib\\subprocess.py\", line 1509, in _execute_child\n",
      "    hp, ht, pid, tid = _winapi.CreateProcess(executable, args,\n",
      "                       ^^^^^^^^^^^^^^^^^^^^^^^^^^^^^^^^^^^^^^^\n"
     ]
    },
    {
     "name": "stdout",
     "output_type": "stream",
     "text": [
      "[LightGBM] [Info] Auto-choosing col-wise multi-threading, the overhead of testing was 0.000336 seconds.\n",
      "You can set `force_col_wise=true` to remove the overhead.\n",
      "[LightGBM] [Info] Total Bins 2379\n",
      "[LightGBM] [Info] Number of data points in the train set: 2641, number of used features: 16\n",
      "[LightGBM] [Info] Start training from score 67.699735\n",
      "[CV 4/5; 1/8] END learning_rate=0.1, max_depth=10, num_leaves=2;, score=-933.047 total time=   0.0s\n",
      "[CV 5/5; 1/8] START learning_rate=0.1, max_depth=10, num_leaves=2...............\n",
      "[LightGBM] [Info] Auto-choosing col-wise multi-threading, the overhead of testing was 0.000383 seconds.\n",
      "You can set `force_col_wise=true` to remove the overhead.\n",
      "[LightGBM] [Info] Total Bins 2540\n",
      "[LightGBM] [Info] Number of data points in the train set: 3300, number of used features: 16\n",
      "[LightGBM] [Info] Start training from score 72.536667\n",
      "[CV 5/5; 1/8] END learning_rate=0.1, max_depth=10, num_leaves=2;, score=-1689.606 total time=   0.0s\n",
      "[CV 1/5; 2/8] START learning_rate=0.1, max_depth=10, num_leaves=31..............\n",
      "[LightGBM] [Warning] Accuracy may be bad since you didn't explicitly set num_leaves OR 2^max_depth > num_leaves. (num_leaves=31).\n",
      "[LightGBM] [Warning] Accuracy may be bad since you didn't explicitly set num_leaves OR 2^max_depth > num_leaves. (num_leaves=31).\n",
      "[LightGBM] [Info] Auto-choosing col-wise multi-threading, the overhead of testing was 0.000230 seconds.\n",
      "You can set `force_col_wise=true` to remove the overhead.\n",
      "[LightGBM] [Info] Total Bins 1720\n",
      "[LightGBM] [Info] Number of data points in the train set: 664, number of used features: 15\n",
      "[LightGBM] [Info] Start training from score 57.182229\n",
      "[LightGBM] [Warning] No further splits with positive gain, best gain: -inf\n",
      "[LightGBM] [Warning] No further splits with positive gain, best gain: -inf\n",
      "[LightGBM] [Warning] No further splits with positive gain, best gain: -inf\n",
      "[LightGBM] [Warning] No further splits with positive gain, best gain: -inf\n",
      "[LightGBM] [Warning] No further splits with positive gain, best gain: -inf\n",
      "[LightGBM] [Warning] No further splits with positive gain, best gain: -inf\n",
      "[LightGBM] [Warning] No further splits with positive gain, best gain: -inf\n",
      "[LightGBM] [Warning] No further splits with positive gain, best gain: -inf\n",
      "[LightGBM] [Warning] No further splits with positive gain, best gain: -inf\n",
      "[LightGBM] [Warning] No further splits with positive gain, best gain: -inf\n",
      "[LightGBM] [Warning] No further splits with positive gain, best gain: -inf\n",
      "[LightGBM] [Warning] No further splits with positive gain, best gain: -inf\n",
      "[LightGBM] [Warning] No further splits with positive gain, best gain: -inf\n",
      "[LightGBM] [Warning] No further splits with positive gain, best gain: -inf\n",
      "[LightGBM] [Warning] No further splits with positive gain, best gain: -inf\n",
      "[LightGBM] [Warning] No further splits with positive gain, best gain: -inf\n",
      "[LightGBM] [Warning] No further splits with positive gain, best gain: -inf\n",
      "[LightGBM] [Warning] No further splits with positive gain, best gain: -inf\n",
      "[LightGBM] [Warning] No further splits with positive gain, best gain: -inf\n",
      "[LightGBM] [Warning] No further splits with positive gain, best gain: -inf\n",
      "[LightGBM] [Warning] No further splits with positive gain, best gain: -inf\n",
      "[LightGBM] [Warning] No further splits with positive gain, best gain: -inf\n",
      "[LightGBM] [Warning] No further splits with positive gain, best gain: -inf\n",
      "[LightGBM] [Warning] No further splits with positive gain, best gain: -inf\n",
      "[LightGBM] [Warning] No further splits with positive gain, best gain: -inf\n",
      "[LightGBM] [Warning] No further splits with positive gain, best gain: -inf\n",
      "[LightGBM] [Warning] No further splits with positive gain, best gain: -inf\n",
      "[LightGBM] [Warning] No further splits with positive gain, best gain: -inf\n",
      "[LightGBM] [Warning] No further splits with positive gain, best gain: -inf\n",
      "[LightGBM] [Warning] No further splits with positive gain, best gain: -inf\n",
      "[LightGBM] [Warning] No further splits with positive gain, best gain: -inf\n",
      "[LightGBM] [Warning] No further splits with positive gain, best gain: -inf\n",
      "[LightGBM] [Warning] No further splits with positive gain, best gain: -inf\n",
      "[LightGBM] [Warning] No further splits with positive gain, best gain: -inf\n",
      "[LightGBM] [Warning] No further splits with positive gain, best gain: -inf\n",
      "[LightGBM] [Warning] No further splits with positive gain, best gain: -inf\n",
      "[LightGBM] [Warning] No further splits with positive gain, best gain: -inf\n",
      "[LightGBM] [Warning] No further splits with positive gain, best gain: -inf\n",
      "[LightGBM] [Warning] No further splits with positive gain, best gain: -inf\n",
      "[LightGBM] [Warning] No further splits with positive gain, best gain: -inf\n",
      "[LightGBM] [Warning] No further splits with positive gain, best gain: -inf\n",
      "[LightGBM] [Warning] No further splits with positive gain, best gain: -inf\n",
      "[LightGBM] [Warning] No further splits with positive gain, best gain: -inf\n",
      "[LightGBM] [Warning] No further splits with positive gain, best gain: -inf\n",
      "[LightGBM] [Warning] No further splits with positive gain, best gain: -inf\n",
      "[LightGBM] [Warning] No further splits with positive gain, best gain: -inf\n",
      "[LightGBM] [Warning] No further splits with positive gain, best gain: -inf\n",
      "[LightGBM] [Warning] No further splits with positive gain, best gain: -inf\n",
      "[LightGBM] [Warning] No further splits with positive gain, best gain: -inf\n",
      "[LightGBM] [Warning] No further splits with positive gain, best gain: -inf\n",
      "[LightGBM] [Warning] No further splits with positive gain, best gain: -inf\n",
      "[LightGBM] [Warning] No further splits with positive gain, best gain: -inf\n",
      "[LightGBM] [Warning] No further splits with positive gain, best gain: -inf\n",
      "[LightGBM] [Warning] No further splits with positive gain, best gain: -inf\n",
      "[LightGBM] [Warning] No further splits with positive gain, best gain: -inf\n",
      "[LightGBM] [Warning] No further splits with positive gain, best gain: -inf\n",
      "[LightGBM] [Warning] No further splits with positive gain, best gain: -inf\n",
      "[LightGBM] [Warning] No further splits with positive gain, best gain: -inf\n",
      "[LightGBM] [Warning] No further splits with positive gain, best gain: -inf\n",
      "[LightGBM] [Warning] No further splits with positive gain, best gain: -inf\n",
      "[LightGBM] [Warning] No further splits with positive gain, best gain: -inf\n",
      "[LightGBM] [Warning] No further splits with positive gain, best gain: -inf\n",
      "[LightGBM] [Warning] No further splits with positive gain, best gain: -inf\n",
      "[LightGBM] [Warning] No further splits with positive gain, best gain: -inf\n",
      "[LightGBM] [Warning] No further splits with positive gain, best gain: -inf\n",
      "[LightGBM] [Warning] No further splits with positive gain, best gain: -inf\n",
      "[LightGBM] [Warning] No further splits with positive gain, best gain: -inf\n",
      "[LightGBM] [Warning] No further splits with positive gain, best gain: -inf\n",
      "[LightGBM] [Warning] No further splits with positive gain, best gain: -inf\n",
      "[LightGBM] [Warning] No further splits with positive gain, best gain: -inf\n",
      "[LightGBM] [Warning] No further splits with positive gain, best gain: -inf\n",
      "[LightGBM] [Warning] No further splits with positive gain, best gain: -inf\n",
      "[LightGBM] [Warning] No further splits with positive gain, best gain: -inf\n",
      "[LightGBM] [Warning] No further splits with positive gain, best gain: -inf\n",
      "[LightGBM] [Warning] No further splits with positive gain, best gain: -inf\n",
      "[LightGBM] [Warning] No further splits with positive gain, best gain: -inf\n",
      "[LightGBM] [Warning] No further splits with positive gain, best gain: -inf\n",
      "[LightGBM] [Warning] No further splits with positive gain, best gain: -inf\n",
      "[LightGBM] [Warning] No further splits with positive gain, best gain: -inf\n",
      "[LightGBM] [Warning] No further splits with positive gain, best gain: -inf\n",
      "[LightGBM] [Warning] No further splits with positive gain, best gain: -inf\n",
      "[LightGBM] [Warning] No further splits with positive gain, best gain: -inf\n",
      "[LightGBM] [Warning] No further splits with positive gain, best gain: -inf\n",
      "[LightGBM] [Warning] No further splits with positive gain, best gain: -inf\n",
      "[LightGBM] [Warning] No further splits with positive gain, best gain: -inf\n",
      "[LightGBM] [Warning] No further splits with positive gain, best gain: -inf\n",
      "[LightGBM] [Warning] No further splits with positive gain, best gain: -inf\n",
      "[LightGBM] [Warning] No further splits with positive gain, best gain: -inf\n",
      "[LightGBM] [Warning] No further splits with positive gain, best gain: -inf\n",
      "[LightGBM] [Warning] No further splits with positive gain, best gain: -inf\n",
      "[LightGBM] [Warning] No further splits with positive gain, best gain: -inf\n",
      "[LightGBM] [Warning] No further splits with positive gain, best gain: -inf\n",
      "[LightGBM] [Warning] No further splits with positive gain, best gain: -inf\n",
      "[LightGBM] [Warning] No further splits with positive gain, best gain: -inf\n",
      "[LightGBM] [Warning] No further splits with positive gain, best gain: -inf\n",
      "[LightGBM] [Warning] No further splits with positive gain, best gain: -inf\n",
      "[LightGBM] [Warning] No further splits with positive gain, best gain: -inf\n",
      "[LightGBM] [Warning] No further splits with positive gain, best gain: -inf\n",
      "[LightGBM] [Warning] No further splits with positive gain, best gain: -inf\n",
      "[LightGBM] [Warning] No further splits with positive gain, best gain: -inf\n",
      "[LightGBM] [Warning] Accuracy may be bad since you didn't explicitly set num_leaves OR 2^max_depth > num_leaves. (num_leaves=31).\n",
      "[CV 1/5; 2/8] END learning_rate=0.1, max_depth=10, num_leaves=31;, score=-421.283 total time=   0.0s\n",
      "[CV 2/5; 2/8] START learning_rate=0.1, max_depth=10, num_leaves=31..............\n",
      "[LightGBM] [Warning] Accuracy may be bad since you didn't explicitly set num_leaves OR 2^max_depth > num_leaves. (num_leaves=31).\n",
      "[LightGBM] [Warning] Accuracy may be bad since you didn't explicitly set num_leaves OR 2^max_depth > num_leaves. (num_leaves=31).\n",
      "[LightGBM] [Info] Auto-choosing col-wise multi-threading, the overhead of testing was 0.000275 seconds.\n",
      "You can set `force_col_wise=true` to remove the overhead.\n",
      "[LightGBM] [Info] Total Bins 2077\n",
      "[LightGBM] [Info] Number of data points in the train set: 1323, number of used features: 16\n",
      "[LightGBM] [Info] Start training from score 59.333333\n",
      "[LightGBM] [Warning] No further splits with positive gain, best gain: -inf\n",
      "[LightGBM] [Warning] No further splits with positive gain, best gain: -inf\n",
      "[LightGBM] [Warning] No further splits with positive gain, best gain: -inf\n",
      "[LightGBM] [Warning] No further splits with positive gain, best gain: -inf\n",
      "[LightGBM] [Warning] No further splits with positive gain, best gain: -inf\n",
      "[LightGBM] [Warning] No further splits with positive gain, best gain: -inf\n",
      "[LightGBM] [Warning] No further splits with positive gain, best gain: -inf\n",
      "[LightGBM] [Warning] No further splits with positive gain, best gain: -inf\n",
      "[LightGBM] [Warning] No further splits with positive gain, best gain: -inf\n",
      "[LightGBM] [Warning] No further splits with positive gain, best gain: -inf\n",
      "[LightGBM] [Warning] No further splits with positive gain, best gain: -inf\n",
      "[LightGBM] [Warning] No further splits with positive gain, best gain: -inf\n",
      "[LightGBM] [Warning] No further splits with positive gain, best gain: -inf\n",
      "[LightGBM] [Warning] No further splits with positive gain, best gain: -inf\n",
      "[LightGBM] [Warning] No further splits with positive gain, best gain: -inf\n",
      "[LightGBM] [Warning] No further splits with positive gain, best gain: -inf\n",
      "[LightGBM] [Warning] No further splits with positive gain, best gain: -inf\n",
      "[LightGBM] [Warning] No further splits with positive gain, best gain: -inf\n",
      "[LightGBM] [Warning] No further splits with positive gain, best gain: -inf\n",
      "[LightGBM] [Warning] No further splits with positive gain, best gain: -inf\n",
      "[LightGBM] [Warning] No further splits with positive gain, best gain: -inf\n",
      "[LightGBM] [Warning] No further splits with positive gain, best gain: -inf\n",
      "[LightGBM] [Warning] No further splits with positive gain, best gain: -inf\n",
      "[LightGBM] [Warning] No further splits with positive gain, best gain: -inf\n",
      "[LightGBM] [Warning] No further splits with positive gain, best gain: -inf\n",
      "[LightGBM] [Warning] No further splits with positive gain, best gain: -inf\n",
      "[LightGBM] [Warning] No further splits with positive gain, best gain: -inf\n",
      "[LightGBM] [Warning] No further splits with positive gain, best gain: -inf\n",
      "[LightGBM] [Warning] No further splits with positive gain, best gain: -inf\n",
      "[LightGBM] [Warning] No further splits with positive gain, best gain: -inf\n",
      "[LightGBM] [Warning] No further splits with positive gain, best gain: -inf\n",
      "[LightGBM] [Warning] No further splits with positive gain, best gain: -inf\n",
      "[LightGBM] [Warning] No further splits with positive gain, best gain: -inf\n",
      "[LightGBM] [Warning] No further splits with positive gain, best gain: -inf\n",
      "[LightGBM] [Warning] No further splits with positive gain, best gain: -inf\n",
      "[LightGBM] [Warning] No further splits with positive gain, best gain: -inf\n",
      "[LightGBM] [Warning] No further splits with positive gain, best gain: -inf\n",
      "[LightGBM] [Warning] Accuracy may be bad since you didn't explicitly set num_leaves OR 2^max_depth > num_leaves. (num_leaves=31).\n",
      "[CV 2/5; 2/8] END learning_rate=0.1, max_depth=10, num_leaves=31;, score=-439.057 total time=   0.0s\n",
      "[CV 3/5; 2/8] START learning_rate=0.1, max_depth=10, num_leaves=31..............\n",
      "[LightGBM] [Warning] Accuracy may be bad since you didn't explicitly set num_leaves OR 2^max_depth > num_leaves. (num_leaves=31).\n",
      "[LightGBM] [Warning] Accuracy may be bad since you didn't explicitly set num_leaves OR 2^max_depth > num_leaves. (num_leaves=31).\n",
      "[LightGBM] [Info] Auto-choosing col-wise multi-threading, the overhead of testing was 0.000300 seconds.\n",
      "You can set `force_col_wise=true` to remove the overhead.\n",
      "[LightGBM] [Info] Total Bins 2238\n",
      "[LightGBM] [Info] Number of data points in the train set: 1982, number of used features: 16\n",
      "[LightGBM] [Info] Start training from score 63.449546\n",
      "[LightGBM] [Warning] No further splits with positive gain, best gain: -inf\n",
      "[LightGBM] [Warning] No further splits with positive gain, best gain: -inf\n",
      "[LightGBM] [Warning] No further splits with positive gain, best gain: -inf\n",
      "[LightGBM] [Warning] No further splits with positive gain, best gain: -inf\n",
      "[LightGBM] [Warning] No further splits with positive gain, best gain: -inf\n",
      "[LightGBM] [Warning] No further splits with positive gain, best gain: -inf\n",
      "[LightGBM] [Warning] No further splits with positive gain, best gain: -inf\n",
      "[LightGBM] [Warning] No further splits with positive gain, best gain: -inf\n",
      "[LightGBM] [Warning] No further splits with positive gain, best gain: -inf\n",
      "[LightGBM] [Warning] No further splits with positive gain, best gain: -inf\n",
      "[LightGBM] [Warning] No further splits with positive gain, best gain: -inf\n",
      "[LightGBM] [Warning] No further splits with positive gain, best gain: -inf\n",
      "[LightGBM] [Warning] No further splits with positive gain, best gain: -inf\n",
      "[LightGBM] [Warning] No further splits with positive gain, best gain: -inf\n",
      "[LightGBM] [Warning] No further splits with positive gain, best gain: -inf\n",
      "[LightGBM] [Warning] No further splits with positive gain, best gain: -inf\n",
      "[LightGBM] [Warning] Accuracy may be bad since you didn't explicitly set num_leaves OR 2^max_depth > num_leaves. (num_leaves=31).\n",
      "[CV 3/5; 2/8] END learning_rate=0.1, max_depth=10, num_leaves=31;, score=-538.792 total time=   0.0s\n",
      "[CV 4/5; 2/8] START learning_rate=0.1, max_depth=10, num_leaves=31..............\n",
      "[LightGBM] [Warning] Accuracy may be bad since you didn't explicitly set num_leaves OR 2^max_depth > num_leaves. (num_leaves=31).\n",
      "[LightGBM] [Warning] Accuracy may be bad since you didn't explicitly set num_leaves OR 2^max_depth > num_leaves. (num_leaves=31).\n",
      "[LightGBM] [Info] Auto-choosing col-wise multi-threading, the overhead of testing was 0.000341 seconds.\n",
      "You can set `force_col_wise=true` to remove the overhead.\n",
      "[LightGBM] [Info] Total Bins 2379\n",
      "[LightGBM] [Info] Number of data points in the train set: 2641, number of used features: 16\n",
      "[LightGBM] [Info] Start training from score 67.699735\n",
      "[LightGBM] [Warning] No further splits with positive gain, best gain: -inf\n",
      "[LightGBM] [Warning] No further splits with positive gain, best gain: -inf\n",
      "[LightGBM] [Warning] No further splits with positive gain, best gain: -inf\n",
      "[LightGBM] [Warning] No further splits with positive gain, best gain: -inf\n",
      "[LightGBM] [Warning] No further splits with positive gain, best gain: -inf\n",
      "[LightGBM] [Warning] No further splits with positive gain, best gain: -inf\n",
      "[LightGBM] [Warning] No further splits with positive gain, best gain: -inf\n",
      "[LightGBM] [Warning] No further splits with positive gain, best gain: -inf\n",
      "[LightGBM] [Warning] Accuracy may be bad since you didn't explicitly set num_leaves OR 2^max_depth > num_leaves. (num_leaves=31).\n",
      "[CV 4/5; 2/8] END learning_rate=0.1, max_depth=10, num_leaves=31;, score=-553.632 total time=   0.0s\n",
      "[CV 5/5; 2/8] START learning_rate=0.1, max_depth=10, num_leaves=31..............\n",
      "[LightGBM] [Warning] Accuracy may be bad since you didn't explicitly set num_leaves OR 2^max_depth > num_leaves. (num_leaves=31).\n",
      "[LightGBM] [Warning] Accuracy may be bad since you didn't explicitly set num_leaves OR 2^max_depth > num_leaves. (num_leaves=31).\n",
      "[LightGBM] [Info] Auto-choosing col-wise multi-threading, the overhead of testing was 0.000292 seconds.\n",
      "You can set `force_col_wise=true` to remove the overhead.\n",
      "[LightGBM] [Info] Total Bins 2540\n",
      "[LightGBM] [Info] Number of data points in the train set: 3300, number of used features: 16\n",
      "[LightGBM] [Info] Start training from score 72.536667\n",
      "[LightGBM] [Warning] No further splits with positive gain, best gain: -inf\n",
      "[LightGBM] [Warning] No further splits with positive gain, best gain: -inf\n",
      "[LightGBM] [Warning] No further splits with positive gain, best gain: -inf\n",
      "[LightGBM] [Warning] No further splits with positive gain, best gain: -inf\n",
      "[LightGBM] [Warning] No further splits with positive gain, best gain: -inf\n",
      "[LightGBM] [Warning] No further splits with positive gain, best gain: -inf\n",
      "[LightGBM] [Warning] Accuracy may be bad since you didn't explicitly set num_leaves OR 2^max_depth > num_leaves. (num_leaves=31).\n",
      "[CV 5/5; 2/8] END learning_rate=0.1, max_depth=10, num_leaves=31;, score=-957.709 total time=   0.0s\n",
      "[CV 1/5; 3/8] START learning_rate=0.1, max_depth=16, num_leaves=2...............\n",
      "[LightGBM] [Info] Auto-choosing col-wise multi-threading, the overhead of testing was 0.000191 seconds.\n",
      "You can set `force_col_wise=true` to remove the overhead.\n",
      "[LightGBM] [Info] Total Bins 1720\n",
      "[LightGBM] [Info] Number of data points in the train set: 664, number of used features: 15\n",
      "[LightGBM] [Info] Start training from score 57.182229\n",
      "[CV 1/5; 3/8] END learning_rate=0.1, max_depth=16, num_leaves=2;, score=-668.879 total time=   0.0s\n",
      "[CV 2/5; 3/8] START learning_rate=0.1, max_depth=16, num_leaves=2...............\n",
      "[LightGBM] [Info] Auto-choosing col-wise multi-threading, the overhead of testing was 0.000257 seconds.\n",
      "You can set `force_col_wise=true` to remove the overhead.\n",
      "[LightGBM] [Info] Total Bins 2077\n",
      "[LightGBM] [Info] Number of data points in the train set: 1323, number of used features: 16\n",
      "[LightGBM] [Info] Start training from score 59.333333\n",
      "[CV 2/5; 3/8] END learning_rate=0.1, max_depth=16, num_leaves=2;, score=-828.128 total time=   0.0s\n",
      "[CV 3/5; 3/8] START learning_rate=0.1, max_depth=16, num_leaves=2...............\n",
      "[LightGBM] [Info] Auto-choosing col-wise multi-threading, the overhead of testing was 0.000278 seconds.\n",
      "You can set `force_col_wise=true` to remove the overhead.\n",
      "[LightGBM] [Info] Total Bins 2238\n",
      "[LightGBM] [Info] Number of data points in the train set: 1982, number of used features: 16\n",
      "[LightGBM] [Info] Start training from score 63.449546\n",
      "[CV 3/5; 3/8] END learning_rate=0.1, max_depth=16, num_leaves=2;, score=-875.578 total time=   0.0s\n",
      "[CV 4/5; 3/8] START learning_rate=0.1, max_depth=16, num_leaves=2...............\n",
      "[LightGBM] [Info] Auto-choosing col-wise multi-threading, the overhead of testing was 0.000388 seconds.\n",
      "You can set `force_col_wise=true` to remove the overhead.\n",
      "[LightGBM] [Info] Total Bins 2379\n",
      "[LightGBM] [Info] Number of data points in the train set: 2641, number of used features: 16\n",
      "[LightGBM] [Info] Start training from score 67.699735\n",
      "[CV 4/5; 3/8] END learning_rate=0.1, max_depth=16, num_leaves=2;, score=-933.047 total time=   0.0s\n",
      "[CV 5/5; 3/8] START learning_rate=0.1, max_depth=16, num_leaves=2...............\n",
      "[LightGBM] [Info] Auto-choosing col-wise multi-threading, the overhead of testing was 0.000388 seconds.\n",
      "You can set `force_col_wise=true` to remove the overhead.\n",
      "[LightGBM] [Info] Total Bins 2540\n",
      "[LightGBM] [Info] Number of data points in the train set: 3300, number of used features: 16\n",
      "[LightGBM] [Info] Start training from score 72.536667\n",
      "[CV 5/5; 3/8] END learning_rate=0.1, max_depth=16, num_leaves=2;, score=-1689.606 total time=   0.0s\n",
      "[CV 1/5; 4/8] START learning_rate=0.1, max_depth=16, num_leaves=31..............\n",
      "[LightGBM] [Warning] Accuracy may be bad since you didn't explicitly set num_leaves OR 2^max_depth > num_leaves. (num_leaves=31).\n",
      "[LightGBM] [Warning] Accuracy may be bad since you didn't explicitly set num_leaves OR 2^max_depth > num_leaves. (num_leaves=31).\n",
      "[LightGBM] [Info] Auto-choosing col-wise multi-threading, the overhead of testing was 0.000193 seconds.\n",
      "You can set `force_col_wise=true` to remove the overhead.\n",
      "[LightGBM] [Info] Total Bins 1720\n",
      "[LightGBM] [Info] Number of data points in the train set: 664, number of used features: 15\n",
      "[LightGBM] [Info] Start training from score 57.182229\n",
      "[LightGBM] [Warning] No further splits with positive gain, best gain: -inf\n",
      "[LightGBM] [Warning] No further splits with positive gain, best gain: -inf\n",
      "[LightGBM] [Warning] No further splits with positive gain, best gain: -inf\n",
      "[LightGBM] [Warning] No further splits with positive gain, best gain: -inf\n",
      "[LightGBM] [Warning] No further splits with positive gain, best gain: -inf\n",
      "[LightGBM] [Warning] No further splits with positive gain, best gain: -inf\n",
      "[LightGBM] [Warning] No further splits with positive gain, best gain: -inf\n",
      "[LightGBM] [Warning] No further splits with positive gain, best gain: -inf\n",
      "[LightGBM] [Warning] No further splits with positive gain, best gain: -inf\n",
      "[LightGBM] [Warning] No further splits with positive gain, best gain: -inf\n",
      "[LightGBM] [Warning] No further splits with positive gain, best gain: -inf\n",
      "[LightGBM] [Warning] No further splits with positive gain, best gain: -inf\n",
      "[LightGBM] [Warning] No further splits with positive gain, best gain: -inf\n",
      "[LightGBM] [Warning] No further splits with positive gain, best gain: -inf\n",
      "[LightGBM] [Warning] No further splits with positive gain, best gain: -inf\n",
      "[LightGBM] [Warning] No further splits with positive gain, best gain: -inf\n",
      "[LightGBM] [Warning] No further splits with positive gain, best gain: -inf\n",
      "[LightGBM] [Warning] No further splits with positive gain, best gain: -inf\n",
      "[LightGBM] [Warning] No further splits with positive gain, best gain: -inf\n",
      "[LightGBM] [Warning] No further splits with positive gain, best gain: -inf\n",
      "[LightGBM] [Warning] No further splits with positive gain, best gain: -inf\n",
      "[LightGBM] [Warning] No further splits with positive gain, best gain: -inf\n",
      "[LightGBM] [Warning] No further splits with positive gain, best gain: -inf\n",
      "[LightGBM] [Warning] No further splits with positive gain, best gain: -inf\n",
      "[LightGBM] [Warning] No further splits with positive gain, best gain: -inf\n",
      "[LightGBM] [Warning] No further splits with positive gain, best gain: -inf\n",
      "[LightGBM] [Warning] No further splits with positive gain, best gain: -inf\n",
      "[LightGBM] [Warning] No further splits with positive gain, best gain: -inf\n",
      "[LightGBM] [Warning] No further splits with positive gain, best gain: -inf\n",
      "[LightGBM] [Warning] No further splits with positive gain, best gain: -inf\n",
      "[LightGBM] [Warning] No further splits with positive gain, best gain: -inf\n",
      "[LightGBM] [Warning] No further splits with positive gain, best gain: -inf\n",
      "[LightGBM] [Warning] No further splits with positive gain, best gain: -inf\n",
      "[LightGBM] [Warning] No further splits with positive gain, best gain: -inf\n",
      "[LightGBM] [Warning] No further splits with positive gain, best gain: -inf\n",
      "[LightGBM] [Warning] No further splits with positive gain, best gain: -inf\n",
      "[LightGBM] [Warning] No further splits with positive gain, best gain: -inf\n",
      "[LightGBM] [Warning] No further splits with positive gain, best gain: -inf\n",
      "[LightGBM] [Warning] No further splits with positive gain, best gain: -inf\n",
      "[LightGBM] [Warning] No further splits with positive gain, best gain: -inf\n",
      "[LightGBM] [Warning] No further splits with positive gain, best gain: -inf\n",
      "[LightGBM] [Warning] No further splits with positive gain, best gain: -inf\n",
      "[LightGBM] [Warning] No further splits with positive gain, best gain: -inf\n",
      "[LightGBM] [Warning] No further splits with positive gain, best gain: -inf\n",
      "[LightGBM] [Warning] No further splits with positive gain, best gain: -inf\n",
      "[LightGBM] [Warning] No further splits with positive gain, best gain: -inf\n",
      "[LightGBM] [Warning] No further splits with positive gain, best gain: -inf\n",
      "[LightGBM] [Warning] No further splits with positive gain, best gain: -inf\n",
      "[LightGBM] [Warning] No further splits with positive gain, best gain: -inf\n",
      "[LightGBM] [Warning] No further splits with positive gain, best gain: -inf\n",
      "[LightGBM] [Warning] No further splits with positive gain, best gain: -inf\n",
      "[LightGBM] [Warning] No further splits with positive gain, best gain: -inf\n",
      "[LightGBM] [Warning] No further splits with positive gain, best gain: -inf\n",
      "[LightGBM] [Warning] No further splits with positive gain, best gain: -inf\n",
      "[LightGBM] [Warning] No further splits with positive gain, best gain: -inf\n",
      "[LightGBM] [Warning] No further splits with positive gain, best gain: -inf\n",
      "[LightGBM] [Warning] No further splits with positive gain, best gain: -inf\n",
      "[LightGBM] [Warning] No further splits with positive gain, best gain: -inf\n",
      "[LightGBM] [Warning] No further splits with positive gain, best gain: -inf\n",
      "[LightGBM] [Warning] No further splits with positive gain, best gain: -inf\n",
      "[LightGBM] [Warning] No further splits with positive gain, best gain: -inf\n",
      "[LightGBM] [Warning] No further splits with positive gain, best gain: -inf\n",
      "[LightGBM] [Warning] No further splits with positive gain, best gain: -inf\n",
      "[LightGBM] [Warning] No further splits with positive gain, best gain: -inf\n",
      "[LightGBM] [Warning] No further splits with positive gain, best gain: -inf\n",
      "[LightGBM] [Warning] No further splits with positive gain, best gain: -inf\n",
      "[LightGBM] [Warning] No further splits with positive gain, best gain: -inf\n",
      "[LightGBM] [Warning] No further splits with positive gain, best gain: -inf\n",
      "[LightGBM] [Warning] No further splits with positive gain, best gain: -inf\n",
      "[LightGBM] [Warning] No further splits with positive gain, best gain: -inf\n",
      "[LightGBM] [Warning] No further splits with positive gain, best gain: -inf\n",
      "[LightGBM] [Warning] No further splits with positive gain, best gain: -inf\n",
      "[LightGBM] [Warning] No further splits with positive gain, best gain: -inf\n",
      "[LightGBM] [Warning] No further splits with positive gain, best gain: -inf\n",
      "[LightGBM] [Warning] No further splits with positive gain, best gain: -inf\n",
      "[LightGBM] [Warning] No further splits with positive gain, best gain: -inf\n",
      "[LightGBM] [Warning] No further splits with positive gain, best gain: -inf\n",
      "[LightGBM] [Warning] No further splits with positive gain, best gain: -inf\n",
      "[LightGBM] [Warning] No further splits with positive gain, best gain: -inf\n",
      "[LightGBM] [Warning] No further splits with positive gain, best gain: -inf\n",
      "[LightGBM] [Warning] No further splits with positive gain, best gain: -inf\n",
      "[LightGBM] [Warning] No further splits with positive gain, best gain: -inf\n",
      "[LightGBM] [Warning] No further splits with positive gain, best gain: -inf\n",
      "[LightGBM] [Warning] No further splits with positive gain, best gain: -inf\n",
      "[LightGBM] [Warning] No further splits with positive gain, best gain: -inf\n",
      "[LightGBM] [Warning] No further splits with positive gain, best gain: -inf\n",
      "[LightGBM] [Warning] No further splits with positive gain, best gain: -inf\n",
      "[LightGBM] [Warning] No further splits with positive gain, best gain: -inf\n",
      "[LightGBM] [Warning] No further splits with positive gain, best gain: -inf\n",
      "[LightGBM] [Warning] No further splits with positive gain, best gain: -inf\n",
      "[LightGBM] [Warning] No further splits with positive gain, best gain: -inf\n",
      "[LightGBM] [Warning] No further splits with positive gain, best gain: -inf\n",
      "[LightGBM] [Warning] No further splits with positive gain, best gain: -inf\n",
      "[LightGBM] [Warning] No further splits with positive gain, best gain: -inf\n",
      "[LightGBM] [Warning] No further splits with positive gain, best gain: -inf\n",
      "[LightGBM] [Warning] No further splits with positive gain, best gain: -inf\n",
      "[LightGBM] [Warning] No further splits with positive gain, best gain: -inf\n",
      "[LightGBM] [Warning] No further splits with positive gain, best gain: -inf\n",
      "[LightGBM] [Warning] No further splits with positive gain, best gain: -inf\n",
      "[LightGBM] [Warning] No further splits with positive gain, best gain: -inf\n",
      "[LightGBM] [Warning] Accuracy may be bad since you didn't explicitly set num_leaves OR 2^max_depth > num_leaves. (num_leaves=31).\n",
      "[CV 1/5; 4/8] END learning_rate=0.1, max_depth=16, num_leaves=31;, score=-418.206 total time=   0.0s\n",
      "[CV 2/5; 4/8] START learning_rate=0.1, max_depth=16, num_leaves=31..............\n",
      "[LightGBM] [Warning] Accuracy may be bad since you didn't explicitly set num_leaves OR 2^max_depth > num_leaves. (num_leaves=31).\n",
      "[LightGBM] [Warning] Accuracy may be bad since you didn't explicitly set num_leaves OR 2^max_depth > num_leaves. (num_leaves=31).\n",
      "[LightGBM] [Info] Auto-choosing col-wise multi-threading, the overhead of testing was 0.000230 seconds.\n",
      "You can set `force_col_wise=true` to remove the overhead.\n",
      "[LightGBM] [Info] Total Bins 2077\n",
      "[LightGBM] [Info] Number of data points in the train set: 1323, number of used features: 16\n",
      "[LightGBM] [Info] Start training from score 59.333333\n",
      "[LightGBM] [Warning] No further splits with positive gain, best gain: -inf\n",
      "[LightGBM] [Warning] No further splits with positive gain, best gain: -inf\n",
      "[LightGBM] [Warning] Accuracy may be bad since you didn't explicitly set num_leaves OR 2^max_depth > num_leaves. (num_leaves=31).\n",
      "[CV 2/5; 4/8] END learning_rate=0.1, max_depth=16, num_leaves=31;, score=-438.617 total time=   0.0s\n",
      "[CV 3/5; 4/8] START learning_rate=0.1, max_depth=16, num_leaves=31..............\n",
      "[LightGBM] [Warning] Accuracy may be bad since you didn't explicitly set num_leaves OR 2^max_depth > num_leaves. (num_leaves=31).\n",
      "[LightGBM] [Warning] Accuracy may be bad since you didn't explicitly set num_leaves OR 2^max_depth > num_leaves. (num_leaves=31).\n",
      "[LightGBM] [Info] Auto-choosing col-wise multi-threading, the overhead of testing was 0.000316 seconds.\n",
      "You can set `force_col_wise=true` to remove the overhead.\n",
      "[LightGBM] [Info] Total Bins 2238\n",
      "[LightGBM] [Info] Number of data points in the train set: 1982, number of used features: 16\n",
      "[LightGBM] [Info] Start training from score 63.449546\n",
      "[LightGBM] [Warning] Accuracy may be bad since you didn't explicitly set num_leaves OR 2^max_depth > num_leaves. (num_leaves=31).\n",
      "[CV 3/5; 4/8] END learning_rate=0.1, max_depth=16, num_leaves=31;, score=-530.777 total time=   0.0s\n",
      "[CV 4/5; 4/8] START learning_rate=0.1, max_depth=16, num_leaves=31..............\n",
      "[LightGBM] [Warning] Accuracy may be bad since you didn't explicitly set num_leaves OR 2^max_depth > num_leaves. (num_leaves=31).\n",
      "[LightGBM] [Warning] Accuracy may be bad since you didn't explicitly set num_leaves OR 2^max_depth > num_leaves. (num_leaves=31).\n",
      "[LightGBM] [Info] Auto-choosing col-wise multi-threading, the overhead of testing was 0.000259 seconds.\n",
      "You can set `force_col_wise=true` to remove the overhead.\n",
      "[LightGBM] [Info] Total Bins 2379\n",
      "[LightGBM] [Info] Number of data points in the train set: 2641, number of used features: 16\n",
      "[LightGBM] [Info] Start training from score 67.699735\n",
      "[LightGBM] [Warning] Accuracy may be bad since you didn't explicitly set num_leaves OR 2^max_depth > num_leaves. (num_leaves=31).\n",
      "[CV 4/5; 4/8] END learning_rate=0.1, max_depth=16, num_leaves=31;, score=-539.660 total time=   0.0s\n",
      "[CV 5/5; 4/8] START learning_rate=0.1, max_depth=16, num_leaves=31..............\n",
      "[LightGBM] [Warning] Accuracy may be bad since you didn't explicitly set num_leaves OR 2^max_depth > num_leaves. (num_leaves=31).\n",
      "[LightGBM] [Warning] Accuracy may be bad since you didn't explicitly set num_leaves OR 2^max_depth > num_leaves. (num_leaves=31).\n",
      "[LightGBM] [Info] Auto-choosing col-wise multi-threading, the overhead of testing was 0.000298 seconds.\n",
      "You can set `force_col_wise=true` to remove the overhead.\n",
      "[LightGBM] [Info] Total Bins 2540\n",
      "[LightGBM] [Info] Number of data points in the train set: 3300, number of used features: 16\n",
      "[LightGBM] [Info] Start training from score 72.536667\n",
      "[LightGBM] [Warning] Accuracy may be bad since you didn't explicitly set num_leaves OR 2^max_depth > num_leaves. (num_leaves=31).\n",
      "[CV 5/5; 4/8] END learning_rate=0.1, max_depth=16, num_leaves=31;, score=-979.356 total time=   0.0s\n",
      "[CV 1/5; 5/8] START learning_rate=1, max_depth=10, num_leaves=2.................\n",
      "[LightGBM] [Info] Auto-choosing col-wise multi-threading, the overhead of testing was 0.000157 seconds.\n",
      "You can set `force_col_wise=true` to remove the overhead.\n",
      "[LightGBM] [Info] Total Bins 1720\n",
      "[LightGBM] [Info] Number of data points in the train set: 664, number of used features: 15\n",
      "[LightGBM] [Info] Start training from score 57.182229\n",
      "[CV 1/5; 5/8] END learning_rate=1, max_depth=10, num_leaves=2;, score=-477.080 total time=   0.0s\n",
      "[CV 2/5; 5/8] START learning_rate=1, max_depth=10, num_leaves=2.................\n",
      "[LightGBM] [Info] Auto-choosing col-wise multi-threading, the overhead of testing was 0.000223 seconds.\n",
      "You can set `force_col_wise=true` to remove the overhead.\n",
      "[LightGBM] [Info] Total Bins 2077\n",
      "[LightGBM] [Info] Number of data points in the train set: 1323, number of used features: 16\n",
      "[LightGBM] [Info] Start training from score 59.333333\n",
      "[CV 2/5; 5/8] END learning_rate=1, max_depth=10, num_leaves=2;, score=-537.964 total time=   0.0s\n",
      "[CV 3/5; 5/8] START learning_rate=1, max_depth=10, num_leaves=2.................\n",
      "[LightGBM] [Info] Auto-choosing col-wise multi-threading, the overhead of testing was 0.000338 seconds.\n",
      "You can set `force_col_wise=true` to remove the overhead.\n",
      "[LightGBM] [Info] Total Bins 2238\n",
      "[LightGBM] [Info] Number of data points in the train set: 1982, number of used features: 16\n",
      "[LightGBM] [Info] Start training from score 63.449546\n",
      "[CV 3/5; 5/8] END learning_rate=1, max_depth=10, num_leaves=2;, score=-633.586 total time=   0.0s\n",
      "[CV 4/5; 5/8] START learning_rate=1, max_depth=10, num_leaves=2.................\n",
      "[LightGBM] [Info] Auto-choosing col-wise multi-threading, the overhead of testing was 0.000292 seconds.\n",
      "You can set `force_col_wise=true` to remove the overhead.\n",
      "[LightGBM] [Info] Total Bins 2379\n",
      "[LightGBM] [Info] Number of data points in the train set: 2641, number of used features: 16\n",
      "[LightGBM] [Info] Start training from score 67.699735\n",
      "[CV 4/5; 5/8] END learning_rate=1, max_depth=10, num_leaves=2;, score=-680.007 total time=   0.0s\n",
      "[CV 5/5; 5/8] START learning_rate=1, max_depth=10, num_leaves=2.................\n",
      "[LightGBM] [Info] Auto-choosing col-wise multi-threading, the overhead of testing was 0.000344 seconds.\n",
      "You can set `force_col_wise=true` to remove the overhead.\n",
      "[LightGBM] [Info] Total Bins 2540\n",
      "[LightGBM] [Info] Number of data points in the train set: 3300, number of used features: 16\n",
      "[LightGBM] [Info] Start training from score 72.536667\n",
      "[CV 5/5; 5/8] END learning_rate=1, max_depth=10, num_leaves=2;, score=-1310.864 total time=   0.0s\n",
      "[CV 1/5; 6/8] START learning_rate=1, max_depth=10, num_leaves=31................\n",
      "[LightGBM] [Warning] Accuracy may be bad since you didn't explicitly set num_leaves OR 2^max_depth > num_leaves. (num_leaves=31).\n",
      "[LightGBM] [Warning] Accuracy may be bad since you didn't explicitly set num_leaves OR 2^max_depth > num_leaves. (num_leaves=31).\n",
      "[LightGBM] [Info] Auto-choosing col-wise multi-threading, the overhead of testing was 0.000169 seconds.\n",
      "You can set `force_col_wise=true` to remove the overhead.\n",
      "[LightGBM] [Info] Total Bins 1720\n",
      "[LightGBM] [Info] Number of data points in the train set: 664, number of used features: 15\n",
      "[LightGBM] [Info] Start training from score 57.182229\n",
      "[LightGBM] [Warning] No further splits with positive gain, best gain: -inf\n",
      "[LightGBM] [Warning] No further splits with positive gain, best gain: -inf\n",
      "[LightGBM] [Warning] No further splits with positive gain, best gain: -inf\n",
      "[LightGBM] [Warning] No further splits with positive gain, best gain: -inf\n",
      "[LightGBM] [Warning] No further splits with positive gain, best gain: -inf\n",
      "[LightGBM] [Warning] No further splits with positive gain, best gain: -inf\n",
      "[LightGBM] [Warning] No further splits with positive gain, best gain: -inf\n",
      "[LightGBM] [Warning] No further splits with positive gain, best gain: -inf\n",
      "[LightGBM] [Warning] No further splits with positive gain, best gain: -inf\n",
      "[LightGBM] [Warning] No further splits with positive gain, best gain: -inf\n",
      "[LightGBM] [Warning] No further splits with positive gain, best gain: -inf\n",
      "[LightGBM] [Warning] No further splits with positive gain, best gain: -inf\n",
      "[LightGBM] [Warning] No further splits with positive gain, best gain: -inf\n",
      "[LightGBM] [Warning] No further splits with positive gain, best gain: -inf\n",
      "[LightGBM] [Warning] No further splits with positive gain, best gain: -inf\n",
      "[LightGBM] [Warning] No further splits with positive gain, best gain: -inf\n",
      "[LightGBM] [Warning] No further splits with positive gain, best gain: -inf\n",
      "[LightGBM] [Warning] No further splits with positive gain, best gain: -inf\n",
      "[LightGBM] [Warning] No further splits with positive gain, best gain: -inf\n",
      "[LightGBM] [Warning] No further splits with positive gain, best gain: -inf\n",
      "[LightGBM] [Warning] No further splits with positive gain, best gain: -inf\n",
      "[LightGBM] [Warning] No further splits with positive gain, best gain: -inf\n",
      "[LightGBM] [Warning] No further splits with positive gain, best gain: -inf\n",
      "[LightGBM] [Warning] No further splits with positive gain, best gain: -inf\n",
      "[LightGBM] [Warning] No further splits with positive gain, best gain: -inf\n",
      "[LightGBM] [Warning] No further splits with positive gain, best gain: -inf\n",
      "[LightGBM] [Warning] No further splits with positive gain, best gain: -inf\n",
      "[LightGBM] [Warning] No further splits with positive gain, best gain: -inf\n",
      "[LightGBM] [Warning] No further splits with positive gain, best gain: -inf\n",
      "[LightGBM] [Warning] No further splits with positive gain, best gain: -inf\n",
      "[LightGBM] [Warning] No further splits with positive gain, best gain: -inf\n",
      "[LightGBM] [Warning] No further splits with positive gain, best gain: -inf\n",
      "[LightGBM] [Warning] No further splits with positive gain, best gain: -inf\n",
      "[LightGBM] [Warning] No further splits with positive gain, best gain: -inf\n",
      "[LightGBM] [Warning] No further splits with positive gain, best gain: -inf\n",
      "[LightGBM] [Warning] No further splits with positive gain, best gain: -inf\n",
      "[LightGBM] [Warning] No further splits with positive gain, best gain: -inf\n",
      "[LightGBM] [Warning] No further splits with positive gain, best gain: -inf\n",
      "[LightGBM] [Warning] No further splits with positive gain, best gain: -inf\n",
      "[LightGBM] [Warning] No further splits with positive gain, best gain: -inf\n",
      "[LightGBM] [Warning] No further splits with positive gain, best gain: -inf\n",
      "[LightGBM] [Warning] No further splits with positive gain, best gain: -inf\n",
      "[LightGBM] [Warning] No further splits with positive gain, best gain: -inf\n",
      "[LightGBM] [Warning] No further splits with positive gain, best gain: -inf\n",
      "[LightGBM] [Warning] No further splits with positive gain, best gain: -inf\n",
      "[LightGBM] [Warning] No further splits with positive gain, best gain: -inf\n",
      "[LightGBM] [Warning] No further splits with positive gain, best gain: -inf\n",
      "[LightGBM] [Warning] No further splits with positive gain, best gain: -inf\n",
      "[LightGBM] [Warning] No further splits with positive gain, best gain: -inf\n",
      "[LightGBM] [Warning] No further splits with positive gain, best gain: -inf\n",
      "[LightGBM] [Warning] No further splits with positive gain, best gain: -inf\n",
      "[LightGBM] [Warning] No further splits with positive gain, best gain: -inf\n",
      "[LightGBM] [Warning] No further splits with positive gain, best gain: -inf\n",
      "[LightGBM] [Warning] No further splits with positive gain, best gain: -inf\n",
      "[LightGBM] [Warning] No further splits with positive gain, best gain: -inf\n",
      "[LightGBM] [Warning] No further splits with positive gain, best gain: -inf\n",
      "[LightGBM] [Warning] No further splits with positive gain, best gain: -inf\n",
      "[LightGBM] [Warning] No further splits with positive gain, best gain: -inf\n",
      "[LightGBM] [Warning] No further splits with positive gain, best gain: -inf\n",
      "[LightGBM] [Warning] No further splits with positive gain, best gain: -inf\n",
      "[LightGBM] [Warning] No further splits with positive gain, best gain: -inf\n",
      "[LightGBM] [Warning] No further splits with positive gain, best gain: -inf\n",
      "[LightGBM] [Warning] No further splits with positive gain, best gain: -inf\n",
      "[LightGBM] [Warning] No further splits with positive gain, best gain: -inf\n",
      "[LightGBM] [Warning] No further splits with positive gain, best gain: -inf\n",
      "[LightGBM] [Warning] No further splits with positive gain, best gain: -inf\n",
      "[LightGBM] [Warning] No further splits with positive gain, best gain: -inf\n",
      "[LightGBM] [Warning] No further splits with positive gain, best gain: -inf\n",
      "[LightGBM] [Warning] No further splits with positive gain, best gain: -inf\n",
      "[LightGBM] [Warning] No further splits with positive gain, best gain: -inf\n",
      "[LightGBM] [Warning] No further splits with positive gain, best gain: -inf\n",
      "[LightGBM] [Warning] No further splits with positive gain, best gain: -inf\n",
      "[LightGBM] [Warning] No further splits with positive gain, best gain: -inf\n",
      "[LightGBM] [Warning] No further splits with positive gain, best gain: -inf\n",
      "[LightGBM] [Warning] No further splits with positive gain, best gain: -inf\n",
      "[LightGBM] [Warning] No further splits with positive gain, best gain: -inf\n",
      "[LightGBM] [Warning] No further splits with positive gain, best gain: -inf\n",
      "[LightGBM] [Warning] No further splits with positive gain, best gain: -inf\n",
      "[LightGBM] [Warning] No further splits with positive gain, best gain: -inf\n",
      "[LightGBM] [Warning] No further splits with positive gain, best gain: -inf\n",
      "[LightGBM] [Warning] No further splits with positive gain, best gain: -inf\n",
      "[LightGBM] [Warning] No further splits with positive gain, best gain: -inf\n",
      "[LightGBM] [Warning] No further splits with positive gain, best gain: -inf\n",
      "[LightGBM] [Warning] No further splits with positive gain, best gain: -inf\n",
      "[LightGBM] [Warning] No further splits with positive gain, best gain: -inf\n",
      "[LightGBM] [Warning] No further splits with positive gain, best gain: -inf\n",
      "[LightGBM] [Warning] No further splits with positive gain, best gain: -inf\n",
      "[LightGBM] [Warning] No further splits with positive gain, best gain: -inf\n",
      "[LightGBM] [Warning] No further splits with positive gain, best gain: -inf\n",
      "[LightGBM] [Warning] No further splits with positive gain, best gain: -inf\n",
      "[LightGBM] [Warning] No further splits with positive gain, best gain: -inf\n",
      "[LightGBM] [Warning] No further splits with positive gain, best gain: -inf\n",
      "[LightGBM] [Warning] No further splits with positive gain, best gain: -inf\n",
      "[LightGBM] [Warning] No further splits with positive gain, best gain: -inf\n",
      "[LightGBM] [Warning] No further splits with positive gain, best gain: -inf\n",
      "[LightGBM] [Warning] No further splits with positive gain, best gain: -inf\n",
      "[LightGBM] [Warning] No further splits with positive gain, best gain: -inf\n",
      "[LightGBM] [Warning] No further splits with positive gain, best gain: -inf\n",
      "[LightGBM] [Warning] No further splits with positive gain, best gain: -inf\n",
      "[LightGBM] [Warning] No further splits with positive gain, best gain: -inf\n",
      "[LightGBM] [Warning] Accuracy may be bad since you didn't explicitly set num_leaves OR 2^max_depth > num_leaves. (num_leaves=31).\n",
      "[CV 1/5; 6/8] END learning_rate=1, max_depth=10, num_leaves=31;, score=-842.618 total time=   0.0s\n",
      "[CV 2/5; 6/8] START learning_rate=1, max_depth=10, num_leaves=31................\n",
      "[LightGBM] [Warning] Accuracy may be bad since you didn't explicitly set num_leaves OR 2^max_depth > num_leaves. (num_leaves=31).\n",
      "[LightGBM] [Warning] Accuracy may be bad since you didn't explicitly set num_leaves OR 2^max_depth > num_leaves. (num_leaves=31).\n",
      "[LightGBM] [Info] Auto-choosing col-wise multi-threading, the overhead of testing was 0.000206 seconds.\n",
      "You can set `force_col_wise=true` to remove the overhead.\n",
      "[LightGBM] [Info] Total Bins 2077\n",
      "[LightGBM] [Info] Number of data points in the train set: 1323, number of used features: 16\n",
      "[LightGBM] [Info] Start training from score 59.333333\n",
      "[LightGBM] [Warning] No further splits with positive gain, best gain: -inf\n",
      "[LightGBM] [Warning] No further splits with positive gain, best gain: -inf\n",
      "[LightGBM] [Warning] No further splits with positive gain, best gain: -inf\n",
      "[LightGBM] [Warning] No further splits with positive gain, best gain: -inf\n",
      "[LightGBM] [Warning] No further splits with positive gain, best gain: -inf\n",
      "[LightGBM] [Warning] No further splits with positive gain, best gain: -inf\n",
      "[LightGBM] [Warning] No further splits with positive gain, best gain: -inf\n",
      "[LightGBM] [Warning] No further splits with positive gain, best gain: -inf\n",
      "[LightGBM] [Warning] No further splits with positive gain, best gain: -inf\n",
      "[LightGBM] [Warning] No further splits with positive gain, best gain: -inf\n",
      "[LightGBM] [Warning] No further splits with positive gain, best gain: -inf\n",
      "[LightGBM] [Warning] No further splits with positive gain, best gain: -inf\n",
      "[LightGBM] [Warning] No further splits with positive gain, best gain: -inf\n",
      "[LightGBM] [Warning] No further splits with positive gain, best gain: -inf\n",
      "[LightGBM] [Warning] No further splits with positive gain, best gain: -inf\n",
      "[LightGBM] [Warning] No further splits with positive gain, best gain: -inf\n",
      "[LightGBM] [Warning] No further splits with positive gain, best gain: -inf\n",
      "[LightGBM] [Warning] No further splits with positive gain, best gain: -inf\n",
      "[LightGBM] [Warning] No further splits with positive gain, best gain: -inf\n",
      "[LightGBM] [Warning] No further splits with positive gain, best gain: -inf\n",
      "[LightGBM] [Warning] No further splits with positive gain, best gain: -inf\n",
      "[LightGBM] [Warning] No further splits with positive gain, best gain: -inf\n",
      "[LightGBM] [Warning] No further splits with positive gain, best gain: -inf\n",
      "[LightGBM] [Warning] No further splits with positive gain, best gain: -inf\n",
      "[LightGBM] [Warning] No further splits with positive gain, best gain: -inf\n",
      "[LightGBM] [Warning] No further splits with positive gain, best gain: -inf\n",
      "[LightGBM] [Warning] Accuracy may be bad since you didn't explicitly set num_leaves OR 2^max_depth > num_leaves. (num_leaves=31).\n",
      "[CV 2/5; 6/8] END learning_rate=1, max_depth=10, num_leaves=31;, score=-785.228 total time=   0.0s\n",
      "[CV 3/5; 6/8] START learning_rate=1, max_depth=10, num_leaves=31................\n",
      "[LightGBM] [Warning] Accuracy may be bad since you didn't explicitly set num_leaves OR 2^max_depth > num_leaves. (num_leaves=31).\n",
      "[LightGBM] [Warning] Accuracy may be bad since you didn't explicitly set num_leaves OR 2^max_depth > num_leaves. (num_leaves=31).\n",
      "[LightGBM] [Info] Auto-choosing col-wise multi-threading, the overhead of testing was 0.000297 seconds.\n",
      "You can set `force_col_wise=true` to remove the overhead.\n",
      "[LightGBM] [Info] Total Bins 2238\n",
      "[LightGBM] [Info] Number of data points in the train set: 1982, number of used features: 16\n",
      "[LightGBM] [Info] Start training from score 63.449546\n",
      "[LightGBM] [Warning] No further splits with positive gain, best gain: -inf\n",
      "[LightGBM] [Warning] No further splits with positive gain, best gain: -inf\n",
      "[LightGBM] [Warning] No further splits with positive gain, best gain: -inf\n",
      "[LightGBM] [Warning] No further splits with positive gain, best gain: -inf\n",
      "[LightGBM] [Warning] No further splits with positive gain, best gain: -inf\n",
      "[LightGBM] [Warning] No further splits with positive gain, best gain: -inf\n",
      "[LightGBM] [Warning] No further splits with positive gain, best gain: -inf\n",
      "[LightGBM] [Warning] No further splits with positive gain, best gain: -inf\n",
      "[LightGBM] [Warning] Accuracy may be bad since you didn't explicitly set num_leaves OR 2^max_depth > num_leaves. (num_leaves=31).\n",
      "[CV 3/5; 6/8] END learning_rate=1, max_depth=10, num_leaves=31;, score=-1109.837 total time=   0.0s\n",
      "[CV 4/5; 6/8] START learning_rate=1, max_depth=10, num_leaves=31................\n",
      "[LightGBM] [Warning] Accuracy may be bad since you didn't explicitly set num_leaves OR 2^max_depth > num_leaves. (num_leaves=31).\n",
      "[LightGBM] [Warning] Accuracy may be bad since you didn't explicitly set num_leaves OR 2^max_depth > num_leaves. (num_leaves=31).\n",
      "[LightGBM] [Info] Auto-choosing col-wise multi-threading, the overhead of testing was 0.000394 seconds.\n",
      "You can set `force_col_wise=true` to remove the overhead.\n",
      "[LightGBM] [Info] Total Bins 2379\n",
      "[LightGBM] [Info] Number of data points in the train set: 2641, number of used features: 16\n",
      "[LightGBM] [Info] Start training from score 67.699735\n",
      "[LightGBM] [Warning] No further splits with positive gain, best gain: -inf\n",
      "[LightGBM] [Warning] No further splits with positive gain, best gain: -inf\n",
      "[LightGBM] [Warning] No further splits with positive gain, best gain: -inf\n",
      "[LightGBM] [Warning] No further splits with positive gain, best gain: -inf\n",
      "[LightGBM] [Warning] No further splits with positive gain, best gain: -inf\n",
      "[LightGBM] [Warning] No further splits with positive gain, best gain: -inf\n",
      "[LightGBM] [Warning] No further splits with positive gain, best gain: -inf\n",
      "[LightGBM] [Warning] No further splits with positive gain, best gain: -inf\n",
      "[LightGBM] [Warning] No further splits with positive gain, best gain: -inf\n",
      "[LightGBM] [Warning] No further splits with positive gain, best gain: -inf\n",
      "[LightGBM] [Warning] Accuracy may be bad since you didn't explicitly set num_leaves OR 2^max_depth > num_leaves. (num_leaves=31).\n",
      "[CV 4/5; 6/8] END learning_rate=1, max_depth=10, num_leaves=31;, score=-1018.464 total time=   0.0s\n",
      "[CV 5/5; 6/8] START learning_rate=1, max_depth=10, num_leaves=31................\n",
      "[LightGBM] [Warning] Accuracy may be bad since you didn't explicitly set num_leaves OR 2^max_depth > num_leaves. (num_leaves=31).\n",
      "[LightGBM] [Warning] Accuracy may be bad since you didn't explicitly set num_leaves OR 2^max_depth > num_leaves. (num_leaves=31).\n",
      "[LightGBM] [Info] Auto-choosing col-wise multi-threading, the overhead of testing was 0.000337 seconds.\n",
      "You can set `force_col_wise=true` to remove the overhead.\n",
      "[LightGBM] [Info] Total Bins 2540\n",
      "[LightGBM] [Info] Number of data points in the train set: 3300, number of used features: 16\n",
      "[LightGBM] [Info] Start training from score 72.536667\n",
      "[LightGBM] [Warning] No further splits with positive gain, best gain: -inf\n",
      "[LightGBM] [Warning] No further splits with positive gain, best gain: -inf\n",
      "[LightGBM] [Warning] No further splits with positive gain, best gain: -inf\n",
      "[LightGBM] [Warning] No further splits with positive gain, best gain: -inf\n",
      "[LightGBM] [Warning] Accuracy may be bad since you didn't explicitly set num_leaves OR 2^max_depth > num_leaves. (num_leaves=31).\n",
      "[CV 5/5; 6/8] END learning_rate=1, max_depth=10, num_leaves=31;, score=-1472.685 total time=   0.0s\n",
      "[CV 1/5; 7/8] START learning_rate=1, max_depth=16, num_leaves=2.................\n",
      "[LightGBM] [Info] Auto-choosing col-wise multi-threading, the overhead of testing was 0.000174 seconds.\n",
      "You can set `force_col_wise=true` to remove the overhead.\n",
      "[LightGBM] [Info] Total Bins 1720\n",
      "[LightGBM] [Info] Number of data points in the train set: 664, number of used features: 15\n",
      "[LightGBM] [Info] Start training from score 57.182229\n",
      "[CV 1/5; 7/8] END learning_rate=1, max_depth=16, num_leaves=2;, score=-477.080 total time=   0.0s\n",
      "[CV 2/5; 7/8] START learning_rate=1, max_depth=16, num_leaves=2.................\n",
      "[LightGBM] [Info] Auto-choosing col-wise multi-threading, the overhead of testing was 0.000223 seconds.\n",
      "You can set `force_col_wise=true` to remove the overhead.\n",
      "[LightGBM] [Info] Total Bins 2077\n",
      "[LightGBM] [Info] Number of data points in the train set: 1323, number of used features: 16\n",
      "[LightGBM] [Info] Start training from score 59.333333\n",
      "[CV 2/5; 7/8] END learning_rate=1, max_depth=16, num_leaves=2;, score=-537.964 total time=   0.0s\n",
      "[CV 3/5; 7/8] START learning_rate=1, max_depth=16, num_leaves=2.................\n",
      "[LightGBM] [Info] Auto-choosing col-wise multi-threading, the overhead of testing was 0.000258 seconds.\n",
      "You can set `force_col_wise=true` to remove the overhead.\n",
      "[LightGBM] [Info] Total Bins 2238\n",
      "[LightGBM] [Info] Number of data points in the train set: 1982, number of used features: 16\n",
      "[LightGBM] [Info] Start training from score 63.449546\n",
      "[CV 3/5; 7/8] END learning_rate=1, max_depth=16, num_leaves=2;, score=-633.586 total time=   0.0s\n",
      "[CV 4/5; 7/8] START learning_rate=1, max_depth=16, num_leaves=2.................\n",
      "[LightGBM] [Info] Auto-choosing col-wise multi-threading, the overhead of testing was 0.000294 seconds.\n",
      "You can set `force_col_wise=true` to remove the overhead.\n",
      "[LightGBM] [Info] Total Bins 2379\n",
      "[LightGBM] [Info] Number of data points in the train set: 2641, number of used features: 16\n",
      "[LightGBM] [Info] Start training from score 67.699735\n",
      "[CV 4/5; 7/8] END learning_rate=1, max_depth=16, num_leaves=2;, score=-680.007 total time=   0.0s\n",
      "[CV 5/5; 7/8] START learning_rate=1, max_depth=16, num_leaves=2.................\n",
      "[LightGBM] [Info] Auto-choosing col-wise multi-threading, the overhead of testing was 0.000304 seconds.\n",
      "You can set `force_col_wise=true` to remove the overhead.\n",
      "[LightGBM] [Info] Total Bins 2540\n",
      "[LightGBM] [Info] Number of data points in the train set: 3300, number of used features: 16\n",
      "[LightGBM] [Info] Start training from score 72.536667\n",
      "[CV 5/5; 7/8] END learning_rate=1, max_depth=16, num_leaves=2;, score=-1310.864 total time=   0.0s\n",
      "[CV 1/5; 8/8] START learning_rate=1, max_depth=16, num_leaves=31................\n",
      "[LightGBM] [Warning] Accuracy may be bad since you didn't explicitly set num_leaves OR 2^max_depth > num_leaves. (num_leaves=31).\n",
      "[LightGBM] [Warning] Accuracy may be bad since you didn't explicitly set num_leaves OR 2^max_depth > num_leaves. (num_leaves=31).\n",
      "[LightGBM] [Info] Auto-choosing col-wise multi-threading, the overhead of testing was 0.000169 seconds.\n",
      "You can set `force_col_wise=true` to remove the overhead.\n",
      "[LightGBM] [Info] Total Bins 1720\n",
      "[LightGBM] [Info] Number of data points in the train set: 664, number of used features: 15\n",
      "[LightGBM] [Info] Start training from score 57.182229\n",
      "[LightGBM] [Warning] No further splits with positive gain, best gain: -inf\n",
      "[LightGBM] [Warning] No further splits with positive gain, best gain: -inf\n",
      "[LightGBM] [Warning] No further splits with positive gain, best gain: -inf\n",
      "[LightGBM] [Warning] No further splits with positive gain, best gain: -inf\n",
      "[LightGBM] [Warning] No further splits with positive gain, best gain: -inf\n",
      "[LightGBM] [Warning] No further splits with positive gain, best gain: -inf\n",
      "[LightGBM] [Warning] No further splits with positive gain, best gain: -inf\n",
      "[LightGBM] [Warning] No further splits with positive gain, best gain: -inf\n",
      "[LightGBM] [Warning] No further splits with positive gain, best gain: -inf\n",
      "[LightGBM] [Warning] No further splits with positive gain, best gain: -inf\n",
      "[LightGBM] [Warning] No further splits with positive gain, best gain: -inf\n",
      "[LightGBM] [Warning] No further splits with positive gain, best gain: -inf\n",
      "[LightGBM] [Warning] No further splits with positive gain, best gain: -inf\n",
      "[LightGBM] [Warning] No further splits with positive gain, best gain: -inf\n",
      "[LightGBM] [Warning] No further splits with positive gain, best gain: -inf\n",
      "[LightGBM] [Warning] No further splits with positive gain, best gain: -inf\n",
      "[LightGBM] [Warning] No further splits with positive gain, best gain: -inf\n",
      "[LightGBM] [Warning] No further splits with positive gain, best gain: -inf\n",
      "[LightGBM] [Warning] No further splits with positive gain, best gain: -inf\n",
      "[LightGBM] [Warning] No further splits with positive gain, best gain: -inf\n",
      "[LightGBM] [Warning] No further splits with positive gain, best gain: -inf\n",
      "[LightGBM] [Warning] No further splits with positive gain, best gain: -inf\n",
      "[LightGBM] [Warning] No further splits with positive gain, best gain: -inf\n",
      "[LightGBM] [Warning] No further splits with positive gain, best gain: -inf\n",
      "[LightGBM] [Warning] No further splits with positive gain, best gain: -inf\n",
      "[LightGBM] [Warning] No further splits with positive gain, best gain: -inf\n",
      "[LightGBM] [Warning] No further splits with positive gain, best gain: -inf\n",
      "[LightGBM] [Warning] No further splits with positive gain, best gain: -inf\n",
      "[LightGBM] [Warning] No further splits with positive gain, best gain: -inf\n",
      "[LightGBM] [Warning] No further splits with positive gain, best gain: -inf\n",
      "[LightGBM] [Warning] No further splits with positive gain, best gain: -inf\n",
      "[LightGBM] [Warning] No further splits with positive gain, best gain: -inf\n",
      "[LightGBM] [Warning] No further splits with positive gain, best gain: -inf\n",
      "[LightGBM] [Warning] No further splits with positive gain, best gain: -inf\n",
      "[LightGBM] [Warning] No further splits with positive gain, best gain: -inf\n",
      "[LightGBM] [Warning] No further splits with positive gain, best gain: -inf\n",
      "[LightGBM] [Warning] No further splits with positive gain, best gain: -inf\n",
      "[LightGBM] [Warning] No further splits with positive gain, best gain: -inf\n",
      "[LightGBM] [Warning] No further splits with positive gain, best gain: -inf\n",
      "[LightGBM] [Warning] No further splits with positive gain, best gain: -inf\n",
      "[LightGBM] [Warning] No further splits with positive gain, best gain: -inf\n",
      "[LightGBM] [Warning] No further splits with positive gain, best gain: -inf\n",
      "[LightGBM] [Warning] No further splits with positive gain, best gain: -inf\n",
      "[LightGBM] [Warning] No further splits with positive gain, best gain: -inf\n",
      "[LightGBM] [Warning] No further splits with positive gain, best gain: -inf\n",
      "[LightGBM] [Warning] No further splits with positive gain, best gain: -inf\n",
      "[LightGBM] [Warning] No further splits with positive gain, best gain: -inf\n",
      "[LightGBM] [Warning] No further splits with positive gain, best gain: -inf\n",
      "[LightGBM] [Warning] No further splits with positive gain, best gain: -inf\n",
      "[LightGBM] [Warning] No further splits with positive gain, best gain: -inf\n",
      "[LightGBM] [Warning] No further splits with positive gain, best gain: -inf\n",
      "[LightGBM] [Warning] No further splits with positive gain, best gain: -inf\n",
      "[LightGBM] [Warning] No further splits with positive gain, best gain: -inf\n",
      "[LightGBM] [Warning] No further splits with positive gain, best gain: -inf\n",
      "[LightGBM] [Warning] No further splits with positive gain, best gain: -inf\n",
      "[LightGBM] [Warning] No further splits with positive gain, best gain: -inf\n",
      "[LightGBM] [Warning] No further splits with positive gain, best gain: -inf\n",
      "[LightGBM] [Warning] No further splits with positive gain, best gain: -inf\n",
      "[LightGBM] [Warning] No further splits with positive gain, best gain: -inf\n",
      "[LightGBM] [Warning] No further splits with positive gain, best gain: -inf\n",
      "[LightGBM] [Warning] No further splits with positive gain, best gain: -inf\n",
      "[LightGBM] [Warning] No further splits with positive gain, best gain: -inf\n",
      "[LightGBM] [Warning] No further splits with positive gain, best gain: -inf\n",
      "[LightGBM] [Warning] No further splits with positive gain, best gain: -inf\n",
      "[LightGBM] [Warning] No further splits with positive gain, best gain: -inf\n",
      "[LightGBM] [Warning] No further splits with positive gain, best gain: -inf\n",
      "[LightGBM] [Warning] No further splits with positive gain, best gain: -inf\n",
      "[LightGBM] [Warning] No further splits with positive gain, best gain: -inf\n",
      "[LightGBM] [Warning] No further splits with positive gain, best gain: -inf\n",
      "[LightGBM] [Warning] No further splits with positive gain, best gain: -inf\n",
      "[LightGBM] [Warning] No further splits with positive gain, best gain: -inf\n",
      "[LightGBM] [Warning] No further splits with positive gain, best gain: -inf\n",
      "[LightGBM] [Warning] No further splits with positive gain, best gain: -inf\n",
      "[LightGBM] [Warning] No further splits with positive gain, best gain: -inf\n",
      "[LightGBM] [Warning] No further splits with positive gain, best gain: -inf\n",
      "[LightGBM] [Warning] No further splits with positive gain, best gain: -inf\n",
      "[LightGBM] [Warning] No further splits with positive gain, best gain: -inf\n",
      "[LightGBM] [Warning] No further splits with positive gain, best gain: -inf\n",
      "[LightGBM] [Warning] No further splits with positive gain, best gain: -inf\n",
      "[LightGBM] [Warning] No further splits with positive gain, best gain: -inf\n",
      "[LightGBM] [Warning] No further splits with positive gain, best gain: -inf\n",
      "[LightGBM] [Warning] No further splits with positive gain, best gain: -inf\n",
      "[LightGBM] [Warning] No further splits with positive gain, best gain: -inf\n",
      "[LightGBM] [Warning] No further splits with positive gain, best gain: -inf\n",
      "[LightGBM] [Warning] No further splits with positive gain, best gain: -inf\n",
      "[LightGBM] [Warning] No further splits with positive gain, best gain: -inf\n",
      "[LightGBM] [Warning] No further splits with positive gain, best gain: -inf\n",
      "[LightGBM] [Warning] No further splits with positive gain, best gain: -inf\n",
      "[LightGBM] [Warning] No further splits with positive gain, best gain: -inf\n",
      "[LightGBM] [Warning] No further splits with positive gain, best gain: -inf\n",
      "[LightGBM] [Warning] No further splits with positive gain, best gain: -inf\n",
      "[LightGBM] [Warning] No further splits with positive gain, best gain: -inf\n",
      "[LightGBM] [Warning] No further splits with positive gain, best gain: -inf\n",
      "[LightGBM] [Warning] No further splits with positive gain, best gain: -inf\n",
      "[LightGBM] [Warning] No further splits with positive gain, best gain: -inf\n",
      "[LightGBM] [Warning] No further splits with positive gain, best gain: -inf\n",
      "[LightGBM] [Warning] No further splits with positive gain, best gain: -inf\n",
      "[LightGBM] [Warning] No further splits with positive gain, best gain: -inf\n",
      "[LightGBM] [Warning] No further splits with positive gain, best gain: -inf\n",
      "[LightGBM] [Warning] No further splits with positive gain, best gain: -inf\n",
      "[LightGBM] [Warning] Accuracy may be bad since you didn't explicitly set num_leaves OR 2^max_depth > num_leaves. (num_leaves=31).\n",
      "[CV 1/5; 8/8] END learning_rate=1, max_depth=16, num_leaves=31;, score=-753.858 total time=   0.0s\n",
      "[CV 2/5; 8/8] START learning_rate=1, max_depth=16, num_leaves=31................\n",
      "[LightGBM] [Warning] Accuracy may be bad since you didn't explicitly set num_leaves OR 2^max_depth > num_leaves. (num_leaves=31).\n",
      "[LightGBM] [Warning] Accuracy may be bad since you didn't explicitly set num_leaves OR 2^max_depth > num_leaves. (num_leaves=31).\n",
      "[LightGBM] [Info] Auto-choosing col-wise multi-threading, the overhead of testing was 0.000195 seconds.\n",
      "You can set `force_col_wise=true` to remove the overhead.\n",
      "[LightGBM] [Info] Total Bins 2077\n",
      "[LightGBM] [Info] Number of data points in the train set: 1323, number of used features: 16\n",
      "[LightGBM] [Info] Start training from score 59.333333\n",
      "[LightGBM] [Warning] Accuracy may be bad since you didn't explicitly set num_leaves OR 2^max_depth > num_leaves. (num_leaves=31).\n",
      "[CV 2/5; 8/8] END learning_rate=1, max_depth=16, num_leaves=31;, score=-923.850 total time=   0.0s\n",
      "[CV 3/5; 8/8] START learning_rate=1, max_depth=16, num_leaves=31................\n",
      "[LightGBM] [Warning] Accuracy may be bad since you didn't explicitly set num_leaves OR 2^max_depth > num_leaves. (num_leaves=31).\n",
      "[LightGBM] [Warning] Accuracy may be bad since you didn't explicitly set num_leaves OR 2^max_depth > num_leaves. (num_leaves=31).\n",
      "[LightGBM] [Info] Auto-choosing col-wise multi-threading, the overhead of testing was 0.000239 seconds.\n",
      "You can set `force_col_wise=true` to remove the overhead.\n",
      "[LightGBM] [Info] Total Bins 2238\n",
      "[LightGBM] [Info] Number of data points in the train set: 1982, number of used features: 16\n",
      "[LightGBM] [Info] Start training from score 63.449546\n",
      "[LightGBM] [Warning] Accuracy may be bad since you didn't explicitly set num_leaves OR 2^max_depth > num_leaves. (num_leaves=31).\n",
      "[CV 3/5; 8/8] END learning_rate=1, max_depth=16, num_leaves=31;, score=-1102.762 total time=   0.0s\n",
      "[CV 4/5; 8/8] START learning_rate=1, max_depth=16, num_leaves=31................\n",
      "[LightGBM] [Warning] Accuracy may be bad since you didn't explicitly set num_leaves OR 2^max_depth > num_leaves. (num_leaves=31).\n",
      "[LightGBM] [Warning] Accuracy may be bad since you didn't explicitly set num_leaves OR 2^max_depth > num_leaves. (num_leaves=31).\n",
      "[LightGBM] [Info] Auto-choosing col-wise multi-threading, the overhead of testing was 0.000277 seconds.\n",
      "You can set `force_col_wise=true` to remove the overhead.\n",
      "[LightGBM] [Info] Total Bins 2379\n",
      "[LightGBM] [Info] Number of data points in the train set: 2641, number of used features: 16\n",
      "[LightGBM] [Info] Start training from score 67.699735\n",
      "[LightGBM] [Warning] Accuracy may be bad since you didn't explicitly set num_leaves OR 2^max_depth > num_leaves. (num_leaves=31).\n",
      "[CV 4/5; 8/8] END learning_rate=1, max_depth=16, num_leaves=31;, score=-1173.549 total time=   0.0s\n",
      "[CV 5/5; 8/8] START learning_rate=1, max_depth=16, num_leaves=31................\n",
      "[LightGBM] [Warning] Accuracy may be bad since you didn't explicitly set num_leaves OR 2^max_depth > num_leaves. (num_leaves=31).\n",
      "[LightGBM] [Warning] Accuracy may be bad since you didn't explicitly set num_leaves OR 2^max_depth > num_leaves. (num_leaves=31).\n",
      "[LightGBM] [Info] Auto-choosing col-wise multi-threading, the overhead of testing was 0.000320 seconds.\n",
      "You can set `force_col_wise=true` to remove the overhead.\n",
      "[LightGBM] [Info] Total Bins 2540\n",
      "[LightGBM] [Info] Number of data points in the train set: 3300, number of used features: 16\n",
      "[LightGBM] [Info] Start training from score 72.536667\n",
      "[LightGBM] [Warning] Accuracy may be bad since you didn't explicitly set num_leaves OR 2^max_depth > num_leaves. (num_leaves=31).\n",
      "[CV 5/5; 8/8] END learning_rate=1, max_depth=16, num_leaves=31;, score=-1672.244 total time=   0.0s\n",
      "[LightGBM] [Warning] Accuracy may be bad since you didn't explicitly set num_leaves OR 2^max_depth > num_leaves. (num_leaves=31).\n",
      "[LightGBM] [Warning] Accuracy may be bad since you didn't explicitly set num_leaves OR 2^max_depth > num_leaves. (num_leaves=31).\n",
      "[LightGBM] [Info] Auto-choosing col-wise multi-threading, the overhead of testing was 0.000377 seconds.\n",
      "You can set `force_col_wise=true` to remove the overhead.\n",
      "[LightGBM] [Info] Total Bins 2711\n",
      "[LightGBM] [Info] Number of data points in the train set: 3959, number of used features: 16\n",
      "[LightGBM] [Info] Start training from score 78.386461\n",
      "-736.378535496156\n",
      "{'learning_rate': 0.1, 'max_depth': 16, 'num_leaves': 31}\n",
      "LGBMRegressor(max_depth=16)\n"
     ]
    }
   ],
   "source": [
    "#lgbmregressor\n",
    "\n",
    "model_lgbm = lgb.LGBMRegressor()\n",
    "\n",
    "param_grid = {\n",
    "              'learning_rate': [0.1, 1], \n",
    "              'max_depth': [10, 16],\n",
    "              'num_leaves': [2, 31]\n",
    "             } \n",
    "\n",
    "grid = GridSearchCV(estimator=model_lgbm, param_grid=param_grid, cv=TimeSeriesSplit(n_splits=5), scoring='neg_mean_squared_error', refit = True, verbose = 15)\n",
    "grid.fit(features_train, target_train)\n",
    "\n",
    "print(gs.best_score_)\n",
    "print(grid.best_params_)\n",
    "print(grid.best_estimator_)"
   ]
  },
  {
   "cell_type": "code",
   "execution_count": 34,
   "metadata": {},
   "outputs": [
    {
     "name": "stdout",
     "output_type": "stream",
     "text": [
      "building tree 1 of 95\n",
      "building tree 2 of 95\n"
     ]
    },
    {
     "name": "stderr",
     "output_type": "stream",
     "text": [
      "[Parallel(n_jobs=1)]: Done   1 tasks      | elapsed:    0.0s\n",
      "[Parallel(n_jobs=1)]: Done   2 tasks      | elapsed:    0.2s\n"
     ]
    },
    {
     "name": "stdout",
     "output_type": "stream",
     "text": [
      "building tree 3 of 95\n",
      "building tree 4 of 95\n"
     ]
    },
    {
     "name": "stderr",
     "output_type": "stream",
     "text": [
      "[Parallel(n_jobs=1)]: Done   3 tasks      | elapsed:    0.4s\n",
      "[Parallel(n_jobs=1)]: Done   4 tasks      | elapsed:    0.5s\n"
     ]
    },
    {
     "name": "stdout",
     "output_type": "stream",
     "text": [
      "building tree 5 of 95\n",
      "building tree 6 of 95\n"
     ]
    },
    {
     "name": "stderr",
     "output_type": "stream",
     "text": [
      "[Parallel(n_jobs=1)]: Done   5 tasks      | elapsed:    0.6s\n",
      "[Parallel(n_jobs=1)]: Done   6 tasks      | elapsed:    0.8s\n"
     ]
    },
    {
     "name": "stdout",
     "output_type": "stream",
     "text": [
      "building tree 7 of 95\n",
      "building tree 8 of 95\n"
     ]
    },
    {
     "name": "stderr",
     "output_type": "stream",
     "text": [
      "[Parallel(n_jobs=1)]: Done   7 tasks      | elapsed:    0.9s\n",
      "[Parallel(n_jobs=1)]: Done   8 tasks      | elapsed:    1.0s\n"
     ]
    },
    {
     "name": "stdout",
     "output_type": "stream",
     "text": [
      "building tree 9 of 95\n",
      "building tree 10 of 95\n"
     ]
    },
    {
     "name": "stderr",
     "output_type": "stream",
     "text": [
      "[Parallel(n_jobs=1)]: Done   9 tasks      | elapsed:    1.2s\n",
      "[Parallel(n_jobs=1)]: Done  10 tasks      | elapsed:    1.3s\n"
     ]
    },
    {
     "name": "stdout",
     "output_type": "stream",
     "text": [
      "building tree 11 of 95\n",
      "building tree 12 of 95\n"
     ]
    },
    {
     "name": "stderr",
     "output_type": "stream",
     "text": [
      "[Parallel(n_jobs=1)]: Done  11 tasks      | elapsed:    1.4s\n",
      "[Parallel(n_jobs=1)]: Done  12 tasks      | elapsed:    1.6s\n"
     ]
    },
    {
     "name": "stdout",
     "output_type": "stream",
     "text": [
      "building tree 13 of 95\n",
      "building tree 14 of 95\n"
     ]
    },
    {
     "name": "stderr",
     "output_type": "stream",
     "text": [
      "[Parallel(n_jobs=1)]: Done  13 tasks      | elapsed:    1.7s\n",
      "[Parallel(n_jobs=1)]: Done  14 tasks      | elapsed:    1.8s\n"
     ]
    },
    {
     "name": "stdout",
     "output_type": "stream",
     "text": [
      "building tree 15 of 95\n",
      "building tree 16 of 95\n"
     ]
    },
    {
     "name": "stderr",
     "output_type": "stream",
     "text": [
      "[Parallel(n_jobs=1)]: Done  15 tasks      | elapsed:    2.0s\n",
      "[Parallel(n_jobs=1)]: Done  16 tasks      | elapsed:    2.1s\n"
     ]
    },
    {
     "name": "stdout",
     "output_type": "stream",
     "text": [
      "building tree 17 of 95\n",
      "building tree 18 of 95\n"
     ]
    },
    {
     "name": "stderr",
     "output_type": "stream",
     "text": [
      "[Parallel(n_jobs=1)]: Done  17 tasks      | elapsed:    2.2s\n",
      "[Parallel(n_jobs=1)]: Done  18 tasks      | elapsed:    2.4s\n"
     ]
    },
    {
     "name": "stdout",
     "output_type": "stream",
     "text": [
      "building tree 19 of 95\n",
      "building tree 20 of 95\n"
     ]
    },
    {
     "name": "stderr",
     "output_type": "stream",
     "text": [
      "[Parallel(n_jobs=1)]: Done  19 tasks      | elapsed:    2.5s\n",
      "[Parallel(n_jobs=1)]: Done  20 tasks      | elapsed:    2.7s\n"
     ]
    },
    {
     "name": "stdout",
     "output_type": "stream",
     "text": [
      "building tree 21 of 95\n",
      "building tree 22 of 95\n"
     ]
    },
    {
     "name": "stderr",
     "output_type": "stream",
     "text": [
      "[Parallel(n_jobs=1)]: Done  21 tasks      | elapsed:    2.8s\n",
      "[Parallel(n_jobs=1)]: Done  22 tasks      | elapsed:    2.9s\n"
     ]
    },
    {
     "name": "stdout",
     "output_type": "stream",
     "text": [
      "building tree 23 of 95\n",
      "building tree 24 of 95\n"
     ]
    },
    {
     "name": "stderr",
     "output_type": "stream",
     "text": [
      "[Parallel(n_jobs=1)]: Done  23 tasks      | elapsed:    3.1s\n",
      "[Parallel(n_jobs=1)]: Done  24 tasks      | elapsed:    3.2s\n"
     ]
    },
    {
     "name": "stdout",
     "output_type": "stream",
     "text": [
      "building tree 25 of 95\n",
      "building tree 26 of 95\n"
     ]
    },
    {
     "name": "stderr",
     "output_type": "stream",
     "text": [
      "[Parallel(n_jobs=1)]: Done  25 tasks      | elapsed:    3.3s\n",
      "[Parallel(n_jobs=1)]: Done  26 tasks      | elapsed:    3.5s\n"
     ]
    },
    {
     "name": "stdout",
     "output_type": "stream",
     "text": [
      "building tree 27 of 95\n",
      "building tree 28 of 95\n"
     ]
    },
    {
     "name": "stderr",
     "output_type": "stream",
     "text": [
      "[Parallel(n_jobs=1)]: Done  27 tasks      | elapsed:    3.6s\n",
      "[Parallel(n_jobs=1)]: Done  28 tasks      | elapsed:    3.8s\n"
     ]
    },
    {
     "name": "stdout",
     "output_type": "stream",
     "text": [
      "building tree 29 of 95\n",
      "building tree 30 of 95\n"
     ]
    },
    {
     "name": "stderr",
     "output_type": "stream",
     "text": [
      "[Parallel(n_jobs=1)]: Done  29 tasks      | elapsed:    3.9s\n",
      "[Parallel(n_jobs=1)]: Done  30 tasks      | elapsed:    4.1s\n"
     ]
    },
    {
     "name": "stdout",
     "output_type": "stream",
     "text": [
      "building tree 31 of 95\n",
      "building tree 32 of 95\n"
     ]
    },
    {
     "name": "stderr",
     "output_type": "stream",
     "text": [
      "[Parallel(n_jobs=1)]: Done  31 tasks      | elapsed:    4.2s\n",
      "[Parallel(n_jobs=1)]: Done  32 tasks      | elapsed:    4.4s\n"
     ]
    },
    {
     "name": "stdout",
     "output_type": "stream",
     "text": [
      "building tree 33 of 95\n",
      "building tree 34 of 95\n"
     ]
    },
    {
     "name": "stderr",
     "output_type": "stream",
     "text": [
      "[Parallel(n_jobs=1)]: Done  33 tasks      | elapsed:    4.5s\n",
      "[Parallel(n_jobs=1)]: Done  34 tasks      | elapsed:    4.7s\n"
     ]
    },
    {
     "name": "stdout",
     "output_type": "stream",
     "text": [
      "building tree 35 of 95\n",
      "building tree 36 of 95\n"
     ]
    },
    {
     "name": "stderr",
     "output_type": "stream",
     "text": [
      "[Parallel(n_jobs=1)]: Done  35 tasks      | elapsed:    4.8s\n",
      "[Parallel(n_jobs=1)]: Done  36 tasks      | elapsed:    5.0s\n"
     ]
    },
    {
     "name": "stdout",
     "output_type": "stream",
     "text": [
      "building tree 37 of 95\n",
      "building tree 38 of 95\n"
     ]
    },
    {
     "name": "stderr",
     "output_type": "stream",
     "text": [
      "[Parallel(n_jobs=1)]: Done  37 tasks      | elapsed:    5.1s\n",
      "[Parallel(n_jobs=1)]: Done  38 tasks      | elapsed:    5.3s\n"
     ]
    },
    {
     "name": "stdout",
     "output_type": "stream",
     "text": [
      "building tree 39 of 95\n",
      "building tree 40 of 95\n"
     ]
    },
    {
     "name": "stderr",
     "output_type": "stream",
     "text": [
      "[Parallel(n_jobs=1)]: Done  39 tasks      | elapsed:    5.4s\n",
      "[Parallel(n_jobs=1)]: Done  40 tasks      | elapsed:    5.6s\n"
     ]
    },
    {
     "name": "stdout",
     "output_type": "stream",
     "text": [
      "building tree 41 of 95\n",
      "building tree 42 of 95\n"
     ]
    },
    {
     "name": "stderr",
     "output_type": "stream",
     "text": [
      "[Parallel(n_jobs=1)]: Done  41 tasks      | elapsed:    5.7s\n",
      "[Parallel(n_jobs=1)]: Done  42 tasks      | elapsed:    5.9s\n"
     ]
    },
    {
     "name": "stdout",
     "output_type": "stream",
     "text": [
      "building tree 43 of 95\n",
      "building tree 44 of 95\n"
     ]
    },
    {
     "name": "stderr",
     "output_type": "stream",
     "text": [
      "[Parallel(n_jobs=1)]: Done  43 tasks      | elapsed:    6.0s\n",
      "[Parallel(n_jobs=1)]: Done  44 tasks      | elapsed:    6.1s\n"
     ]
    },
    {
     "name": "stdout",
     "output_type": "stream",
     "text": [
      "building tree 45 of 95\n",
      "building tree 46 of 95\n"
     ]
    },
    {
     "name": "stderr",
     "output_type": "stream",
     "text": [
      "[Parallel(n_jobs=1)]: Done  45 tasks      | elapsed:    6.3s\n",
      "[Parallel(n_jobs=1)]: Done  46 tasks      | elapsed:    6.4s\n"
     ]
    },
    {
     "name": "stdout",
     "output_type": "stream",
     "text": [
      "building tree 47 of 95\n",
      "building tree 48 of 95\n"
     ]
    },
    {
     "name": "stderr",
     "output_type": "stream",
     "text": [
      "[Parallel(n_jobs=1)]: Done  47 tasks      | elapsed:    6.6s\n",
      "[Parallel(n_jobs=1)]: Done  48 tasks      | elapsed:    6.7s\n"
     ]
    },
    {
     "name": "stdout",
     "output_type": "stream",
     "text": [
      "building tree 49 of 95\n",
      "building tree 50 of 95\n"
     ]
    },
    {
     "name": "stderr",
     "output_type": "stream",
     "text": [
      "[Parallel(n_jobs=1)]: Done  49 tasks      | elapsed:    6.9s\n",
      "[Parallel(n_jobs=1)]: Done  50 tasks      | elapsed:    7.0s\n"
     ]
    },
    {
     "name": "stdout",
     "output_type": "stream",
     "text": [
      "building tree 51 of 95\n",
      "building tree 52 of 95\n"
     ]
    },
    {
     "name": "stderr",
     "output_type": "stream",
     "text": [
      "[Parallel(n_jobs=1)]: Done  51 tasks      | elapsed:    7.2s\n",
      "[Parallel(n_jobs=1)]: Done  52 tasks      | elapsed:    7.3s\n"
     ]
    },
    {
     "name": "stdout",
     "output_type": "stream",
     "text": [
      "building tree 53 of 95\n",
      "building tree 54 of 95\n"
     ]
    },
    {
     "name": "stderr",
     "output_type": "stream",
     "text": [
      "[Parallel(n_jobs=1)]: Done  53 tasks      | elapsed:    7.4s\n",
      "[Parallel(n_jobs=1)]: Done  54 tasks      | elapsed:    7.6s\n"
     ]
    },
    {
     "name": "stdout",
     "output_type": "stream",
     "text": [
      "building tree 55 of 95\n",
      "building tree 56 of 95\n"
     ]
    },
    {
     "name": "stderr",
     "output_type": "stream",
     "text": [
      "[Parallel(n_jobs=1)]: Done  55 tasks      | elapsed:    7.7s\n",
      "[Parallel(n_jobs=1)]: Done  56 tasks      | elapsed:    7.8s\n"
     ]
    },
    {
     "name": "stdout",
     "output_type": "stream",
     "text": [
      "building tree 57 of 95\n",
      "building tree 58 of 95\n"
     ]
    },
    {
     "name": "stderr",
     "output_type": "stream",
     "text": [
      "[Parallel(n_jobs=1)]: Done  57 tasks      | elapsed:    7.9s\n",
      "[Parallel(n_jobs=1)]: Done  58 tasks      | elapsed:    8.1s\n"
     ]
    },
    {
     "name": "stdout",
     "output_type": "stream",
     "text": [
      "building tree 59 of 95\n",
      "building tree 60 of 95\n"
     ]
    },
    {
     "name": "stderr",
     "output_type": "stream",
     "text": [
      "[Parallel(n_jobs=1)]: Done  59 tasks      | elapsed:    8.2s\n",
      "[Parallel(n_jobs=1)]: Done  60 tasks      | elapsed:    8.3s\n"
     ]
    },
    {
     "name": "stdout",
     "output_type": "stream",
     "text": [
      "building tree 61 of 95\n",
      "building tree 62 of 95\n"
     ]
    },
    {
     "name": "stderr",
     "output_type": "stream",
     "text": [
      "[Parallel(n_jobs=1)]: Done  61 tasks      | elapsed:    8.4s\n",
      "[Parallel(n_jobs=1)]: Done  62 tasks      | elapsed:    8.6s\n"
     ]
    },
    {
     "name": "stdout",
     "output_type": "stream",
     "text": [
      "building tree 63 of 95\n",
      "building tree 64 of 95\n"
     ]
    },
    {
     "name": "stderr",
     "output_type": "stream",
     "text": [
      "[Parallel(n_jobs=1)]: Done  63 tasks      | elapsed:    8.7s\n",
      "[Parallel(n_jobs=1)]: Done  64 tasks      | elapsed:    8.9s\n"
     ]
    },
    {
     "name": "stdout",
     "output_type": "stream",
     "text": [
      "building tree 65 of 95\n",
      "building tree 66 of 95\n"
     ]
    },
    {
     "name": "stderr",
     "output_type": "stream",
     "text": [
      "[Parallel(n_jobs=1)]: Done  65 tasks      | elapsed:    9.0s\n",
      "[Parallel(n_jobs=1)]: Done  66 tasks      | elapsed:    9.1s\n"
     ]
    },
    {
     "name": "stdout",
     "output_type": "stream",
     "text": [
      "building tree 67 of 95\n",
      "building tree 68 of 95\n"
     ]
    },
    {
     "name": "stderr",
     "output_type": "stream",
     "text": [
      "[Parallel(n_jobs=1)]: Done  67 tasks      | elapsed:    9.2s\n",
      "[Parallel(n_jobs=1)]: Done  68 tasks      | elapsed:    9.4s\n"
     ]
    },
    {
     "name": "stdout",
     "output_type": "stream",
     "text": [
      "building tree 69 of 95\n",
      "building tree 70 of 95\n"
     ]
    },
    {
     "name": "stderr",
     "output_type": "stream",
     "text": [
      "[Parallel(n_jobs=1)]: Done  69 tasks      | elapsed:    9.5s\n",
      "[Parallel(n_jobs=1)]: Done  70 tasks      | elapsed:    9.6s\n"
     ]
    },
    {
     "name": "stdout",
     "output_type": "stream",
     "text": [
      "building tree 71 of 95\n",
      "building tree 72 of 95\n"
     ]
    },
    {
     "name": "stderr",
     "output_type": "stream",
     "text": [
      "[Parallel(n_jobs=1)]: Done  71 tasks      | elapsed:    9.7s\n",
      "[Parallel(n_jobs=1)]: Done  72 tasks      | elapsed:    9.9s\n"
     ]
    },
    {
     "name": "stdout",
     "output_type": "stream",
     "text": [
      "building tree 73 of 95\n",
      "building tree 74 of 95\n"
     ]
    },
    {
     "name": "stderr",
     "output_type": "stream",
     "text": [
      "[Parallel(n_jobs=1)]: Done  73 tasks      | elapsed:   10.0s\n",
      "[Parallel(n_jobs=1)]: Done  74 tasks      | elapsed:   10.1s\n"
     ]
    },
    {
     "name": "stdout",
     "output_type": "stream",
     "text": [
      "building tree 75 of 95\n",
      "building tree 76 of 95\n"
     ]
    },
    {
     "name": "stderr",
     "output_type": "stream",
     "text": [
      "[Parallel(n_jobs=1)]: Done  75 tasks      | elapsed:   10.2s\n",
      "[Parallel(n_jobs=1)]: Done  76 tasks      | elapsed:   10.4s\n"
     ]
    },
    {
     "name": "stdout",
     "output_type": "stream",
     "text": [
      "building tree 77 of 95\n",
      "building tree 78 of 95\n"
     ]
    },
    {
     "name": "stderr",
     "output_type": "stream",
     "text": [
      "[Parallel(n_jobs=1)]: Done  77 tasks      | elapsed:   10.5s\n",
      "[Parallel(n_jobs=1)]: Done  78 tasks      | elapsed:   10.6s\n"
     ]
    },
    {
     "name": "stdout",
     "output_type": "stream",
     "text": [
      "building tree 79 of 95\n",
      "building tree 80 of 95\n"
     ]
    },
    {
     "name": "stderr",
     "output_type": "stream",
     "text": [
      "[Parallel(n_jobs=1)]: Done  79 tasks      | elapsed:   10.8s\n",
      "[Parallel(n_jobs=1)]: Done  80 tasks      | elapsed:   10.9s\n"
     ]
    },
    {
     "name": "stdout",
     "output_type": "stream",
     "text": [
      "building tree 81 of 95\n",
      "building tree 82 of 95\n"
     ]
    },
    {
     "name": "stderr",
     "output_type": "stream",
     "text": [
      "[Parallel(n_jobs=1)]: Done  81 tasks      | elapsed:   11.0s\n",
      "[Parallel(n_jobs=1)]: Done  82 tasks      | elapsed:   11.1s\n"
     ]
    },
    {
     "name": "stdout",
     "output_type": "stream",
     "text": [
      "building tree 83 of 95\n",
      "building tree 84 of 95\n"
     ]
    },
    {
     "name": "stderr",
     "output_type": "stream",
     "text": [
      "[Parallel(n_jobs=1)]: Done  83 tasks      | elapsed:   11.3s\n",
      "[Parallel(n_jobs=1)]: Done  84 tasks      | elapsed:   11.4s\n"
     ]
    },
    {
     "name": "stdout",
     "output_type": "stream",
     "text": [
      "building tree 85 of 95\n",
      "building tree 86 of 95\n"
     ]
    },
    {
     "name": "stderr",
     "output_type": "stream",
     "text": [
      "[Parallel(n_jobs=1)]: Done  85 tasks      | elapsed:   11.5s\n",
      "[Parallel(n_jobs=1)]: Done  86 tasks      | elapsed:   11.6s\n"
     ]
    },
    {
     "name": "stdout",
     "output_type": "stream",
     "text": [
      "building tree 87 of 95\n",
      "building tree 88 of 95\n"
     ]
    },
    {
     "name": "stderr",
     "output_type": "stream",
     "text": [
      "[Parallel(n_jobs=1)]: Done  87 tasks      | elapsed:   11.8s\n",
      "[Parallel(n_jobs=1)]: Done  88 tasks      | elapsed:   11.9s\n"
     ]
    },
    {
     "name": "stdout",
     "output_type": "stream",
     "text": [
      "building tree 89 of 95\n",
      "building tree 90 of 95\n"
     ]
    },
    {
     "name": "stderr",
     "output_type": "stream",
     "text": [
      "[Parallel(n_jobs=1)]: Done  89 tasks      | elapsed:   12.0s\n",
      "[Parallel(n_jobs=1)]: Done  90 tasks      | elapsed:   12.1s\n"
     ]
    },
    {
     "name": "stdout",
     "output_type": "stream",
     "text": [
      "building tree 91 of 95\n",
      "building tree 92 of 95\n"
     ]
    },
    {
     "name": "stderr",
     "output_type": "stream",
     "text": [
      "[Parallel(n_jobs=1)]: Done  91 tasks      | elapsed:   12.3s\n",
      "[Parallel(n_jobs=1)]: Done  92 tasks      | elapsed:   12.4s\n"
     ]
    },
    {
     "name": "stdout",
     "output_type": "stream",
     "text": [
      "building tree 93 of 95\n",
      "building tree 94 of 95\n"
     ]
    },
    {
     "name": "stderr",
     "output_type": "stream",
     "text": [
      "[Parallel(n_jobs=1)]: Done  93 tasks      | elapsed:   12.5s\n",
      "[Parallel(n_jobs=1)]: Done  94 tasks      | elapsed:   12.7s\n"
     ]
    },
    {
     "name": "stdout",
     "output_type": "stream",
     "text": [
      "building tree 95 of 95\n",
      "RMSE of LGBMRegressor model: 27.13629553745603\n",
      "CPU times: total: 11.3 s\n",
      "Wall time: 13 s\n"
     ]
    },
    {
     "name": "stderr",
     "output_type": "stream",
     "text": [
      "[Parallel(n_jobs=1)]: Done  95 tasks      | elapsed:   12.8s\n",
      "[Parallel(n_jobs=1)]: Done  95 tasks      | elapsed:   12.8s\n"
     ]
    }
   ],
   "source": [
    "%%time\n",
    "lgbm_model = gs.best_estimator_\n",
    "\n",
    "lgbm_model.fit(features_train, target_train)\n",
    "print('RMSE of LGBMRegressor model:', math.sqrt(736.378535496156))"
   ]
  },
  {
   "cell_type": "markdown",
   "metadata": {},
   "source": [
    "While working on this block, we added new features, divided the data into test and training samples, identified target features, selected hyperparameters for 3 models using gridsearch: linear regression, random forest, lgbmregressor, made predictions, the best value of the RSME metric was obtained for linear regression, the error is about 20. Now let’s check what will happen on the test sample for this model."
   ]
  },
  {
   "cell_type": "markdown",
   "metadata": {},
   "source": [
    "## Part 4. Testing <a id='part4'></a>"
   ]
  },
  {
   "cell_type": "code",
   "execution_count": 35,
   "metadata": {},
   "outputs": [
    {
     "name": "stdout",
     "output_type": "stream",
     "text": [
      "RMSE of LinearRegression model (test data): 36.721066394229545\n"
     ]
    }
   ],
   "source": [
    "predictions_linreg = model_lin_reg.predict(features_test)\n",
    "print(\"RMSE of LinearRegression model (test data):\", np.sqrt(mean_squared_error(target_test, predictions_linreg)))"
   ]
  },
  {
   "cell_type": "markdown",
   "metadata": {},
   "source": [
    "The best value of the RMSE metric, a smaller error, was obtained for the Linear Regression model (around 36.7)."
   ]
  },
  {
   "cell_type": "markdown",
   "metadata": {},
   "source": [
    "*As a result of the project, we resampled dates for 1 hour at a time, made the series more stationary so that we could predict it, added new features, divided the data into training and test samples, and identified target features in the samples. Using gridsearch, we selected the best hyperparameters for the LinearRegression, RandomForestRegressor, LGBMRegressor models, the best value, the smaller error was obtained for the Linear Regression Model - around 20, on the test sample - around 36.7.*"
   ]
  }
 ],
 "metadata": {
  "kernelspec": {
   "display_name": "Python 3 (ipykernel)",
   "language": "python",
   "name": "python3"
  },
  "language_info": {
   "codemirror_mode": {
    "name": "ipython",
    "version": 3
   },
   "file_extension": ".py",
   "mimetype": "text/x-python",
   "name": "python",
   "nbconvert_exporter": "python",
   "pygments_lexer": "ipython3",
   "version": "3.11.3"
  },
  "toc": {
   "base_numbering": 1,
   "nav_menu": {},
   "number_sections": true,
   "sideBar": true,
   "skip_h1_title": false,
   "title_cell": "Table of Contents",
   "title_sidebar": "Contents",
   "toc_cell": false,
   "toc_position": {},
   "toc_section_display": true,
   "toc_window_display": false
  }
 },
 "nbformat": 4,
 "nbformat_minor": 2
}
